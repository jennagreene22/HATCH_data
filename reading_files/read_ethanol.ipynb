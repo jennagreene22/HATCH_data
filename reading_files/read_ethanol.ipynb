{
 "cells": [
  {
   "cell_type": "code",
   "execution_count": 1,
   "metadata": {},
   "outputs": [],
   "source": [
    "import os\n",
    "import pandas as pd\n",
    "from pandas import Series, DataFrame\n",
    "import country_converter as coco\n",
    "import warnings\n",
    "warnings.filterwarnings(\"ignore\")"
   ]
  },
  {
   "cell_type": "markdown",
   "metadata": {},
   "source": [
    "Data sources:\n",
    "\n",
    "Brazil: Source: Energy Research Company. (2022). Historical Series and Matrices, Chapter 2, Table 2.30. Retrieved from: https://www.epe.gov.br/pt/publicacoes-dados-abertos/publicacoes/BEN-Series-Historicas-Completas\t\t\t\t\t\n",
    "\n",
    "\n",
    "USA: Source: USDA Economic Research Service. (2022). U. S. Energy Statistics Table 2. Retrieved from https://www.ers.usda.gov/data-products/u-s-bioenergy-statistics/u-s-bioenergy-statistics/.\t\t\t\t\n",
    "                "
   ]
  },
  {
   "cell_type": "code",
   "execution_count": 2,
   "metadata": {},
   "outputs": [
    {
     "name": "stdout",
     "output_type": "stream",
     "text": [
      "Current working directory: /Users/jennagreene/Documents/GitHub/HATCH_data/reading_files\n"
     ]
    }
   ],
   "source": [
    "## Get current working directory\n",
    "print(\"Current working directory:\", os.getcwd())\n",
    "\n",
    "## Find path to raw data (for the raw files)\n",
    "raw_data_path = os.path.abspath(os.path.join(os.getcwd(), '..', 'raw_data'))\n",
    "\n",
    "## Find path to folder for saving cleaned csv\n",
    "cleaned_data_path = os.path.abspath(os.path.join(os.getcwd(), '..', 'cleaned_data'))"
   ]
  },
  {
   "cell_type": "markdown",
   "metadata": {},
   "source": [
    "Brazil Ethanol"
   ]
  },
  {
   "cell_type": "code",
   "execution_count": 438,
   "metadata": {},
   "outputs": [],
   "source": [
    "ethanol_brazil_filepath = os.path.join(raw_data_path, 'Ethanol_TimeSeries.xlsx')\n",
    "ethanol_brazil = pd.read_excel(ethanol_brazil_filepath, sheet_name= 'Brazil Ethanol', header = 1, skipfooter=1)"
   ]
  },
  {
   "cell_type": "code",
   "execution_count": 439,
   "metadata": {},
   "outputs": [],
   "source": [
    "columns_to_keep = ['Year', 'Production (liters)']\n",
    "ethanol_brazil = ethanol_brazil[columns_to_keep]\n",
    "ethanol_brazil = ethanol_brazil.set_index('Year').T\n",
    "ethanol_brazil.reset_index(drop=True, inplace = True)\n",
    "ethanol_brazil.columns = [col if not isinstance(col, tuple) else col[0] for col in ethanol_brazil.columns]"
   ]
  },
  {
   "cell_type": "code",
   "execution_count": 440,
   "metadata": {},
   "outputs": [],
   "source": [
    "ethanol_brazil['Data Source'] = 'Energy Research Company Brazil'\n",
    "ethanol_brazil['Technology Name'] = 'Ethanol'\n",
    "ethanol_brazil['Country Name'] = 'Brazil'\n",
    "ethanol_brazil['Spatial Scale'] = 'National'\n",
    "ethanol_brazil['Metric'] = 'Annual Production'\n",
    "ethanol_brazil['Unit'] = 'Liters'\n",
    "ethanol_brazil['Country Code'] = coco.convert(names=ethanol_brazil['Country Name'], to='iso2')\n"
   ]
  },
  {
   "cell_type": "code",
   "execution_count": 441,
   "metadata": {},
   "outputs": [
    {
     "data": {
      "text/html": [
       "<div>\n",
       "<style scoped>\n",
       "    .dataframe tbody tr th:only-of-type {\n",
       "        vertical-align: middle;\n",
       "    }\n",
       "\n",
       "    .dataframe tbody tr th {\n",
       "        vertical-align: top;\n",
       "    }\n",
       "\n",
       "    .dataframe thead th {\n",
       "        text-align: right;\n",
       "    }\n",
       "</style>\n",
       "<table border=\"1\" class=\"dataframe\">\n",
       "  <thead>\n",
       "    <tr style=\"text-align: right;\">\n",
       "      <th></th>\n",
       "      <th>1970</th>\n",
       "      <th>1971</th>\n",
       "      <th>1972</th>\n",
       "      <th>1973</th>\n",
       "      <th>1974</th>\n",
       "      <th>1975</th>\n",
       "      <th>1976</th>\n",
       "      <th>1977</th>\n",
       "      <th>1978</th>\n",
       "      <th>1979</th>\n",
       "      <th>...</th>\n",
       "      <th>2020</th>\n",
       "      <th>2021</th>\n",
       "      <th>Data Source</th>\n",
       "      <th>Technology Name</th>\n",
       "      <th>Country Name</th>\n",
       "      <th>Spatial Scale</th>\n",
       "      <th>Metric</th>\n",
       "      <th>Unit</th>\n",
       "      <th>Country Code</th>\n",
       "      <th>ID</th>\n",
       "    </tr>\n",
       "  </thead>\n",
       "  <tbody>\n",
       "    <tr>\n",
       "      <th>0</th>\n",
       "      <td>625000000.0</td>\n",
       "      <td>624000000.0</td>\n",
       "      <td>684000000.0</td>\n",
       "      <td>652000000.0</td>\n",
       "      <td>615000000.0</td>\n",
       "      <td>580000000.0</td>\n",
       "      <td>642000000.0</td>\n",
       "      <td>1.388000e+09</td>\n",
       "      <td>2.248000e+09</td>\n",
       "      <td>2.854000e+09</td>\n",
       "      <td>...</td>\n",
       "      <td>3.259886e+10</td>\n",
       "      <td>2.989791e+10</td>\n",
       "      <td>Energy Research Company Brazil</td>\n",
       "      <td>Ethanol</td>\n",
       "      <td>Brazil</td>\n",
       "      <td>National</td>\n",
       "      <td>Annual Production</td>\n",
       "      <td>Liters</td>\n",
       "      <td>BR</td>\n",
       "      <td>Ethanol_Annual Production_BR</td>\n",
       "    </tr>\n",
       "  </tbody>\n",
       "</table>\n",
       "<p>1 rows × 60 columns</p>\n",
       "</div>"
      ],
      "text/plain": [
       "          1970         1971         1972         1973         1974  \\\n",
       "0  625000000.0  624000000.0  684000000.0  652000000.0  615000000.0   \n",
       "\n",
       "          1975         1976          1977          1978          1979  ...  \\\n",
       "0  580000000.0  642000000.0  1.388000e+09  2.248000e+09  2.854000e+09  ...   \n",
       "\n",
       "           2020          2021                     Data Source  \\\n",
       "0  3.259886e+10  2.989791e+10  Energy Research Company Brazil   \n",
       "\n",
       "   Technology Name  Country Name  Spatial Scale             Metric    Unit  \\\n",
       "0          Ethanol        Brazil       National  Annual Production  Liters   \n",
       "\n",
       "   Country Code                            ID  \n",
       "0            BR  Ethanol_Annual Production_BR  \n",
       "\n",
       "[1 rows x 60 columns]"
      ]
     },
     "execution_count": 441,
     "metadata": {},
     "output_type": "execute_result"
    }
   ],
   "source": [
    "ethanol_brazil['ID'] = ethanol_brazil['Technology Name'] + '_' + ethanol_brazil['Metric'] + '_' + ethanol_brazil['Country Code']\n",
    "ethanol_brazil.set_index('ID', drop=True, inplace=False)\n",
    "ethanol_brazil"
   ]
  },
  {
   "cell_type": "code",
   "execution_count": 442,
   "metadata": {},
   "outputs": [
    {
     "name": "stdout",
     "output_type": "stream",
     "text": [
      "Data saved to: /Users/jennagreene/Documents/GitHub/HATCH_data/cleaned_data/brazil_ethanol.csv\n"
     ]
    }
   ],
   "source": [
    "output_file = 'brazil_ethanol.csv'\n",
    "output_file_path = os.path.join(cleaned_data_path, output_file)\n",
    "\n",
    "ethanol_brazil.to_csv(output_file_path, index = False)\n",
    "print(\"Data saved to:\", output_file_path)"
   ]
  },
  {
   "cell_type": "markdown",
   "metadata": {},
   "source": [
    "USA Ethanol"
   ]
  },
  {
   "cell_type": "code",
   "execution_count": 454,
   "metadata": {},
   "outputs": [],
   "source": [
    "ethanol_usa_filepath = os.path.join(raw_data_path, 'Ethanol_TimeSeries.xlsx')\n",
    "ethanol_usa = pd.read_excel(ethanol_brazil_filepath, sheet_name= 'US Ethanol', skipfooter=1)"
   ]
  },
  {
   "cell_type": "code",
   "execution_count": 456,
   "metadata": {},
   "outputs": [],
   "source": [
    "columns_to_keep = ['Year', 'Production (Liters)']\n",
    "ethanol_usa = ethanol_usa[columns_to_keep]\n",
    "ethanol_usa = ethanol_usa.set_index('Year').T\n",
    "ethanol_usa.reset_index(drop=True, inplace = True)\n",
    "ethanol_usa.columns = [col if not isinstance(col, tuple) else col[0] for col in ethanol_usa.columns]"
   ]
  },
  {
   "cell_type": "code",
   "execution_count": 457,
   "metadata": {},
   "outputs": [],
   "source": [
    "ethanol_usa['Data Source'] = 'USDA Economic Research Service'\n",
    "ethanol_usa['Technology Name'] = 'Ethanol'\n",
    "ethanol_usa['Country Name'] = 'United States'\n",
    "ethanol_usa['Spatial Scale'] = 'National'\n",
    "ethanol_usa['Metric'] = 'Annual Production'\n",
    "ethanol_usa['Unit'] = 'Liters'\n",
    "ethanol_usa['Country Code'] = coco.convert(names=ethanol_usa['Country Name'], to='iso2')\n"
   ]
  },
  {
   "cell_type": "code",
   "execution_count": 458,
   "metadata": {},
   "outputs": [
    {
     "data": {
      "text/html": [
       "<div>\n",
       "<style scoped>\n",
       "    .dataframe tbody tr th:only-of-type {\n",
       "        vertical-align: middle;\n",
       "    }\n",
       "\n",
       "    .dataframe tbody tr th {\n",
       "        vertical-align: top;\n",
       "    }\n",
       "\n",
       "    .dataframe thead th {\n",
       "        text-align: right;\n",
       "    }\n",
       "</style>\n",
       "<table border=\"1\" class=\"dataframe\">\n",
       "  <thead>\n",
       "    <tr style=\"text-align: right;\">\n",
       "      <th></th>\n",
       "      <th>1981</th>\n",
       "      <th>1982</th>\n",
       "      <th>1983</th>\n",
       "      <th>1984</th>\n",
       "      <th>1985</th>\n",
       "      <th>1986</th>\n",
       "      <th>1987</th>\n",
       "      <th>1988</th>\n",
       "      <th>1989</th>\n",
       "      <th>1990</th>\n",
       "      <th>...</th>\n",
       "      <th>2020</th>\n",
       "      <th>2021</th>\n",
       "      <th>Data Source</th>\n",
       "      <th>Technology Name</th>\n",
       "      <th>Country Name</th>\n",
       "      <th>Spatial Scale</th>\n",
       "      <th>Metric</th>\n",
       "      <th>Unit</th>\n",
       "      <th>Country Code</th>\n",
       "      <th>ID</th>\n",
       "    </tr>\n",
       "  </thead>\n",
       "  <tbody>\n",
       "    <tr>\n",
       "      <th>0</th>\n",
       "      <td>314794695.6</td>\n",
       "      <td>8.534434e+08</td>\n",
       "      <td>1.572543e+09</td>\n",
       "      <td>1.931695e+09</td>\n",
       "      <td>2.336317e+09</td>\n",
       "      <td>2.695310e+09</td>\n",
       "      <td>3.100251e+09</td>\n",
       "      <td>3.144131e+09</td>\n",
       "      <td>3.189761e+09</td>\n",
       "      <td>2.830290e+09</td>\n",
       "      <td>...</td>\n",
       "      <td>5.277247e+10</td>\n",
       "      <td>5.683825e+10</td>\n",
       "      <td>USDA Economic Research Service</td>\n",
       "      <td>Ethanol</td>\n",
       "      <td>United States</td>\n",
       "      <td>National</td>\n",
       "      <td>Annual Production</td>\n",
       "      <td>Liters</td>\n",
       "      <td>US</td>\n",
       "      <td>Ethanol_Annual Production_US</td>\n",
       "    </tr>\n",
       "  </tbody>\n",
       "</table>\n",
       "<p>1 rows × 49 columns</p>\n",
       "</div>"
      ],
      "text/plain": [
       "          1981          1982          1983          1984          1985  \\\n",
       "0  314794695.6  8.534434e+08  1.572543e+09  1.931695e+09  2.336317e+09   \n",
       "\n",
       "           1986          1987          1988          1989          1990  ...  \\\n",
       "0  2.695310e+09  3.100251e+09  3.144131e+09  3.189761e+09  2.830290e+09  ...   \n",
       "\n",
       "           2020          2021                     Data Source  \\\n",
       "0  5.277247e+10  5.683825e+10  USDA Economic Research Service   \n",
       "\n",
       "   Technology Name   Country Name  Spatial Scale             Metric    Unit  \\\n",
       "0          Ethanol  United States       National  Annual Production  Liters   \n",
       "\n",
       "   Country Code                            ID  \n",
       "0            US  Ethanol_Annual Production_US  \n",
       "\n",
       "[1 rows x 49 columns]"
      ]
     },
     "execution_count": 458,
     "metadata": {},
     "output_type": "execute_result"
    }
   ],
   "source": [
    "ethanol_usa['ID'] = ethanol_usa['Technology Name'] + '_' + ethanol_usa['Metric'] + '_' + ethanol_usa['Country Code']\n",
    "ethanol_usa.set_index('ID', drop=True, inplace=False)\n"
   ]
  },
  {
   "cell_type": "markdown",
   "metadata": {},
   "source": []
  },
  {
   "cell_type": "code",
   "execution_count": 459,
   "metadata": {},
   "outputs": [
    {
     "name": "stdout",
     "output_type": "stream",
     "text": [
      "Data saved to: /Users/jennagreene/Documents/GitHub/HATCH_data/cleaned_data/usa_ethanol.csv\n"
     ]
    }
   ],
   "source": [
    "output_file = 'usa_ethanol.csv'\n",
    "output_file_path = os.path.join(cleaned_data_path, output_file)\n",
    "\n",
    "ethanol_usa.to_csv(output_file_path, index = False)\n",
    "print(\"Data saved to:\", output_file_path)"
   ]
  }
 ],
 "metadata": {
  "kernelspec": {
   "display_name": "base",
   "language": "python",
   "name": "python3"
  },
  "language_info": {
   "codemirror_mode": {
    "name": "ipython",
    "version": 3
   },
   "file_extension": ".py",
   "mimetype": "text/x-python",
   "name": "python",
   "nbconvert_exporter": "python",
   "pygments_lexer": "ipython3",
   "version": "3.12.4"
  }
 },
 "nbformat": 4,
 "nbformat_minor": 2
}
