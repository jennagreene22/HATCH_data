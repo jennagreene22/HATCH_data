{
 "cells": [
  {
   "cell_type": "code",
   "execution_count": 1,
   "id": "32a81d4b",
   "metadata": {},
   "outputs": [],
   "source": [
    "import os\n",
    "import pandas as pd\n",
    "from pandas import Series, DataFrame\n",
    "import country_converter as coco"
   ]
  },
  {
   "cell_type": "code",
   "execution_count": 2,
   "id": "875a0f69",
   "metadata": {},
   "outputs": [],
   "source": [
    "os.chdir('/Users/ariana/desktop/historical_tech')"
   ]
  },
  {
   "cell_type": "code",
   "execution_count": 3,
   "id": "dc10aa3b",
   "metadata": {},
   "outputs": [],
   "source": [
    "# https://www.ipcc.ch/report/ar6/wg3/"
   ]
  },
  {
   "cell_type": "code",
   "execution_count": 4,
   "id": "18f13a56",
   "metadata": {},
   "outputs": [
    {
     "data": {
      "text/html": [
       "<div>\n",
       "<style scoped>\n",
       "    .dataframe tbody tr th:only-of-type {\n",
       "        vertical-align: middle;\n",
       "    }\n",
       "\n",
       "    .dataframe tbody tr th {\n",
       "        vertical-align: top;\n",
       "    }\n",
       "\n",
       "    .dataframe thead th {\n",
       "        text-align: right;\n",
       "    }\n",
       "</style>\n",
       "<table border=\"1\" class=\"dataframe\">\n",
       "  <thead>\n",
       "    <tr style=\"text-align: right;\">\n",
       "      <th>year</th>\n",
       "      <th>1985</th>\n",
       "      <th>1986</th>\n",
       "      <th>1987</th>\n",
       "      <th>1988</th>\n",
       "      <th>1989</th>\n",
       "      <th>1990</th>\n",
       "      <th>1991</th>\n",
       "      <th>1992</th>\n",
       "      <th>1993</th>\n",
       "      <th>1994</th>\n",
       "      <th>...</th>\n",
       "      <th>2013</th>\n",
       "      <th>2014</th>\n",
       "      <th>2015</th>\n",
       "      <th>2016</th>\n",
       "      <th>2017</th>\n",
       "      <th>2018</th>\n",
       "      <th>2019</th>\n",
       "      <th>2020</th>\n",
       "      <th>2021</th>\n",
       "      <th>2022</th>\n",
       "    </tr>\n",
       "  </thead>\n",
       "  <tbody>\n",
       "    <tr>\n",
       "      <th>csp_cum_mw</th>\n",
       "      <td>7</td>\n",
       "      <td>14</td>\n",
       "      <td>44</td>\n",
       "      <td>104</td>\n",
       "      <td>134</td>\n",
       "      <td>194</td>\n",
       "      <td>274</td>\n",
       "      <td>354</td>\n",
       "      <td>354</td>\n",
       "      <td>354</td>\n",
       "      <td>...</td>\n",
       "      <td>2,567</td>\n",
       "      <td>3,842</td>\n",
       "      <td>4,499</td>\n",
       "      <td>4,750</td>\n",
       "      <td>4,860</td>\n",
       "      <td>4,959</td>\n",
       "      <td>5,674</td>\n",
       "      <td>6,275</td>\n",
       "      <td>6,925</td>\n",
       "      <td>7,625</td>\n",
       "    </tr>\n",
       "  </tbody>\n",
       "</table>\n",
       "<p>1 rows × 38 columns</p>\n",
       "</div>"
      ],
      "text/plain": [
       "year         1985  1986  1987   1988   1989   1990   1991   1992   1993  \\\n",
       " csp_cum_mw    7    14    44    104    134    194    274    354    354    \n",
       "\n",
       "year           1994  ...     2013     2014     2015     2016     2017  \\\n",
       " csp_cum_mw    354   ...   2,567    3,842    4,499    4,750    4,860    \n",
       "\n",
       "year             2018     2019     2020     2021     2022  \n",
       " csp_cum_mw    4,959    5,674    6,275    6,925    7,625   \n",
       "\n",
       "[1 rows x 38 columns]"
      ]
     },
     "execution_count": 4,
     "metadata": {},
     "output_type": "execute_result"
    }
   ],
   "source": [
    "# just col P, csp_cum_mw\n",
    "\n",
    "csp = pd.read_csv('raw data/Nemet_CSPOffshoreWind_TimeSeries.csv', header=5, index_col=0, usecols=[1,15],\n",
    "                  dtype={'csp_cum_mw':float}, na_values='  ')\n",
    "csp = csp[:-14]\n",
    "csp.dropna(inplace=True)\n",
    "csp = csp.transpose()\n",
    "csp"
   ]
  },
  {
   "cell_type": "code",
   "execution_count": 5,
   "id": "a3eb051c",
   "metadata": {},
   "outputs": [],
   "source": [
    "csp['Country Name'] = 'World'\n",
    "csp['Country Code'] = 'World'\n",
    "csp['Spatial Scale'] = 'Global'\n",
    "csp['Data Source'] = 'IPCC'\n",
    "csp['Metric'] = 'Installed Capacity'\n",
    "csp['Unit'] = 'MW'\n",
    "csp['Technology Name'] = 'Concentrated Solar Power'\n",
    "csp['ID'] = csp['Technology Name'] + '_' + csp['Metric'] + '_' + csp['Country Code']\n",
    "csp.set_index('ID', drop=True, inplace=True)\n",
    "csp.to_csv('cleaned data/nemet_csp.csv')"
   ]
  },
  {
   "cell_type": "code",
   "execution_count": 6,
   "id": "5687f875",
   "metadata": {},
   "outputs": [
    {
     "data": {
      "text/html": [
       "<div>\n",
       "<style scoped>\n",
       "    .dataframe tbody tr th:only-of-type {\n",
       "        vertical-align: middle;\n",
       "    }\n",
       "\n",
       "    .dataframe tbody tr th {\n",
       "        vertical-align: top;\n",
       "    }\n",
       "\n",
       "    .dataframe thead th {\n",
       "        text-align: right;\n",
       "    }\n",
       "</style>\n",
       "<table border=\"1\" class=\"dataframe\">\n",
       "  <thead>\n",
       "    <tr style=\"text-align: right;\">\n",
       "      <th>year</th>\n",
       "      <th>1971</th>\n",
       "      <th>1972</th>\n",
       "      <th>1973</th>\n",
       "      <th>1974</th>\n",
       "      <th>1975</th>\n",
       "      <th>1976</th>\n",
       "      <th>1977</th>\n",
       "      <th>1978</th>\n",
       "      <th>1979</th>\n",
       "      <th>1980</th>\n",
       "      <th>...</th>\n",
       "      <th>2010</th>\n",
       "      <th>2011</th>\n",
       "      <th>2012</th>\n",
       "      <th>2013</th>\n",
       "      <th>2014</th>\n",
       "      <th>2015</th>\n",
       "      <th>2016</th>\n",
       "      <th>2017</th>\n",
       "      <th>2018</th>\n",
       "      <th>2019</th>\n",
       "    </tr>\n",
       "  </thead>\n",
       "  <tbody>\n",
       "    <tr>\n",
       "      <th>CCS_cum</th>\n",
       "      <td>0.5</td>\n",
       "      <td>0.5</td>\n",
       "      <td>0.5</td>\n",
       "      <td>0.5</td>\n",
       "      <td>0.5</td>\n",
       "      <td>0.5</td>\n",
       "      <td>0.5</td>\n",
       "      <td>0.5</td>\n",
       "      <td>0.5</td>\n",
       "      <td>0.5</td>\n",
       "      <td>...</td>\n",
       "      <td>21.3</td>\n",
       "      <td>21.3</td>\n",
       "      <td>21.3</td>\n",
       "      <td>27.2</td>\n",
       "      <td>28.2</td>\n",
       "      <td>30.0</td>\n",
       "      <td>30.8</td>\n",
       "      <td>33.2</td>\n",
       "      <td>33.8</td>\n",
       "      <td>37.5</td>\n",
       "    </tr>\n",
       "  </tbody>\n",
       "</table>\n",
       "<p>1 rows × 49 columns</p>\n",
       "</div>"
      ],
      "text/plain": [
       "year       1971  1972  1973  1974  1975  1976  1977  1978  1979  1980  ...  \\\n",
       " CCS_cum    0.5   0.5   0.5   0.5   0.5   0.5   0.5   0.5   0.5   0.5  ...   \n",
       "\n",
       "year       2010  2011  2012  2013  2014  2015  2016  2017  2018  2019  \n",
       " CCS_cum   21.3  21.3  21.3  27.2  28.2  30.0  30.8  33.2  33.8  37.5  \n",
       "\n",
       "[1 rows x 49 columns]"
      ]
     },
     "execution_count": 6,
     "metadata": {},
     "output_type": "execute_result"
    }
   ],
   "source": [
    "# use col BK, CCS_cum\n",
    "ccs = pd.read_csv('raw data/NEMET_RenewableAdoption_TimeSeries.csv', header=7, index_col=0, usecols=[0,62],\n",
    "                  dtype={'CCS_cum':float}, na_values=' -   ')\n",
    "ccs.dropna(inplace=True)\n",
    "ccs = ccs.transpose()\n",
    "ccs"
   ]
  },
  {
   "cell_type": "code",
   "execution_count": 7,
   "id": "210ad8ef",
   "metadata": {},
   "outputs": [],
   "source": [
    "ccs['Country Name'] = 'World'\n",
    "ccs['Country Code'] = 'World'\n",
    "ccs['Spatial Scale'] = 'Global'\n",
    "ccs['Data Source'] = 'IPCC'\n",
    "ccs['Metric'] = 'Installed Capacity'\n",
    "ccs['Unit'] = 'GW'\n",
    "ccs['Technology Name'] = 'Carbon Capture and Sequestration'\n",
    "ccs['ID'] = ccs['Technology Name'] + '_' + ccs['Metric'] + '_' + ccs['Country Code']\n",
    "ccs.set_index('ID', drop=True, inplace=True)\n",
    "ccs.to_csv('cleaned data/nemet_ccs.csv')"
   ]
  },
  {
   "cell_type": "code",
   "execution_count": null,
   "id": "1e42f86b",
   "metadata": {},
   "outputs": [],
   "source": []
  }
 ],
 "metadata": {
  "kernelspec": {
   "display_name": "Python 3 (ipykernel)",
   "language": "python",
   "name": "python3"
  },
  "language_info": {
   "codemirror_mode": {
    "name": "ipython",
    "version": 3
   },
   "file_extension": ".py",
   "mimetype": "text/x-python",
   "name": "python",
   "nbconvert_exporter": "python",
   "pygments_lexer": "ipython3",
   "version": "3.9.13"
  }
 },
 "nbformat": 4,
 "nbformat_minor": 5
}
