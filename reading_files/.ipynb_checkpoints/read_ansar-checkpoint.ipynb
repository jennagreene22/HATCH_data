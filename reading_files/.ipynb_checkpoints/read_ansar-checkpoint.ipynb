{
 "cells": [
  {
   "cell_type": "code",
   "execution_count": 1,
   "id": "dfe741a5",
   "metadata": {},
   "outputs": [],
   "source": [
    "import os\n",
    "import pandas as pd\n",
    "from pandas import Series, DataFrame"
   ]
  },
  {
   "cell_type": "code",
   "execution_count": 2,
   "id": "6fc73be2",
   "metadata": {},
   "outputs": [],
   "source": [
    "path = '/Users/ariana/desktop/historical_tech'\n",
    "os.chdir(path)"
   ]
  },
  {
   "cell_type": "code",
   "execution_count": 3,
   "id": "c3311f4c",
   "metadata": {},
   "outputs": [],
   "source": [
    "# https://doi.org/10.1016/j.enpol.2013.10.069"
   ]
  },
  {
   "cell_type": "code",
   "execution_count": 4,
   "id": "198b4d47",
   "metadata": {},
   "outputs": [
    {
     "data": {
      "text/plain": [
       "1.27197"
      ]
     },
     "execution_count": 4,
     "metadata": {},
     "output_type": "execute_result"
    }
   ],
   "source": [
    "## adjusting for inflation from 2012 USD to 2022 USD\n",
    "nipa = pd.read_excel('inflation/A001RG3A086NBEA.xls', header=10)\n",
    "\n",
    "year_list = []\n",
    "for x in nipa['observation_date']:\n",
    "    x = int(str(x)[:4])\n",
    "    year_list.append(x)\n",
    "nipa['Year'] = year_list\n",
    "nipa.set_index('Year', drop=True, inplace=True)\n",
    "nipa.drop(columns='observation_date', inplace=True)\n",
    "nipa = nipa.transpose()\n",
    "\n",
    "infl_2012_2022 = float(nipa[2022]/nipa[2012])\n",
    "infl_2012_2022"
   ]
  },
  {
   "cell_type": "code",
   "execution_count": 5,
   "id": "158a5019",
   "metadata": {},
   "outputs": [
    {
     "data": {
      "text/html": [
       "<div>\n",
       "<style scoped>\n",
       "    .dataframe tbody tr th:only-of-type {\n",
       "        vertical-align: middle;\n",
       "    }\n",
       "\n",
       "    .dataframe tbody tr th {\n",
       "        vertical-align: top;\n",
       "    }\n",
       "\n",
       "    .dataframe thead th {\n",
       "        text-align: right;\n",
       "    }\n",
       "</style>\n",
       "<table border=\"1\" class=\"dataframe\">\n",
       "  <thead>\n",
       "    <tr style=\"text-align: right;\">\n",
       "      <th>Date</th>\n",
       "      <th>1936</th>\n",
       "      <th>1942</th>\n",
       "      <th>1948</th>\n",
       "      <th>1950</th>\n",
       "      <th>1953</th>\n",
       "      <th>1956</th>\n",
       "      <th>1959</th>\n",
       "      <th>1963</th>\n",
       "      <th>1968</th>\n",
       "      <th>1970</th>\n",
       "      <th>...</th>\n",
       "      <th>2011</th>\n",
       "      <th>2012</th>\n",
       "      <th>2013</th>\n",
       "      <th>Data Source</th>\n",
       "      <th>Country Name</th>\n",
       "      <th>Country Code</th>\n",
       "      <th>Spatial Scale</th>\n",
       "      <th>Metric</th>\n",
       "      <th>Technology Name</th>\n",
       "      <th>Unit</th>\n",
       "    </tr>\n",
       "    <tr>\n",
       "      <th>ID</th>\n",
       "      <th></th>\n",
       "      <th></th>\n",
       "      <th></th>\n",
       "      <th></th>\n",
       "      <th></th>\n",
       "      <th></th>\n",
       "      <th></th>\n",
       "      <th></th>\n",
       "      <th></th>\n",
       "      <th></th>\n",
       "      <th></th>\n",
       "      <th></th>\n",
       "      <th></th>\n",
       "      <th></th>\n",
       "      <th></th>\n",
       "      <th></th>\n",
       "      <th></th>\n",
       "      <th></th>\n",
       "      <th></th>\n",
       "      <th></th>\n",
       "      <th></th>\n",
       "    </tr>\n",
       "  </thead>\n",
       "  <tbody>\n",
       "    <tr>\n",
       "      <th>Hydropower Mega-Dams_Price_World</th>\n",
       "      <td>1707.746922</td>\n",
       "      <td>2501.583399</td>\n",
       "      <td>186.725196</td>\n",
       "      <td>189.396333</td>\n",
       "      <td>196.519365</td>\n",
       "      <td>5331.716649</td>\n",
       "      <td>3900.877596</td>\n",
       "      <td>234.424071</td>\n",
       "      <td>2316.002976</td>\n",
       "      <td>3137.94999</td>\n",
       "      <td>...</td>\n",
       "      <td>1662.401192</td>\n",
       "      <td>3362.579892</td>\n",
       "      <td>13176.973215</td>\n",
       "      <td>Ansar et al.</td>\n",
       "      <td>World</td>\n",
       "      <td>World</td>\n",
       "      <td>Global</td>\n",
       "      <td>Price</td>\n",
       "      <td>Hydropower Mega-Dams</td>\n",
       "      <td>2022 USD/kW</td>\n",
       "    </tr>\n",
       "  </tbody>\n",
       "</table>\n",
       "<p>1 rows × 43 columns</p>\n",
       "</div>"
      ],
      "text/plain": [
       "Date                                     1936         1942        1948  \\\n",
       "ID                                                                       \n",
       "Hydropower Mega-Dams_Price_World  1707.746922  2501.583399  186.725196   \n",
       "\n",
       "Date                                    1950        1953         1956  \\\n",
       "ID                                                                      \n",
       "Hydropower Mega-Dams_Price_World  189.396333  196.519365  5331.716649   \n",
       "\n",
       "Date                                     1959        1963         1968  \\\n",
       "ID                                                                       \n",
       "Hydropower Mega-Dams_Price_World  3900.877596  234.424071  2316.002976   \n",
       "\n",
       "Date                                    1970  ...         2011         2012  \\\n",
       "ID                                            ...                             \n",
       "Hydropower Mega-Dams_Price_World  3137.94999  ...  1662.401192  3362.579892   \n",
       "\n",
       "Date                                      2013   Data Source  Country Name  \\\n",
       "ID                                                                           \n",
       "Hydropower Mega-Dams_Price_World  13176.973215  Ansar et al.         World   \n",
       "\n",
       "Date                              Country Code  Spatial Scale  Metric  \\\n",
       "ID                                                                      \n",
       "Hydropower Mega-Dams_Price_World         World         Global   Price   \n",
       "\n",
       "Date                                   Technology Name         Unit  \n",
       "ID                                                                   \n",
       "Hydropower Mega-Dams_Price_World  Hydropower Mega-Dams  2022 USD/kW  \n",
       "\n",
       "[1 rows x 43 columns]"
      ]
     },
     "execution_count": 5,
     "metadata": {},
     "output_type": "execute_result"
    }
   ],
   "source": [
    "df = pd.read_excel('raw data/cost data/Ansar et al.xlsx', usecols=[0,1,13])\n",
    "df = df[df['Source']=='Hydro']\n",
    "num_list = []\n",
    "for x in df['Cost/kW**']:\n",
    "    num = float(x.replace(',','.'))\n",
    "    num_list.append(num)\n",
    "df['2012 USD/kW'] = num_list\n",
    "df.drop(columns=['Source', 'Cost/kW**'], inplace=True)\n",
    "df = df.groupby(['Date']).mean()\n",
    "df = df.transpose()\n",
    "# adjust for inflation\n",
    "df.iloc[0] = df.iloc[0] * infl_2012_2022\n",
    "df['Data Source'] = 'Ansar et al.'\n",
    "df['Country Name'] = 'World'\n",
    "df['Country Code'] = 'World'\n",
    "df['Spatial Scale'] = 'Global'\n",
    "df['Metric'] = 'Price'\n",
    "df['Technology Name'] = 'Hydropower Mega-Dams'\n",
    "df['Unit'] = '2022 USD/kW'\n",
    "df['ID'] = df['Technology Name'] + '_' + df['Metric'] + '_' + df['Country Code']\n",
    "df.set_index('ID', drop=True, inplace=True)\n",
    "df"
   ]
  },
  {
   "cell_type": "code",
   "execution_count": 6,
   "id": "6c546bd0",
   "metadata": {},
   "outputs": [],
   "source": [
    "df.to_csv('cleaned data/megadams_price.csv')"
   ]
  },
  {
   "cell_type": "code",
   "execution_count": null,
   "id": "50d9d7cd",
   "metadata": {},
   "outputs": [],
   "source": []
  }
 ],
 "metadata": {
  "kernelspec": {
   "display_name": "Python 3 (ipykernel)",
   "language": "python",
   "name": "python3"
  },
  "language_info": {
   "codemirror_mode": {
    "name": "ipython",
    "version": 3
   },
   "file_extension": ".py",
   "mimetype": "text/x-python",
   "name": "python",
   "nbconvert_exporter": "python",
   "pygments_lexer": "ipython3",
   "version": "3.9.13"
  }
 },
 "nbformat": 4,
 "nbformat_minor": 5
}
