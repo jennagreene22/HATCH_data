{
 "cells": [
  {
   "cell_type": "code",
   "execution_count": 1,
   "id": "e82172c1",
   "metadata": {},
   "outputs": [],
   "source": [
    "import os\n",
    "import pandas as pd\n",
    "from pandas import Series, DataFrame"
   ]
  },
  {
   "cell_type": "code",
   "execution_count": 2,
   "id": "85fb99a7",
   "metadata": {},
   "outputs": [],
   "source": [
    "path = '/Users/ariana/desktop/historical_tech'\n",
    "os.chdir(path)"
   ]
  },
  {
   "cell_type": "code",
   "execution_count": 3,
   "id": "0ae547d5",
   "metadata": {},
   "outputs": [],
   "source": [
    "# https://doi.org/10.1016/j.scitotenv.2018.12.076\n",
    "# digitized from figure 3 using https://apps.automeris.io/wpd/"
   ]
  },
  {
   "cell_type": "code",
   "execution_count": 4,
   "id": "48496f21",
   "metadata": {},
   "outputs": [
    {
     "data": {
      "text/html": [
       "<div>\n",
       "<style scoped>\n",
       "    .dataframe tbody tr th:only-of-type {\n",
       "        vertical-align: middle;\n",
       "    }\n",
       "\n",
       "    .dataframe tbody tr th {\n",
       "        vertical-align: top;\n",
       "    }\n",
       "\n",
       "    .dataframe thead th {\n",
       "        text-align: right;\n",
       "    }\n",
       "</style>\n",
       "<table border=\"1\" class=\"dataframe\">\n",
       "  <thead>\n",
       "    <tr style=\"text-align: right;\">\n",
       "      <th></th>\n",
       "      <th>1960</th>\n",
       "      <th>1965</th>\n",
       "      <th>1970</th>\n",
       "      <th>1975</th>\n",
       "      <th>1980</th>\n",
       "      <th>1985</th>\n",
       "      <th>1990</th>\n",
       "      <th>1995</th>\n",
       "      <th>2000</th>\n",
       "      <th>2005</th>\n",
       "      <th>2010</th>\n",
       "      <th>2015</th>\n",
       "      <th>2020</th>\n",
       "      <th>Data Source</th>\n",
       "      <th>Country Name</th>\n",
       "      <th>Country Code</th>\n",
       "      <th>Spatial Scale</th>\n",
       "      <th>Metric</th>\n",
       "      <th>Technology Name</th>\n",
       "      <th>Unit</th>\n",
       "    </tr>\n",
       "    <tr>\n",
       "      <th>ID</th>\n",
       "      <th></th>\n",
       "      <th></th>\n",
       "      <th></th>\n",
       "      <th></th>\n",
       "      <th></th>\n",
       "      <th></th>\n",
       "      <th></th>\n",
       "      <th></th>\n",
       "      <th></th>\n",
       "      <th></th>\n",
       "      <th></th>\n",
       "      <th></th>\n",
       "      <th></th>\n",
       "      <th></th>\n",
       "      <th></th>\n",
       "      <th></th>\n",
       "      <th></th>\n",
       "      <th></th>\n",
       "      <th></th>\n",
       "      <th></th>\n",
       "    </tr>\n",
       "  </thead>\n",
       "  <tbody>\n",
       "    <tr>\n",
       "      <th>Desalination Capacity_Total Capacity_World</th>\n",
       "      <td>0.0</td>\n",
       "      <td>0.0</td>\n",
       "      <td>0.0</td>\n",
       "      <td>0.0</td>\n",
       "      <td>0.0</td>\n",
       "      <td>3.5</td>\n",
       "      <td>7.0</td>\n",
       "      <td>11.0</td>\n",
       "      <td>21.3</td>\n",
       "      <td>30.2</td>\n",
       "      <td>50.4</td>\n",
       "      <td>76.0</td>\n",
       "      <td>95.4</td>\n",
       "      <td>Jones et al.</td>\n",
       "      <td>World</td>\n",
       "      <td>World</td>\n",
       "      <td>Global</td>\n",
       "      <td>Total Capacity</td>\n",
       "      <td>Desalination Capacity</td>\n",
       "      <td>million cubic meters/day</td>\n",
       "    </tr>\n",
       "  </tbody>\n",
       "</table>\n",
       "</div>"
      ],
      "text/plain": [
       "                                            1960  1965  1970  1975  1980  \\\n",
       "ID                                                                         \n",
       "Desalination Capacity_Total Capacity_World   0.0   0.0   0.0   0.0   0.0   \n",
       "\n",
       "                                            1985  1990  1995  2000  2005  \\\n",
       "ID                                                                         \n",
       "Desalination Capacity_Total Capacity_World   3.5   7.0  11.0  21.3  30.2   \n",
       "\n",
       "                                            2010  2015  2020   Data Source  \\\n",
       "ID                                                                           \n",
       "Desalination Capacity_Total Capacity_World  50.4  76.0  95.4  Jones et al.   \n",
       "\n",
       "                                           Country Name Country Code  \\\n",
       "ID                                                                     \n",
       "Desalination Capacity_Total Capacity_World        World        World   \n",
       "\n",
       "                                           Spatial Scale          Metric  \\\n",
       "ID                                                                         \n",
       "Desalination Capacity_Total Capacity_World        Global  Total Capacity   \n",
       "\n",
       "                                                  Technology Name  \\\n",
       "ID                                                                  \n",
       "Desalination Capacity_Total Capacity_World  Desalination Capacity   \n",
       "\n",
       "                                                                Unit  \n",
       "ID                                                                    \n",
       "Desalination Capacity_Total Capacity_World  million cubic meters/day  "
      ]
     },
     "execution_count": 4,
     "metadata": {},
     "output_type": "execute_result"
    }
   ],
   "source": [
    "desalination = pd.read_csv('raw data/Desalination_TimeSeries.csv', index_col=0, usecols=[1,5])\n",
    "desalination = desalination.transpose()\n",
    "desalination['Data Source'] = 'Jones et al.'\n",
    "desalination['Country Name'] = 'World'\n",
    "desalination['Country Code'] = 'World'\n",
    "desalination['Spatial Scale'] = 'Global'\n",
    "desalination['Metric'] = 'Total Capacity'\n",
    "desalination['Technology Name'] = 'Desalination Capacity'\n",
    "desalination['Unit'] = 'million cubic meters/day'\n",
    "desalination['ID'] = desalination['Technology Name'] + '_' + desalination['Metric'] + '_' + desalination['Country Code']\n",
    "desalination.set_index('ID', drop=True, inplace=True)\n",
    "desalination.columns.name = None\n",
    "desalination\n"
   ]
  },
  {
   "cell_type": "code",
   "execution_count": 5,
   "id": "c7d7eaf7",
   "metadata": {},
   "outputs": [],
   "source": [
    "desalination.to_csv('cleaned data/desalination.csv')"
   ]
  },
  {
   "cell_type": "code",
   "execution_count": null,
   "id": "75112953",
   "metadata": {},
   "outputs": [],
   "source": []
  }
 ],
 "metadata": {
  "kernelspec": {
   "display_name": "Python 3 (ipykernel)",
   "language": "python",
   "name": "python3"
  },
  "language_info": {
   "codemirror_mode": {
    "name": "ipython",
    "version": 3
   },
   "file_extension": ".py",
   "mimetype": "text/x-python",
   "name": "python",
   "nbconvert_exporter": "python",
   "pygments_lexer": "ipython3",
   "version": "3.9.13"
  }
 },
 "nbformat": 4,
 "nbformat_minor": 5
}
