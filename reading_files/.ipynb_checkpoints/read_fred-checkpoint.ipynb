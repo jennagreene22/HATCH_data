{
 "cells": [
  {
   "cell_type": "code",
   "execution_count": 1,
   "id": "2e1493d8",
   "metadata": {},
   "outputs": [],
   "source": [
    "import pandas as pd\n",
    "from pandas import Series, DataFrame\n",
    "import country_converter as coco\n",
    "import os"
   ]
  },
  {
   "cell_type": "code",
   "execution_count": 2,
   "id": "394f59e5",
   "metadata": {},
   "outputs": [],
   "source": [
    "# https://fred.stlouisfed.org/series/A02F2AUSA374NNBR\n",
    "# https://fred.stlouisfed.org/graph/fredgraph.xls?bgcolor=%23e1e9f0&chart_type=line&drp=0&fo=open%20sans&graph_bgcolor=%23ffffff&height=450&mode=fred&recession_bars=on&txtcolor=%23444444&ts=12&tts=12&width=1318&nt=0&thu=0&trc=0&show_legend=yes&show_axis_titles=yes&show_tooltip=yes&id=A02F2AUSA374NNBR&scale=left&cosd=1830-01-01&coed=1952-01-01&line_color=%234572a7&link_values=false&line_style=solid&mark_type=none&mw=3&lw=2&ost=-99999&oet=99999&mma=0&fml=a&fq=Annual&fam=avg&fgst=lin&fgsnd=1952-01-01&line_index=1&transformation=lin&vintage_date=2023-03-25&revision_date=2023-03-25&nd=1830-01-01\n"
   ]
  },
  {
   "cell_type": "code",
   "execution_count": 3,
   "id": "2a5df239",
   "metadata": {},
   "outputs": [],
   "source": [
    "path = '/Users/ariana/desktop/historical_tech'\n",
    "os.chdir(path)"
   ]
  },
  {
   "cell_type": "code",
   "execution_count": 4,
   "id": "3b919867",
   "metadata": {},
   "outputs": [
    {
     "data": {
      "text/html": [
       "<div>\n",
       "<style scoped>\n",
       "    .dataframe tbody tr th:only-of-type {\n",
       "        vertical-align: middle;\n",
       "    }\n",
       "\n",
       "    .dataframe tbody tr th {\n",
       "        vertical-align: top;\n",
       "    }\n",
       "\n",
       "    .dataframe thead th {\n",
       "        text-align: right;\n",
       "    }\n",
       "</style>\n",
       "<table border=\"1\" class=\"dataframe\">\n",
       "  <thead>\n",
       "    <tr style=\"text-align: right;\">\n",
       "      <th></th>\n",
       "      <th>1830</th>\n",
       "      <th>1831</th>\n",
       "      <th>1832</th>\n",
       "      <th>1833</th>\n",
       "      <th>1834</th>\n",
       "      <th>1835</th>\n",
       "      <th>1836</th>\n",
       "      <th>1837</th>\n",
       "      <th>1838</th>\n",
       "      <th>1839</th>\n",
       "      <th>...</th>\n",
       "      <th>1951</th>\n",
       "      <th>1952</th>\n",
       "      <th>Data Source</th>\n",
       "      <th>Technology Name</th>\n",
       "      <th>Unit</th>\n",
       "      <th>Country Name</th>\n",
       "      <th>Country Code</th>\n",
       "      <th>Spatial Scale</th>\n",
       "      <th>Metric</th>\n",
       "      <th>ID</th>\n",
       "    </tr>\n",
       "  </thead>\n",
       "  <tbody>\n",
       "    <tr>\n",
       "      <th>0</th>\n",
       "      <td>40</td>\n",
       "      <td>139</td>\n",
       "      <td>330</td>\n",
       "      <td>446</td>\n",
       "      <td>660</td>\n",
       "      <td>798</td>\n",
       "      <td>1078</td>\n",
       "      <td>1426</td>\n",
       "      <td>1879</td>\n",
       "      <td>2265</td>\n",
       "      <td>...</td>\n",
       "      <td>270590</td>\n",
       "      <td>270706</td>\n",
       "      <td>Federal Reserve Economic Data</td>\n",
       "      <td>Railroad</td>\n",
       "      <td>Miles</td>\n",
       "      <td>United States</td>\n",
       "      <td>US</td>\n",
       "      <td>National</td>\n",
       "      <td>Total Length</td>\n",
       "      <td>Railroad_Total Length_US</td>\n",
       "    </tr>\n",
       "  </tbody>\n",
       "</table>\n",
       "<p>1 rows × 131 columns</p>\n",
       "</div>"
      ],
      "text/plain": [
       "   1830  1831  1832  1833  1834  1835  1836  1837  1838  1839  ...    1951  \\\n",
       "0    40   139   330   446   660   798  1078  1426  1879  2265  ...  270590   \n",
       "\n",
       "     1952                    Data Source  Technology Name   Unit  \\\n",
       "0  270706  Federal Reserve Economic Data         Railroad  Miles   \n",
       "\n",
       "    Country Name  Country Code  Spatial Scale        Metric  \\\n",
       "0  United States            US       National  Total Length   \n",
       "\n",
       "                         ID  \n",
       "0  Railroad_Total Length_US  \n",
       "\n",
       "[1 rows x 131 columns]"
      ]
     },
     "execution_count": 4,
     "metadata": {},
     "output_type": "execute_result"
    }
   ],
   "source": [
    "rail = pd.read_excel('raw data/A02F2AUSA374NNBR.xls')\n",
    "source = rail.iloc[0][0]\n",
    "rail = rail[10:]\n",
    "years = []\n",
    "for year in rail['FRED Graph Observations']:\n",
    "    year = str(year)\n",
    "    years.append(year[:4])\n",
    "cumsum = rail['Unnamed: 1'].cumsum()\n",
    "cumsum = list(cumsum)\n",
    "rail = pd.DataFrame(cumsum, years)\n",
    "rail = rail.transpose()\n",
    "rail['Data Source'] = source\n",
    "rail['Technology Name'] = 'Railroad'\n",
    "rail['Unit'] = 'Miles'\n",
    "rail['Country Name'] = 'United States'\n",
    "rail['Country Code'] = 'US'\n",
    "rail['Spatial Scale'] = 'National'\n",
    "rail['Metric'] = 'Total Length'\n",
    "rail['ID'] = rail['Technology Name'] + '_' + rail['Metric'] + '_' + rail['Country Code']\n",
    "rail"
   ]
  },
  {
   "cell_type": "code",
   "execution_count": 5,
   "id": "a3fccfc3",
   "metadata": {},
   "outputs": [],
   "source": [
    "#drop, dup in CHAT\n",
    "#rail.to_csv('cleaned data/fred.csv', index=False)"
   ]
  },
  {
   "cell_type": "code",
   "execution_count": null,
   "id": "5ee98324",
   "metadata": {},
   "outputs": [],
   "source": []
  }
 ],
 "metadata": {
  "kernelspec": {
   "display_name": "Python 3 (ipykernel)",
   "language": "python",
   "name": "python3"
  },
  "language_info": {
   "codemirror_mode": {
    "name": "ipython",
    "version": 3
   },
   "file_extension": ".py",
   "mimetype": "text/x-python",
   "name": "python",
   "nbconvert_exporter": "python",
   "pygments_lexer": "ipython3",
   "version": "3.9.13"
  }
 },
 "nbformat": 4,
 "nbformat_minor": 5
}
