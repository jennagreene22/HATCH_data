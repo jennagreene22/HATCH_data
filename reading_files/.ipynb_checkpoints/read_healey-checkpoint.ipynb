{
 "cells": [
  {
   "cell_type": "code",
   "execution_count": 1,
   "id": "1d38da0a",
   "metadata": {},
   "outputs": [],
   "source": [
    "import os\n",
    "import pandas as pd\n",
    "from pandas import Series, DataFrame"
   ]
  },
  {
   "cell_type": "code",
   "execution_count": 2,
   "id": "37f5b774",
   "metadata": {},
   "outputs": [],
   "source": [
    "path = '/Users/ariana/desktop/historical_tech'\n",
    "os.chdir(path)"
   ]
  },
  {
   "cell_type": "code",
   "execution_count": 3,
   "id": "5f29e2ed",
   "metadata": {},
   "outputs": [],
   "source": [
    "# https://pure.iiasa.ac.at/id/eprint/10749/1/IR-13-008.pdf\n",
    "# digitized from figures 16-18"
   ]
  },
  {
   "cell_type": "code",
   "execution_count": 8,
   "id": "dcafe297",
   "metadata": {},
   "outputs": [
    {
     "data": {
      "text/plain": [
       "2.5938455891349568"
      ]
     },
     "execution_count": 8,
     "metadata": {},
     "output_type": "execute_result"
    }
   ],
   "source": [
    "## adjusting for inflation from 1982 USD to 2022 USD\n",
    "nipa = pd.read_excel('A001RG3A086NBEA.xls', header=10)\n",
    "\n",
    "year_list = []\n",
    "for x in nipa['observation_date']:\n",
    "    x = int(str(x)[:4])\n",
    "    year_list.append(x)\n",
    "nipa['Year'] = year_list\n",
    "nipa.set_index('Year', drop=True, inplace=True)\n",
    "nipa.drop(columns='observation_date', inplace=True)\n",
    "nipa = nipa.transpose()\n",
    "\n",
    "infl_1982_2022 = float(nipa[2022]/nipa[1982])\n",
    "infl_1982_2022"
   ]
  },
  {
   "cell_type": "code",
   "execution_count": 10,
   "id": "72d381f2",
   "metadata": {},
   "outputs": [
    {
     "data": {
      "text/html": [
       "<div>\n",
       "<style scoped>\n",
       "    .dataframe tbody tr th:only-of-type {\n",
       "        vertical-align: middle;\n",
       "    }\n",
       "\n",
       "    .dataframe tbody tr th {\n",
       "        vertical-align: top;\n",
       "    }\n",
       "\n",
       "    .dataframe thead th {\n",
       "        text-align: right;\n",
       "    }\n",
       "</style>\n",
       "<table border=\"1\" class=\"dataframe\">\n",
       "  <thead>\n",
       "    <tr style=\"text-align: right;\">\n",
       "      <th></th>\n",
       "      <th>1969</th>\n",
       "      <th>1970</th>\n",
       "      <th>1971</th>\n",
       "      <th>1972</th>\n",
       "      <th>1973</th>\n",
       "      <th>1974</th>\n",
       "      <th>1975</th>\n",
       "      <th>1976</th>\n",
       "      <th>1977</th>\n",
       "      <th>1978</th>\n",
       "      <th>...</th>\n",
       "      <th>2008</th>\n",
       "      <th>2009</th>\n",
       "      <th>2010</th>\n",
       "      <th>Unit</th>\n",
       "      <th>Data Source</th>\n",
       "      <th>Spatial Scale</th>\n",
       "      <th>Country Code</th>\n",
       "      <th>Country Name</th>\n",
       "      <th>Metric</th>\n",
       "      <th>Technology Name</th>\n",
       "    </tr>\n",
       "    <tr>\n",
       "      <th>ID</th>\n",
       "      <th></th>\n",
       "      <th></th>\n",
       "      <th></th>\n",
       "      <th></th>\n",
       "      <th></th>\n",
       "      <th></th>\n",
       "      <th></th>\n",
       "      <th></th>\n",
       "      <th></th>\n",
       "      <th></th>\n",
       "      <th></th>\n",
       "      <th></th>\n",
       "      <th></th>\n",
       "      <th></th>\n",
       "      <th></th>\n",
       "      <th></th>\n",
       "      <th></th>\n",
       "      <th></th>\n",
       "      <th></th>\n",
       "      <th></th>\n",
       "      <th></th>\n",
       "    </tr>\n",
       "  </thead>\n",
       "  <tbody>\n",
       "    <tr>\n",
       "      <th>Flue Gas Desulphurization (Wet and Dry)_Price_World</th>\n",
       "      <td>68.660619</td>\n",
       "      <td>68.660619</td>\n",
       "      <td>9.80866</td>\n",
       "      <td>307.338007</td>\n",
       "      <td>467.546117</td>\n",
       "      <td>225.599175</td>\n",
       "      <td>225.599175</td>\n",
       "      <td>451.19835</td>\n",
       "      <td>415.233264</td>\n",
       "      <td>304.068454</td>\n",
       "      <td>...</td>\n",
       "      <td>455.297055</td>\n",
       "      <td>790.037955</td>\n",
       "      <td>464.521622</td>\n",
       "      <td>2022 USD/MW</td>\n",
       "      <td>Healey</td>\n",
       "      <td>Global</td>\n",
       "      <td>World</td>\n",
       "      <td>World</td>\n",
       "      <td>Price</td>\n",
       "      <td>Flue Gas Desulphurization (Wet and Dry)</td>\n",
       "    </tr>\n",
       "  </tbody>\n",
       "</table>\n",
       "<p>1 rows × 49 columns</p>\n",
       "</div>"
      ],
      "text/plain": [
       "                                                         1969       1970  \\\n",
       "ID                                                                         \n",
       "Flue Gas Desulphurization (Wet and Dry)_Price_W...  68.660619  68.660619   \n",
       "\n",
       "                                                       1971        1972  \\\n",
       "ID                                                                        \n",
       "Flue Gas Desulphurization (Wet and Dry)_Price_W...  9.80866  307.338007   \n",
       "\n",
       "                                                          1973        1974  \\\n",
       "ID                                                                           \n",
       "Flue Gas Desulphurization (Wet and Dry)_Price_W...  467.546117  225.599175   \n",
       "\n",
       "                                                          1975       1976  \\\n",
       "ID                                                                          \n",
       "Flue Gas Desulphurization (Wet and Dry)_Price_W...  225.599175  451.19835   \n",
       "\n",
       "                                                          1977        1978  \\\n",
       "ID                                                                           \n",
       "Flue Gas Desulphurization (Wet and Dry)_Price_W...  415.233264  304.068454   \n",
       "\n",
       "                                                    ...        2008  \\\n",
       "ID                                                  ...               \n",
       "Flue Gas Desulphurization (Wet and Dry)_Price_W...  ...  455.297055   \n",
       "\n",
       "                                                          2009        2010  \\\n",
       "ID                                                                           \n",
       "Flue Gas Desulphurization (Wet and Dry)_Price_W...  790.037955  464.521622   \n",
       "\n",
       "                                                           Unit  Data Source  \\\n",
       "ID                                                                             \n",
       "Flue Gas Desulphurization (Wet and Dry)_Price_W...  2022 USD/MW       Healey   \n",
       "\n",
       "                                                    Spatial Scale  \\\n",
       "ID                                                                  \n",
       "Flue Gas Desulphurization (Wet and Dry)_Price_W...         Global   \n",
       "\n",
       "                                                    Country Code  \\\n",
       "ID                                                                 \n",
       "Flue Gas Desulphurization (Wet and Dry)_Price_W...         World   \n",
       "\n",
       "                                                    Country Name  Metric  \\\n",
       "ID                                                                         \n",
       "Flue Gas Desulphurization (Wet and Dry)_Price_W...         World   Price   \n",
       "\n",
       "                                                                            Technology Name  \n",
       "ID                                                                                           \n",
       "Flue Gas Desulphurization (Wet and Dry)_Price_W...  Flue Gas Desulphurization (Wet and Dry)  \n",
       "\n",
       "[1 rows x 49 columns]"
      ]
     },
     "execution_count": 10,
     "metadata": {},
     "output_type": "execute_result"
    }
   ],
   "source": [
    "fgd = pd.read_csv('raw data/cost data/healey/fig17-19 digitized.csv', index_col=0)\n",
    "fgd = fgd.transpose()\n",
    "fgd.iloc[0] = fgd.iloc[0] * infl_1982_2022\n",
    "fgd['Unit'] = '2022 USD/MW'\n",
    "fgd['Data Source'] = 'Healey'\n",
    "fgd['Spatial Scale'] = 'Global'\n",
    "fgd['Country Code'] = 'World'\n",
    "fgd['Country Name'] = 'World'\n",
    "fgd['Metric'] = 'Price'\n",
    "fgd['Technology Name'] = 'Flue Gas Desulphurization (Wet and Dry)'\n",
    "fgd['ID'] = fgd['Technology Name'] + '_' + fgd['Metric'] + '_' + fgd['Country Code']\n",
    "fgd.set_index('ID', drop=True, inplace=True)\n",
    "fgd.columns.name = None\n",
    "fgd"
   ]
  },
  {
   "cell_type": "code",
   "execution_count": 11,
   "id": "d800e021",
   "metadata": {},
   "outputs": [],
   "source": [
    "fgd.to_csv('cleaned data/fgd_price.csv')"
   ]
  },
  {
   "cell_type": "code",
   "execution_count": null,
   "id": "6b71809d",
   "metadata": {},
   "outputs": [],
   "source": []
  }
 ],
 "metadata": {
  "kernelspec": {
   "display_name": "Python 3 (ipykernel)",
   "language": "python",
   "name": "python3"
  },
  "language_info": {
   "codemirror_mode": {
    "name": "ipython",
    "version": 3
   },
   "file_extension": ".py",
   "mimetype": "text/x-python",
   "name": "python",
   "nbconvert_exporter": "python",
   "pygments_lexer": "ipython3",
   "version": "3.9.13"
  }
 },
 "nbformat": 4,
 "nbformat_minor": 5
}
