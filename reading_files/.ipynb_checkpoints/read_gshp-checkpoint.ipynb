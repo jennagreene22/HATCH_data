{
 "cells": [
  {
   "cell_type": "code",
   "execution_count": 1,
   "id": "02cb2f9c",
   "metadata": {},
   "outputs": [],
   "source": [
    "import os\n",
    "import pandas as pd\n",
    "from pandas import Series, DataFrame"
   ]
  },
  {
   "cell_type": "code",
   "execution_count": 2,
   "id": "c6996be4",
   "metadata": {},
   "outputs": [],
   "source": [
    "# https://doi.org/10.1016/j.geothermics.2020.101915\n",
    "# data from Table 8, geothermal heat pumps, p. 5"
   ]
  },
  {
   "cell_type": "code",
   "execution_count": 3,
   "id": "4d22f8a6",
   "metadata": {},
   "outputs": [],
   "source": [
    "path = '/Users/ariana/desktop/historical_tech'\n",
    "os.chdir(path)"
   ]
  },
  {
   "cell_type": "code",
   "execution_count": 4,
   "id": "65c46aea",
   "metadata": {},
   "outputs": [
    {
     "data": {
      "text/html": [
       "<div>\n",
       "<style scoped>\n",
       "    .dataframe tbody tr th:only-of-type {\n",
       "        vertical-align: middle;\n",
       "    }\n",
       "\n",
       "    .dataframe tbody tr th {\n",
       "        vertical-align: top;\n",
       "    }\n",
       "\n",
       "    .dataframe thead th {\n",
       "        text-align: right;\n",
       "    }\n",
       "</style>\n",
       "<table border=\"1\" class=\"dataframe\">\n",
       "  <thead>\n",
       "    <tr style=\"text-align: right;\">\n",
       "      <th></th>\n",
       "      <th>1995</th>\n",
       "      <th>2000</th>\n",
       "      <th>2005</th>\n",
       "      <th>2010</th>\n",
       "      <th>2015</th>\n",
       "      <th>2020</th>\n",
       "      <th>Data Source</th>\n",
       "      <th>Country Name</th>\n",
       "      <th>Country Code</th>\n",
       "      <th>Spatial Scale</th>\n",
       "      <th>Metric</th>\n",
       "      <th>Technology Name</th>\n",
       "      <th>Unit</th>\n",
       "    </tr>\n",
       "    <tr>\n",
       "      <th>ID</th>\n",
       "      <th></th>\n",
       "      <th></th>\n",
       "      <th></th>\n",
       "      <th></th>\n",
       "      <th></th>\n",
       "      <th></th>\n",
       "      <th></th>\n",
       "      <th></th>\n",
       "      <th></th>\n",
       "      <th></th>\n",
       "      <th></th>\n",
       "      <th></th>\n",
       "      <th></th>\n",
       "    </tr>\n",
       "  </thead>\n",
       "  <tbody>\n",
       "    <tr>\n",
       "      <th>Ground Source Heat Pumps_Cumulative Total Capacity_World</th>\n",
       "      <td>1854</td>\n",
       "      <td>5275</td>\n",
       "      <td>15384</td>\n",
       "      <td>33134</td>\n",
       "      <td>50258</td>\n",
       "      <td>77457</td>\n",
       "      <td>Lund &amp; Toth</td>\n",
       "      <td>World</td>\n",
       "      <td>World</td>\n",
       "      <td>Global</td>\n",
       "      <td>Cumulative Total Capacity</td>\n",
       "      <td>Ground Source Heat Pumps</td>\n",
       "      <td>MWt</td>\n",
       "    </tr>\n",
       "  </tbody>\n",
       "</table>\n",
       "</div>"
      ],
      "text/plain": [
       "                                                    1995  2000   2005   2010  \\\n",
       "ID                                                                             \n",
       "Ground Source Heat Pumps_Cumulative Total Capac...  1854  5275  15384  33134   \n",
       "\n",
       "                                                     2015   2020  Data Source  \\\n",
       "ID                                                                              \n",
       "Ground Source Heat Pumps_Cumulative Total Capac...  50258  77457  Lund & Toth   \n",
       "\n",
       "                                                   Country Name Country Code  \\\n",
       "ID                                                                             \n",
       "Ground Source Heat Pumps_Cumulative Total Capac...        World        World   \n",
       "\n",
       "                                                   Spatial Scale  \\\n",
       "ID                                                                 \n",
       "Ground Source Heat Pumps_Cumulative Total Capac...        Global   \n",
       "\n",
       "                                                                       Metric  \\\n",
       "ID                                                                              \n",
       "Ground Source Heat Pumps_Cumulative Total Capac...  Cumulative Total Capacity   \n",
       "\n",
       "                                                             Technology Name  \\\n",
       "ID                                                                             \n",
       "Ground Source Heat Pumps_Cumulative Total Capac...  Ground Source Heat Pumps   \n",
       "\n",
       "                                                   Unit  \n",
       "ID                                                       \n",
       "Ground Source Heat Pumps_Cumulative Total Capac...  MWt  "
      ]
     },
     "execution_count": 4,
     "metadata": {},
     "output_type": "execute_result"
    }
   ],
   "source": [
    "gshp = pd.read_csv('raw data/LundToth_GSHP_TimeSeries.csv', index_col=0)\n",
    "gshp = gshp.transpose()\n",
    "gshp['Data Source'] = 'Lund & Toth'\n",
    "gshp['Country Name'] = 'World'\n",
    "gshp['Country Code'] = 'World'\n",
    "gshp['Spatial Scale'] = 'Global'\n",
    "gshp['Metric'] = 'Cumulative Total Capacity'\n",
    "gshp['Technology Name'] = 'Ground Source Heat Pumps'\n",
    "gshp['Unit'] = 'MWt'\n",
    "gshp['ID'] = gshp['Technology Name'] + '_' + gshp['Metric'] + '_' + gshp['Country Code']\n",
    "gshp.set_index('ID', drop=True, inplace=True)\n",
    "gshp.columns.name = None\n",
    "gshp\n"
   ]
  },
  {
   "cell_type": "code",
   "execution_count": 5,
   "id": "968e5b0d",
   "metadata": {},
   "outputs": [],
   "source": [
    "gshp.to_csv('cleaned data/gshp.csv')"
   ]
  },
  {
   "cell_type": "code",
   "execution_count": null,
   "id": "75d481cd",
   "metadata": {},
   "outputs": [],
   "source": []
  }
 ],
 "metadata": {
  "kernelspec": {
   "display_name": "Python 3 (ipykernel)",
   "language": "python",
   "name": "python3"
  },
  "language_info": {
   "codemirror_mode": {
    "name": "ipython",
    "version": 3
   },
   "file_extension": ".py",
   "mimetype": "text/x-python",
   "name": "python",
   "nbconvert_exporter": "python",
   "pygments_lexer": "ipython3",
   "version": "3.9.13"
  }
 },
 "nbformat": 4,
 "nbformat_minor": 5
}
