{
 "cells": [
  {
   "cell_type": "code",
   "execution_count": 122,
   "metadata": {},
   "outputs": [],
   "source": [
    "import os\n",
    "import pandas as pd\n",
    "from pandas import Series, DataFrame\n",
    "import country_converter as coco\n",
    "import warnings\n",
    "warnings.filterwarnings(\"ignore\")"
   ]
  },
  {
   "cell_type": "markdown",
   "metadata": {},
   "source": [
    "Data Sources:\n",
    "- EuroStat"
   ]
  },
  {
   "cell_type": "code",
   "execution_count": 123,
   "metadata": {},
   "outputs": [
    {
     "name": "stdout",
     "output_type": "stream",
     "text": [
      "Current working directory: /Users/jennagreene/Documents/GitHub/HATCH_data/reading_files\n"
     ]
    }
   ],
   "source": [
    "## Get current working directory\n",
    "print(\"Current working directory:\", os.getcwd())\n",
    "\n",
    "## Find path to raw data (for the raw files)\n",
    "raw_data_path = os.path.abspath(os.path.join(os.getcwd(), '..', 'raw_data'))\n",
    "\n",
    "## Find path to folder for saving cleaned csv\n",
    "cleaned_data_path = os.path.abspath(os.path.join(os.getcwd(), '..', 'cleaned_data'))"
   ]
  },
  {
   "cell_type": "code",
   "execution_count": 124,
   "metadata": {},
   "outputs": [],
   "source": [
    "# Find and read the CSV file from the raw_data folder\n",
    "eurostat_folder = 'eurostat'\n",
    "eurostat_folder_path = os.path.join(raw_data_path, eurostat_folder)"
   ]
  },
  {
   "cell_type": "code",
   "execution_count": 125,
   "metadata": {},
   "outputs": [
    {
     "data": {
      "text/plain": [
       "['airfleets_europe.xlsx',\n",
       " 'eurostat_internetdevices.xlsx',\n",
       " 'Motorcycles_Eurostat.xlsx',\n",
       " 'FlushToilets_Europe.xlsx',\n",
       " 'GSHP_Eurostat.xlsx',\n",
       " 'roads_europe.xlsx']"
      ]
     },
     "execution_count": 125,
     "metadata": {},
     "output_type": "execute_result"
    }
   ],
   "source": [
    "eurostat = os.listdir(eurostat_folder_path)\n",
    "for file in eurostat:\n",
    "    if '.xlsx' not in file:\n",
    "        eurostat.remove(file)\n",
    "eurostat"
   ]
  },
  {
   "cell_type": "markdown",
   "metadata": {},
   "source": [
    "### Airfleets"
   ]
  },
  {
   "cell_type": "markdown",
   "metadata": {},
   "source": [
    "Read Airfleets data"
   ]
  },
  {
   "cell_type": "code",
   "execution_count": 126,
   "metadata": {},
   "outputs": [],
   "source": [
    "eurostat_file_path = os.path.join(eurostat_folder_path, 'airfleets_europe.xlsx')\n",
    "airfleets = pd.read_excel(eurostat_file_path, sheet_name= 'Sheet 1', header = 7, na_values='..', skipfooter=5)"
   ]
  },
  {
   "cell_type": "code",
   "execution_count": 127,
   "metadata": {},
   "outputs": [],
   "source": [
    "airfleets = airfleets.drop(['Unnamed: 2', 'Unnamed: 4', 'Unnamed: 6', 'Unnamed: 8', 'Unnamed: 10', 'Unnamed: 12', 'Unnamed: 14', 'Unnamed: 16', 'Unnamed: 18', 'Unnamed: 20', 'Unnamed: 22', 'Unnamed: 24', \n",
    "                'Unnamed: 26', 'Unnamed: 28', 'Unnamed: 30', 'Unnamed: 32', 'Unnamed: 34', 'Unnamed: 36', 'Unnamed: 38', 'Unnamed: 40', 'Unnamed: 42', 'Unnamed: 44'], axis = 1)\n",
    "airfleets = airfleets.drop(0, axis = 0)\n",
    "airfleets = airfleets.rename(columns = {'TIME': 'Country Name'})\n",
    "\n",
    "airfleets['Data Source'] = 'Eurostat'\n",
    "airfleets['Technology Name'] = 'Commercial Aircrafts'\n",
    "airfleets['Spatial Scale'] = 'National'\n",
    "airfleets['Metric'] = 'Total Number'\n",
    "airfleets['Unit'] = '-'\n",
    "airfleets['Country Code'] = coco.convert(names=airfleets['Country Name'], to='iso2')\n",
    "airfleets['ID'] = airfleets['Technology Name'] + '_' + airfleets['Metric'] + '_' + airfleets['Country Code']\n",
    "airfleets.set_index('ID', inplace=True)"
   ]
  },
  {
   "cell_type": "markdown",
   "metadata": {},
   "source": [
    "Save Airfleet Data"
   ]
  },
  {
   "cell_type": "code",
   "execution_count": 128,
   "metadata": {},
   "outputs": [
    {
     "name": "stdout",
     "output_type": "stream",
     "text": [
      "Data saved to: /Users/jennagreene/Documents/GitHub/HATCH_data/cleaned_data/airfleets.csv\n"
     ]
    }
   ],
   "source": [
    "airfleets\n",
    "output_file = 'airfleets.csv'\n",
    "output_file_path = os.path.join(cleaned_data_path, output_file)\n",
    "\n",
    "airfleets.to_csv(output_file_path, index = False)\n",
    "print(\"Data saved to:\", output_file_path)"
   ]
  },
  {
   "cell_type": "markdown",
   "metadata": {},
   "source": [
    "### Flush Toilets"
   ]
  },
  {
   "cell_type": "code",
   "execution_count": 129,
   "metadata": {},
   "outputs": [],
   "source": [
    "eurostat_file_path = os.path.join(eurostat_folder_path, 'FlushToilets_Europe.xlsx')\n",
    "flushtoilets = pd.read_excel(eurostat_file_path, sheet_name= 'Sheet 1', header = 11, na_values=':', skipfooter=9)"
   ]
  },
  {
   "cell_type": "code",
   "execution_count": 130,
   "metadata": {},
   "outputs": [],
   "source": [
    "flushtoilets = flushtoilets.drop(['Unnamed: 2', 'Unnamed: 4', 'Unnamed: 6', 'Unnamed: 8', 'Unnamed: 10', 'Unnamed: 12', 'Unnamed: 14', 'Unnamed: 16', 'Unnamed: 18', 'Unnamed: 20', 'Unnamed: 22'], axis = 1)\n",
    "flushtoilets = flushtoilets.drop([0, 1, 2, 3, 4, 5], axis = 0)\n",
    "flushtoilets = flushtoilets.rename(columns = {'TIME': 'Country Name'})\n",
    "\n",
    "#flushtoilets contains households without flush toilets, subtract from 100 to get share with flush toilets\n",
    "flushtoilets = flushtoilets.apply(lambda x: 100 - x if x.dtype == 'float64' else x)"
   ]
  },
  {
   "cell_type": "code",
   "execution_count": 131,
   "metadata": {},
   "outputs": [],
   "source": [
    "flushtoilets['Data Source'] = 'Eurostat'\n",
    "flushtoilets['Technology Name'] = 'Flush toilet'\n",
    "flushtoilets['Spatial Scale'] = 'National'\n",
    "flushtoilets['Metric'] = 'Share of Households'\n",
    "flushtoilets['Unit'] = '%'\n",
    "flushtoilets['Country Code'] = coco.convert(names=flushtoilets['Country Name'], to='iso2')\n",
    "flushtoilets['ID'] = flushtoilets['Technology Name'] + '_' + flushtoilets['Metric'] + '_' + flushtoilets['Country Code']\n",
    "flushtoilets.set_index('ID', inplace=True)"
   ]
  },
  {
   "cell_type": "markdown",
   "metadata": {},
   "source": [
    "Save Flush Toilets Data"
   ]
  },
  {
   "cell_type": "code",
   "execution_count": 132,
   "metadata": {},
   "outputs": [
    {
     "name": "stdout",
     "output_type": "stream",
     "text": [
      "Data saved to: /Users/jennagreene/Documents/GitHub/HATCH_data/cleaned_data/flushtoilets.csv\n"
     ]
    }
   ],
   "source": [
    "output_file = 'flushtoilets.csv'\n",
    "output_file_path = os.path.join(cleaned_data_path, output_file)\n",
    "\n",
    "flushtoilets.to_csv(output_file_path, index = False)\n",
    "print(\"Data saved to:\", output_file_path)"
   ]
  },
  {
   "cell_type": "markdown",
   "metadata": {},
   "source": [
    "### GSHPS"
   ]
  },
  {
   "cell_type": "code",
   "execution_count": 133,
   "metadata": {},
   "outputs": [],
   "source": [
    "eurostat_file_path = os.path.join(eurostat_folder_path, 'GSHP_Eurostat.xlsx')\n",
    "gshp = pd.read_excel(eurostat_file_path, sheet_name= 'Sheet 1', header = 9, na_values=':', skipfooter=5)"
   ]
  },
  {
   "cell_type": "code",
   "execution_count": 134,
   "metadata": {},
   "outputs": [],
   "source": [
    "gshp = gshp.drop([0, 1, 2], axis = 0)\n",
    "gshp = gshp.rename(columns = {'TIME': 'Country Name'})"
   ]
  },
  {
   "cell_type": "code",
   "execution_count": 135,
   "metadata": {},
   "outputs": [],
   "source": [
    "gshp['Data Source'] = 'Eurostat'\n",
    "gshp['Technology Name'] = 'Ground Source Heat Pumps'\n",
    "gshp['Spatial Scale'] = 'National'\n",
    "gshp['Metric'] = 'Installed thermal capacity'\n",
    "gshp['Unit'] = 'GW'\n",
    "gshp['Country Code'] = coco.convert(names=gshp['Country Name'], to='iso2')\n",
    "gshp['ID'] = gshp['Technology Name'] + '_' + gshp['Metric'] + '_' + gshp['Country Code']\n",
    "gshp.set_index('ID', inplace=True)"
   ]
  },
  {
   "cell_type": "code",
   "execution_count": 136,
   "metadata": {},
   "outputs": [
    {
     "name": "stdout",
     "output_type": "stream",
     "text": [
      "Data saved to: /Users/jennagreene/Documents/GitHub/HATCH_data/cleaned_data/gshp_europe.csv\n"
     ]
    }
   ],
   "source": [
    "output_file = 'gshp_europe.csv'\n",
    "output_file_path = os.path.join(cleaned_data_path, output_file)\n",
    "\n",
    "gshp.to_csv(output_file_path, index = False)\n",
    "print(\"Data saved to:\", output_file_path)"
   ]
  },
  {
   "cell_type": "markdown",
   "metadata": {},
   "source": [
    "### Motorcycles"
   ]
  },
  {
   "cell_type": "code",
   "execution_count": 137,
   "metadata": {},
   "outputs": [],
   "source": [
    "eurostat_file_path = os.path.join(eurostat_folder_path, 'Motorcycles_Eurostat.xlsx')\n",
    "motorcycles = pd.read_excel(eurostat_file_path, sheet_name= 'Sheet 1', header = 8, na_values=':', skipfooter=9)"
   ]
  },
  {
   "cell_type": "code",
   "execution_count": 138,
   "metadata": {},
   "outputs": [],
   "source": [
    "motorcycles\n",
    "motorcycles = motorcycles.drop(['Unnamed: 2', 'Unnamed: 4', 'Unnamed: 6', 'Unnamed: 8', 'Unnamed: 10', 'Unnamed: 12', 'Unnamed: 14', 'Unnamed: 16', 'Unnamed: 18', 'Unnamed: 20', 'Unnamed: 22', 'Unnamed: 24', \n",
    "                'Unnamed: 26', 'Unnamed: 28', 'Unnamed: 30', 'Unnamed: 32', 'Unnamed: 34', 'Unnamed: 36', 'Unnamed: 38', 'Unnamed: 40', 'Unnamed: 42', 'Unnamed: 44', 'Unnamed: 34', 'Unnamed: 36', 'Unnamed: 38', \n",
    "                'Unnamed: 40', 'Unnamed: 42', 'Unnamed: 44', 'Unnamed: 46', 'Unnamed: 48', 'Unnamed: 50','Unnamed: 52', 'Unnamed: 54', 'Unnamed: 56','Unnamed: 58', 'Unnamed: 60', 'Unnamed: 62',\n",
    "                'Unnamed: 64', 'Unnamed: 66', 'Unnamed: 68', 'Unnamed: 70', 'Unnamed: 72', 'Unnamed: 74', 'Unnamed: 76', 'Unnamed: 78', 'Unnamed: 80','Unnamed: 82', 'Unnamed: 84', 'Unnamed: 86', \n",
    "                'Unnamed: 88', 'Unnamed: 90', 'Unnamed: 92', 'Unnamed: 94', 'Unnamed: 96', 'Unnamed: 98', 'Unnamed: 100', 'Unnamed: 102', 'Unnamed: 104'   ], axis = 1)\n",
    "motorcycles = motorcycles.drop([0,1], axis = 0)\n",
    "motorcycles = motorcycles.rename(columns = {'TIME': 'Country Name'})\n"
   ]
  },
  {
   "cell_type": "code",
   "execution_count": 139,
   "metadata": {},
   "outputs": [],
   "source": [
    "motorcycles['Data Source'] = 'Eurostat'\n",
    "motorcycles['Technology Name'] = 'Motorcycles'\n",
    "motorcycles['Spatial Scale'] = 'National'\n",
    "motorcycles['Metric'] = 'Total Number'\n",
    "motorcycles['Unit'] = '-'\n",
    "motorcycles['Country Code'] = coco.convert(names=motorcycles['Country Name'], to='iso2')\n",
    "motorcycles['ID'] = motorcycles['Technology Name'] + '_' + motorcycles['Metric'] + '_' + motorcycles['Country Code']\n",
    "motorcycles.set_index('ID', inplace=True)"
   ]
  },
  {
   "cell_type": "markdown",
   "metadata": {},
   "source": [
    "Save motorcycle data"
   ]
  },
  {
   "cell_type": "code",
   "execution_count": 140,
   "metadata": {},
   "outputs": [
    {
     "name": "stdout",
     "output_type": "stream",
     "text": [
      "Data saved to: /Users/jennagreene/Documents/GitHub/HATCH_data/cleaned_data/motorcycles_europe.csv\n"
     ]
    }
   ],
   "source": [
    "output_file = 'motorcycles_europe.csv'\n",
    "output_file_path = os.path.join(cleaned_data_path, output_file)\n",
    "\n",
    "motorcycles.to_csv(output_file_path, index = False)\n",
    "print(\"Data saved to:\", output_file_path)"
   ]
  },
  {
   "cell_type": "markdown",
   "metadata": {},
   "source": [
    "### Paved and Unpaved Roads"
   ]
  },
  {
   "cell_type": "code",
   "execution_count": 141,
   "metadata": {},
   "outputs": [],
   "source": [
    "eurostat_file_path = os.path.join(eurostat_folder_path, 'roads_europe.xlsx')\n",
    "roads_europe = pd.read_excel(eurostat_file_path, sheet_name= 'Sheet 1', header = 8, na_values=':', skipfooter=9)"
   ]
  },
  {
   "cell_type": "code",
   "execution_count": 142,
   "metadata": {},
   "outputs": [],
   "source": [
    "roads_europe = roads_europe.drop(['Unnamed: 2', 'Unnamed: 4', 'Unnamed: 6', 'Unnamed: 8', 'Unnamed: 10', 'Unnamed: 12', 'Unnamed: 14', 'Unnamed: 16', 'Unnamed: 18', 'Unnamed: 20', 'Unnamed: 22', 'Unnamed: 24', \n",
    "                'Unnamed: 26', 'Unnamed: 28', 'Unnamed: 30', 'Unnamed: 32', 'Unnamed: 34', 'Unnamed: 36', 'Unnamed: 38', 'Unnamed: 40', 'Unnamed: 42', 'Unnamed: 44', 'Unnamed: 34', 'Unnamed: 36', 'Unnamed: 38', \n",
    "                'Unnamed: 40', 'Unnamed: 42', 'Unnamed: 44', 'Unnamed: 46', 'Unnamed: 48', 'Unnamed: 50','Unnamed: 52', 'Unnamed: 54', 'Unnamed: 56','Unnamed: 58', 'Unnamed: 60', 'Unnamed: 62',\n",
    "                'Unnamed: 64', 'Unnamed: 66', 'Unnamed: 68', 'Unnamed: 70', 'Unnamed: 72', 'Unnamed: 74', 'Unnamed: 76', 'Unnamed: 78', 'Unnamed: 80','Unnamed: 82', 'Unnamed: 84', 'Unnamed: 86', \n",
    "                'Unnamed: 88', 'Unnamed: 90', 'Unnamed: 92', 'Unnamed: 94', 'Unnamed: 96', 'Unnamed: 98', 'Unnamed: 100', 'Unnamed: 102', 'Unnamed: 104'   ], axis = 1)\n",
    "\n",
    "roads_europe = roads_europe.drop(0, axis = 0)\n",
    "roads_europe = roads_europe.rename(columns = {'TIME': 'Country Name'})\n"
   ]
  },
  {
   "cell_type": "code",
   "execution_count": 143,
   "metadata": {},
   "outputs": [],
   "source": [
    "## Convert km to miles to be consistent with US Public roads data\n",
    "km_to_miles = 0.621371\n",
    "roads_europe = roads_europe.apply(lambda x: x * km_to_miles if x.dtype == 'float64' else x)\n"
   ]
  },
  {
   "cell_type": "code",
   "execution_count": 144,
   "metadata": {},
   "outputs": [],
   "source": [
    "roads_europe['Data Source'] = 'Eurostat'\n",
    "roads_europe['Technology Name'] = 'Public Roads'\n",
    "roads_europe['Spatial Scale'] = 'National'\n",
    "roads_europe['Metric'] = 'Total Length'\n",
    "roads_europe['Unit'] = 'miles'\n",
    "roads_europe['Country Code'] = coco.convert(names=roads_europe['Country Name'], to='iso2')\n",
    "roads_europe['ID'] = roads_europe['Technology Name'] + '_' + roads_europe['Metric'] + '_' + roads_europe['Country Code']\n",
    "roads_europe.set_index('ID', inplace=True)"
   ]
  },
  {
   "cell_type": "code",
   "execution_count": 145,
   "metadata": {},
   "outputs": [
    {
     "name": "stdout",
     "output_type": "stream",
     "text": [
      "Data saved to: /Users/jennagreene/Documents/GitHub/HATCH_data/cleaned_data/roads_europe.csv\n"
     ]
    }
   ],
   "source": [
    "output_file = 'roads_europe.csv'\n",
    "output_file_path = os.path.join(cleaned_data_path, output_file)\n",
    "\n",
    "roads_europe.to_csv(output_file_path, index = False)\n",
    "print(\"Data saved to:\", output_file_path)"
   ]
  }
 ],
 "metadata": {
  "kernelspec": {
   "display_name": "base",
   "language": "python",
   "name": "python3"
  },
  "language_info": {
   "codemirror_mode": {
    "name": "ipython",
    "version": 3
   },
   "file_extension": ".py",
   "mimetype": "text/x-python",
   "name": "python",
   "nbconvert_exporter": "python",
   "pygments_lexer": "ipython3",
   "version": "3.12.4"
  }
 },
 "nbformat": 4,
 "nbformat_minor": 2
}
