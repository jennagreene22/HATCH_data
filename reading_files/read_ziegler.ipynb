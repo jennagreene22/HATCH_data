{
 "cells": [
  {
   "cell_type": "code",
   "execution_count": 1,
   "id": "2e2389aa",
   "metadata": {},
   "outputs": [],
   "source": [
    "import os\n",
    "import pandas as pd\n",
    "from pandas import Series, DataFrame"
   ]
  },
  {
   "attachments": {},
   "cell_type": "markdown",
   "id": "31819e58",
   "metadata": {},
   "source": [
    "Data source:\n",
    "\n",
    "- https://dataverse.harvard.edu/dataset.xhtml?persistentId=doi:10.7910/DVN/9FEJ7C"
   ]
  },
  {
   "cell_type": "code",
   "execution_count": 2,
   "id": "6b17c056",
   "metadata": {},
   "outputs": [
    {
     "name": "stdout",
     "output_type": "stream",
     "text": [
      "Current working directory: /Users/jennagreene/Documents/GitHub/HATCH_data/reading_files\n"
     ]
    }
   ],
   "source": [
    "## Get current working directory\n",
    "print(\"Current working directory:\", os.getcwd())\n",
    "\n",
    "## Find path to raw data (for the raw files)\n",
    "raw_data_path = os.path.abspath(os.path.join(os.getcwd(), '..', 'raw_data'))\n",
    "\n",
    "## Find path to folder for saving cleaned csv\n",
    "cleaned_data_path = os.path.abspath(os.path.join(os.getcwd(), '..', 'cleaned_data'))\n",
    "\n",
    "\n",
    "## Find path to folder for inflation\n",
    "inflation_data_path = os.path.abspath(os.path.join(os.getcwd(), '..', 'inflation'))"
   ]
  },
  {
   "cell_type": "code",
   "execution_count": 3,
   "id": "eefc6bda",
   "metadata": {},
   "outputs": [],
   "source": [
    "\n",
    "target_inflation_file = \"/A001RG3A086NBEA.xls\"\n",
    "target_inflation_filepath = inflation_data_path + target_inflation_file\n",
    "\n",
    "target_file = '/cost data/LiIonDataSeries_represonly_withcover.xlsx'\n",
    "target_filepath = raw_data_path + target_file"
   ]
  },
  {
   "cell_type": "code",
   "execution_count": 4,
   "id": "61a9258a",
   "metadata": {},
   "outputs": [
    {
     "name": "stderr",
     "output_type": "stream",
     "text": [
      "/var/folders/cy/xd4mmw610b3cr6tjgv0h8hlr0000gn/T/ipykernel_31508/438783119.py:13: FutureWarning: Calling float on a single element Series is deprecated and will raise a TypeError in the future. Use float(ser.iloc[0]) instead\n",
      "  infl_2018_2022 = float(nipa[2022]/nipa[2018])\n"
     ]
    },
    {
     "data": {
      "text/plain": [
       "1.1528881798983042"
      ]
     },
     "execution_count": 4,
     "metadata": {},
     "output_type": "execute_result"
    }
   ],
   "source": [
    "## adjusting for inflation from 2018 USD to 2022 USD\n",
    "nipa = pd.read_excel(target_inflation_filepath, header=10)\n",
    "\n",
    "year_list = []\n",
    "for x in nipa['observation_date']:\n",
    "    x = int(str(x)[:4])\n",
    "    year_list.append(x)\n",
    "nipa['Year'] = year_list\n",
    "nipa.set_index('Year', drop=True, inplace=True)\n",
    "nipa.drop(columns='observation_date', inplace=True)\n",
    "nipa = nipa.transpose()\n",
    "\n",
    "infl_2018_2022 = float(nipa[2022]/nipa[2018])\n",
    "infl_2018_2022"
   ]
  },
  {
   "cell_type": "code",
   "execution_count": 5,
   "id": "c1884d50",
   "metadata": {},
   "outputs": [
    {
     "data": {
      "text/html": [
       "<div>\n",
       "<style scoped>\n",
       "    .dataframe tbody tr th:only-of-type {\n",
       "        vertical-align: middle;\n",
       "    }\n",
       "\n",
       "    .dataframe tbody tr th {\n",
       "        vertical-align: top;\n",
       "    }\n",
       "\n",
       "    .dataframe thead th {\n",
       "        text-align: right;\n",
       "    }\n",
       "</style>\n",
       "<table border=\"1\" class=\"dataframe\">\n",
       "  <thead>\n",
       "    <tr style=\"text-align: right;\">\n",
       "      <th></th>\n",
       "      <th>1991</th>\n",
       "      <th>1992</th>\n",
       "      <th>1993</th>\n",
       "      <th>1994</th>\n",
       "      <th>1995</th>\n",
       "      <th>1996</th>\n",
       "      <th>1997</th>\n",
       "      <th>1998</th>\n",
       "      <th>1999</th>\n",
       "      <th>2000</th>\n",
       "      <th>...</th>\n",
       "      <th>2016</th>\n",
       "      <th>2017</th>\n",
       "      <th>2018</th>\n",
       "      <th>Unit</th>\n",
       "      <th>Data Source</th>\n",
       "      <th>Spatial Scale</th>\n",
       "      <th>Country Code</th>\n",
       "      <th>Country Name</th>\n",
       "      <th>Metric</th>\n",
       "      <th>Technology Name</th>\n",
       "    </tr>\n",
       "    <tr>\n",
       "      <th>ID</th>\n",
       "      <th></th>\n",
       "      <th></th>\n",
       "      <th></th>\n",
       "      <th></th>\n",
       "      <th></th>\n",
       "      <th></th>\n",
       "      <th></th>\n",
       "      <th></th>\n",
       "      <th></th>\n",
       "      <th></th>\n",
       "      <th></th>\n",
       "      <th></th>\n",
       "      <th></th>\n",
       "      <th></th>\n",
       "      <th></th>\n",
       "      <th></th>\n",
       "      <th></th>\n",
       "      <th></th>\n",
       "      <th></th>\n",
       "      <th></th>\n",
       "      <th></th>\n",
       "    </tr>\n",
       "  </thead>\n",
       "  <tbody>\n",
       "    <tr>\n",
       "      <th>Lithium-Ion Cells_Price_World</th>\n",
       "      <td>8673.505347</td>\n",
       "      <td>6957.594686</td>\n",
       "      <td>5539.021034</td>\n",
       "      <td>6323.165382</td>\n",
       "      <td>5934.641484</td>\n",
       "      <td>4998.520505</td>\n",
       "      <td>4280.416059</td>\n",
       "      <td>3443.759846</td>\n",
       "      <td>2608.458359</td>\n",
       "      <td>2533.83099</td>\n",
       "      <td>...</td>\n",
       "      <td>280.768969</td>\n",
       "      <td>219.455051</td>\n",
       "      <td>209.486705</td>\n",
       "      <td>2022 USD/kWh</td>\n",
       "      <td>Ziegler &amp; Trancik</td>\n",
       "      <td>Global</td>\n",
       "      <td>World</td>\n",
       "      <td>World</td>\n",
       "      <td>Price</td>\n",
       "      <td>Lithium-Ion Cells</td>\n",
       "    </tr>\n",
       "  </tbody>\n",
       "</table>\n",
       "<p>1 rows × 35 columns</p>\n",
       "</div>"
      ],
      "text/plain": [
       "                                      1991         1992         1993  \\\n",
       "ID                                                                     \n",
       "Lithium-Ion Cells_Price_World  8673.505347  6957.594686  5539.021034   \n",
       "\n",
       "                                      1994         1995         1996  \\\n",
       "ID                                                                     \n",
       "Lithium-Ion Cells_Price_World  6323.165382  5934.641484  4998.520505   \n",
       "\n",
       "                                      1997         1998         1999  \\\n",
       "ID                                                                     \n",
       "Lithium-Ion Cells_Price_World  4280.416059  3443.759846  2608.458359   \n",
       "\n",
       "                                     2000  ...        2016        2017  \\\n",
       "ID                                         ...                           \n",
       "Lithium-Ion Cells_Price_World  2533.83099  ...  280.768969  219.455051   \n",
       "\n",
       "                                     2018          Unit        Data Source  \\\n",
       "ID                                                                           \n",
       "Lithium-Ion Cells_Price_World  209.486705  2022 USD/kWh  Ziegler & Trancik   \n",
       "\n",
       "                               Spatial Scale  Country Code  Country Name  \\\n",
       "ID                                                                         \n",
       "Lithium-Ion Cells_Price_World         Global         World         World   \n",
       "\n",
       "                               Metric    Technology Name  \n",
       "ID                                                        \n",
       "Lithium-Ion Cells_Price_World   Price  Lithium-Ion Cells  \n",
       "\n",
       "[1 rows x 35 columns]"
      ]
     },
     "execution_count": 5,
     "metadata": {},
     "output_type": "execute_result"
    }
   ],
   "source": [
    "li_ion = pd.read_excel(target_filepath, \n",
    "                       sheet_name='RepreSeries_Price_All_Cells', usecols=[0,1], index_col=0)\n",
    "li_ion = li_ion.transpose()\n",
    "li_ion.iloc[0] = li_ion.iloc[0] * infl_2018_2022\n",
    "li_ion['Unit'] = '2022 USD/kWh'\n",
    "li_ion['Data Source'] = 'Ziegler & Trancik'\n",
    "li_ion['Spatial Scale'] = 'Global'\n",
    "li_ion['Country Code'] = 'World'\n",
    "li_ion['Country Name'] = 'World'\n",
    "li_ion['Metric'] = 'Price'\n",
    "li_ion['Technology Name'] = 'Lithium-Ion Cells'\n",
    "li_ion['ID'] = li_ion['Technology Name'] + '_' + li_ion['Metric'] + '_' + li_ion['Country Code']\n",
    "li_ion.set_index('ID', drop=True, inplace=True)\n",
    "li_ion.columns.name = None\n",
    "li_ion"
   ]
  },
  {
   "cell_type": "code",
   "execution_count": 6,
   "id": "de67d7f8",
   "metadata": {},
   "outputs": [
    {
     "name": "stdout",
     "output_type": "stream",
     "text": [
      "Data saved to: /Users/jennagreene/Documents/GitHub/HATCH_data/cleaned_data/li_ion_prices.csv\n"
     ]
    }
   ],
   "source": [
    "output_file = 'li_ion_prices.csv'\n",
    "output_file_path = os.path.join(cleaned_data_path, output_file)\n",
    "\n",
    "li_ion.to_csv(output_file_path)\n",
    "print(\"Data saved to:\", output_file_path)"
   ]
  },
  {
   "cell_type": "code",
   "execution_count": null,
   "id": "cd9a2aa8",
   "metadata": {},
   "outputs": [],
   "source": []
  }
 ],
 "metadata": {
  "kernelspec": {
   "display_name": "Python 3 (ipykernel)",
   "language": "python",
   "name": "python3"
  },
  "language_info": {
   "codemirror_mode": {
    "name": "ipython",
    "version": 3
   },
   "file_extension": ".py",
   "mimetype": "text/x-python",
   "name": "python",
   "nbconvert_exporter": "python",
   "pygments_lexer": "ipython3",
   "version": "3.10.9"
  }
 },
 "nbformat": 4,
 "nbformat_minor": 5
}
