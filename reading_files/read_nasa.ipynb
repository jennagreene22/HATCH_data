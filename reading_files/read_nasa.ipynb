{
 "cells": [
  {
   "cell_type": "code",
   "execution_count": 1,
   "id": "ac0f7bd2",
   "metadata": {},
   "outputs": [],
   "source": [
    "import os\n",
    "import pandas as pd\n",
    "from pandas import Series, DataFrame"
   ]
  },
  {
   "attachments": {},
   "cell_type": "markdown",
   "id": "e8aaadee",
   "metadata": {},
   "source": [
    "Data sources:\n",
    "- https://ttu-ir.tdl.org/bitstream/handle/2346/74082/ICES_2018_81.pdf"
   ]
  },
  {
   "cell_type": "code",
   "execution_count": 2,
   "id": "270dd512",
   "metadata": {},
   "outputs": [
    {
     "name": "stdout",
     "output_type": "stream",
     "text": [
      "Current working directory: /Users/jennagreene/Documents/GitHub/HATCH_data/reading_files\n"
     ]
    }
   ],
   "source": [
    "## Get current working directory\n",
    "print(\"Current working directory:\", os.getcwd())\n",
    "\n",
    "## Find path to raw data (for the raw files)\n",
    "raw_data_path = os.path.abspath(os.path.join(os.getcwd(), '..', 'raw_data'))\n",
    "\n",
    "## Find path to folder for saving cleaned csv\n",
    "cleaned_data_path = os.path.abspath(os.path.join(os.getcwd(), '..', 'cleaned_data'))\n",
    "\n",
    "\n",
    "## Find path to folder for inflation\n",
    "inflation_data_path = os.path.abspath(os.path.join(os.getcwd(), '..', 'inflation'))"
   ]
  },
  {
   "cell_type": "code",
   "execution_count": 3,
   "id": "66ca7f54",
   "metadata": {},
   "outputs": [],
   "source": [
    "target_inflation_file = \"/A001RG3A086NBEA.xls\"\n",
    "target_inflation_filepath = inflation_data_path + target_inflation_file\n",
    "\n",
    "target_file = '/cost data/space launches.xlsx'\n",
    "target_filepath = raw_data_path + target_file"
   ]
  },
  {
   "cell_type": "code",
   "execution_count": 4,
   "id": "4ded4e78",
   "metadata": {},
   "outputs": [
    {
     "name": "stderr",
     "output_type": "stream",
     "text": [
      "/var/folders/cy/xd4mmw610b3cr6tjgv0h8hlr0000gn/T/ipykernel_30938/438783119.py:13: FutureWarning: Calling float on a single element Series is deprecated and will raise a TypeError in the future. Use float(ser.iloc[0]) instead\n",
      "  infl_2018_2022 = float(nipa[2022]/nipa[2018])\n"
     ]
    },
    {
     "data": {
      "text/plain": [
       "1.1528881798983042"
      ]
     },
     "execution_count": 4,
     "metadata": {},
     "output_type": "execute_result"
    }
   ],
   "source": [
    "## adjusting for inflation from 2018 USD to 2022 USD\n",
    "nipa = pd.read_excel(target_inflation_filepath, header=10)\n",
    "\n",
    "year_list = []\n",
    "for x in nipa['observation_date']:\n",
    "    x = int(str(x)[:4])\n",
    "    year_list.append(x)\n",
    "nipa['Year'] = year_list\n",
    "nipa.set_index('Year', drop=True, inplace=True)\n",
    "nipa.drop(columns='observation_date', inplace=True)\n",
    "nipa = nipa.transpose()\n",
    "\n",
    "infl_2018_2022 = float(nipa[2022]/nipa[2018])\n",
    "infl_2018_2022"
   ]
  },
  {
   "cell_type": "code",
   "execution_count": 5,
   "id": "d4d895df",
   "metadata": {},
   "outputs": [
    {
     "data": {
      "text/html": [
       "<div>\n",
       "<style scoped>\n",
       "    .dataframe tbody tr th:only-of-type {\n",
       "        vertical-align: middle;\n",
       "    }\n",
       "\n",
       "    .dataframe tbody tr th {\n",
       "        vertical-align: top;\n",
       "    }\n",
       "\n",
       "    .dataframe thead th {\n",
       "        text-align: right;\n",
       "    }\n",
       "</style>\n",
       "<table border=\"1\" class=\"dataframe\">\n",
       "  <thead>\n",
       "    <tr style=\"text-align: right;\">\n",
       "      <th></th>\n",
       "      <th>1957</th>\n",
       "      <th>1960</th>\n",
       "      <th>1961</th>\n",
       "      <th>1962</th>\n",
       "      <th>1964</th>\n",
       "      <th>1965</th>\n",
       "      <th>1966</th>\n",
       "      <th>1967</th>\n",
       "      <th>1968</th>\n",
       "      <th>1971</th>\n",
       "      <th>...</th>\n",
       "      <th>2010</th>\n",
       "      <th>2012</th>\n",
       "      <th>2018</th>\n",
       "      <th>Data Source</th>\n",
       "      <th>Spatial Scale</th>\n",
       "      <th>Country Code</th>\n",
       "      <th>Country Name</th>\n",
       "      <th>Metric</th>\n",
       "      <th>Unit</th>\n",
       "      <th>Technology Name</th>\n",
       "    </tr>\n",
       "    <tr>\n",
       "      <th>ID</th>\n",
       "      <th></th>\n",
       "      <th></th>\n",
       "      <th></th>\n",
       "      <th></th>\n",
       "      <th></th>\n",
       "      <th></th>\n",
       "      <th></th>\n",
       "      <th></th>\n",
       "      <th></th>\n",
       "      <th></th>\n",
       "      <th></th>\n",
       "      <th></th>\n",
       "      <th></th>\n",
       "      <th></th>\n",
       "      <th></th>\n",
       "      <th></th>\n",
       "      <th></th>\n",
       "      <th></th>\n",
       "      <th></th>\n",
       "      <th></th>\n",
       "      <th></th>\n",
       "    </tr>\n",
       "  </thead>\n",
       "  <tbody>\n",
       "    <tr>\n",
       "      <th>Space Launches_Price_World</th>\n",
       "      <td>1031.489055</td>\n",
       "      <td>193.454637</td>\n",
       "      <td>128.892899</td>\n",
       "      <td>35.739534</td>\n",
       "      <td>32.280869</td>\n",
       "      <td>4.726842</td>\n",
       "      <td>14.353458</td>\n",
       "      <td>11.759459</td>\n",
       "      <td>5.995019</td>\n",
       "      <td>8.877239</td>\n",
       "      <td>...</td>\n",
       "      <td>3.112798</td>\n",
       "      <td>11.528882</td>\n",
       "      <td>1.614043</td>\n",
       "      <td>NASA</td>\n",
       "      <td>Global</td>\n",
       "      <td>World</td>\n",
       "      <td>World</td>\n",
       "      <td>Price</td>\n",
       "      <td>Thousand 2022 USD/kg</td>\n",
       "      <td>Space Launches</td>\n",
       "    </tr>\n",
       "  </tbody>\n",
       "</table>\n",
       "<p>1 rows × 35 columns</p>\n",
       "</div>"
      ],
      "text/plain": [
       "                                   1957        1960        1961       1962  \\\n",
       "ID                                                                           \n",
       "Space Launches_Price_World  1031.489055  193.454637  128.892899  35.739534   \n",
       "\n",
       "                                 1964      1965       1966       1967  \\\n",
       "ID                                                                      \n",
       "Space Launches_Price_World  32.280869  4.726842  14.353458  11.759459   \n",
       "\n",
       "                                1968      1971  ...      2010       2012  \\\n",
       "ID                                              ...                        \n",
       "Space Launches_Price_World  5.995019  8.877239  ...  3.112798  11.528882   \n",
       "\n",
       "                                2018  Data Source  Spatial Scale  \\\n",
       "ID                                                                 \n",
       "Space Launches_Price_World  1.614043         NASA         Global   \n",
       "\n",
       "                            Country Code  Country Name  Metric  \\\n",
       "ID                                                               \n",
       "Space Launches_Price_World         World         World   Price   \n",
       "\n",
       "                                            Unit  Technology Name  \n",
       "ID                                                                 \n",
       "Space Launches_Price_World  Thousand 2022 USD/kg   Space Launches  \n",
       "\n",
       "[1 rows x 35 columns]"
      ]
     },
     "execution_count": 5,
     "metadata": {},
     "output_type": "execute_result"
    }
   ],
   "source": [
    "space_launches = pd.read_excel(target_filepath, header=1, usecols=[1,2], skipfooter=1)\n",
    "space_launches = space_launches.groupby(['First launch date']).mean()\n",
    "space_launches = space_launches.transpose()\n",
    "space_launches.iloc[0] = space_launches.iloc[0] * infl_2018_2022\n",
    "space_launches['Data Source'] = 'NASA'\n",
    "space_launches['Spatial Scale'] = 'Global'\n",
    "space_launches['Country Code'] = 'World'\n",
    "space_launches['Country Name'] = 'World'\n",
    "space_launches['Metric'] = 'Price'\n",
    "space_launches['Unit'] = 'Thousand 2022 USD/kg'\n",
    "space_launches['Technology Name'] = 'Space Launches'\n",
    "space_launches['ID'] = space_launches['Technology Name'] + '_' + space_launches['Metric'] + '_' + space_launches['Country Code']\n",
    "space_launches.set_index('ID', drop=True, inplace=True)\n",
    "space_launches.columns.name = None\n",
    "space_launches"
   ]
  },
  {
   "cell_type": "code",
   "execution_count": 6,
   "id": "5dda6175",
   "metadata": {},
   "outputs": [
    {
     "name": "stdout",
     "output_type": "stream",
     "text": [
      "Data saved to: /Users/jennagreene/Documents/GitHub/HATCH_data/cleaned_data/nasa_prices.csv\n"
     ]
    }
   ],
   "source": [
    "output_file = 'nasa_prices.csv'\n",
    "output_file_path = os.path.join(cleaned_data_path, output_file)\n",
    "\n",
    "space_launches.to_csv(output_file_path)\n",
    "print(\"Data saved to:\", output_file_path)\n"
   ]
  },
  {
   "cell_type": "code",
   "execution_count": null,
   "id": "14bc7259",
   "metadata": {},
   "outputs": [],
   "source": []
  }
 ],
 "metadata": {
  "kernelspec": {
   "display_name": "Python 3 (ipykernel)",
   "language": "python",
   "name": "python3"
  },
  "language_info": {
   "codemirror_mode": {
    "name": "ipython",
    "version": 3
   },
   "file_extension": ".py",
   "mimetype": "text/x-python",
   "name": "python",
   "nbconvert_exporter": "python",
   "pygments_lexer": "ipython3",
   "version": "3.10.9"
  }
 },
 "nbformat": 4,
 "nbformat_minor": 5
}
