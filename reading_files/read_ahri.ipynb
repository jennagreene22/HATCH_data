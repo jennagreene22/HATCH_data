{
 "cells": [
  {
   "cell_type": "code",
   "execution_count": 2,
   "id": "a4338aae",
   "metadata": {},
   "outputs": [],
   "source": [
    "import os\n",
    "import pandas as pd\n",
    "import requests\n",
    "\n",
    "from pandas import Series, DataFrame\n",
    "import country_converter as coco"
   ]
  },
  {
   "cell_type": "code",
   "execution_count": 7,
   "id": "750f8ba1",
   "metadata": {},
   "outputs": [
    {
     "name": "stdout",
     "output_type": "stream",
     "text": [
      "Current working directory: /Users/jennagreene/Documents/GitHub/HATCH_data/reading_files\n"
     ]
    }
   ],
   "source": [
    "## Get current working directory\n",
    "print(\"Current working directory:\", os.getcwd())\n",
    "\n",
    "## Find path to raw data (for the raw files)\n",
    "raw_data_path = os.path.abspath(os.path.join(os.getcwd(), '..', 'raw_data'))\n",
    "\n",
    "## Find path to folder for saving cleaned csv\n",
    "cleaned_data_path = os.path.abspath(os.path.join(os.getcwd(), '..', 'cleaned_data'))"
   ]
  },
  {
   "cell_type": "code",
   "execution_count": 8,
   "id": "7ec2e3d2",
   "metadata": {},
   "outputs": [
    {
     "data": {
      "text/plain": [
       "'/Users/jennagreene/Documents/GitHub/HATCH_data/raw_data/ashp.xlsx'"
      ]
     },
     "execution_count": 8,
     "metadata": {},
     "output_type": "execute_result"
    }
   ],
   "source": [
    "## ADJUST BASED ON EACH TECHNOLOGY\n",
    "\n",
    "# Find and read the CSV file from the raw_data folder\n",
    "target_file = 'ashp.xlsx'\n",
    "target_file_path = os.path.join(raw_data_path, target_file)\n",
    "\n",
    "target_file_path"
   ]
  },
  {
   "attachments": {},
   "cell_type": "markdown",
   "id": "cdf9e68f",
   "metadata": {},
   "source": [
    "Check if file path exists and show data"
   ]
  },
  {
   "cell_type": "code",
   "execution_count": 9,
   "id": "967b9e63",
   "metadata": {},
   "outputs": [
    {
     "name": "stdout",
     "output_type": "stream",
     "text": [
      "      Air-Source Heat Pumps\n",
      "2003                1626365\n",
      "2004                1886100\n",
      "2005                2136525\n",
      "2006                2118469\n",
      "2007                1898905\n"
     ]
    }
   ],
   "source": [
    "if os.path.exists(target_file_path):\n",
    "    # Read the CSV file \n",
    "    df = pd.read_excel(target_file_path, index_col=0, usecols=[0, 2])\n",
    "    print(df.head())\n",
    "else:\n",
    "    print(\"File not found:\", target_file_path)\n"
   ]
  },
  {
   "attachments": {},
   "cell_type": "markdown",
   "id": "8b06aee6",
   "metadata": {},
   "source": [
    "Transpose and add characteristics to data"
   ]
  },
  {
   "cell_type": "code",
   "execution_count": 11,
   "id": "efba183d",
   "metadata": {},
   "outputs": [],
   "source": [
    "tech_df = df.transpose()\n",
    "\n",
    "tech_df['Country Name'] = 'United States'\n",
    "tech_df['Country Code'] = 'US'\n",
    "tech_df['Spatial Scale'] = 'National'\n",
    "tech_df['Data Source'] = 'AHRI'\n",
    "\n",
    "## CHECK METRIC\n",
    "tech_df['Metric'] = 'Annual Production'\n",
    "\n",
    "## CHECK UNIT\n",
    "tech_df['Unit'] = '-'\n",
    "\n",
    "## CHECK NAME\n",
    "tech_df['Technology Name'] = 'Air-Source Heat Pumps'\n",
    "tech_df['ID'] = tech_df['Technology Name'] + '_' + tech_df['Metric'] + '_' + tech_df['Country Code']\n",
    "tech_df.set_index('ID', drop=True, inplace=True)\n"
   ]
  },
  {
   "attachments": {},
   "cell_type": "markdown",
   "id": "75bf2290",
   "metadata": {},
   "source": [
    "Save data"
   ]
  },
  {
   "cell_type": "code",
   "execution_count": 12,
   "id": "41993044",
   "metadata": {},
   "outputs": [
    {
     "name": "stdout",
     "output_type": "stream",
     "text": [
      "Data saved to: /Users/jennagreene/Documents/GitHub/HATCH_data/cleaned_data/ashp.csv\n"
     ]
    }
   ],
   "source": [
    "## Change file name to save\n",
    "\n",
    "ashp = tech_df\n",
    "output_file = 'ashp.csv'\n",
    "\n",
    "output_file_path = os.path.join(cleaned_data_path, output_file)\n",
    "\n",
    "ashp.to_csv(output_file_path)\n",
    "print(\"Data saved to:\", output_file_path)"
   ]
  }
 ],
 "metadata": {
  "kernelspec": {
   "display_name": "Python 3 (ipykernel)",
   "language": "python",
   "name": "python3"
  },
  "language_info": {
   "codemirror_mode": {
    "name": "ipython",
    "version": 3
   },
   "file_extension": ".py",
   "mimetype": "text/x-python",
   "name": "python",
   "nbconvert_exporter": "python",
   "pygments_lexer": "ipython3",
   "version": "3.10.9"
  }
 },
 "nbformat": 4,
 "nbformat_minor": 5
}
