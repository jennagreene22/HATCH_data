{
 "cells": [
  {
   "cell_type": "code",
   "execution_count": 1,
   "id": "a4338aae",
   "metadata": {},
   "outputs": [],
   "source": [
    "import os\n",
    "import pandas as pd\n",
    "from pandas import Series, DataFrame\n",
    "import country_converter as coco"
   ]
  },
  {
   "cell_type": "code",
   "execution_count": 2,
   "id": "bb193f1a",
   "metadata": {},
   "outputs": [],
   "source": [
    "os.chdir('/Users/ariana/desktop/historical_tech')"
   ]
  },
  {
   "cell_type": "code",
   "execution_count": 3,
   "id": "62e25e05",
   "metadata": {},
   "outputs": [],
   "source": [
    "# https://www.ahrinet.org/analytics/statistics/historical-data/central-air-conditioners-and-air-source-heat-pumps"
   ]
  },
  {
   "cell_type": "code",
   "execution_count": 4,
   "id": "04c044be",
   "metadata": {},
   "outputs": [
    {
     "data": {
      "text/html": [
       "<div>\n",
       "<style scoped>\n",
       "    .dataframe tbody tr th:only-of-type {\n",
       "        vertical-align: middle;\n",
       "    }\n",
       "\n",
       "    .dataframe tbody tr th {\n",
       "        vertical-align: top;\n",
       "    }\n",
       "\n",
       "    .dataframe thead th {\n",
       "        text-align: right;\n",
       "    }\n",
       "</style>\n",
       "<table border=\"1\" class=\"dataframe\">\n",
       "  <thead>\n",
       "    <tr style=\"text-align: right;\">\n",
       "      <th></th>\n",
       "      <th>2003</th>\n",
       "      <th>2004</th>\n",
       "      <th>2005</th>\n",
       "      <th>2006</th>\n",
       "      <th>2007</th>\n",
       "      <th>2008</th>\n",
       "      <th>2009</th>\n",
       "      <th>2010</th>\n",
       "      <th>2011</th>\n",
       "      <th>2012</th>\n",
       "      <th>2013</th>\n",
       "      <th>2014</th>\n",
       "      <th>2015</th>\n",
       "      <th>2016</th>\n",
       "      <th>2017</th>\n",
       "      <th>2018</th>\n",
       "      <th>2019</th>\n",
       "      <th>2020</th>\n",
       "      <th>2021</th>\n",
       "      <th>2022</th>\n",
       "    </tr>\n",
       "  </thead>\n",
       "  <tbody>\n",
       "    <tr>\n",
       "      <th>Air-Source Heat Pumps</th>\n",
       "      <td>1626365</td>\n",
       "      <td>1886100</td>\n",
       "      <td>2136525</td>\n",
       "      <td>2118469</td>\n",
       "      <td>1898905</td>\n",
       "      <td>1865310</td>\n",
       "      <td>1642064</td>\n",
       "      <td>1747920</td>\n",
       "      <td>1765002</td>\n",
       "      <td>1697796</td>\n",
       "      <td>1968632</td>\n",
       "      <td>2353990</td>\n",
       "      <td>2269196</td>\n",
       "      <td>2429867</td>\n",
       "      <td>2619782</td>\n",
       "      <td>2920080</td>\n",
       "      <td>3110888</td>\n",
       "      <td>3418478</td>\n",
       "      <td>3916766</td>\n",
       "      <td>4334479</td>\n",
       "    </tr>\n",
       "  </tbody>\n",
       "</table>\n",
       "</div>"
      ],
      "text/plain": [
       "                          2003     2004     2005     2006     2007     2008  \\\n",
       "Air-Source Heat Pumps  1626365  1886100  2136525  2118469  1898905  1865310   \n",
       "\n",
       "                          2009     2010     2011     2012     2013     2014  \\\n",
       "Air-Source Heat Pumps  1642064  1747920  1765002  1697796  1968632  2353990   \n",
       "\n",
       "                          2015     2016     2017     2018     2019     2020  \\\n",
       "Air-Source Heat Pumps  2269196  2429867  2619782  2920080  3110888  3418478   \n",
       "\n",
       "                          2021     2022  \n",
       "Air-Source Heat Pumps  3916766  4334479  "
      ]
     },
     "execution_count": 4,
     "metadata": {},
     "output_type": "execute_result"
    }
   ],
   "source": [
    "ashp = pd.read_excel('raw data/ashp.xlsx', index_col=0, usecols=[0,2])\n",
    "ashp = ashp.transpose()\n",
    "ashp"
   ]
  },
  {
   "cell_type": "code",
   "execution_count": 5,
   "id": "d2d9894a",
   "metadata": {},
   "outputs": [],
   "source": [
    "ashp['Country Name'] = 'United States'\n",
    "ashp['Country Code'] = 'US'\n",
    "ashp['Spatial Scale'] = 'National'\n",
    "ashp['Data Source'] = 'AHRI'\n",
    "ashp['Metric'] = 'Annual Production'\n",
    "ashp['Unit'] = '-'\n",
    "ashp['Technology Name'] = 'Air-Source Heat Pumps'\n",
    "ashp['ID'] = ashp['Technology Name'] + '_' + ashp['Metric'] + '_' + ashp['Country Code']\n",
    "ashp.set_index('ID', drop=True, inplace=True)\n",
    "ashp.to_csv('cleaned data/ashp.csv')"
   ]
  },
  {
   "cell_type": "code",
   "execution_count": null,
   "id": "36098e33",
   "metadata": {},
   "outputs": [],
   "source": []
  }
 ],
 "metadata": {
  "kernelspec": {
   "display_name": "Python 3 (ipykernel)",
   "language": "python",
   "name": "python3"
  },
  "language_info": {
   "codemirror_mode": {
    "name": "ipython",
    "version": 3
   },
   "file_extension": ".py",
   "mimetype": "text/x-python",
   "name": "python",
   "nbconvert_exporter": "python",
   "pygments_lexer": "ipython3",
   "version": "3.9.13"
  }
 },
 "nbformat": 4,
 "nbformat_minor": 5
}
