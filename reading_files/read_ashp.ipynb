{
 "cells": [
  {
   "cell_type": "code",
   "execution_count": 5,
   "metadata": {},
   "outputs": [],
   "source": [
    "import os\n",
    "import pandas as pd\n",
    "from pandas import Series, DataFrame\n",
    "import country_converter as coco\n",
    "import warnings\n",
    "warnings.filterwarnings(\"ignore\")"
   ]
  },
  {
   "cell_type": "markdown",
   "metadata": {},
   "source": [
    "Data source: Statista\n",
    "Files: \n",
    "- Austria\n",
    "- Czechia\n",
    "- Germany\n",
    "- Netherlands\n",
    "- Norway\n",
    "- Poland\n",
    "- Switzerland"
   ]
  },
  {
   "cell_type": "code",
   "execution_count": 6,
   "metadata": {},
   "outputs": [
    {
     "name": "stdout",
     "output_type": "stream",
     "text": [
      "Current working directory: /Users/jennagreene/Documents/GitHub/HATCH_data/reading_files\n"
     ]
    }
   ],
   "source": [
    "## Get current working directory\n",
    "print(\"Current working directory:\", os.getcwd())\n",
    "\n",
    "## Find path to raw data (for the raw files)\n",
    "raw_data_path = os.path.abspath(os.path.join(os.getcwd(), '..', 'raw_data', 'ashp'))\n",
    "\n",
    "## Find path to folder for saving cleaned csv\n",
    "cleaned_data_path = os.path.abspath(os.path.join(os.getcwd(), '..', 'cleaned_data'))"
   ]
  },
  {
   "cell_type": "markdown",
   "metadata": {},
   "source": [
    "Austria"
   ]
  },
  {
   "cell_type": "code",
   "execution_count": 7,
   "metadata": {},
   "outputs": [],
   "source": [
    "file_path = os.path.join(raw_data_path, 'austria.xlsx')\n",
    "\n",
    "austria = pd.read_excel(file_path,sheet_name = 'Data', header = 4, index_col=1)"
   ]
  },
  {
   "cell_type": "code",
   "execution_count": 8,
   "metadata": {},
   "outputs": [],
   "source": [
    "\n",
    "# Sum heat pumps\n",
    "austria['Total ASHPs'] = austria['Heat pumps for domestic hot water'] + austria['Heat pumps for space heating']\n",
    "\n",
    "# only include ASHPs for hot water heating or space heating\n",
    "austria = austria.drop(columns = {'Unnamed: 0', 'Heat pumps for ventilation', 'Industrial heat pumps', 'Heat pumps for domestic hot water', 'Heat pumps for space heating'})\n",
    "\n",
    "# Transpose\n",
    "austria = austria.T\n",
    "\n",
    "# Multiply value by 1000\n",
    "\n",
    "austria = austria.apply(lambda x: x * 1000 if x.dtype == 'float64' else x)"
   ]
  },
  {
   "cell_type": "code",
   "execution_count": 9,
   "metadata": {},
   "outputs": [],
   "source": [
    "\n",
    "austria['Data Source'] = 'Statista'\n",
    "austria['Unit'] = '-'\n",
    "austria['Technology Name'] = 'Air-Source Heat Pumps'\n",
    "austria['Spatial Scale'] = 'National'\n",
    "austria['Metric'] = 'Annual Production'\n",
    "austria['Country Name'] = 'Austria'\n",
    "austria['Country Code'] = coco.convert(names=austria['Country Name'], to='iso2')\n",
    "austria = austria.dropna(subset=['Country Code'])\n",
    "\n",
    "austria['ID'] = austria['Technology Name'] + '_' + austria['Metric'] + '_' + austria['Country Code']\n",
    "austria = austria.set_index('ID', drop = False)\n",
    "\n"
   ]
  },
  {
   "cell_type": "code",
   "execution_count": 10,
   "metadata": {},
   "outputs": [
    {
     "name": "stdout",
     "output_type": "stream",
     "text": [
      "Data saved to: /Users/jennagreene/Documents/GitHub/HATCH_data/cleaned_data/austria_ashp.csv\n"
     ]
    }
   ],
   "source": [
    "output_file = 'austria_ashp.csv'\n",
    "output_file_path = os.path.join(cleaned_data_path, output_file)\n",
    "\n",
    "austria.to_csv(output_file_path, index = False)\n",
    "print(\"Data saved to:\", output_file_path)"
   ]
  },
  {
   "cell_type": "markdown",
   "metadata": {},
   "source": [
    "Czechia"
   ]
  },
  {
   "cell_type": "code",
   "execution_count": 11,
   "metadata": {},
   "outputs": [],
   "source": [
    "file_path = os.path.join(raw_data_path, 'czechia.xlsx')\n",
    "\n",
    "czechia = pd.read_excel(file_path,sheet_name = 'Data', header = 4, index_col=1)"
   ]
  },
  {
   "cell_type": "code",
   "execution_count": 12,
   "metadata": {},
   "outputs": [],
   "source": [
    "# only include ASHPs for hot water heating or space heating\n",
    "czechia = czechia.drop(columns = {'Unnamed: 0', 'Ground-water', 'Air-exhaust water', 'Water-water'})\n",
    "\n",
    "# Transpose\n",
    "czechia = czechia.T\n",
    "\n",
    "# Multiply value by 1000\n",
    "\n",
    "czechia = czechia.apply(lambda x: x * 1000 if x.dtype == 'float64' else x)"
   ]
  },
  {
   "cell_type": "code",
   "execution_count": 13,
   "metadata": {},
   "outputs": [],
   "source": [
    "czechia['Data Source'] = 'Statista'\n",
    "czechia['Unit'] = '-'\n",
    "czechia['Technology Name'] = 'Air-Source Heat Pumps'\n",
    "czechia['Spatial Scale'] = 'National'\n",
    "czechia['Metric'] = 'Annual Production'\n",
    "czechia['Country Name'] = 'Czechia'\n",
    "czechia['Country Code'] = coco.convert(names=czechia['Country Name'], to='iso2')\n",
    "czechia = czechia.dropna(subset=['Country Code'])\n",
    "\n",
    "czechia['ID'] = czechia['Technology Name'] + '_' + czechia['Metric'] + '_' + czechia['Country Code']\n",
    "czechia.set_index('ID', drop = False, inplace = True)\n",
    "\n"
   ]
  },
  {
   "cell_type": "code",
   "execution_count": 14,
   "metadata": {},
   "outputs": [
    {
     "name": "stdout",
     "output_type": "stream",
     "text": [
      "Data saved to: /Users/jennagreene/Documents/GitHub/HATCH_data/cleaned_data/czechia_ashp.csv\n"
     ]
    }
   ],
   "source": [
    "output_file = 'czechia_ashp.csv'\n",
    "output_file_path = os.path.join(cleaned_data_path, output_file)\n",
    "\n",
    "czechia.to_csv(output_file_path, index = False)\n",
    "print(\"Data saved to:\", output_file_path)"
   ]
  },
  {
   "cell_type": "markdown",
   "metadata": {},
   "source": [
    "Germany"
   ]
  },
  {
   "cell_type": "code",
   "execution_count": 15,
   "metadata": {},
   "outputs": [],
   "source": [
    "file_path = os.path.join(raw_data_path, 'germany.xlsx')\n",
    "\n",
    "germany = pd.read_excel(file_path,sheet_name = 'Data', header = 4, index_col=1)"
   ]
  },
  {
   "cell_type": "code",
   "execution_count": 16,
   "metadata": {},
   "outputs": [],
   "source": [
    "germany = germany.drop(columns = 'Unnamed: 0')\n",
    "germany = germany.T\n",
    "# Convert because the data is in 1000s\n",
    "germany = germany.apply(lambda x: x * 1000 if x.dtype == 'float64' else x)"
   ]
  },
  {
   "cell_type": "code",
   "execution_count": 17,
   "metadata": {},
   "outputs": [
    {
     "data": {
      "text/html": [
       "<div>\n",
       "<style scoped>\n",
       "    .dataframe tbody tr th:only-of-type {\n",
       "        vertical-align: middle;\n",
       "    }\n",
       "\n",
       "    .dataframe tbody tr th {\n",
       "        vertical-align: top;\n",
       "    }\n",
       "\n",
       "    .dataframe thead th {\n",
       "        text-align: right;\n",
       "    }\n",
       "</style>\n",
       "<table border=\"1\" class=\"dataframe\">\n",
       "  <thead>\n",
       "    <tr style=\"text-align: right;\">\n",
       "      <th></th>\n",
       "      <th>2001</th>\n",
       "      <th>2002</th>\n",
       "      <th>2003</th>\n",
       "      <th>2004</th>\n",
       "      <th>2005</th>\n",
       "      <th>2006</th>\n",
       "      <th>2007</th>\n",
       "      <th>2008</th>\n",
       "      <th>2009</th>\n",
       "      <th>2010</th>\n",
       "      <th>...</th>\n",
       "      <th>2022</th>\n",
       "      <th>2023</th>\n",
       "      <th>Data Source</th>\n",
       "      <th>Unit</th>\n",
       "      <th>Technology Name</th>\n",
       "      <th>Spatial Scale</th>\n",
       "      <th>Metric</th>\n",
       "      <th>Country Name</th>\n",
       "      <th>Country Code</th>\n",
       "      <th>ID</th>\n",
       "    </tr>\n",
       "    <tr>\n",
       "      <th>ID</th>\n",
       "      <th></th>\n",
       "      <th></th>\n",
       "      <th></th>\n",
       "      <th></th>\n",
       "      <th></th>\n",
       "      <th></th>\n",
       "      <th></th>\n",
       "      <th></th>\n",
       "      <th></th>\n",
       "      <th></th>\n",
       "      <th></th>\n",
       "      <th></th>\n",
       "      <th></th>\n",
       "      <th></th>\n",
       "      <th></th>\n",
       "      <th></th>\n",
       "      <th></th>\n",
       "      <th></th>\n",
       "      <th></th>\n",
       "      <th></th>\n",
       "      <th></th>\n",
       "    </tr>\n",
       "  </thead>\n",
       "  <tbody>\n",
       "    <tr>\n",
       "      <th>Air-Source Heat Pumps_Annual Production_DE</th>\n",
       "      <td>15000.0</td>\n",
       "      <td>14000.0</td>\n",
       "      <td>15500.0</td>\n",
       "      <td>18500.0</td>\n",
       "      <td>25500.0</td>\n",
       "      <td>57500.0</td>\n",
       "      <td>57500.0</td>\n",
       "      <td>78000.0</td>\n",
       "      <td>67500.0</td>\n",
       "      <td>60000.0</td>\n",
       "      <td>...</td>\n",
       "      <td>281000.0</td>\n",
       "      <td>438500.0</td>\n",
       "      <td>Statista</td>\n",
       "      <td>-</td>\n",
       "      <td>Air-Source Heat Pumps</td>\n",
       "      <td>National</td>\n",
       "      <td>Annual Production</td>\n",
       "      <td>Germany</td>\n",
       "      <td>DE</td>\n",
       "      <td>Air-Source Heat Pumps_Annual Production_DE</td>\n",
       "    </tr>\n",
       "  </tbody>\n",
       "</table>\n",
       "<p>1 rows × 31 columns</p>\n",
       "</div>"
      ],
      "text/plain": [
       "                                               2001     2002     2003  \\\n",
       "ID                                                                      \n",
       "Air-Source Heat Pumps_Annual Production_DE  15000.0  14000.0  15500.0   \n",
       "\n",
       "                                               2004     2005     2006  \\\n",
       "ID                                                                      \n",
       "Air-Source Heat Pumps_Annual Production_DE  18500.0  25500.0  57500.0   \n",
       "\n",
       "                                               2007     2008     2009  \\\n",
       "ID                                                                      \n",
       "Air-Source Heat Pumps_Annual Production_DE  57500.0  78000.0  67500.0   \n",
       "\n",
       "                                               2010  ...      2022      2023  \\\n",
       "ID                                                   ...                       \n",
       "Air-Source Heat Pumps_Annual Production_DE  60000.0  ...  281000.0  438500.0   \n",
       "\n",
       "                                            Data Source  Unit  \\\n",
       "ID                                                              \n",
       "Air-Source Heat Pumps_Annual Production_DE     Statista     -   \n",
       "\n",
       "                                                  Technology Name  \\\n",
       "ID                                                                  \n",
       "Air-Source Heat Pumps_Annual Production_DE  Air-Source Heat Pumps   \n",
       "\n",
       "                                            Spatial Scale             Metric  \\\n",
       "ID                                                                             \n",
       "Air-Source Heat Pumps_Annual Production_DE       National  Annual Production   \n",
       "\n",
       "                                            Country Name  Country Code  \\\n",
       "ID                                                                       \n",
       "Air-Source Heat Pumps_Annual Production_DE       Germany            DE   \n",
       "\n",
       "                                                                                    ID  \n",
       "ID                                                                                      \n",
       "Air-Source Heat Pumps_Annual Production_DE  Air-Source Heat Pumps_Annual Production_DE  \n",
       "\n",
       "[1 rows x 31 columns]"
      ]
     },
     "execution_count": 17,
     "metadata": {},
     "output_type": "execute_result"
    }
   ],
   "source": [
    "\n",
    "germany['Data Source'] = 'Statista'\n",
    "germany['Unit'] = '-'\n",
    "germany['Technology Name'] = 'Air-Source Heat Pumps'\n",
    "germany['Spatial Scale'] = 'National'\n",
    "germany['Metric'] = 'Annual Production'\n",
    "germany['Country Name'] = 'Germany'\n",
    "germany['Country Code'] = coco.convert(names=germany['Country Name'], to='iso2')\n",
    "germany['ID'] = germany['Technology Name'] + '_' + germany['Metric'] + '_' + germany['Country Code']\n",
    "germany = germany.set_index('ID', drop = False)\n",
    "\n",
    "germany\n"
   ]
  },
  {
   "cell_type": "code",
   "execution_count": 18,
   "metadata": {},
   "outputs": [
    {
     "name": "stdout",
     "output_type": "stream",
     "text": [
      "Data saved to: /Users/jennagreene/Documents/GitHub/HATCH_data/cleaned_data/germany_ashp.csv\n"
     ]
    }
   ],
   "source": [
    "output_file = 'germany_ashp.csv'\n",
    "output_file_path = os.path.join(cleaned_data_path, output_file)\n",
    "\n",
    "germany.to_csv(output_file_path, index = False)\n",
    "print(\"Data saved to:\", output_file_path)\n",
    "\n"
   ]
  },
  {
   "cell_type": "markdown",
   "metadata": {},
   "source": [
    "Netherlands"
   ]
  },
  {
   "cell_type": "code",
   "execution_count": 19,
   "metadata": {},
   "outputs": [],
   "source": [
    "file_path = os.path.join(raw_data_path, 'netherlands.xlsx')\n",
    "netherlands = pd.read_excel(file_path,sheet_name = 'Data', header = 4, index_col=1)"
   ]
  },
  {
   "cell_type": "code",
   "execution_count": 20,
   "metadata": {},
   "outputs": [],
   "source": [
    "netherlands = netherlands.drop(columns = 'Unnamed: 0')\n",
    "netherlands = netherlands.T\n",
    "# Convert because the data is in 1000s\n",
    "netherlands = netherlands.apply(lambda x: x * 1000 if x.dtype == 'float64' else x)"
   ]
  },
  {
   "cell_type": "code",
   "execution_count": 21,
   "metadata": {},
   "outputs": [],
   "source": [
    "netherlands['Data Source'] = 'Statista'\n",
    "netherlands['Unit'] = '-'\n",
    "netherlands['Technology Name'] = 'Air-Source Heat Pumps'\n",
    "netherlands['Spatial Scale'] = 'National'\n",
    "netherlands['Metric'] = 'Annual Production'\n",
    "netherlands['Country Name'] = 'Netherlands'\n",
    "netherlands['Country Code'] = coco.convert(names=netherlands['Country Name'], to='iso2')\n",
    "netherlands['ID'] = netherlands['Technology Name'] + '_' + netherlands['Metric'] + '_' + netherlands['Country Code']\n",
    "netherlands = netherlands.set_index('ID', drop = False)"
   ]
  },
  {
   "cell_type": "code",
   "execution_count": 22,
   "metadata": {},
   "outputs": [
    {
     "name": "stdout",
     "output_type": "stream",
     "text": [
      "Data saved to: /Users/jennagreene/Documents/GitHub/HATCH_data/cleaned_data/netherlands_ashp.csv\n"
     ]
    }
   ],
   "source": [
    "output_file = 'netherlands_ashp.csv'\n",
    "output_file_path = os.path.join(cleaned_data_path, output_file)\n",
    "\n",
    "netherlands.to_csv(output_file_path, index = False)\n",
    "print(\"Data saved to:\", output_file_path)"
   ]
  },
  {
   "cell_type": "markdown",
   "metadata": {},
   "source": [
    "Norway"
   ]
  },
  {
   "cell_type": "code",
   "execution_count": 23,
   "metadata": {},
   "outputs": [],
   "source": [
    "file_path = os.path.join(raw_data_path, 'norway.xlsx')\n",
    "norway = pd.read_excel(file_path,sheet_name = 'Data', header = 4, index_col=1)"
   ]
  },
  {
   "cell_type": "code",
   "execution_count": 24,
   "metadata": {},
   "outputs": [],
   "source": [
    "norway = norway.drop(columns = 'Unnamed: 0')\n",
    "norway = norway.T\n",
    "# Convert because the data is in 1000s\n",
    "norway = norway.apply(lambda x: x * 1000 if x.dtype == 'float64' else x)"
   ]
  },
  {
   "cell_type": "code",
   "execution_count": 25,
   "metadata": {},
   "outputs": [],
   "source": [
    "norway['Data Source'] = 'Statista'\n",
    "norway['Unit'] = '-'\n",
    "norway['Technology Name'] = 'Air-Source Heat Pumps'\n",
    "norway['Spatial Scale'] = 'National'\n",
    "norway['Metric'] = 'Annual Production'\n",
    "norway['Country Name'] = 'Norway'\n",
    "norway['Country Code'] = coco.convert(names=norway['Country Name'], to='iso2')\n",
    "norway['ID'] = norway['Technology Name'] + '_' + norway['Metric'] + '_' + norway['Country Code']\n",
    "norway = norway.set_index('ID', drop = False)"
   ]
  },
  {
   "cell_type": "code",
   "execution_count": 26,
   "metadata": {},
   "outputs": [
    {
     "name": "stdout",
     "output_type": "stream",
     "text": [
      "Data saved to: /Users/jennagreene/Documents/GitHub/HATCH_data/cleaned_data/norway_ashp.csv\n"
     ]
    }
   ],
   "source": [
    "output_file = 'norway_ashp.csv'\n",
    "output_file_path = os.path.join(cleaned_data_path, output_file)\n",
    "\n",
    "norway.to_csv(output_file_path, index = False)\n",
    "print(\"Data saved to:\", output_file_path)"
   ]
  },
  {
   "cell_type": "markdown",
   "metadata": {},
   "source": [
    "Poland"
   ]
  },
  {
   "cell_type": "code",
   "execution_count": 27,
   "metadata": {},
   "outputs": [],
   "source": [
    "file_path = os.path.join(raw_data_path, 'poland.xlsx')\n",
    "poland = pd.read_excel(file_path,sheet_name = 'Data', header = 4, index_col=1)"
   ]
  },
  {
   "cell_type": "code",
   "execution_count": 28,
   "metadata": {},
   "outputs": [],
   "source": [
    "poland['Total ASHPs'] = poland['air/water (heating)'] + poland['air/water (hot water)']\n",
    "poland = poland.drop(columns = {'Unnamed: 0', 'brine/water (heating)', 'air/water (heating)', 'air/water (hot water)'})\n",
    "poland = poland.T"
   ]
  },
  {
   "cell_type": "code",
   "execution_count": 29,
   "metadata": {},
   "outputs": [],
   "source": [
    "poland['Data Source'] = 'Statista'\n",
    "poland ['Unit'] = '-'\n",
    "poland['Technology Name'] = 'Air-Source Heat Pumps'\n",
    "poland['Spatial Scale'] = 'National'\n",
    "poland['Metric'] = 'Annual Production'\n",
    "poland['Country Name'] = 'Poland'\n",
    "poland['Country Code'] = coco.convert(names=poland['Country Name'], to='iso2')\n",
    "poland['ID'] = poland['Technology Name'] + '_' + poland['Metric'] + '_' + poland['Country Code']\n",
    "poland = poland.set_index('ID', drop = False)"
   ]
  },
  {
   "cell_type": "code",
   "execution_count": 30,
   "metadata": {},
   "outputs": [
    {
     "name": "stdout",
     "output_type": "stream",
     "text": [
      "Data saved to: /Users/jennagreene/Documents/GitHub/HATCH_data/cleaned_data/poland_ashp.csv\n"
     ]
    }
   ],
   "source": [
    "output_file = 'poland_ashp.csv'\n",
    "output_file_path = os.path.join(cleaned_data_path, output_file)\n",
    "\n",
    "poland.to_csv(output_file_path, index = False)\n",
    "print(\"Data saved to:\", output_file_path)"
   ]
  },
  {
   "cell_type": "markdown",
   "metadata": {},
   "source": [
    "Switzerland"
   ]
  },
  {
   "cell_type": "code",
   "execution_count": 31,
   "metadata": {},
   "outputs": [],
   "source": [
    "file_path = os.path.join(raw_data_path, 'switzerland.xlsx')\n",
    "switzerland = pd.read_excel(file_path,sheet_name = 'Data', header = 4, index_col=1)"
   ]
  },
  {
   "cell_type": "code",
   "execution_count": 32,
   "metadata": {},
   "outputs": [],
   "source": [
    "switzerland['Total ASHPs'] = switzerland['For space heating'] + switzerland['For water heating']\n",
    "switzerland = switzerland.drop(columns = {'Unnamed: 0', 'For space heating', 'For water heating'})\n",
    "switzerland = switzerland.T\n",
    "switzerland = switzerland.apply(lambda x: x * 1000 if x.dtype == 'float64' else x)\n"
   ]
  },
  {
   "cell_type": "code",
   "execution_count": 33,
   "metadata": {},
   "outputs": [],
   "source": [
    "switzerland['Data Source'] = 'Statista'\n",
    "switzerland ['Unit'] = '-'\n",
    "switzerland['Technology Name'] = 'Air-Source Heat Pumps'\n",
    "switzerland['Spatial Scale'] = 'National'\n",
    "switzerland['Metric'] = 'Annual Production'\n",
    "switzerland['Country Name'] = 'Switzerland'\n",
    "switzerland['Country Code'] = coco.convert(names=switzerland['Country Name'], to='iso2')\n",
    "switzerland['ID'] = switzerland['Technology Name'] + '_' + switzerland['Metric'] + '_' + switzerland['Country Code']\n",
    "switzerland = switzerland.set_index('ID', drop = False)"
   ]
  },
  {
   "cell_type": "code",
   "execution_count": 34,
   "metadata": {},
   "outputs": [
    {
     "name": "stdout",
     "output_type": "stream",
     "text": [
      "Data saved to: /Users/jennagreene/Documents/GitHub/HATCH_data/cleaned_data/switzerland_ashp.csv\n"
     ]
    }
   ],
   "source": [
    "output_file = 'switzerland_ashp.csv'\n",
    "output_file_path = os.path.join(cleaned_data_path, output_file)\n",
    "\n",
    "switzerland.to_csv(output_file_path, index = False)\n",
    "print(\"Data saved to:\", output_file_path)"
   ]
  },
  {
   "cell_type": "code",
   "execution_count": null,
   "metadata": {},
   "outputs": [],
   "source": []
  },
  {
   "cell_type": "code",
   "execution_count": null,
   "metadata": {},
   "outputs": [],
   "source": []
  },
  {
   "cell_type": "code",
   "execution_count": null,
   "metadata": {},
   "outputs": [],
   "source": []
  }
 ],
 "metadata": {
  "kernelspec": {
   "display_name": "base",
   "language": "python",
   "name": "python3"
  },
  "language_info": {
   "codemirror_mode": {
    "name": "ipython",
    "version": 3
   },
   "file_extension": ".py",
   "mimetype": "text/x-python",
   "name": "python",
   "nbconvert_exporter": "python",
   "pygments_lexer": "ipython3",
   "version": "3.12.4"
  }
 },
 "nbformat": 4,
 "nbformat_minor": 2
}
