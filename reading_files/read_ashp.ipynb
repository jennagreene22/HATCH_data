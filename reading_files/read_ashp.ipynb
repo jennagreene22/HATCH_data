{
 "cells": [
  {
   "cell_type": "code",
   "execution_count": 59,
   "metadata": {},
   "outputs": [],
   "source": [
    "import os\n",
    "import pandas as pd\n",
    "from pandas import Series, DataFrame\n",
    "import country_converter as coco\n",
    "import warnings\n",
    "warnings.filterwarnings(\"ignore\")"
   ]
  },
  {
   "cell_type": "markdown",
   "metadata": {},
   "source": [
    "Data source: Statista\n",
    "Files: \n",
    "- Austria\n",
    "- Czechia\n",
    "- Germany\n",
    "- Netherlands\n",
    "- Norway\n",
    "- Poland\n",
    "- Switzerland"
   ]
  },
  {
   "cell_type": "code",
   "execution_count": 60,
   "metadata": {},
   "outputs": [
    {
     "name": "stdout",
     "output_type": "stream",
     "text": [
      "Current working directory: /Users/jennagreene/Documents/GitHub/HATCH_data/reading_files\n"
     ]
    }
   ],
   "source": [
    "## Get current working directory\n",
    "print(\"Current working directory:\", os.getcwd())\n",
    "\n",
    "## Find path to raw data (for the raw files)\n",
    "raw_data_path = os.path.abspath(os.path.join(os.getcwd(), '..', 'raw_data', 'ashp'))\n",
    "\n",
    "## Find path to folder for saving cleaned csv\n",
    "cleaned_data_path = os.path.abspath(os.path.join(os.getcwd(), '..', 'cleaned_data'))"
   ]
  },
  {
   "cell_type": "markdown",
   "metadata": {},
   "source": [
    "Austria"
   ]
  },
  {
   "cell_type": "code",
   "execution_count": 61,
   "metadata": {},
   "outputs": [],
   "source": [
    "file_path = os.path.join(raw_data_path, 'austria.xlsx')\n",
    "\n",
    "austria = pd.read_excel(file_path,sheet_name = 'Data', header = 4, index_col=1)"
   ]
  },
  {
   "cell_type": "code",
   "execution_count": 62,
   "metadata": {},
   "outputs": [],
   "source": [
    "\n",
    "# Sum heat pumps\n",
    "austria['Total ASHPs'] = austria['Heat pumps for domestic hot water'] + austria['Heat pumps for space heating']\n",
    "\n",
    "# only include ASHPs for hot water heating or space heating\n",
    "austria = austria.drop(columns = {'Unnamed: 0', 'Heat pumps for ventilation', 'Industrial heat pumps', 'Heat pumps for domestic hot water', 'Heat pumps for space heating'})\n",
    "\n",
    "# Transpose\n",
    "austria = austria.T\n",
    "\n",
    "# Multiply value by 1000\n",
    "\n",
    "austria = austria.apply(lambda x: x * 1000 if x.dtype == 'float64' else x)"
   ]
  },
  {
   "cell_type": "code",
   "execution_count": 69,
   "metadata": {},
   "outputs": [],
   "source": [
    "\n",
    "austria['Data Source'] = 'Statista'\n",
    "austria['Technology Name'] = 'Air-Source Heat Pumps'\n",
    "austria['Spatial Scale'] = 'National'\n",
    "austria['Metric'] = 'Annual Production'\n",
    "austria['Country Name'] = 'Austria'\n",
    "austria['Country Code'] = coco.convert(names=austria['Country Name'], to='iso2')\n",
    "austria = austria.dropna(subset=['Country Code'])\n",
    "\n",
    "austria['ID'] = austria['Technology Name'] + '_' + austria['Metric'] + '_' + austria['Country Code']\n",
    "austria = austria.set_index('ID', drop = False)\n",
    "\n"
   ]
  },
  {
   "cell_type": "code",
   "execution_count": 70,
   "metadata": {},
   "outputs": [
    {
     "name": "stdout",
     "output_type": "stream",
     "text": [
      "Data saved to: /Users/jennagreene/Documents/GitHub/HATCH_data/cleaned_data/austria_ashp.csv\n"
     ]
    }
   ],
   "source": [
    "output_file = 'austria_ashp.csv'\n",
    "output_file_path = os.path.join(cleaned_data_path, output_file)\n",
    "\n",
    "austria.to_csv(output_file_path, index = False)\n",
    "print(\"Data saved to:\", output_file_path)"
   ]
  },
  {
   "cell_type": "markdown",
   "metadata": {},
   "source": [
    "Czechia"
   ]
  },
  {
   "cell_type": "code",
   "execution_count": 65,
   "metadata": {},
   "outputs": [],
   "source": [
    "file_path = os.path.join(raw_data_path, 'czechia.xlsx')\n",
    "\n",
    "czechia = pd.read_excel(file_path,sheet_name = 'Data', header = 4, index_col=1)"
   ]
  },
  {
   "cell_type": "code",
   "execution_count": 66,
   "metadata": {},
   "outputs": [],
   "source": [
    "# only include ASHPs for hot water heating or space heating\n",
    "czechia = czechia.drop(columns = {'Unnamed: 0', 'Ground-water', 'Air-exhaust water', 'Water-water'})\n",
    "\n",
    "# Transpose\n",
    "czechia = czechia.T\n",
    "\n",
    "# Multiply value by 1000\n",
    "\n",
    "czechia = czechia.apply(lambda x: x * 1000 if x.dtype == 'float64' else x)"
   ]
  },
  {
   "cell_type": "code",
   "execution_count": 71,
   "metadata": {},
   "outputs": [],
   "source": [
    "czechia['Data Source'] = 'Statista'\n",
    "czechia['Technology Name'] = 'Air-Source Heat Pumps'\n",
    "czechia['Spatial Scale'] = 'National'\n",
    "czechia['Metric'] = 'Annual Production'\n",
    "czechia['Country Name'] = 'Czechia'\n",
    "czechia['Country Code'] = coco.convert(names=czechia['Country Name'], to='iso2')\n",
    "czechia = czechia.dropna(subset=['Country Code'])\n",
    "\n",
    "czechia['ID'] = czechia['Technology Name'] + '_' + czechia['Metric'] + '_' + czechia['Country Code']\n",
    "czechia.set_index('ID', drop = False, inplace = True)\n",
    "\n"
   ]
  },
  {
   "cell_type": "code",
   "execution_count": 72,
   "metadata": {},
   "outputs": [
    {
     "name": "stdout",
     "output_type": "stream",
     "text": [
      "Data saved to: /Users/jennagreene/Documents/GitHub/HATCH_data/cleaned_data/czechia_ashp.csv\n"
     ]
    }
   ],
   "source": [
    "output_file = 'czechia_ashp.csv'\n",
    "output_file_path = os.path.join(cleaned_data_path, output_file)\n",
    "\n",
    "czechia.to_csv(output_file_path, index = False)\n",
    "print(\"Data saved to:\", output_file_path)"
   ]
  },
  {
   "cell_type": "markdown",
   "metadata": {},
   "source": [
    "Germany"
   ]
  },
  {
   "cell_type": "code",
   "execution_count": 102,
   "metadata": {},
   "outputs": [],
   "source": [
    "file_path = os.path.join(raw_data_path, 'germany.xlsx')\n",
    "\n",
    "germany = pd.read_excel(file_path,sheet_name = 'Data', header = 4, index_col=1)"
   ]
  },
  {
   "cell_type": "code",
   "execution_count": 103,
   "metadata": {},
   "outputs": [],
   "source": [
    "germany = germany.drop(columns = 'Unnamed: 0')\n",
    "germany = germany.T\n",
    "# Convert because the data is in 1000s\n",
    "germany = germany.apply(lambda x: x * 1000 if x.dtype == 'float64' else x)"
   ]
  },
  {
   "cell_type": "code",
   "execution_count": 105,
   "metadata": {},
   "outputs": [],
   "source": [
    "\n",
    "germany['Data Source'] = 'Statista'\n",
    "germany['Technology Name'] = 'Air-Source Heat Pumps'\n",
    "germany['Spatial Scale'] = 'National'\n",
    "germany['Metric'] = 'Annual Production'\n",
    "germany['Country Name'] = 'Germany'\n",
    "germany['Country Code'] = coco.convert(names=germany['Country Name'], to='iso2')\n",
    "germany['ID'] = germany['Technology Name'] + '_' + germany['Metric'] + '_' + germany['Country Code']\n",
    "germany = germany.set_index('ID', drop = False)\n",
    "\n",
    "germany\n"
   ]
  },
  {
   "cell_type": "code",
   "execution_count": 109,
   "metadata": {},
   "outputs": [
    {
     "name": "stdout",
     "output_type": "stream",
     "text": [
      "Data saved to: /Users/jennagreene/Documents/GitHub/HATCH_data/cleaned_data/germany_ashp.csv\n"
     ]
    }
   ],
   "source": [
    "output_file = 'germany_ashp.csv'\n",
    "output_file_path = os.path.join(cleaned_data_path, output_file)\n",
    "\n",
    "germany.to_csv(output_file_path, index = False)\n",
    "print(\"Data saved to:\", output_file_path)\n",
    "\n"
   ]
  },
  {
   "cell_type": "markdown",
   "metadata": {},
   "source": [
    "Netherlands"
   ]
  },
  {
   "cell_type": "code",
   "execution_count": 118,
   "metadata": {},
   "outputs": [],
   "source": [
    "file_path = os.path.join(raw_data_path, 'netherlands.xlsx')\n",
    "netherlands = pd.read_excel(file_path,sheet_name = 'Data', header = 4, index_col=1)"
   ]
  },
  {
   "cell_type": "code",
   "execution_count": 119,
   "metadata": {},
   "outputs": [],
   "source": [
    "netherlands = netherlands.drop(columns = 'Unnamed: 0')\n",
    "netherlands = netherlands.T\n",
    "# Convert because the data is in 1000s\n",
    "netherlands = netherlands.apply(lambda x: x * 1000 if x.dtype == 'float64' else x)"
   ]
  },
  {
   "cell_type": "code",
   "execution_count": 121,
   "metadata": {},
   "outputs": [
    {
     "data": {
      "text/html": [
       "<div>\n",
       "<style scoped>\n",
       "    .dataframe tbody tr th:only-of-type {\n",
       "        vertical-align: middle;\n",
       "    }\n",
       "\n",
       "    .dataframe tbody tr th {\n",
       "        vertical-align: top;\n",
       "    }\n",
       "\n",
       "    .dataframe thead th {\n",
       "        text-align: right;\n",
       "    }\n",
       "</style>\n",
       "<table border=\"1\" class=\"dataframe\">\n",
       "  <thead>\n",
       "    <tr style=\"text-align: right;\">\n",
       "      <th></th>\n",
       "      <th>1994</th>\n",
       "      <th>1995</th>\n",
       "      <th>1996</th>\n",
       "      <th>1997</th>\n",
       "      <th>1998</th>\n",
       "      <th>1999</th>\n",
       "      <th>2000</th>\n",
       "      <th>2001</th>\n",
       "      <th>2002</th>\n",
       "      <th>2003</th>\n",
       "      <th>...</th>\n",
       "      <th>2019</th>\n",
       "      <th>2020</th>\n",
       "      <th>2021</th>\n",
       "      <th>Data Source</th>\n",
       "      <th>Technology Name</th>\n",
       "      <th>Spatial Scale</th>\n",
       "      <th>Metric</th>\n",
       "      <th>Country Name</th>\n",
       "      <th>Country Code</th>\n",
       "      <th>ID</th>\n",
       "    </tr>\n",
       "    <tr>\n",
       "      <th>ID</th>\n",
       "      <th></th>\n",
       "      <th></th>\n",
       "      <th></th>\n",
       "      <th></th>\n",
       "      <th></th>\n",
       "      <th></th>\n",
       "      <th></th>\n",
       "      <th></th>\n",
       "      <th></th>\n",
       "      <th></th>\n",
       "      <th></th>\n",
       "      <th></th>\n",
       "      <th></th>\n",
       "      <th></th>\n",
       "      <th></th>\n",
       "      <th></th>\n",
       "      <th></th>\n",
       "      <th></th>\n",
       "      <th></th>\n",
       "      <th></th>\n",
       "      <th></th>\n",
       "    </tr>\n",
       "  </thead>\n",
       "  <tbody>\n",
       "    <tr>\n",
       "      <th>Air-Source Heat Pumps_Annual Production_NL</th>\n",
       "      <td>0.0</td>\n",
       "      <td>100.0</td>\n",
       "      <td>100.0</td>\n",
       "      <td>1400.0</td>\n",
       "      <td>1700.0</td>\n",
       "      <td>900.0</td>\n",
       "      <td>900.0</td>\n",
       "      <td>1500.0</td>\n",
       "      <td>3900.0</td>\n",
       "      <td>4000.0</td>\n",
       "      <td>...</td>\n",
       "      <td>166000.0</td>\n",
       "      <td>379800.0</td>\n",
       "      <td>368100.0</td>\n",
       "      <td>Statista</td>\n",
       "      <td>Air-Source Heat Pumps</td>\n",
       "      <td>National</td>\n",
       "      <td>Annual Production</td>\n",
       "      <td>Netherlands</td>\n",
       "      <td>NL</td>\n",
       "      <td>Air-Source Heat Pumps_Annual Production_NL</td>\n",
       "    </tr>\n",
       "  </tbody>\n",
       "</table>\n",
       "<p>1 rows × 35 columns</p>\n",
       "</div>"
      ],
      "text/plain": [
       "                                            1994   1995   1996    1997  \\\n",
       "ID                                                                       \n",
       "Air-Source Heat Pumps_Annual Production_NL   0.0  100.0  100.0  1400.0   \n",
       "\n",
       "                                              1998   1999   2000    2001  \\\n",
       "ID                                                                         \n",
       "Air-Source Heat Pumps_Annual Production_NL  1700.0  900.0  900.0  1500.0   \n",
       "\n",
       "                                              2002    2003  ...      2019  \\\n",
       "ID                                                          ...             \n",
       "Air-Source Heat Pumps_Annual Production_NL  3900.0  4000.0  ...  166000.0   \n",
       "\n",
       "                                                2020      2021  Data Source  \\\n",
       "ID                                                                            \n",
       "Air-Source Heat Pumps_Annual Production_NL  379800.0  368100.0     Statista   \n",
       "\n",
       "                                                  Technology Name  \\\n",
       "ID                                                                  \n",
       "Air-Source Heat Pumps_Annual Production_NL  Air-Source Heat Pumps   \n",
       "\n",
       "                                            Spatial Scale             Metric  \\\n",
       "ID                                                                             \n",
       "Air-Source Heat Pumps_Annual Production_NL       National  Annual Production   \n",
       "\n",
       "                                            Country Name  Country Code  \\\n",
       "ID                                                                       \n",
       "Air-Source Heat Pumps_Annual Production_NL   Netherlands            NL   \n",
       "\n",
       "                                                                                    ID  \n",
       "ID                                                                                      \n",
       "Air-Source Heat Pumps_Annual Production_NL  Air-Source Heat Pumps_Annual Production_NL  \n",
       "\n",
       "[1 rows x 35 columns]"
      ]
     },
     "execution_count": 121,
     "metadata": {},
     "output_type": "execute_result"
    }
   ],
   "source": [
    "netherlands['Data Source'] = 'Statista'\n",
    "netherlands['Technology Name'] = 'Air-Source Heat Pumps'\n",
    "netherlands['Spatial Scale'] = 'National'\n",
    "netherlands['Metric'] = 'Annual Production'\n",
    "netherlands['Country Name'] = 'Netherlands'\n",
    "netherlands['Country Code'] = coco.convert(names=netherlands['Country Name'], to='iso2')\n",
    "netherlands['ID'] = netherlands['Technology Name'] + '_' + netherlands['Metric'] + '_' + netherlands['Country Code']\n",
    "netherlands = netherlands.set_index('ID', drop = False)"
   ]
  },
  {
   "cell_type": "code",
   "execution_count": 122,
   "metadata": {},
   "outputs": [
    {
     "name": "stdout",
     "output_type": "stream",
     "text": [
      "Data saved to: /Users/jennagreene/Documents/GitHub/HATCH_data/cleaned_data/netherlands_ashp.csv\n"
     ]
    }
   ],
   "source": [
    "output_file = 'netherlands_ashp.csv'\n",
    "output_file_path = os.path.join(cleaned_data_path, output_file)\n",
    "\n",
    "netherlands.to_csv(output_file_path, index = False)\n",
    "print(\"Data saved to:\", output_file_path)"
   ]
  },
  {
   "cell_type": "markdown",
   "metadata": {},
   "source": [
    "Norway"
   ]
  },
  {
   "cell_type": "code",
   "execution_count": 124,
   "metadata": {},
   "outputs": [
    {
     "data": {
      "text/html": [
       "<div>\n",
       "<style scoped>\n",
       "    .dataframe tbody tr th:only-of-type {\n",
       "        vertical-align: middle;\n",
       "    }\n",
       "\n",
       "    .dataframe tbody tr th {\n",
       "        vertical-align: top;\n",
       "    }\n",
       "\n",
       "    .dataframe thead th {\n",
       "        text-align: right;\n",
       "    }\n",
       "</style>\n",
       "<table border=\"1\" class=\"dataframe\">\n",
       "  <thead>\n",
       "    <tr style=\"text-align: right;\">\n",
       "      <th></th>\n",
       "      <th>Unnamed: 0</th>\n",
       "      <th>Unnamed: 2</th>\n",
       "    </tr>\n",
       "  </thead>\n",
       "  <tbody>\n",
       "    <tr>\n",
       "      <th>2011</th>\n",
       "      <td>NaN</td>\n",
       "      <td>86.95</td>\n",
       "    </tr>\n",
       "    <tr>\n",
       "      <th>2012</th>\n",
       "      <td>NaN</td>\n",
       "      <td>67.23</td>\n",
       "    </tr>\n",
       "    <tr>\n",
       "      <th>2013</th>\n",
       "      <td>NaN</td>\n",
       "      <td>62.62</td>\n",
       "    </tr>\n",
       "    <tr>\n",
       "      <th>2014</th>\n",
       "      <td>NaN</td>\n",
       "      <td>57.62</td>\n",
       "    </tr>\n",
       "    <tr>\n",
       "      <th>2015</th>\n",
       "      <td>NaN</td>\n",
       "      <td>65.33</td>\n",
       "    </tr>\n",
       "    <tr>\n",
       "      <th>2016</th>\n",
       "      <td>NaN</td>\n",
       "      <td>66.53</td>\n",
       "    </tr>\n",
       "    <tr>\n",
       "      <th>2017</th>\n",
       "      <td>NaN</td>\n",
       "      <td>76.33</td>\n",
       "    </tr>\n",
       "    <tr>\n",
       "      <th>2018</th>\n",
       "      <td>NaN</td>\n",
       "      <td>95.22</td>\n",
       "    </tr>\n",
       "    <tr>\n",
       "      <th>2019</th>\n",
       "      <td>NaN</td>\n",
       "      <td>101.19</td>\n",
       "    </tr>\n",
       "    <tr>\n",
       "      <th>2020</th>\n",
       "      <td>NaN</td>\n",
       "      <td>89.79</td>\n",
       "    </tr>\n",
       "    <tr>\n",
       "      <th>2021</th>\n",
       "      <td>NaN</td>\n",
       "      <td>120.91</td>\n",
       "    </tr>\n",
       "    <tr>\n",
       "      <th>2022</th>\n",
       "      <td>NaN</td>\n",
       "      <td>151.18</td>\n",
       "    </tr>\n",
       "    <tr>\n",
       "      <th>2023</th>\n",
       "      <td>NaN</td>\n",
       "      <td>151.26</td>\n",
       "    </tr>\n",
       "  </tbody>\n",
       "</table>\n",
       "</div>"
      ],
      "text/plain": [
       "      Unnamed: 0  Unnamed: 2\n",
       "2011         NaN       86.95\n",
       "2012         NaN       67.23\n",
       "2013         NaN       62.62\n",
       "2014         NaN       57.62\n",
       "2015         NaN       65.33\n",
       "2016         NaN       66.53\n",
       "2017         NaN       76.33\n",
       "2018         NaN       95.22\n",
       "2019         NaN      101.19\n",
       "2020         NaN       89.79\n",
       "2021         NaN      120.91\n",
       "2022         NaN      151.18\n",
       "2023         NaN      151.26"
      ]
     },
     "execution_count": 124,
     "metadata": {},
     "output_type": "execute_result"
    }
   ],
   "source": [
    "file_path = os.path.join(raw_data_path, 'norway.xlsx')\n",
    "norway = pd.read_excel(file_path,sheet_name = 'Data', header = 4, index_col=1)"
   ]
  },
  {
   "cell_type": "code",
   "execution_count": 125,
   "metadata": {},
   "outputs": [],
   "source": [
    "norway = norway.drop(columns = 'Unnamed: 0')\n",
    "norway = norway.T\n",
    "# Convert because the data is in 1000s\n",
    "norway = norway.apply(lambda x: x * 1000 if x.dtype == 'float64' else x)"
   ]
  },
  {
   "cell_type": "code",
   "execution_count": 127,
   "metadata": {},
   "outputs": [],
   "source": [
    "norway['Data Source'] = 'Statista'\n",
    "norway['Technology Name'] = 'Air-Source Heat Pumps'\n",
    "norway['Spatial Scale'] = 'National'\n",
    "norway['Metric'] = 'Annual Production'\n",
    "norway['Country Name'] = 'Norway'\n",
    "norway['Country Code'] = coco.convert(names=norway['Country Name'], to='iso2')\n",
    "norway['ID'] = norway['Technology Name'] + '_' + norway['Metric'] + '_' + norway['Country Code']\n",
    "norway = norway.set_index('ID', drop = False)"
   ]
  },
  {
   "cell_type": "code",
   "execution_count": 129,
   "metadata": {},
   "outputs": [
    {
     "name": "stdout",
     "output_type": "stream",
     "text": [
      "Data saved to: /Users/jennagreene/Documents/GitHub/HATCH_data/cleaned_data/norway_ashp.csv\n"
     ]
    }
   ],
   "source": [
    "output_file = 'norway_ashp.csv'\n",
    "output_file_path = os.path.join(cleaned_data_path, output_file)\n",
    "\n",
    "norway.to_csv(output_file_path, index = False)\n",
    "print(\"Data saved to:\", output_file_path)"
   ]
  },
  {
   "cell_type": "markdown",
   "metadata": {},
   "source": [
    "Poland"
   ]
  },
  {
   "cell_type": "code",
   "execution_count": 136,
   "metadata": {},
   "outputs": [],
   "source": [
    "file_path = os.path.join(raw_data_path, 'poland.xlsx')\n",
    "poland = pd.read_excel(file_path,sheet_name = 'Data', header = 4, index_col=1)"
   ]
  },
  {
   "cell_type": "code",
   "execution_count": 138,
   "metadata": {},
   "outputs": [],
   "source": [
    "poland['Total ASHPs'] = poland['air/water (heating)'] + poland['air/water (hot water)']\n",
    "poland = poland.drop(columns = {'Unnamed: 0', 'brine/water (heating)', 'air/water (heating)', 'air/water (hot water)'})\n",
    "poland = poland.T"
   ]
  },
  {
   "cell_type": "code",
   "execution_count": 142,
   "metadata": {},
   "outputs": [],
   "source": [
    "poland['Data Source'] = 'Statista'\n",
    "poland['Technology Name'] = 'Air-Source Heat Pumps'\n",
    "poland['Spatial Scale'] = 'National'\n",
    "poland['Metric'] = 'Annual Production'\n",
    "poland['Country Name'] = 'Poland'\n",
    "poland['Country Code'] = coco.convert(names=poland['Country Name'], to='iso2')\n",
    "poland['ID'] = poland['Technology Name'] + '_' + poland['Metric'] + '_' + poland['Country Code']\n",
    "poland = poland.set_index('ID', drop = False)"
   ]
  },
  {
   "cell_type": "code",
   "execution_count": 143,
   "metadata": {},
   "outputs": [
    {
     "data": {
      "text/html": [
       "<div>\n",
       "<style scoped>\n",
       "    .dataframe tbody tr th:only-of-type {\n",
       "        vertical-align: middle;\n",
       "    }\n",
       "\n",
       "    .dataframe tbody tr th {\n",
       "        vertical-align: top;\n",
       "    }\n",
       "\n",
       "    .dataframe thead th {\n",
       "        text-align: right;\n",
       "    }\n",
       "</style>\n",
       "<table border=\"1\" class=\"dataframe\">\n",
       "  <thead>\n",
       "    <tr style=\"text-align: right;\">\n",
       "      <th></th>\n",
       "      <th>2010</th>\n",
       "      <th>2011</th>\n",
       "      <th>2012</th>\n",
       "      <th>2013</th>\n",
       "      <th>2014</th>\n",
       "      <th>2015</th>\n",
       "      <th>2016</th>\n",
       "      <th>2017</th>\n",
       "      <th>2018</th>\n",
       "      <th>2019</th>\n",
       "      <th>...</th>\n",
       "      <th>2021</th>\n",
       "      <th>2022</th>\n",
       "      <th>2023</th>\n",
       "      <th>Data Source</th>\n",
       "      <th>Technology Name</th>\n",
       "      <th>Spatial Scale</th>\n",
       "      <th>Metric</th>\n",
       "      <th>Country Name</th>\n",
       "      <th>Country Code</th>\n",
       "      <th>ID</th>\n",
       "    </tr>\n",
       "    <tr>\n",
       "      <th>ID</th>\n",
       "      <th></th>\n",
       "      <th></th>\n",
       "      <th></th>\n",
       "      <th></th>\n",
       "      <th></th>\n",
       "      <th></th>\n",
       "      <th></th>\n",
       "      <th></th>\n",
       "      <th></th>\n",
       "      <th></th>\n",
       "      <th></th>\n",
       "      <th></th>\n",
       "      <th></th>\n",
       "      <th></th>\n",
       "      <th></th>\n",
       "      <th></th>\n",
       "      <th></th>\n",
       "      <th></th>\n",
       "      <th></th>\n",
       "      <th></th>\n",
       "      <th></th>\n",
       "    </tr>\n",
       "  </thead>\n",
       "  <tbody>\n",
       "    <tr>\n",
       "      <th>Air-Source Heat Pumps_Annual Production_PL</th>\n",
       "      <td>3560</td>\n",
       "      <td>6000</td>\n",
       "      <td>7280</td>\n",
       "      <td>9920</td>\n",
       "      <td>10810</td>\n",
       "      <td>12710</td>\n",
       "      <td>13770</td>\n",
       "      <td>17360</td>\n",
       "      <td>20470</td>\n",
       "      <td>30530</td>\n",
       "      <td>...</td>\n",
       "      <td>87000</td>\n",
       "      <td>196100</td>\n",
       "      <td>116330</td>\n",
       "      <td>Statista</td>\n",
       "      <td>Air-Source Heat Pumps</td>\n",
       "      <td>National</td>\n",
       "      <td>Annual Production</td>\n",
       "      <td>Poland</td>\n",
       "      <td>PL</td>\n",
       "      <td>Air-Source Heat Pumps_Annual Production_PL</td>\n",
       "    </tr>\n",
       "  </tbody>\n",
       "</table>\n",
       "<p>1 rows × 21 columns</p>\n",
       "</div>"
      ],
      "text/plain": [
       "                                            2010  2011  2012  2013   2014  \\\n",
       "ID                                                                          \n",
       "Air-Source Heat Pumps_Annual Production_PL  3560  6000  7280  9920  10810   \n",
       "\n",
       "                                             2015   2016   2017   2018   2019  \\\n",
       "ID                                                                              \n",
       "Air-Source Heat Pumps_Annual Production_PL  12710  13770  17360  20470  30530   \n",
       "\n",
       "                                            ...   2021    2022    2023  \\\n",
       "ID                                          ...                          \n",
       "Air-Source Heat Pumps_Annual Production_PL  ...  87000  196100  116330   \n",
       "\n",
       "                                            Data Source  \\\n",
       "ID                                                        \n",
       "Air-Source Heat Pumps_Annual Production_PL     Statista   \n",
       "\n",
       "                                                  Technology Name  \\\n",
       "ID                                                                  \n",
       "Air-Source Heat Pumps_Annual Production_PL  Air-Source Heat Pumps   \n",
       "\n",
       "                                           Spatial Scale             Metric  \\\n",
       "ID                                                                            \n",
       "Air-Source Heat Pumps_Annual Production_PL      National  Annual Production   \n",
       "\n",
       "                                           Country Name Country Code  \\\n",
       "ID                                                                     \n",
       "Air-Source Heat Pumps_Annual Production_PL       Poland           PL   \n",
       "\n",
       "                                                                                    ID  \n",
       "ID                                                                                      \n",
       "Air-Source Heat Pumps_Annual Production_PL  Air-Source Heat Pumps_Annual Production_PL  \n",
       "\n",
       "[1 rows x 21 columns]"
      ]
     },
     "execution_count": 143,
     "metadata": {},
     "output_type": "execute_result"
    }
   ],
   "source": [
    "output_file = 'poland_ashp.csv'\n",
    "output_file_path = os.path.join(cleaned_data_path, output_file)\n",
    "\n",
    "poland.to_csv(output_file_path, index = False)\n",
    "print(\"Data saved to:\", output_file_path)"
   ]
  },
  {
   "cell_type": "markdown",
   "metadata": {},
   "source": [
    "Switzerland"
   ]
  },
  {
   "cell_type": "code",
   "execution_count": 160,
   "metadata": {},
   "outputs": [],
   "source": [
    "file_path = os.path.join(raw_data_path, 'switzerland.xlsx')\n",
    "switzerland = pd.read_excel(file_path,sheet_name = 'Data', header = 4, index_col=1)"
   ]
  },
  {
   "cell_type": "code",
   "execution_count": 161,
   "metadata": {},
   "outputs": [],
   "source": [
    "switzerland['Total ASHPs'] = switzerland['For space heating'] + switzerland['For water heating']\n",
    "switzerland = switzerland.drop(columns = {'Unnamed: 0', 'For space heating', 'For water heating'})\n",
    "switzerland = switzerland.T\n",
    "switzerland = switzerland.apply(lambda x: x * 1000 if x.dtype == 'float64' else x)\n"
   ]
  },
  {
   "cell_type": "code",
   "execution_count": 162,
   "metadata": {},
   "outputs": [],
   "source": [
    "switzerland['Data Source'] = 'Statista'\n",
    "switzerland['Technology Name'] = 'Air-Source Heat Pumps'\n",
    "switzerland['Spatial Scale'] = 'National'\n",
    "switzerland['Metric'] = 'Annual Production'\n",
    "switzerland['Country Name'] = 'Switzerland'\n",
    "switzerland['Country Code'] = coco.convert(names=switzerland['Country Name'], to='iso2')\n",
    "switzerland['ID'] = switzerland['Technology Name'] + '_' + switzerland['Metric'] + '_' + switzerland['Country Code']\n",
    "switzerland = switzerland.set_index('ID', drop = False)"
   ]
  },
  {
   "cell_type": "code",
   "execution_count": 164,
   "metadata": {},
   "outputs": [
    {
     "name": "stdout",
     "output_type": "stream",
     "text": [
      "Data saved to: /Users/jennagreene/Documents/GitHub/HATCH_data/cleaned_data/switzerland_ashp.csv\n"
     ]
    }
   ],
   "source": [
    "output_file = 'switzerland_ashp.csv'\n",
    "output_file_path = os.path.join(cleaned_data_path, output_file)\n",
    "\n",
    "switzerland.to_csv(output_file_path, index = False)\n",
    "print(\"Data saved to:\", output_file_path)"
   ]
  }
 ],
 "metadata": {
  "kernelspec": {
   "display_name": "base",
   "language": "python",
   "name": "python3"
  },
  "language_info": {
   "codemirror_mode": {
    "name": "ipython",
    "version": 3
   },
   "file_extension": ".py",
   "mimetype": "text/x-python",
   "name": "python",
   "nbconvert_exporter": "python",
   "pygments_lexer": "ipython3",
   "version": "3.12.4"
  }
 },
 "nbformat": 4,
 "nbformat_minor": 2
}
