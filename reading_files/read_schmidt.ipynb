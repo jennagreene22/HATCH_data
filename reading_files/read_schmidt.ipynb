{
 "cells": [
  {
   "cell_type": "code",
   "execution_count": 1,
   "id": "2c3472b5",
   "metadata": {},
   "outputs": [],
   "source": [
    "import os\n",
    "import pandas as pd\n",
    "from pandas import Series, DataFrame"
   ]
  },
  {
   "cell_type": "code",
   "execution_count": 2,
   "id": "50afab47",
   "metadata": {},
   "outputs": [],
   "source": [
    "path = '/Users/ariana/desktop/historical_tech'\n",
    "os.chdir(path)"
   ]
  },
  {
   "cell_type": "code",
   "execution_count": 3,
   "id": "abbca1ce",
   "metadata": {},
   "outputs": [],
   "source": [
    "# https://figshare.com/articles/dataset/Experience_curve_data_for_energy_storage_technologies/21937529"
   ]
  },
  {
   "cell_type": "code",
   "execution_count": 4,
   "id": "5b7ae1c2",
   "metadata": {},
   "outputs": [
    {
     "data": {
      "text/plain": [
       "1.1177830114065768"
      ]
     },
     "execution_count": 4,
     "metadata": {},
     "output_type": "execute_result"
    }
   ],
   "source": [
    "## adjusting for inflation from 2020 USD to 2022\n",
    "nipa = pd.read_excel('inflation/A001RG3A086NBEA.xls', header=10)\n",
    "\n",
    "year_list = []\n",
    "for x in nipa['observation_date']:\n",
    "    x = int(str(x)[:4])\n",
    "    year_list.append(x)\n",
    "nipa['Year'] = year_list\n",
    "nipa.set_index('Year', drop=True, inplace=True)\n",
    "nipa.drop(columns='observation_date', inplace=True)\n",
    "nipa = nipa.transpose()\n",
    "\n",
    "infl_2020_2022 = float(nipa[2022]/nipa[2020])\n",
    "infl_2020_2022"
   ]
  },
  {
   "cell_type": "code",
   "execution_count": 5,
   "id": "76d9c077",
   "metadata": {},
   "outputs": [],
   "source": [
    "def read_schmidt(tech_name):  \n",
    "    df = pd.read_excel('raw data/cost data/Experience_curves_dataset - 2022-12-01 - cleaned.xlsx',\n",
    "                      sheet_name=tech_name, header=1, index_col=0)\n",
    "    df = df.transpose()\n",
    "    for idx in df.index:\n",
    "        if 'USD' in idx:\n",
    "            df.loc[idx] = df.loc[idx] * infl_2020_2022\n",
    "    df['Data Source'] = 'Schmidt & Staffell'\n",
    "    df['Country Name'] = 'World'\n",
    "    df['Country Code'] = 'World'\n",
    "    df['Spatial Scale'] = 'Global'\n",
    "    df['Metric'] = ['Cumulative Total Capacity','Levelized Cost of Energy','Total Installed Cost']\n",
    "    df['Technology Name'] = tech_name\n",
    "    df['Unit'] = ['GWh','2022 USD/kWh','2022 USD/kW']\n",
    "    df['ID'] = df['Technology Name'] + '_' + df['Metric'] + '_' + df['Country Code']\n",
    "    df.set_index('ID', drop=True, inplace=True)\n",
    "    return df"
   ]
  },
  {
   "cell_type": "code",
   "execution_count": 6,
   "id": "f89f2639",
   "metadata": {},
   "outputs": [],
   "source": [
    "lead_acid = read_schmidt('Lead-Acid Battery')\n",
    "lead_acid.to_csv('cleaned data/lead_acid.csv')"
   ]
  },
  {
   "cell_type": "code",
   "execution_count": 7,
   "id": "f40aa186",
   "metadata": {},
   "outputs": [],
   "source": [
    "nickel_based = read_schmidt('Nickel-Metal Hydride Battery')\n",
    "nickel_based.to_csv('cleaned data/nickel_battery.csv')"
   ]
  },
  {
   "cell_type": "code",
   "execution_count": 8,
   "id": "3b6648a7",
   "metadata": {},
   "outputs": [],
   "source": [
    "pumped_hydro = read_schmidt('Pumped Hydropower')\n",
    "pumped_hydro.to_csv('cleaned data/pumped_hydro.csv')"
   ]
  },
  {
   "cell_type": "code",
   "execution_count": 9,
   "id": "85b4c45e",
   "metadata": {},
   "outputs": [],
   "source": [
    "sodium_based = read_schmidt('Sodium-Sulphur Battery')\n",
    "sodium_based.to_csv('cleaned data/sodium_based_battery.csv')"
   ]
  },
  {
   "cell_type": "code",
   "execution_count": 10,
   "id": "76b303bc",
   "metadata": {},
   "outputs": [],
   "source": [
    "flow = read_schmidt('Vanadium Redox-Flow Battery')\n",
    "flow.to_csv('cleaned data/vanadium_flow.csv')"
   ]
  },
  {
   "cell_type": "code",
   "execution_count": null,
   "id": "b3807675",
   "metadata": {},
   "outputs": [],
   "source": []
  }
 ],
 "metadata": {
  "kernelspec": {
   "display_name": "Python 3 (ipykernel)",
   "language": "python",
   "name": "python3"
  },
  "language_info": {
   "codemirror_mode": {
    "name": "ipython",
    "version": 3
   },
   "file_extension": ".py",
   "mimetype": "text/x-python",
   "name": "python",
   "nbconvert_exporter": "python",
   "pygments_lexer": "ipython3",
   "version": "3.9.13"
  }
 },
 "nbformat": 4,
 "nbformat_minor": 5
}
