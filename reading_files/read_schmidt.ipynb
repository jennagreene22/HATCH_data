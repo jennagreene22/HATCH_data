{
 "cells": [
  {
   "cell_type": "code",
   "execution_count": 1,
   "id": "2c3472b5",
   "metadata": {},
   "outputs": [],
   "source": [
    "import os\n",
    "import pandas as pd\n",
    "from pandas import Series, DataFrame"
   ]
  },
  {
   "attachments": {},
   "cell_type": "markdown",
   "id": "abbca1ce",
   "metadata": {},
   "source": [
    "Source\n",
    "- https://figshare.com/articles/dataset/Experience_curve_data_for_energy_storage_technologies/21937529"
   ]
  },
  {
   "cell_type": "code",
   "execution_count": 2,
   "id": "b01460b8",
   "metadata": {},
   "outputs": [
    {
     "name": "stdout",
     "output_type": "stream",
     "text": [
      "Current working directory: /Users/jennagreene/Documents/GitHub/HATCH_data/reading_files\n"
     ]
    }
   ],
   "source": [
    "## Get current working directory\n",
    "print(\"Current working directory:\", os.getcwd())\n",
    "\n",
    "## Find path to raw data (for the raw files)\n",
    "raw_data_path = os.path.abspath(os.path.join(os.getcwd(), '..', 'raw_data'))\n",
    "\n",
    "## Find path to folder for saving cleaned csv\n",
    "cleaned_data_path = os.path.abspath(os.path.join(os.getcwd(), '..', 'cleaned_data'))\n",
    "\n",
    "\n",
    "## Find path to folder for inflation\n",
    "inflation_data_path = os.path.abspath(os.path.join(os.getcwd(), '..', 'inflation'))"
   ]
  },
  {
   "cell_type": "code",
   "execution_count": 3,
   "id": "571b11e8",
   "metadata": {},
   "outputs": [],
   "source": [
    "target_inflation_file = \"/A001RG3A086NBEA.xls\"\n",
    "target_inflation_filepath = inflation_data_path + target_inflation_file\n",
    "\n",
    "target_file = '/cost data/Experience_curves_dataset - 2022-12-01 - cleaned.xlsx'\n",
    "target_filepath = raw_data_path + target_file"
   ]
  },
  {
   "cell_type": "code",
   "execution_count": 4,
   "id": "5b7ae1c2",
   "metadata": {},
   "outputs": [
    {
     "name": "stderr",
     "output_type": "stream",
     "text": [
      "/var/folders/cy/xd4mmw610b3cr6tjgv0h8hlr0000gn/T/ipykernel_31083/3561849517.py:13: FutureWarning: Calling float on a single element Series is deprecated and will raise a TypeError in the future. Use float(ser.iloc[0]) instead\n",
      "  infl_2020_2022 = float(nipa[2022]/nipa[2020])\n"
     ]
    },
    {
     "data": {
      "text/plain": [
       "1.1177830114065768"
      ]
     },
     "execution_count": 4,
     "metadata": {},
     "output_type": "execute_result"
    }
   ],
   "source": [
    "## adjusting for inflation from 2020 USD to 2022\n",
    "nipa = pd.read_excel(target_inflation_filepath, header=10)\n",
    "\n",
    "year_list = []\n",
    "for x in nipa['observation_date']:\n",
    "    x = int(str(x)[:4])\n",
    "    year_list.append(x)\n",
    "nipa['Year'] = year_list\n",
    "nipa.set_index('Year', drop=True, inplace=True)\n",
    "nipa.drop(columns='observation_date', inplace=True)\n",
    "nipa = nipa.transpose()\n",
    "\n",
    "infl_2020_2022 = float(nipa[2022]/nipa[2020])\n",
    "infl_2020_2022"
   ]
  },
  {
   "cell_type": "code",
   "execution_count": 5,
   "id": "76d9c077",
   "metadata": {},
   "outputs": [],
   "source": [
    "def read_schmidt(tech_name):  \n",
    "    df = pd.read_excel(target_filepath,\n",
    "                      sheet_name=tech_name, header=1, index_col=0)\n",
    "    df = df.transpose()\n",
    "    for idx in df.index:\n",
    "        if 'USD' in idx:\n",
    "            df.loc[idx] = df.loc[idx] * infl_2020_2022\n",
    "    df['Data Source'] = 'Schmidt & Staffell'\n",
    "    df['Country Name'] = 'World'\n",
    "    df['Country Code'] = 'World'\n",
    "    df['Spatial Scale'] = 'Global'\n",
    "    df['Metric'] = ['Cumulative Total Capacity','Levelized Cost of Energy','Total Installed Cost']\n",
    "    df['Technology Name'] = tech_name\n",
    "    df['Unit'] = ['GWh','2022 USD/kWh','2022 USD/kW']\n",
    "    df['ID'] = df['Technology Name'] + '_' + df['Metric'] + '_' + df['Country Code']\n",
    "    df.set_index('ID', drop=True, inplace=True)\n",
    "    return df"
   ]
  },
  {
   "attachments": {},
   "cell_type": "markdown",
   "id": "d69b4efd",
   "metadata": {},
   "source": [
    "Lead Acid Battery"
   ]
  },
  {
   "cell_type": "code",
   "execution_count": 6,
   "id": "f89f2639",
   "metadata": {},
   "outputs": [
    {
     "name": "stdout",
     "output_type": "stream",
     "text": [
      "Data saved to: /Users/jennagreene/Documents/GitHub/HATCH_data/cleaned_data/lead_acid.csv\n"
     ]
    }
   ],
   "source": [
    "lead_acid = read_schmidt('Lead-Acid Battery')\n",
    "\n",
    "output_file = 'lead_acid.csv'\n",
    "output_file_path = os.path.join(cleaned_data_path, output_file)\n",
    "\n",
    "lead_acid.to_csv(output_file_path)\n",
    "print(\"Data saved to:\", output_file_path)"
   ]
  },
  {
   "attachments": {},
   "cell_type": "markdown",
   "id": "d9e4d80d",
   "metadata": {},
   "source": [
    "Nickel Based"
   ]
  },
  {
   "cell_type": "code",
   "execution_count": 7,
   "id": "f40aa186",
   "metadata": {},
   "outputs": [
    {
     "name": "stdout",
     "output_type": "stream",
     "text": [
      "Data saved to: /Users/jennagreene/Documents/GitHub/HATCH_data/cleaned_data/Nickel-Metal_Hydride_battery.csv\n"
     ]
    }
   ],
   "source": [
    "nickel_based = read_schmidt('Nickel-Metal Hydride Battery')\n",
    "\n",
    "output_file = 'Nickel-Metal_Hydride_battery.csv'\n",
    "output_file_path = os.path.join(cleaned_data_path, output_file)\n",
    "\n",
    "nickel_based.to_csv(output_file_path)\n",
    "print(\"Data saved to:\", output_file_path)"
   ]
  },
  {
   "attachments": {},
   "cell_type": "markdown",
   "id": "62f4be72",
   "metadata": {},
   "source": [
    "Pumped Hydro"
   ]
  },
  {
   "cell_type": "code",
   "execution_count": 8,
   "id": "3b6648a7",
   "metadata": {},
   "outputs": [
    {
     "name": "stdout",
     "output_type": "stream",
     "text": [
      "Data saved to: /Users/jennagreene/Documents/GitHub/HATCH_data/cleaned_data/pumped_hydro.csv\n"
     ]
    }
   ],
   "source": [
    "pumped_hydro = read_schmidt('Pumped Hydropower')\n",
    "\n",
    "output_file = 'pumped_hydro.csv'\n",
    "output_file_path = os.path.join(cleaned_data_path, output_file)\n",
    "\n",
    "pumped_hydro.to_csv(output_file_path)\n",
    "print(\"Data saved to:\", output_file_path)"
   ]
  },
  {
   "attachments": {},
   "cell_type": "markdown",
   "id": "b9cb7b69",
   "metadata": {},
   "source": [
    "Sodium Based"
   ]
  },
  {
   "cell_type": "code",
   "execution_count": 9,
   "id": "85b4c45e",
   "metadata": {},
   "outputs": [
    {
     "name": "stdout",
     "output_type": "stream",
     "text": [
      "Data saved to: /Users/jennagreene/Documents/GitHub/HATCH_data/cleaned_data/sodium_based_battery.csv\n"
     ]
    }
   ],
   "source": [
    "sodium_based = read_schmidt('Sodium-Sulphur Battery')\n",
    "\n",
    "output_file = 'sodium_based_battery.csv'\n",
    "output_file_path = os.path.join(cleaned_data_path, output_file)\n",
    "\n",
    "sodium_based.to_csv(output_file_path)\n",
    "print(\"Data saved to:\", output_file_path)"
   ]
  },
  {
   "attachments": {},
   "cell_type": "markdown",
   "id": "f6eb0695",
   "metadata": {},
   "source": [
    "Flow Battery"
   ]
  },
  {
   "cell_type": "code",
   "execution_count": 10,
   "id": "76b303bc",
   "metadata": {},
   "outputs": [
    {
     "name": "stdout",
     "output_type": "stream",
     "text": [
      "Data saved to: /Users/jennagreene/Documents/GitHub/HATCH_data/cleaned_data/vanadium_flow.csv\n"
     ]
    }
   ],
   "source": [
    "flow = read_schmidt('Vanadium Redox-Flow Battery')\n",
    "\n",
    "output_file = 'vanadium_flow.csv'\n",
    "output_file_path = os.path.join(cleaned_data_path, output_file)\n",
    "\n",
    "flow.to_csv(output_file_path)\n",
    "print(\"Data saved to:\", output_file_path)"
   ]
  },
  {
   "cell_type": "code",
   "execution_count": null,
   "id": "b3807675",
   "metadata": {},
   "outputs": [],
   "source": []
  }
 ],
 "metadata": {
  "kernelspec": {
   "display_name": "Python 3 (ipykernel)",
   "language": "python",
   "name": "python3"
  },
  "language_info": {
   "codemirror_mode": {
    "name": "ipython",
    "version": 3
   },
   "file_extension": ".py",
   "mimetype": "text/x-python",
   "name": "python",
   "nbconvert_exporter": "python",
   "pygments_lexer": "ipython3",
   "version": "3.10.9"
  }
 },
 "nbformat": 4,
 "nbformat_minor": 5
}
