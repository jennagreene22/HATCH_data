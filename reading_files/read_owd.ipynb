{
 "cells": [
  {
   "cell_type": "code",
   "execution_count": 1,
   "id": "b7da783d",
   "metadata": {},
   "outputs": [],
   "source": [
    "import os\n",
    "import pandas as pd\n",
    "from pandas import Series, DataFrame\n",
    "import country_converter as coco"
   ]
  },
  {
   "attachments": {},
   "cell_type": "markdown",
   "id": "c67cca77",
   "metadata": {},
   "source": [
    "Data sources:\n",
    "- https://ourworldindata.org/grapher/technology-adoption-by-households-in-the-united-states"
   ]
  },
  {
   "cell_type": "code",
   "execution_count": 2,
   "id": "787ea904",
   "metadata": {},
   "outputs": [
    {
     "name": "stdout",
     "output_type": "stream",
     "text": [
      "Current working directory: /Users/jennagreene/Documents/GitHub/HATCH_data/reading_files\n"
     ]
    }
   ],
   "source": [
    "## Get current working directory\n",
    "print(\"Current working directory:\", os.getcwd())\n",
    "\n",
    "## Find path to raw data (for the raw files)\n",
    "raw_data_path = os.path.abspath(os.path.join(os.getcwd(), '..', 'raw_data'))\n",
    "\n",
    "## Find path to folder for saving cleaned csv\n",
    "cleaned_data_path = os.path.abspath(os.path.join(os.getcwd(), '..', 'cleaned_data'))\n",
    "\n",
    "\n",
    "## Find path to folder for inflation\n",
    "inflation_data_path = os.path.abspath(os.path.join(os.getcwd(), '..', 'inflation'))"
   ]
  },
  {
   "cell_type": "code",
   "execution_count": 3,
   "id": "93e303cd",
   "metadata": {},
   "outputs": [],
   "source": [
    "target_file_name = \"/technology-adoption-by-households-in-the-united-states.csv\"\n",
    "target_filepath = raw_data_path + target_file_name"
   ]
  },
  {
   "cell_type": "code",
   "execution_count": 4,
   "id": "6756cbfe",
   "metadata": {},
   "outputs": [
    {
     "data": {
      "text/plain": [
       "['Iron',\n",
       " 'Households with only mobile phones (no landlines)',\n",
       " 'Home air conditioning',\n",
       " 'Internet',\n",
       " 'Power steering',\n",
       " 'Videocassette recorder',\n",
       " 'Automatic transmission',\n",
       " 'Stove',\n",
       " 'Colour TV',\n",
       " 'Vacuum',\n",
       " 'Central heating',\n",
       " 'Freezer',\n",
       " 'Radial tires',\n",
       " 'Dishwasher',\n",
       " 'Computer',\n",
       " 'RTGS adoption',\n",
       " 'Cable TV',\n",
       " 'Social media usage',\n",
       " 'Nox pollution controls (boilers)',\n",
       " 'Podcasting',\n",
       " 'Electric Range',\n",
       " 'Microwave',\n",
       " 'Tablet',\n",
       " 'Ebook reader',\n",
       " 'Running water',\n",
       " 'Amazon Prime users',\n",
       " 'Disk brakes',\n",
       " 'Microcomputer',\n",
       " 'Smartphone usage',\n",
       " 'Water Heater',\n",
       " 'Electronic ignition',\n",
       " 'Flush toilet']"
      ]
     },
     "execution_count": 4,
     "metadata": {},
     "output_type": "execute_result"
    }
   ],
   "source": [
    "owd = pd.read_csv(target_filepath)\n",
    "tech_list = list(set(owd['Entity']))\n",
    "drop_list = ['Automobile','Cellular phone','Dryer','Electric power','Electricity access','Household refrigerator',\n",
    "             'Landline','Refrigerator','Washer','Washing machine', 'Shipping container port infrastructure',\n",
    "            'Radio','Television']\n",
    "for item in drop_list:\n",
    "    tech_list.remove(item)\n",
    "tech_list"
   ]
  },
  {
   "cell_type": "code",
   "execution_count": 5,
   "id": "2d3e2036",
   "metadata": {},
   "outputs": [],
   "source": [
    "def read_owd(technology):\n",
    "    # Read the CSV file into a DataFrame\n",
    "    owd = pd.read_csv(target_filepath)\n",
    "    \n",
    "    # Remove the 'Code' column\n",
    "    owd.drop(columns='Code', inplace=True)\n",
    "    \n",
    "    # Filter the DataFrame for the specified technology\n",
    "    owd = owd[owd['Entity']==technology]\n",
    "    \n",
    "    # Convert the values to percentages\n",
    "    owd[owd.columns[2]] = owd[owd.columns[2]] / 100\n",
    "    \n",
    "    # Transpose the DataFrame\n",
    "    owd = owd.transpose()\n",
    "    \n",
    "    # Extract the technology name and years\n",
    "    tech_name = owd.loc['Entity'].values[0]\n",
    "    years = list(owd.loc['Year'])\n",
    "    \n",
    "    # Rename the columns with the corresponding years\n",
    "    i = list(owd.columns)[0]\n",
    "    for year in years:\n",
    "        owd.rename(columns={i: year}, inplace=True)\n",
    "        i += 1\n",
    "    \n",
    "    # Remove unnecessary rows\n",
    "    owd = owd[2:]\n",
    "    \n",
    "    # Add metadata columns\n",
    "    owd['Country Name'] = 'United States'\n",
    "    owd['Country Code'] = 'US'\n",
    "    owd['Spatial Scale'] = 'National'\n",
    "    owd['Unit'] = '%'\n",
    "    if tech_name in ['Automatic transmission','Disk brakes','Electronic ignition', 'Power steering',\n",
    "                     'Radial tires', 'RTGS adoption']:\n",
    "        metric = 'Share of Market'\n",
    "    elif tech_name in ['Ebook reader','Podcasting','Smartphone usage','Social media usage','Tablet']:\n",
    "        metric = 'Share of Population'\n",
    "    elif tech_name == 'Nox pollution controls (boilers)':\n",
    "        metric = 'Share of Boilers'\n",
    "    else:\n",
    "        metric = 'Share of Households'\n",
    "    owd['Technology Name'] = tech_name.title()\n",
    "    owd['Metric'] = metric\n",
    "    owd['Data Source'] = 'OWID'\n",
    "    \n",
    "    # Replace technology names for consistency\n",
    "    owd.replace({'Rtgs Adoption':'Real-Time Gross Settlement Adoption','Dishwasher':'Dishwashers',\n",
    "                 'Microwave':'Microwaves','Vacuum':'Vacuums', 'Computer':'Home Computers',\n",
    "                 'Internet':'Household Internet Access','Microcomputer':'Microcomputers',\n",
    "                'Cable Tv':'Cable TV','Colour Tv':'Colour TV'},inplace=True)\n",
    "    \n",
    "    # Create unique IDs and set it as the index\n",
    "    owd['ID'] = owd['Technology Name'] + '_' + owd['Metric'] + '_' + owd['Country Code']\n",
    "    owd.set_index('ID', drop=True, inplace=True)\n",
    "\n",
    "    # Define the file path\n",
    "    file_path = cleaned_data_path + \"/\" + technology + '.csv'\n",
    "    \n",
    "    # Save the DataFrame to a CSV file\n",
    "    owd.to_csv(file_path)\n",
    "    \n",
    "    return owd"
   ]
  },
  {
   "cell_type": "code",
   "execution_count": 6,
   "id": "e7e8020e",
   "metadata": {},
   "outputs": [],
   "source": [
    "for tech in tech_list:\n",
    "    read_owd(tech)"
   ]
  },
  {
   "cell_type": "code",
   "execution_count": null,
   "id": "16146995",
   "metadata": {},
   "outputs": [],
   "source": []
  }
 ],
 "metadata": {
  "kernelspec": {
   "display_name": "Python 3 (ipykernel)",
   "language": "python",
   "name": "python3"
  },
  "language_info": {
   "codemirror_mode": {
    "name": "ipython",
    "version": 3
   },
   "file_extension": ".py",
   "mimetype": "text/x-python",
   "name": "python",
   "nbconvert_exporter": "python",
   "pygments_lexer": "ipython3",
   "version": "3.10.9"
  }
 },
 "nbformat": 4,
 "nbformat_minor": 5
}
