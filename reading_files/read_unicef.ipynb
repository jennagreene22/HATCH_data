{
 "cells": [
  {
   "cell_type": "code",
   "execution_count": 1,
   "id": "bdfdf8a7",
   "metadata": {},
   "outputs": [],
   "source": [
    "import pandas as pd\n",
    "from pandas import Series, DataFrame\n",
    "import country_converter as coco\n",
    "import os"
   ]
  },
  {
   "cell_type": "code",
   "execution_count": 2,
   "id": "9ea4b626",
   "metadata": {},
   "outputs": [],
   "source": [
    "# https://data.unicef.org/topic/child-health/immunization/\n",
    "# Immunization coverage by antigen\n",
    "# https://data.unicef.org/wp-content/uploads/2016/07/wuenic2021rev_web-update.xlsx"
   ]
  },
  {
   "cell_type": "code",
   "execution_count": 3,
   "id": "1c465add",
   "metadata": {},
   "outputs": [],
   "source": [
    "path = '/Users/ariana/desktop/historical_tech'\n",
    "os.chdir(path)"
   ]
  },
  {
   "cell_type": "code",
   "execution_count": 4,
   "id": "f42f847e",
   "metadata": {},
   "outputs": [],
   "source": [
    "file = pd.ExcelFile('raw data/wuenic2021rev_web-update.xlsx')\n",
    "unicef_sheets = file.sheet_names"
   ]
  },
  {
   "cell_type": "code",
   "execution_count": 5,
   "id": "1f52c341",
   "metadata": {},
   "outputs": [],
   "source": [
    "def read_unicef(sheet):\n",
    "    unicef = pd.read_excel('raw data/wuenic2021rev_web-update.xlsx', sheet_name=sheet)\n",
    "    for col in unicef.columns[4:]:\n",
    "        unicef[col] = unicef[col] / 100\n",
    "    unicef.rename(columns={'country': 'Country Name', 'vaccine': 'Technology Name'}, inplace=True)\n",
    "    unicef['Technology Name'] = unicef['Technology Name'] + ' Vaccine'\n",
    "    unicef['Unit'] = '%'\n",
    "    unicef['Metric'] = 'Share of Population'\n",
    "    unicef['Data Source'] = 'UNICEF'\n",
    "    unicef['Spatial Scale'] = 'National'\n",
    "    iso3 = unicef['iso3']\n",
    "    iso2 = []\n",
    "    for iso in iso3:\n",
    "        iso2.append(coco.convert(names=iso, to='iso2'))\n",
    "    unicef['Country Code'] = iso2\n",
    "    unicef.drop(columns={'unicef_region', 'iso3'}, inplace=True)\n",
    "    unicef['ID'] = unicef['Technology Name'] + '_'+ unicef['Metric'] + '_' + unicef['Country Code']\n",
    "    unicef.set_index('ID', inplace=True)\n",
    "    return unicef\n"
   ]
  },
  {
   "cell_type": "code",
   "execution_count": 6,
   "id": "5c70e56d",
   "metadata": {},
   "outputs": [],
   "source": [
    "unicef_list = []\n",
    "for x in unicef_sheets[:-1]:\n",
    "    df = read_unicef(x)\n",
    "    unicef_list.append(df)"
   ]
  },
  {
   "cell_type": "code",
   "execution_count": 7,
   "id": "2fe348fc",
   "metadata": {},
   "outputs": [],
   "source": [
    "un = pd.concat(unicef_list)"
   ]
  },
  {
   "cell_type": "code",
   "execution_count": 8,
   "id": "feb350b5",
   "metadata": {},
   "outputs": [],
   "source": [
    "un.to_csv('cleaned data/unicef.csv')"
   ]
  },
  {
   "cell_type": "code",
   "execution_count": null,
   "id": "634968a0",
   "metadata": {},
   "outputs": [],
   "source": []
  }
 ],
 "metadata": {
  "kernelspec": {
   "display_name": "Python 3 (ipykernel)",
   "language": "python",
   "name": "python3"
  },
  "language_info": {
   "codemirror_mode": {
    "name": "ipython",
    "version": 3
   },
   "file_extension": ".py",
   "mimetype": "text/x-python",
   "name": "python",
   "nbconvert_exporter": "python",
   "pygments_lexer": "ipython3",
   "version": "3.9.13"
  }
 },
 "nbformat": 4,
 "nbformat_minor": 5
}
