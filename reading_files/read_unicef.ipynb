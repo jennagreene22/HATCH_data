{
 "cells": [
  {
   "cell_type": "code",
   "execution_count": 1,
   "id": "bdfdf8a7",
   "metadata": {},
   "outputs": [],
   "source": [
    "import pandas as pd\n",
    "from pandas import Series, DataFrame\n",
    "import country_converter as coco\n",
    "import os"
   ]
  },
  {
   "attachments": {},
   "cell_type": "markdown",
   "id": "9ea4b626",
   "metadata": {},
   "source": [
    "Data sources:\n",
    "\n",
    "- https://data.unicef.org/topic/child-health/immunization/\n",
    "- Immunization coverage by antigen\n",
    "- https://data.unicef.org/wp-content/uploads/2016/07/wuenic2021rev_web-update.xlsx"
   ]
  },
  {
   "cell_type": "code",
   "execution_count": 2,
   "id": "1c465add",
   "metadata": {},
   "outputs": [
    {
     "name": "stdout",
     "output_type": "stream",
     "text": [
      "Current working directory: /Users/jennagreene/Documents/GitHub/HATCH_data/reading_files\n"
     ]
    }
   ],
   "source": [
    "## Get current working directory\n",
    "print(\"Current working directory:\", os.getcwd())\n",
    "\n",
    "## Find path to raw data (for the raw files)\n",
    "raw_data_path = os.path.abspath(os.path.join(os.getcwd(), '..', 'raw_data'))\n",
    "\n",
    "## Find path to folder for saving cleaned csv\n",
    "cleaned_data_path = os.path.abspath(os.path.join(os.getcwd(), '..', 'cleaned_data'))"
   ]
  },
  {
   "cell_type": "code",
   "execution_count": 3,
   "id": "a650ea73",
   "metadata": {},
   "outputs": [],
   "source": [
    "target_file = '/wuenic2021rev_web-update.xlsx'\n",
    "target_filepath = raw_data_path + target_file"
   ]
  },
  {
   "cell_type": "code",
   "execution_count": 4,
   "id": "f42f847e",
   "metadata": {},
   "outputs": [],
   "source": [
    "file = pd.ExcelFile(target_filepath)\n",
    "unicef_sheets = file.sheet_names"
   ]
  },
  {
   "cell_type": "code",
   "execution_count": 5,
   "id": "1f52c341",
   "metadata": {},
   "outputs": [],
   "source": [
    "def read_unicef(sheet):\n",
    "    # Read the Excel file into a DataFrame\n",
    "    unicef = pd.read_excel(target_filepath, sheet_name=sheet)\n",
    "    \n",
    "    # Convert the vaccination coverage percentages to fractions\n",
    "    for col in unicef.columns[4:]:\n",
    "        unicef[col] = unicef[col] / 100\n",
    "    \n",
    "    # Rename columns for clarity\n",
    "    unicef.rename(columns={'country': 'Country Name', 'vaccine': 'Technology Name'}, inplace=True)\n",
    "    \n",
    "    # Append 'Vaccine' to the technology name to indicate it's a vaccine\n",
    "    unicef['Technology Name'] = unicef['Technology Name'] + ' Vaccine'\n",
    "    \n",
    "    # Add metadata columns\n",
    "    unicef['Unit'] = '%'  # Unit is percentage\n",
    "    unicef['Metric'] = 'Share of Population'\n",
    "    unicef['Data Source'] = 'UNICEF'\n",
    "    unicef['Spatial Scale'] = 'National'\n",
    "    \n",
    "    # Convert ISO3 country codes to ISO2 country codes\n",
    "    iso3 = unicef['iso3']\n",
    "    iso2 = []\n",
    "    for iso in iso3:\n",
    "        iso2.append(coco.convert(names=iso, to='iso2'))\n",
    "    unicef['Country Code'] = iso2\n",
    "    \n",
    "    # Drop unnecessary columns\n",
    "    unicef.drop(columns={'unicef_region', 'iso3'}, inplace=True)\n",
    "    \n",
    "    # Set the ID column and index\n",
    "    unicef['ID'] = unicef['Technology Name'] + '_'+ unicef['Metric'] + '_' + unicef['Country Code']\n",
    "    unicef.set_index('ID', inplace=True)\n",
    "    \n",
    "    return unicef"
   ]
  },
  {
   "cell_type": "code",
   "execution_count": 6,
   "id": "5c70e56d",
   "metadata": {},
   "outputs": [],
   "source": [
    "unicef_list = []\n",
    "for x in unicef_sheets[:-1]:\n",
    "    df = read_unicef(x)\n",
    "    unicef_list.append(df)"
   ]
  },
  {
   "cell_type": "code",
   "execution_count": 7,
   "id": "2fe348fc",
   "metadata": {},
   "outputs": [],
   "source": [
    "un = pd.concat(unicef_list)"
   ]
  },
  {
   "cell_type": "code",
   "execution_count": 8,
   "id": "feb350b5",
   "metadata": {},
   "outputs": [
    {
     "name": "stdout",
     "output_type": "stream",
     "text": [
      "Data saved to: /Users/jennagreene/Documents/GitHub/HATCH_data/cleaned_data/unicef.csv\n"
     ]
    }
   ],
   "source": [
    "output_file = 'unicef.csv'\n",
    "output_file_path = os.path.join(cleaned_data_path, output_file)\n",
    "\n",
    "un.to_csv(output_file_path)\n",
    "print(\"Data saved to:\", output_file_path)"
   ]
  },
  {
   "cell_type": "code",
   "execution_count": null,
   "id": "634968a0",
   "metadata": {},
   "outputs": [],
   "source": []
  }
 ],
 "metadata": {
  "kernelspec": {
   "display_name": "Python 3 (ipykernel)",
   "language": "python",
   "name": "python3"
  },
  "language_info": {
   "codemirror_mode": {
    "name": "ipython",
    "version": 3
   },
   "file_extension": ".py",
   "mimetype": "text/x-python",
   "name": "python",
   "nbconvert_exporter": "python",
   "pygments_lexer": "ipython3",
   "version": "3.10.9"
  }
 },
 "nbformat": 4,
 "nbformat_minor": 5
}
