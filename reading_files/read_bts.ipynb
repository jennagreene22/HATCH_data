{
 "cells": [
  {
   "cell_type": "code",
   "execution_count": 1,
   "id": "11c26082",
   "metadata": {},
   "outputs": [],
   "source": [
    "import pandas as pd\n",
    "from pandas import Series, DataFrame\n",
    "import country_converter as coco\n",
    "import os"
   ]
  },
  {
   "cell_type": "code",
   "execution_count": 2,
   "id": "39759799",
   "metadata": {},
   "outputs": [],
   "source": [
    "# https://www.bts.gov/archive/publications/national_transportation_statistics/table_01_10"
   ]
  },
  {
   "cell_type": "code",
   "execution_count": 3,
   "id": "bf7e51a2",
   "metadata": {},
   "outputs": [],
   "source": [
    "path = '/Users/ariana/desktop/historical_tech'\n",
    "os.chdir(path)"
   ]
  },
  {
   "cell_type": "code",
   "execution_count": 4,
   "id": "3561893b",
   "metadata": {},
   "outputs": [
    {
     "data": {
      "text/html": [
       "<div>\n",
       "<style scoped>\n",
       "    .dataframe tbody tr th:only-of-type {\n",
       "        vertical-align: middle;\n",
       "    }\n",
       "\n",
       "    .dataframe tbody tr th {\n",
       "        vertical-align: top;\n",
       "    }\n",
       "\n",
       "    .dataframe thead th {\n",
       "        text-align: right;\n",
       "    }\n",
       "</style>\n",
       "<table border=\"1\" class=\"dataframe\">\n",
       "  <thead>\n",
       "    <tr style=\"text-align: right;\">\n",
       "      <th></th>\n",
       "      <th>1960</th>\n",
       "      <th>1965</th>\n",
       "      <th>1970</th>\n",
       "      <th>1975</th>\n",
       "      <th>1980</th>\n",
       "      <th>1985</th>\n",
       "      <th>1990</th>\n",
       "      <th>1991</th>\n",
       "      <th>1992</th>\n",
       "      <th>1993</th>\n",
       "      <th>...</th>\n",
       "      <th>2020</th>\n",
       "      <th>2021</th>\n",
       "      <th>Data Source</th>\n",
       "      <th>Unit</th>\n",
       "      <th>Metric</th>\n",
       "      <th>Spatial Scale</th>\n",
       "      <th>Country Name</th>\n",
       "      <th>Country Code</th>\n",
       "      <th>Technology Name</th>\n",
       "      <th>ID</th>\n",
       "    </tr>\n",
       "  </thead>\n",
       "  <tbody>\n",
       "    <tr>\n",
       "      <th>0</th>\n",
       "      <td>NaN</td>\n",
       "      <td>NaN</td>\n",
       "      <td>NaN</td>\n",
       "      <td>NaN</td>\n",
       "      <td>NaN</td>\n",
       "      <td>NaN</td>\n",
       "      <td>NaN</td>\n",
       "      <td>NaN</td>\n",
       "      <td>NaN</td>\n",
       "      <td>NaN</td>\n",
       "      <td>...</td>\n",
       "      <td>229395.447</td>\n",
       "      <td>229888.106</td>\n",
       "      <td>BTS</td>\n",
       "      <td>miles</td>\n",
       "      <td>Total Length</td>\n",
       "      <td>National</td>\n",
       "      <td>United States</td>\n",
       "      <td>US</td>\n",
       "      <td>Oil Pipeline</td>\n",
       "      <td>Oil Pipeline_Total Length_US</td>\n",
       "    </tr>\n",
       "    <tr>\n",
       "      <th>3</th>\n",
       "      <td>630900.0</td>\n",
       "      <td>767500.0</td>\n",
       "      <td>913300.0</td>\n",
       "      <td>979300.0</td>\n",
       "      <td>1051800.0</td>\n",
       "      <td>1110785.0</td>\n",
       "      <td>1270295.0</td>\n",
       "      <td>1217451.0</td>\n",
       "      <td>1216081.0</td>\n",
       "      <td>1276303.4</td>\n",
       "      <td>...</td>\n",
       "      <td>1649058.530</td>\n",
       "      <td>1659644.627</td>\n",
       "      <td>BTS</td>\n",
       "      <td>miles</td>\n",
       "      <td>Total Length</td>\n",
       "      <td>National</td>\n",
       "      <td>United States</td>\n",
       "      <td>US</td>\n",
       "      <td>Natural Gas Pipeline</td>\n",
       "      <td>Natural Gas Pipeline_Total Length_US</td>\n",
       "    </tr>\n",
       "  </tbody>\n",
       "</table>\n",
       "<p>2 rows × 46 columns</p>\n",
       "</div>"
      ],
      "text/plain": [
       "       1960      1965      1970      1975       1980       1985       1990  \\\n",
       "0       NaN       NaN       NaN       NaN        NaN        NaN        NaN   \n",
       "3  630900.0  767500.0  913300.0  979300.0  1051800.0  1110785.0  1270295.0   \n",
       "\n",
       "        1991       1992       1993  ...         2020         2021  \\\n",
       "0        NaN        NaN        NaN  ...   229395.447   229888.106   \n",
       "3  1217451.0  1216081.0  1276303.4  ...  1649058.530  1659644.627   \n",
       "\n",
       "   Data Source   Unit        Metric  Spatial Scale   Country Name  \\\n",
       "0          BTS  miles  Total Length       National  United States   \n",
       "3          BTS  miles  Total Length       National  United States   \n",
       "\n",
       "   Country Code       Technology Name                                    ID  \n",
       "0            US          Oil Pipeline          Oil Pipeline_Total Length_US  \n",
       "3            US  Natural Gas Pipeline  Natural Gas Pipeline_Total Length_US  \n",
       "\n",
       "[2 rows x 46 columns]"
      ]
     },
     "execution_count": 4,
     "metadata": {},
     "output_type": "execute_result"
    }
   ],
   "source": [
    "bts = pd.read_excel('raw data/table_01_10_011823.xlsx', sheet_name='1-10', header=1, na_values='N')\n",
    "bts = bts[(bts['Unnamed: 0'] == 'Oil pipeline, total') | (bts['Unnamed: 0'] == 'Gas pipelinea, total')]\n",
    "bts['Data Source'] = 'BTS'\n",
    "bts['Unit'] = 'miles'\n",
    "bts['Metric'] = 'Total Length'\n",
    "bts['Spatial Scale'] = 'National'\n",
    "bts['Country Name'] = 'United States'\n",
    "bts['Country Code'] = 'US'\n",
    "bts['Technology Name'] = ['Oil Pipeline', 'Natural Gas Pipeline']\n",
    "bts.drop(columns='Unnamed: 0', inplace=True)\n",
    "bts['ID'] = bts['Technology Name'] + '_' + bts['Metric'] + '_' + bts['Country Code']\n",
    "bts"
   ]
  },
  {
   "cell_type": "code",
   "execution_count": 5,
   "id": "87908ec4",
   "metadata": {},
   "outputs": [],
   "source": [
    "bts.to_csv('cleaned data/bts.csv', index=False)"
   ]
  },
  {
   "cell_type": "code",
   "execution_count": null,
   "id": "b082d4e5",
   "metadata": {},
   "outputs": [],
   "source": []
  }
 ],
 "metadata": {
  "kernelspec": {
   "display_name": "Python 3 (ipykernel)",
   "language": "python",
   "name": "python3"
  },
  "language_info": {
   "codemirror_mode": {
    "name": "ipython",
    "version": 3
   },
   "file_extension": ".py",
   "mimetype": "text/x-python",
   "name": "python",
   "nbconvert_exporter": "python",
   "pygments_lexer": "ipython3",
   "version": "3.9.13"
  }
 },
 "nbformat": 4,
 "nbformat_minor": 5
}
