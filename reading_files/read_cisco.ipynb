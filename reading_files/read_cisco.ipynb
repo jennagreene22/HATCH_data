{
 "cells": [
  {
   "cell_type": "code",
   "execution_count": 1,
   "id": "5dbc889a",
   "metadata": {},
   "outputs": [],
   "source": [
    "import os\n",
    "import pandas as pd\n",
    "from pandas import Series, DataFrame\n",
    "import country_converter as coco"
   ]
  },
  {
   "attachments": {},
   "cell_type": "markdown",
   "id": "2c78ab61",
   "metadata": {},
   "source": [
    "Data source\n",
    "- https://blogs.cisco.com/sp/the-history-and-future-of-internet-traffic"
   ]
  },
  {
   "cell_type": "code",
   "execution_count": 7,
   "id": "ed2dc6b0",
   "metadata": {},
   "outputs": [
    {
     "name": "stdout",
     "output_type": "stream",
     "text": [
      "Current working directory: /Users/jennagreene/Documents/GitHub/HATCH_data/reading_files\n"
     ]
    }
   ],
   "source": [
    "## Get current working directory\n",
    "print(\"Current working directory:\", os.getcwd())\n",
    "\n",
    "## Find path to raw data (for the raw files)\n",
    "raw_data_path = os.path.abspath(os.path.join(os.getcwd(), '..', 'raw_data'))\n",
    "\n",
    "## Find path to folder for saving cleaned csv\n",
    "cleaned_data_path = os.path.abspath(os.path.join(os.getcwd(), '..', 'cleaned_data'))\n",
    "\n",
    "## Find path to folder for inflation\n",
    "inflation_data_path = os.path.abspath(os.path.join(os.getcwd(), '..', 'inflation'))"
   ]
  },
  {
   "cell_type": "code",
   "execution_count": 9,
   "id": "c096d423",
   "metadata": {},
   "outputs": [],
   "source": [
    "# Find and read the CSV file from the raw_data folder\n",
    "target_file = 'Cisco_InternetTrafficData_TimeSeries.csv'\n",
    "target_file_path = os.path.join(raw_data_path, target_file)"
   ]
  },
  {
   "attachments": {},
   "cell_type": "markdown",
   "id": "2ea2e282",
   "metadata": {},
   "source": [
    "Update data formatting"
   ]
  },
  {
   "cell_type": "code",
   "execution_count": 10,
   "id": "21f8c6f1",
   "metadata": {},
   "outputs": [
    {
     "data": {
      "text/html": [
       "<div>\n",
       "<style scoped>\n",
       "    .dataframe tbody tr th:only-of-type {\n",
       "        vertical-align: middle;\n",
       "    }\n",
       "\n",
       "    .dataframe tbody tr th {\n",
       "        vertical-align: top;\n",
       "    }\n",
       "\n",
       "    .dataframe thead th {\n",
       "        text-align: right;\n",
       "    }\n",
       "</style>\n",
       "<table border=\"1\" class=\"dataframe\">\n",
       "  <thead>\n",
       "    <tr style=\"text-align: right;\">\n",
       "      <th></th>\n",
       "      <th>1984</th>\n",
       "      <th>1985</th>\n",
       "      <th>1986</th>\n",
       "      <th>1987</th>\n",
       "      <th>1988</th>\n",
       "      <th>1989</th>\n",
       "      <th>1990</th>\n",
       "      <th>1991</th>\n",
       "      <th>1992</th>\n",
       "      <th>1993</th>\n",
       "      <th>...</th>\n",
       "      <th>2012</th>\n",
       "      <th>2013</th>\n",
       "      <th>2014</th>\n",
       "      <th>Country Name</th>\n",
       "      <th>Country Code</th>\n",
       "      <th>Spatial Scale</th>\n",
       "      <th>Unit</th>\n",
       "      <th>Data Source</th>\n",
       "      <th>Technology Name</th>\n",
       "      <th>Metric</th>\n",
       "    </tr>\n",
       "    <tr>\n",
       "      <th>ID</th>\n",
       "      <th></th>\n",
       "      <th></th>\n",
       "      <th></th>\n",
       "      <th></th>\n",
       "      <th></th>\n",
       "      <th></th>\n",
       "      <th></th>\n",
       "      <th></th>\n",
       "      <th></th>\n",
       "      <th></th>\n",
       "      <th></th>\n",
       "      <th></th>\n",
       "      <th></th>\n",
       "      <th></th>\n",
       "      <th></th>\n",
       "      <th></th>\n",
       "      <th></th>\n",
       "      <th></th>\n",
       "      <th></th>\n",
       "      <th></th>\n",
       "      <th></th>\n",
       "    </tr>\n",
       "  </thead>\n",
       "  <tbody>\n",
       "    <tr>\n",
       "      <th>Internet Traffic_Computing Capacity_World</th>\n",
       "      <td>15</td>\n",
       "      <td>33</td>\n",
       "      <td>65</td>\n",
       "      <td>128</td>\n",
       "      <td>252</td>\n",
       "      <td>498</td>\n",
       "      <td>1000</td>\n",
       "      <td>2002</td>\n",
       "      <td>4444</td>\n",
       "      <td>8715</td>\n",
       "      <td>...</td>\n",
       "      <td>26214897380</td>\n",
       "      <td>32798830927</td>\n",
       "      <td>42423169029</td>\n",
       "      <td>World</td>\n",
       "      <td>World</td>\n",
       "      <td>Global</td>\n",
       "      <td>GB/month</td>\n",
       "      <td>Cisco</td>\n",
       "      <td>Internet Traffic</td>\n",
       "      <td>Computing Capacity</td>\n",
       "    </tr>\n",
       "  </tbody>\n",
       "</table>\n",
       "<p>1 rows × 38 columns</p>\n",
       "</div>"
      ],
      "text/plain": [
       "                                           1984  1985  1986  1987  1988  1989  \\\n",
       "ID                                                                              \n",
       "Internet Traffic_Computing Capacity_World    15    33    65   128   252   498   \n",
       "\n",
       "                                           1990  1991  1992  1993  ...  \\\n",
       "ID                                                                 ...   \n",
       "Internet Traffic_Computing Capacity_World  1000  2002  4444  8715  ...   \n",
       "\n",
       "                                                  2012         2013  \\\n",
       "ID                                                                    \n",
       "Internet Traffic_Computing Capacity_World  26214897380  32798830927   \n",
       "\n",
       "                                                  2014  Country Name  \\\n",
       "ID                                                                     \n",
       "Internet Traffic_Computing Capacity_World  42423169029         World   \n",
       "\n",
       "                                           Country Code  Spatial Scale  \\\n",
       "ID                                                                       \n",
       "Internet Traffic_Computing Capacity_World         World         Global   \n",
       "\n",
       "                                               Unit  Data Source  \\\n",
       "ID                                                                 \n",
       "Internet Traffic_Computing Capacity_World  GB/month        Cisco   \n",
       "\n",
       "                                            Technology Name  \\\n",
       "ID                                                            \n",
       "Internet Traffic_Computing Capacity_World  Internet Traffic   \n",
       "\n",
       "                                                       Metric  \n",
       "ID                                                             \n",
       "Internet Traffic_Computing Capacity_World  Computing Capacity  \n",
       "\n",
       "[1 rows x 38 columns]"
      ]
     },
     "execution_count": 10,
     "metadata": {},
     "output_type": "execute_result"
    }
   ],
   "source": [
    "internet_traffic = pd.read_csv(target_file_path, header=1, index_col=0)\n",
    "internet_traffic = internet_traffic.transpose()\n",
    "internet_traffic['Country Name'] = 'World'\n",
    "internet_traffic['Country Code'] = 'World'\n",
    "internet_traffic['Spatial Scale'] = 'Global'\n",
    "internet_traffic['Unit'] = 'GB/month'\n",
    "internet_traffic['Data Source'] = 'Cisco'\n",
    "internet_traffic['Technology Name'] = 'Internet Traffic'\n",
    "internet_traffic['Metric'] = 'Computing Capacity'\n",
    "internet_traffic['ID'] = internet_traffic['Technology Name'] + '_' + internet_traffic['Metric'] + '_' + internet_traffic['Country Code']\n",
    "internet_traffic.set_index('ID', drop=True, inplace=True)\n",
    "internet_traffic.columns.name = None\n",
    "internet_traffic\n"
   ]
  },
  {
   "attachments": {},
   "cell_type": "markdown",
   "id": "4563cf54",
   "metadata": {},
   "source": [
    "Save file"
   ]
  },
  {
   "cell_type": "code",
   "execution_count": 12,
   "id": "bf05297f",
   "metadata": {},
   "outputs": [
    {
     "name": "stdout",
     "output_type": "stream",
     "text": [
      "Data saved to: /Users/jennagreene/Documents/GitHub/HATCH_data/cleaned_data/cisco.csv\n"
     ]
    }
   ],
   "source": [
    "#internet_traffic.to_csv('cleaned data/cisco.csv')\n",
    "output_file = 'cisco.csv'\n",
    "output_file_path = os.path.join(cleaned_data_path, output_file)\n",
    "\n",
    "internet_traffic.to_csv(output_file_path)\n",
    "print(\"Data saved to:\", output_file_path)\n"
   ]
  },
  {
   "cell_type": "code",
   "execution_count": null,
   "id": "5c08134e",
   "metadata": {},
   "outputs": [],
   "source": []
  }
 ],
 "metadata": {
  "kernelspec": {
   "display_name": "Python 3 (ipykernel)",
   "language": "python",
   "name": "python3"
  },
  "language_info": {
   "codemirror_mode": {
    "name": "ipython",
    "version": 3
   },
   "file_extension": ".py",
   "mimetype": "text/x-python",
   "name": "python",
   "nbconvert_exporter": "python",
   "pygments_lexer": "ipython3",
   "version": "3.10.9"
  }
 },
 "nbformat": 4,
 "nbformat_minor": 5
}
