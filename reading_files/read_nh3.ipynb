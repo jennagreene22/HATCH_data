{
 "cells": [
  {
   "cell_type": "code",
   "execution_count": 1,
   "id": "a67092fa",
   "metadata": {},
   "outputs": [],
   "source": [
    "import os\n",
    "import pandas as pd\n",
    "from pandas import Series, DataFrame\n",
    "import country_converter as coco"
   ]
  },
  {
   "cell_type": "code",
   "execution_count": 2,
   "id": "25192986",
   "metadata": {},
   "outputs": [
    {
     "name": "stdout",
     "output_type": "stream",
     "text": [
      "Current working directory: /Users/jennagreene/Documents/GitHub/HATCH_data/reading_files\n"
     ]
    }
   ],
   "source": [
    "## Get current working directory\n",
    "print(\"Current working directory:\", os.getcwd())\n",
    "\n",
    "## Find path to raw data (for the raw files)\n",
    "raw_data_path = os.path.abspath(os.path.join(os.getcwd(), '..', 'raw_data'))\n",
    "\n",
    "## Find path to folder for saving cleaned csv\n",
    "cleaned_data_path = os.path.abspath(os.path.join(os.getcwd(), '..', 'cleaned_data'))"
   ]
  },
  {
   "cell_type": "code",
   "execution_count": 3,
   "id": "8171455e",
   "metadata": {},
   "outputs": [],
   "source": [
    "\n",
    "target_file_name = \"/Ammonia_SynthesisTimeSeries_Countries.csv\"\n",
    "target_filepath = raw_data_path + target_file_name"
   ]
  },
  {
   "cell_type": "code",
   "execution_count": 4,
   "id": "8385a7f2",
   "metadata": {},
   "outputs": [],
   "source": [
    "nh3 = pd.read_csv(target_filepath)\n",
    "nh3.rename(columns={'Country': 'Country Name'}, inplace=True)\n",
    "nh3.drop(columns=['Measure', 'Notes', 'ID', 'Process', 'Units', 'Sources'], inplace=True)\n",
    "nh3['Metric'] = 'Annual Production'\n",
    "iso2 = []\n",
    "spatial_scale = []\n",
    "for country in nh3['Country Name']:\n",
    "    if country == 'World':\n",
    "        iso = 'World'\n",
    "        scale = 'Global'\n",
    "    elif country == 'USSR':\n",
    "        iso = 'SU'\n",
    "        scale = 'National'\n",
    "    elif country == 'Czecholslovakia':\n",
    "        iso = 'CSK'\n",
    "        scale = 'National'\n",
    "    else:\n",
    "        iso = coco.convert(names=country, to='iso2')\n",
    "        scale = 'National'\n",
    "    iso2.append(iso)\n",
    "    spatial_scale.append(scale)\n",
    "nh3.replace({'Czecholslovakia':'Czechoslovakia'}, inplace=True)\n",
    "nh3['Country Code'] = iso2\n",
    "nh3['Spatial Scale'] = spatial_scale\n",
    "nh3['Unit'] = 'thousand tons of nitrogen equivalent'\n",
    "nh3['Data Source'] = 'League of Nations'\n",
    "nh3['Technology Name'] = 'Ammonia Synthesis'\n",
    "nh3['ID'] = nh3['Technology Name'] + '_' + nh3['Metric'] + '_' + nh3['Country Code']\n",
    "nh3.set_index('ID', drop=True, inplace=True)\n"
   ]
  },
  {
   "cell_type": "code",
   "execution_count": 5,
   "id": "5b40a7f7",
   "metadata": {},
   "outputs": [
    {
     "name": "stdout",
     "output_type": "stream",
     "text": [
      "Data saved to: /Users/jennagreene/Documents/GitHub/HATCH_data/cleaned_data/ammonia.csv\n"
     ]
    }
   ],
   "source": [
    "output_file = 'ammonia.csv'\n",
    "output_file_path = os.path.join(cleaned_data_path, output_file)\n",
    "\n",
    "nh3.to_csv(output_file_path)\n",
    "print(\"Data saved to:\", output_file_path)\n"
   ]
  },
  {
   "cell_type": "code",
   "execution_count": null,
   "id": "a5b2375a",
   "metadata": {},
   "outputs": [],
   "source": []
  }
 ],
 "metadata": {
  "kernelspec": {
   "display_name": "Python 3 (ipykernel)",
   "language": "python",
   "name": "python3"
  },
  "language_info": {
   "codemirror_mode": {
    "name": "ipython",
    "version": 3
   },
   "file_extension": ".py",
   "mimetype": "text/x-python",
   "name": "python",
   "nbconvert_exporter": "python",
   "pygments_lexer": "ipython3",
   "version": "3.10.9"
  }
 },
 "nbformat": 4,
 "nbformat_minor": 5
}
