{
 "cells": [
  {
   "cell_type": "code",
   "execution_count": 1,
   "id": "4d8c4a0d",
   "metadata": {},
   "outputs": [],
   "source": [
    "import os\n",
    "import pandas as pd\n",
    "from pandas import Series, DataFrame\n",
    "import country_converter as coco"
   ]
  },
  {
   "cell_type": "code",
   "execution_count": 2,
   "id": "bba627ee",
   "metadata": {},
   "outputs": [],
   "source": [
    "# https://www.submarinecablemap.com/\n"
   ]
  },
  {
   "cell_type": "code",
   "execution_count": 3,
   "id": "9983563f",
   "metadata": {},
   "outputs": [],
   "source": [
    "os.chdir('/Users/ariana/desktop/historical_tech')"
   ]
  },
  {
   "cell_type": "code",
   "execution_count": 4,
   "id": "b1baf541",
   "metadata": {},
   "outputs": [],
   "source": [
    "submarine_cables = pd.read_excel('raw data/UndergroundCables_Data.xlsx')\n",
    "submarine_cables\n",
    "submarine_cables = submarine_cables.groupby('Year').sum().cumsum()\n",
    "submarine_cables = submarine_cables.transpose()\n",
    "submarine_cables.columns.name = None\n",
    "submarine_cables['Country Name'] = 'World'\n",
    "submarine_cables['Country Code'] = 'World'\n",
    "submarine_cables['Spatial Scale'] = 'Global'\n",
    "submarine_cables['Unit'] = 'kilometers'\n",
    "submarine_cables['Data Source'] = 'TeleGeography'\n",
    "submarine_cables['Technology Name'] = 'Submarine Cables'\n",
    "submarine_cables['Metric'] = 'Cumulative Length'\n",
    "submarine_cables['ID'] = submarine_cables['Technology Name'] + '_' + submarine_cables['Metric'] + '_' + submarine_cables['Country Code']\n",
    "submarine_cables.set_index('ID', drop=True, inplace=True)\n",
    "submarine_cables.to_csv('cleaned data/submarine_cables.csv')"
   ]
  },
  {
   "cell_type": "code",
   "execution_count": null,
   "id": "2f44bdb2",
   "metadata": {},
   "outputs": [],
   "source": []
  }
 ],
 "metadata": {
  "kernelspec": {
   "display_name": "Python 3 (ipykernel)",
   "language": "python",
   "name": "python3"
  },
  "language_info": {
   "codemirror_mode": {
    "name": "ipython",
    "version": 3
   },
   "file_extension": ".py",
   "mimetype": "text/x-python",
   "name": "python",
   "nbconvert_exporter": "python",
   "pygments_lexer": "ipython3",
   "version": "3.9.13"
  }
 },
 "nbformat": 4,
 "nbformat_minor": 5
}
