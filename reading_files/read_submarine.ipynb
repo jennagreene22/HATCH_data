{
 "cells": [
  {
   "cell_type": "code",
   "execution_count": 1,
   "id": "4d8c4a0d",
   "metadata": {},
   "outputs": [],
   "source": [
    "import os\n",
    "import pandas as pd\n",
    "from pandas import Series, DataFrame\n",
    "import country_converter as coco"
   ]
  },
  {
   "attachments": {},
   "cell_type": "markdown",
   "id": "bba627ee",
   "metadata": {},
   "source": [
    "Data sources:\n",
    "- https://www.submarinecablemap.com/\n"
   ]
  },
  {
   "cell_type": "code",
   "execution_count": 2,
   "id": "c2c1b503",
   "metadata": {},
   "outputs": [
    {
     "name": "stdout",
     "output_type": "stream",
     "text": [
      "Current working directory: /Users/jennagreene/Documents/GitHub/HATCH_data/reading_files\n"
     ]
    }
   ],
   "source": [
    "## Get current working directory\n",
    "print(\"Current working directory:\", os.getcwd())\n",
    "\n",
    "## Find path to raw data (for the raw files)\n",
    "raw_data_path = os.path.abspath(os.path.join(os.getcwd(), '..', 'raw_data'))\n",
    "\n",
    "## Find path to folder for saving cleaned csv\n",
    "cleaned_data_path = os.path.abspath(os.path.join(os.getcwd(), '..', 'cleaned_data'))"
   ]
  },
  {
   "cell_type": "code",
   "execution_count": 3,
   "id": "3ab4f9e2",
   "metadata": {},
   "outputs": [],
   "source": [
    "target_file = '/UndergroundCables_Data.xlsx'\n",
    "target_filepath = raw_data_path + target_file"
   ]
  },
  {
   "cell_type": "code",
   "execution_count": 4,
   "id": "b1baf541",
   "metadata": {},
   "outputs": [
    {
     "data": {
      "text/html": [
       "<div>\n",
       "<style scoped>\n",
       "    .dataframe tbody tr th:only-of-type {\n",
       "        vertical-align: middle;\n",
       "    }\n",
       "\n",
       "    .dataframe tbody tr th {\n",
       "        vertical-align: top;\n",
       "    }\n",
       "\n",
       "    .dataframe thead th {\n",
       "        text-align: right;\n",
       "    }\n",
       "</style>\n",
       "<table border=\"1\" class=\"dataframe\">\n",
       "  <thead>\n",
       "    <tr style=\"text-align: right;\">\n",
       "      <th></th>\n",
       "      <th>1989</th>\n",
       "      <th>1990</th>\n",
       "      <th>1991</th>\n",
       "      <th>1992</th>\n",
       "      <th>1993</th>\n",
       "      <th>1994</th>\n",
       "      <th>1995</th>\n",
       "      <th>1996</th>\n",
       "      <th>1997</th>\n",
       "      <th>1998</th>\n",
       "      <th>...</th>\n",
       "      <th>2019</th>\n",
       "      <th>2020</th>\n",
       "      <th>2021</th>\n",
       "      <th>Country Name</th>\n",
       "      <th>Country Code</th>\n",
       "      <th>Spatial Scale</th>\n",
       "      <th>Unit</th>\n",
       "      <th>Data Source</th>\n",
       "      <th>Technology Name</th>\n",
       "      <th>Metric</th>\n",
       "    </tr>\n",
       "    <tr>\n",
       "      <th>ID</th>\n",
       "      <th></th>\n",
       "      <th></th>\n",
       "      <th></th>\n",
       "      <th></th>\n",
       "      <th></th>\n",
       "      <th></th>\n",
       "      <th></th>\n",
       "      <th></th>\n",
       "      <th></th>\n",
       "      <th></th>\n",
       "      <th></th>\n",
       "      <th></th>\n",
       "      <th></th>\n",
       "      <th></th>\n",
       "      <th></th>\n",
       "      <th></th>\n",
       "      <th></th>\n",
       "      <th></th>\n",
       "      <th></th>\n",
       "      <th></th>\n",
       "      <th></th>\n",
       "    </tr>\n",
       "  </thead>\n",
       "  <tbody>\n",
       "    <tr>\n",
       "      <th>Submarine Cables_Cumulative Length_World</th>\n",
       "      <td>193</td>\n",
       "      <td>902</td>\n",
       "      <td>2053</td>\n",
       "      <td>4150</td>\n",
       "      <td>6693</td>\n",
       "      <td>18495</td>\n",
       "      <td>34416</td>\n",
       "      <td>53402</td>\n",
       "      <td>116944</td>\n",
       "      <td>199960</td>\n",
       "      <td>...</td>\n",
       "      <td>15491766</td>\n",
       "      <td>16746188</td>\n",
       "      <td>18045989</td>\n",
       "      <td>World</td>\n",
       "      <td>World</td>\n",
       "      <td>Global</td>\n",
       "      <td>kilometers</td>\n",
       "      <td>TeleGeography</td>\n",
       "      <td>Submarine Cables</td>\n",
       "      <td>Cumulative Length</td>\n",
       "    </tr>\n",
       "  </tbody>\n",
       "</table>\n",
       "<p>1 rows × 40 columns</p>\n",
       "</div>"
      ],
      "text/plain": [
       "                                          1989  1990  1991  1992  1993   1994  \\\n",
       "ID                                                                              \n",
       "Submarine Cables_Cumulative Length_World   193   902  2053  4150  6693  18495   \n",
       "\n",
       "                                           1995   1996    1997    1998  ...  \\\n",
       "ID                                                                      ...   \n",
       "Submarine Cables_Cumulative Length_World  34416  53402  116944  199960  ...   \n",
       "\n",
       "                                              2019      2020      2021  \\\n",
       "ID                                                                       \n",
       "Submarine Cables_Cumulative Length_World  15491766  16746188  18045989   \n",
       "\n",
       "                                          Country Name  Country Code  \\\n",
       "ID                                                                     \n",
       "Submarine Cables_Cumulative Length_World         World         World   \n",
       "\n",
       "                                          Spatial Scale        Unit  \\\n",
       "ID                                                                    \n",
       "Submarine Cables_Cumulative Length_World         Global  kilometers   \n",
       "\n",
       "                                            Data Source   Technology Name  \\\n",
       "ID                                                                          \n",
       "Submarine Cables_Cumulative Length_World  TeleGeography  Submarine Cables   \n",
       "\n",
       "                                                     Metric  \n",
       "ID                                                           \n",
       "Submarine Cables_Cumulative Length_World  Cumulative Length  \n",
       "\n",
       "[1 rows x 40 columns]"
      ]
     },
     "execution_count": 4,
     "metadata": {},
     "output_type": "execute_result"
    }
   ],
   "source": [
    "submarine_cables = pd.read_excel(target_filepath, sheet_name = 'Time Series')\n",
    "submarine_cables = submarine_cables.groupby('Year').sum().cumsum()\n",
    "submarine_cables = submarine_cables.transpose()\n",
    "submarine_cables.columns.name = None\n",
    "submarine_cables['Country Name'] = 'World'\n",
    "submarine_cables['Country Code'] = 'World'\n",
    "submarine_cables['Spatial Scale'] = 'Global'\n",
    "submarine_cables['Unit'] = 'kilometers'\n",
    "submarine_cables['Data Source'] = 'TeleGeography'\n",
    "submarine_cables['Technology Name'] = 'Submarine Cables'\n",
    "submarine_cables['Metric'] = 'Cumulative Length'\n",
    "submarine_cables['ID'] = submarine_cables['Technology Name'] + '_' + submarine_cables['Metric'] + '_' + submarine_cables['Country Code']\n",
    "submarine_cables.set_index('ID', drop=True, inplace=True)\n",
    "submarine_cables"
   ]
  },
  {
   "cell_type": "code",
   "execution_count": 5,
   "id": "2f44bdb2",
   "metadata": {},
   "outputs": [
    {
     "name": "stdout",
     "output_type": "stream",
     "text": [
      "Data saved to: /Users/jennagreene/Documents/GitHub/HATCH_data/cleaned_data/submarine_cables.csv\n"
     ]
    }
   ],
   "source": [
    "output_file = 'submarine_cables.csv'\n",
    "output_file_path = os.path.join(cleaned_data_path, output_file)\n",
    "\n",
    "submarine_cables.to_csv(output_file_path)\n",
    "print(\"Data saved to:\", output_file_path)\n"
   ]
  },
  {
   "cell_type": "code",
   "execution_count": null,
   "id": "8c113afe",
   "metadata": {},
   "outputs": [],
   "source": []
  }
 ],
 "metadata": {
  "kernelspec": {
   "display_name": "Python 3 (ipykernel)",
   "language": "python",
   "name": "python3"
  },
  "language_info": {
   "codemirror_mode": {
    "name": "ipython",
    "version": 3
   },
   "file_extension": ".py",
   "mimetype": "text/x-python",
   "name": "python",
   "nbconvert_exporter": "python",
   "pygments_lexer": "ipython3",
   "version": "3.10.9"
  }
 },
 "nbformat": 4,
 "nbformat_minor": 5
}
