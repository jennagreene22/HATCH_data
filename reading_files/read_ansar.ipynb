{
 "cells": [
  {
   "cell_type": "code",
   "execution_count": 3,
   "id": "dfe741a5",
   "metadata": {},
   "outputs": [],
   "source": [
    "import os\n",
    "import pandas as pd\n",
    "from pandas import Series, DataFrame\n",
    "import country_converter as coco"
   ]
  },
  {
   "attachments": {},
   "cell_type": "markdown",
   "id": "c9d61213",
   "metadata": {},
   "source": [
    "Technology: Megadam price\n",
    "\n",
    "Source: https://doi.org/10.1016/j.enpol.2013.10.069"
   ]
  },
  {
   "cell_type": "code",
   "execution_count": 7,
   "id": "6fc73be2",
   "metadata": {},
   "outputs": [
    {
     "name": "stdout",
     "output_type": "stream",
     "text": [
      "Current working directory: /Users/jennagreene/Documents/GitHub/HATCH_data/reading_files\n"
     ]
    }
   ],
   "source": [
    "## Get current working directory\n",
    "print(\"Current working directory:\", os.getcwd())\n",
    "\n",
    "## Find path to raw data (for the raw files)\n",
    "raw_data_path = os.path.abspath(os.path.join(os.getcwd(), '..', 'raw_data'))\n",
    "\n",
    "## Find path to folder for saving cleaned csv\n",
    "cleaned_data_path = os.path.abspath(os.path.join(os.getcwd(), '..', 'cleaned_data'))\n",
    "\n",
    "## Find path to folder for inflation\n",
    "inflation_data_path = os.path.abspath(os.path.join(os.getcwd(), '..', 'inflation'))"
   ]
  },
  {
   "cell_type": "code",
   "execution_count": 5,
   "id": "c3311f4c",
   "metadata": {},
   "outputs": [
    {
     "data": {
      "text/plain": [
       "'/Users/jennagreene/Documents/GitHub/HATCH_data/raw_data/cost data/Ansar et al.xlsx'"
      ]
     },
     "execution_count": 5,
     "metadata": {},
     "output_type": "execute_result"
    }
   ],
   "source": [
    "## ADJUST BASED ON EACH TECHNOLOGY\n",
    "\n",
    "# Find and read the CSV file from the raw_data folder\n",
    "target_file = 'cost data/Ansar et al.xlsx'\n",
    "target_file_path = os.path.join(raw_data_path, target_file)\n",
    "\n",
    "target_file_path"
   ]
  },
  {
   "cell_type": "code",
   "execution_count": 8,
   "id": "888f0ede",
   "metadata": {},
   "outputs": [
    {
     "data": {
      "text/plain": [
       "'/Users/jennagreene/Documents/GitHub/HATCH_data/inflation/A001RG3A086NBEA.xls'"
      ]
     },
     "execution_count": 8,
     "metadata": {},
     "output_type": "execute_result"
    }
   ],
   "source": [
    "target_inflation_file = 'A001RG3A086NBEA.xls'\n",
    "target_inflation_path = os.path.join(inflation_data_path, target_inflation_file)\n",
    "target_inflation_path"
   ]
  },
  {
   "attachments": {},
   "cell_type": "markdown",
   "id": "c8ba83e9",
   "metadata": {},
   "source": [
    "Adjust for inflation"
   ]
  },
  {
   "cell_type": "code",
   "execution_count": 10,
   "id": "198b4d47",
   "metadata": {},
   "outputs": [
    {
     "name": "stderr",
     "output_type": "stream",
     "text": [
      "/var/folders/cy/xd4mmw610b3cr6tjgv0h8hlr0000gn/T/ipykernel_78368/1553214070.py:13: FutureWarning: Calling float on a single element Series is deprecated and will raise a TypeError in the future. Use float(ser.iloc[0]) instead\n",
      "  infl_2012_2022 = float(nipa[2022]/nipa[2012])\n"
     ]
    },
    {
     "data": {
      "text/plain": [
       "1.27197"
      ]
     },
     "execution_count": 10,
     "metadata": {},
     "output_type": "execute_result"
    }
   ],
   "source": [
    "## adjusting for inflation from 2012 USD to 2022 USD\n",
    "nipa = pd.read_excel(target_inflation_path, header=10)\n",
    "\n",
    "year_list = []\n",
    "for x in nipa['observation_date']:\n",
    "    x = int(str(x)[:4])\n",
    "    year_list.append(x)\n",
    "nipa['Year'] = year_list\n",
    "nipa.set_index('Year', drop=True, inplace=True)\n",
    "nipa.drop(columns='observation_date', inplace=True)\n",
    "nipa = nipa.transpose()\n",
    "\n",
    "infl_2012_2022 = float(nipa[2022]/nipa[2012])\n",
    "infl_2012_2022"
   ]
  },
  {
   "attachments": {},
   "cell_type": "markdown",
   "id": "12900b08",
   "metadata": {},
   "source": [
    "Transpose and add characteristics to data"
   ]
  },
  {
   "cell_type": "code",
   "execution_count": 11,
   "id": "158a5019",
   "metadata": {},
   "outputs": [
    {
     "data": {
      "text/html": [
       "<div>\n",
       "<style scoped>\n",
       "    .dataframe tbody tr th:only-of-type {\n",
       "        vertical-align: middle;\n",
       "    }\n",
       "\n",
       "    .dataframe tbody tr th {\n",
       "        vertical-align: top;\n",
       "    }\n",
       "\n",
       "    .dataframe thead th {\n",
       "        text-align: right;\n",
       "    }\n",
       "</style>\n",
       "<table border=\"1\" class=\"dataframe\">\n",
       "  <thead>\n",
       "    <tr style=\"text-align: right;\">\n",
       "      <th>Date</th>\n",
       "      <th>1936</th>\n",
       "      <th>1942</th>\n",
       "      <th>1948</th>\n",
       "      <th>1950</th>\n",
       "      <th>1953</th>\n",
       "      <th>1956</th>\n",
       "      <th>1959</th>\n",
       "      <th>1963</th>\n",
       "      <th>1968</th>\n",
       "      <th>1970</th>\n",
       "      <th>...</th>\n",
       "      <th>2011</th>\n",
       "      <th>2012</th>\n",
       "      <th>2013</th>\n",
       "      <th>Data Source</th>\n",
       "      <th>Country Name</th>\n",
       "      <th>Country Code</th>\n",
       "      <th>Spatial Scale</th>\n",
       "      <th>Metric</th>\n",
       "      <th>Technology Name</th>\n",
       "      <th>Unit</th>\n",
       "    </tr>\n",
       "    <tr>\n",
       "      <th>ID</th>\n",
       "      <th></th>\n",
       "      <th></th>\n",
       "      <th></th>\n",
       "      <th></th>\n",
       "      <th></th>\n",
       "      <th></th>\n",
       "      <th></th>\n",
       "      <th></th>\n",
       "      <th></th>\n",
       "      <th></th>\n",
       "      <th></th>\n",
       "      <th></th>\n",
       "      <th></th>\n",
       "      <th></th>\n",
       "      <th></th>\n",
       "      <th></th>\n",
       "      <th></th>\n",
       "      <th></th>\n",
       "      <th></th>\n",
       "      <th></th>\n",
       "      <th></th>\n",
       "    </tr>\n",
       "  </thead>\n",
       "  <tbody>\n",
       "    <tr>\n",
       "      <th>Hydropower Mega-Dams_Price_World</th>\n",
       "      <td>1707.746922</td>\n",
       "      <td>2501.583399</td>\n",
       "      <td>186.725196</td>\n",
       "      <td>189.396333</td>\n",
       "      <td>196.519365</td>\n",
       "      <td>5331.716649</td>\n",
       "      <td>3900.877596</td>\n",
       "      <td>234.424071</td>\n",
       "      <td>2316.002976</td>\n",
       "      <td>3137.94999</td>\n",
       "      <td>...</td>\n",
       "      <td>1662.401192</td>\n",
       "      <td>3362.579892</td>\n",
       "      <td>13176.973215</td>\n",
       "      <td>Ansar et al.</td>\n",
       "      <td>World</td>\n",
       "      <td>World</td>\n",
       "      <td>Global</td>\n",
       "      <td>Price</td>\n",
       "      <td>Hydropower Mega-Dams</td>\n",
       "      <td>2022 USD/kW</td>\n",
       "    </tr>\n",
       "  </tbody>\n",
       "</table>\n",
       "<p>1 rows × 43 columns</p>\n",
       "</div>"
      ],
      "text/plain": [
       "Date                                     1936         1942        1948  \\\n",
       "ID                                                                       \n",
       "Hydropower Mega-Dams_Price_World  1707.746922  2501.583399  186.725196   \n",
       "\n",
       "Date                                    1950        1953         1956  \\\n",
       "ID                                                                      \n",
       "Hydropower Mega-Dams_Price_World  189.396333  196.519365  5331.716649   \n",
       "\n",
       "Date                                     1959        1963         1968  \\\n",
       "ID                                                                       \n",
       "Hydropower Mega-Dams_Price_World  3900.877596  234.424071  2316.002976   \n",
       "\n",
       "Date                                    1970  ...         2011         2012  \\\n",
       "ID                                            ...                             \n",
       "Hydropower Mega-Dams_Price_World  3137.94999  ...  1662.401192  3362.579892   \n",
       "\n",
       "Date                                      2013   Data Source  Country Name  \\\n",
       "ID                                                                           \n",
       "Hydropower Mega-Dams_Price_World  13176.973215  Ansar et al.         World   \n",
       "\n",
       "Date                              Country Code  Spatial Scale  Metric  \\\n",
       "ID                                                                      \n",
       "Hydropower Mega-Dams_Price_World         World         Global   Price   \n",
       "\n",
       "Date                                   Technology Name         Unit  \n",
       "ID                                                                   \n",
       "Hydropower Mega-Dams_Price_World  Hydropower Mega-Dams  2022 USD/kW  \n",
       "\n",
       "[1 rows x 43 columns]"
      ]
     },
     "execution_count": 11,
     "metadata": {},
     "output_type": "execute_result"
    }
   ],
   "source": [
    "df = pd.read_excel(target_file_path, usecols=[0,1,13])\n",
    "df = df[df['Source']=='Hydro']\n",
    "num_list = []\n",
    "for x in df['Cost/kW**']:\n",
    "    num = float(x.replace(',','.'))\n",
    "    num_list.append(num)\n",
    "df['2012 USD/kW'] = num_list\n",
    "df.drop(columns=['Source', 'Cost/kW**'], inplace=True)\n",
    "df = df.groupby(['Date']).mean()\n",
    "df = df.transpose()\n",
    "# adjust for inflation\n",
    "df.iloc[0] = df.iloc[0] * infl_2012_2022\n",
    "df['Data Source'] = 'Ansar et al.'\n",
    "df['Country Name'] = 'World'\n",
    "df['Country Code'] = 'World'\n",
    "df['Spatial Scale'] = 'Global'\n",
    "df['Metric'] = 'Price'\n",
    "df['Technology Name'] = 'Hydropower Mega-Dams'\n",
    "df['Unit'] = '2022 USD/kW'\n",
    "df['ID'] = df['Technology Name'] + '_' + df['Metric'] + '_' + df['Country Code']\n",
    "df.set_index('ID', drop=True, inplace=True)\n",
    "df"
   ]
  },
  {
   "attachments": {},
   "cell_type": "markdown",
   "id": "f18cd682",
   "metadata": {},
   "source": [
    "Save data"
   ]
  },
  {
   "cell_type": "code",
   "execution_count": 12,
   "id": "50d9d7cd",
   "metadata": {},
   "outputs": [
    {
     "name": "stdout",
     "output_type": "stream",
     "text": [
      "Data saved to: /Users/jennagreene/Documents/GitHub/HATCH_data/cleaned_data/megadams_price.csv\n"
     ]
    }
   ],
   "source": [
    "## Change file name to save\n",
    "\n",
    "megadams_price = df\n",
    "output_file = 'megadams_price.csv'\n",
    "\n",
    "output_file_path = os.path.join(cleaned_data_path, output_file)\n",
    "\n",
    "megadams_price.to_csv(output_file_path)\n",
    "print(\"Data saved to:\", output_file_path)"
   ]
  }
 ],
 "metadata": {
  "kernelspec": {
   "display_name": "Python 3 (ipykernel)",
   "language": "python",
   "name": "python3"
  },
  "language_info": {
   "codemirror_mode": {
    "name": "ipython",
    "version": 3
   },
   "file_extension": ".py",
   "mimetype": "text/x-python",
   "name": "python",
   "nbconvert_exporter": "python",
   "pygments_lexer": "ipython3",
   "version": "3.10.9"
  }
 },
 "nbformat": 4,
 "nbformat_minor": 5
}
