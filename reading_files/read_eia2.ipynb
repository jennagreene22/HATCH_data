{
 "cells": [
  {
   "cell_type": "code",
   "execution_count": 1,
   "id": "e4ae779d",
   "metadata": {},
   "outputs": [],
   "source": [
    "import pandas as pd\n",
    "from pandas import Series, DataFrame\n",
    "import country_converter as coco\n",
    "import os"
   ]
  },
  {
   "attachments": {},
   "cell_type": "markdown",
   "id": "74083a07",
   "metadata": {},
   "source": [
    "Data sources:\n",
    "\n",
    "- https://www.eia.gov/dnav/ng/hist/res_epg0_r5302_nus_bcfa.htm"
   ]
  },
  {
   "attachments": {},
   "cell_type": "markdown",
   "id": "e5a80fe2",
   "metadata": {},
   "source": [
    "Find file path"
   ]
  },
  {
   "cell_type": "code",
   "execution_count": 2,
   "id": "638d0a9b",
   "metadata": {},
   "outputs": [
    {
     "name": "stdout",
     "output_type": "stream",
     "text": [
      "Current working directory: /Users/jennagreene/Documents/GitHub/HATCH_data/reading_files\n"
     ]
    }
   ],
   "source": [
    "## Get current working directory\n",
    "print(\"Current working directory:\", os.getcwd())\n",
    "\n",
    "## Find path to raw data (for the raw files)\n",
    "raw_data_path = os.path.abspath(os.path.join(os.getcwd(), '..', 'raw_data'))\n",
    "\n",
    "## Find path to folder for saving cleaned csv\n",
    "cleaned_data_path = os.path.abspath(os.path.join(os.getcwd(), '..', 'cleaned_data'))"
   ]
  },
  {
   "attachments": {},
   "cell_type": "markdown",
   "id": "4a9494cb",
   "metadata": {},
   "source": [
    "Target file path"
   ]
  },
  {
   "cell_type": "code",
   "execution_count": 3,
   "id": "ccf92783",
   "metadata": {},
   "outputs": [],
   "source": [
    "# Find and read the CSV file from the raw_data folder\n",
    "target_file = 'RES_EPG0_R5302_NUS_BCFa.xls'\n",
    "target_file_path = os.path.join(raw_data_path, target_file)"
   ]
  },
  {
   "attachments": {},
   "cell_type": "markdown",
   "id": "0079fecf",
   "metadata": {},
   "source": [
    "Transpose and add characteristics of tech"
   ]
  },
  {
   "cell_type": "code",
   "execution_count": 4,
   "id": "2eccc315",
   "metadata": {},
   "outputs": [
    {
     "data": {
      "text/html": [
       "<div>\n",
       "<style scoped>\n",
       "    .dataframe tbody tr th:only-of-type {\n",
       "        vertical-align: middle;\n",
       "    }\n",
       "\n",
       "    .dataframe tbody tr th {\n",
       "        vertical-align: top;\n",
       "    }\n",
       "\n",
       "    .dataframe thead th {\n",
       "        text-align: right;\n",
       "    }\n",
       "</style>\n",
       "<table border=\"1\" class=\"dataframe\">\n",
       "  <thead>\n",
       "    <tr style=\"text-align: right;\">\n",
       "      <th>Year</th>\n",
       "      <th>2007</th>\n",
       "      <th>2008</th>\n",
       "      <th>2009</th>\n",
       "      <th>2010</th>\n",
       "      <th>2011</th>\n",
       "      <th>2012</th>\n",
       "      <th>2013</th>\n",
       "      <th>2014</th>\n",
       "      <th>2015</th>\n",
       "      <th>2016</th>\n",
       "      <th>...</th>\n",
       "      <th>2018</th>\n",
       "      <th>2019</th>\n",
       "      <th>Technology Name</th>\n",
       "      <th>Country Name</th>\n",
       "      <th>Country Code</th>\n",
       "      <th>Spatial Scale</th>\n",
       "      <th>Metric</th>\n",
       "      <th>Unit</th>\n",
       "      <th>Data Source</th>\n",
       "      <th>ID</th>\n",
       "    </tr>\n",
       "  </thead>\n",
       "  <tbody>\n",
       "    <tr>\n",
       "      <th>U.S. Shale Production (Billion Cubic Feet)</th>\n",
       "      <td>1293</td>\n",
       "      <td>2116</td>\n",
       "      <td>3110</td>\n",
       "      <td>5336</td>\n",
       "      <td>7994</td>\n",
       "      <td>10371</td>\n",
       "      <td>11415</td>\n",
       "      <td>13447</td>\n",
       "      <td>15213</td>\n",
       "      <td>17032</td>\n",
       "      <td>...</td>\n",
       "      <td>22054</td>\n",
       "      <td>25556</td>\n",
       "      <td>Shale Production</td>\n",
       "      <td>United States</td>\n",
       "      <td>US</td>\n",
       "      <td>National</td>\n",
       "      <td>Annual production</td>\n",
       "      <td>billion cubic feet</td>\n",
       "      <td>EIA</td>\n",
       "      <td>Shale Production_Annual production_US</td>\n",
       "    </tr>\n",
       "  </tbody>\n",
       "</table>\n",
       "<p>1 rows × 21 columns</p>\n",
       "</div>"
      ],
      "text/plain": [
       "Year                                        2007  2008  2009  2010  2011  \\\n",
       "U.S. Shale Production (Billion Cubic Feet)  1293  2116  3110  5336  7994   \n",
       "\n",
       "Year                                         2012   2013   2014   2015   2016  \\\n",
       "U.S. Shale Production (Billion Cubic Feet)  10371  11415  13447  15213  17032   \n",
       "\n",
       "Year                                        ...   2018   2019  \\\n",
       "U.S. Shale Production (Billion Cubic Feet)  ...  22054  25556   \n",
       "\n",
       "Year                                         Technology Name   Country Name  \\\n",
       "U.S. Shale Production (Billion Cubic Feet)  Shale Production  United States   \n",
       "\n",
       "Year                                       Country Code Spatial Scale  \\\n",
       "U.S. Shale Production (Billion Cubic Feet)           US      National   \n",
       "\n",
       "Year                                                   Metric  \\\n",
       "U.S. Shale Production (Billion Cubic Feet)  Annual production   \n",
       "\n",
       "Year                                                      Unit Data Source  \\\n",
       "U.S. Shale Production (Billion Cubic Feet)  billion cubic feet         EIA   \n",
       "\n",
       "Year                                                                           ID  \n",
       "U.S. Shale Production (Billion Cubic Feet)  Shale Production_Annual production_US  \n",
       "\n",
       "[1 rows x 21 columns]"
      ]
     },
     "execution_count": 4,
     "metadata": {},
     "output_type": "execute_result"
    }
   ],
   "source": [
    "eia = pd.read_excel(target_file_path, sheet_name='Data 1', header=2)\n",
    "years = []\n",
    "for val in eia['Date']:\n",
    "    val = str(val)\n",
    "    years.append(val[:4])\n",
    "eia['Year'] = years\n",
    "eia.drop(columns='Date', inplace=True)\n",
    "eia.set_index('Year', inplace=True)\n",
    "eia = eia.transpose()\n",
    "eia['Technology Name'] = 'Shale Production'\n",
    "eia['Country Name'] = 'United States'\n",
    "eia['Country Code'] = 'US'\n",
    "eia['Spatial Scale'] = 'National'\n",
    "eia['Metric'] = 'Annual production'\n",
    "eia['Unit'] = 'billion cubic feet'\n",
    "eia['Data Source'] = 'EIA'\n",
    "eia['ID'] = eia['Technology Name'] + '_' + eia['Metric'] + '_' + eia['Country Code']\n",
    "eia"
   ]
  },
  {
   "attachments": {},
   "cell_type": "markdown",
   "id": "6428bdf9",
   "metadata": {},
   "source": [
    "Save file"
   ]
  },
  {
   "cell_type": "code",
   "execution_count": 5,
   "id": "87ff9809",
   "metadata": {},
   "outputs": [
    {
     "name": "stdout",
     "output_type": "stream",
     "text": [
      "Data saved to: /Users/jennagreene/Documents/GitHub/HATCH_data/cleaned_data/eia2.csv\n"
     ]
    }
   ],
   "source": [
    "output_file = 'eia2.csv'\n",
    "output_file_path = os.path.join(cleaned_data_path, output_file)\n",
    "\n",
    "eia.to_csv(output_file_path, index = False)\n",
    "print(\"Data saved to:\", output_file_path)\n"
   ]
  },
  {
   "cell_type": "code",
   "execution_count": null,
   "id": "0de917a3",
   "metadata": {},
   "outputs": [],
   "source": []
  }
 ],
 "metadata": {
  "kernelspec": {
   "display_name": "Python 3 (ipykernel)",
   "language": "python",
   "name": "python3"
  },
  "language_info": {
   "codemirror_mode": {
    "name": "ipython",
    "version": 3
   },
   "file_extension": ".py",
   "mimetype": "text/x-python",
   "name": "python",
   "nbconvert_exporter": "python",
   "pygments_lexer": "ipython3",
   "version": "3.10.9"
  }
 },
 "nbformat": 4,
 "nbformat_minor": 5
}
