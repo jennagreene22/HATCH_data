{
 "cells": [
  {
   "cell_type": "code",
   "execution_count": 1,
   "id": "e4ae779d",
   "metadata": {},
   "outputs": [],
   "source": [
    "import pandas as pd\n",
    "from pandas import Series, DataFrame\n",
    "import country_converter as coco\n",
    "import os"
   ]
  },
  {
   "attachments": {},
   "cell_type": "markdown",
   "id": "74083a07",
   "metadata": {},
   "source": [
    "Data sources:\n",
    "\n",
    "- https://www.eia.gov/energyexplained/natural-gas/liquefied-natural-gas.php"
   ]
  },
  {
   "attachments": {},
   "cell_type": "markdown",
   "id": "4f009d61",
   "metadata": {},
   "source": [
    "Find file path"
   ]
  },
  {
   "cell_type": "code",
   "execution_count": 2,
   "id": "f5b68af3",
   "metadata": {},
   "outputs": [
    {
     "name": "stdout",
     "output_type": "stream",
     "text": [
      "Current working directory: /Users/jennagreene/Documents/GitHub/HATCH_data/reading_files\n"
     ]
    }
   ],
   "source": [
    "## Get current working directory\n",
    "print(\"Current working directory:\", os.getcwd())\n",
    "\n",
    "## Find path to raw data (for the raw files)\n",
    "raw_data_path = os.path.abspath(os.path.join(os.getcwd(), '..', 'raw_data'))\n",
    "\n",
    "## Find path to folder for saving cleaned csv\n",
    "cleaned_data_path = os.path.abspath(os.path.join(os.getcwd(), '..', 'cleaned_data'))"
   ]
  },
  {
   "attachments": {},
   "cell_type": "markdown",
   "id": "9bcf6be6",
   "metadata": {},
   "source": [
    "Target file path"
   ]
  },
  {
   "cell_type": "code",
   "execution_count": 3,
   "id": "32dbb0d4",
   "metadata": {},
   "outputs": [],
   "source": [
    "# Find and read the CSV file from the raw_data folder\n",
    "target_file = 'lng-imports-exports.csv'\n",
    "target_file_path = os.path.join(raw_data_path, target_file)"
   ]
  },
  {
   "attachments": {},
   "cell_type": "markdown",
   "id": "f2b2be95",
   "metadata": {},
   "source": [
    "Transpose and add characteristics to data"
   ]
  },
  {
   "cell_type": "code",
   "execution_count": 4,
   "id": "2eccc315",
   "metadata": {},
   "outputs": [
    {
     "data": {
      "text/html": [
       "<div>\n",
       "<style scoped>\n",
       "    .dataframe tbody tr th:only-of-type {\n",
       "        vertical-align: middle;\n",
       "    }\n",
       "\n",
       "    .dataframe tbody tr th {\n",
       "        vertical-align: top;\n",
       "    }\n",
       "\n",
       "    .dataframe thead th {\n",
       "        text-align: right;\n",
       "    }\n",
       "</style>\n",
       "<table border=\"1\" class=\"dataframe\">\n",
       "  <thead>\n",
       "    <tr style=\"text-align: right;\">\n",
       "      <th></th>\n",
       "      <th>1985</th>\n",
       "      <th>1986</th>\n",
       "      <th>1987</th>\n",
       "      <th>1988</th>\n",
       "      <th>1989</th>\n",
       "      <th>1990</th>\n",
       "      <th>1991</th>\n",
       "      <th>1992</th>\n",
       "      <th>1993</th>\n",
       "      <th>1994</th>\n",
       "      <th>...</th>\n",
       "      <th>2020</th>\n",
       "      <th>2021</th>\n",
       "      <th>Technology Name</th>\n",
       "      <th>Data Source</th>\n",
       "      <th>Unit</th>\n",
       "      <th>Metric</th>\n",
       "      <th>Country Name</th>\n",
       "      <th>Spatial Scale</th>\n",
       "      <th>Country Code</th>\n",
       "      <th>ID</th>\n",
       "    </tr>\n",
       "  </thead>\n",
       "  <tbody>\n",
       "    <tr>\n",
       "      <th>exports</th>\n",
       "      <td>52.88</td>\n",
       "      <td>50.17</td>\n",
       "      <td>48.6</td>\n",
       "      <td>51.57</td>\n",
       "      <td>51.42</td>\n",
       "      <td>52.55</td>\n",
       "      <td>54.01</td>\n",
       "      <td>52.53</td>\n",
       "      <td>55.99</td>\n",
       "      <td>62.68</td>\n",
       "      <td>...</td>\n",
       "      <td>2389.84</td>\n",
       "      <td>3560.82</td>\n",
       "      <td>Liquefied Natural Gas</td>\n",
       "      <td>EIA</td>\n",
       "      <td>billion cubic feet</td>\n",
       "      <td>Annual Production</td>\n",
       "      <td>United States</td>\n",
       "      <td>National</td>\n",
       "      <td>US</td>\n",
       "      <td>Liquefied Natural Gas_Annual Production_US</td>\n",
       "    </tr>\n",
       "  </tbody>\n",
       "</table>\n",
       "<p>1 rows × 45 columns</p>\n",
       "</div>"
      ],
      "text/plain": [
       "          1985   1986  1987   1988   1989   1990   1991   1992   1993   1994  \\\n",
       "exports  52.88  50.17  48.6  51.57  51.42  52.55  54.01  52.53  55.99  62.68   \n",
       "\n",
       "         ...     2020     2021        Technology Name  Data Source  \\\n",
       "exports  ...  2389.84  3560.82  Liquefied Natural Gas          EIA   \n",
       "\n",
       "                       Unit             Metric   Country Name  Spatial Scale  \\\n",
       "exports  billion cubic feet  Annual Production  United States       National   \n",
       "\n",
       "         Country Code                                          ID  \n",
       "exports            US  Liquefied Natural Gas_Annual Production_US  \n",
       "\n",
       "[1 rows x 45 columns]"
      ]
     },
     "execution_count": 4,
     "metadata": {},
     "output_type": "execute_result"
    }
   ],
   "source": [
    "eia = pd.read_csv(target_file_path, header=5, index_col=0, usecols=[0, 2])\n",
    "eia = eia.transpose()\n",
    "eia['Technology Name'] = 'Liquefied Natural Gas'\n",
    "eia['Data Source'] = 'EIA'\n",
    "eia['Unit'] = 'billion cubic feet'\n",
    "eia['Metric'] = 'Annual Production'\n",
    "eia['Country Name'] = 'United States'\n",
    "eia['Spatial Scale'] = 'National'\n",
    "eia['Country Code'] = 'US'\n",
    "eia['ID'] = eia['Technology Name'] + '_' + eia['Metric'] + '_' + eia['Country Code']\n",
    "eia"
   ]
  },
  {
   "attachments": {},
   "cell_type": "markdown",
   "id": "b874cf01",
   "metadata": {},
   "source": [
    "Save file"
   ]
  },
  {
   "cell_type": "code",
   "execution_count": 5,
   "id": "d11d72a6",
   "metadata": {},
   "outputs": [
    {
     "name": "stdout",
     "output_type": "stream",
     "text": [
      "Data saved to: /Users/jennagreene/Documents/GitHub/HATCH_data/cleaned_data/eia.csv\n"
     ]
    }
   ],
   "source": [
    "output_file = 'eia.csv'\n",
    "output_file_path = os.path.join(cleaned_data_path, output_file)\n",
    "\n",
    "eia.to_csv(output_file_path, index = False)\n",
    "print(\"Data saved to:\", output_file_path)\n"
   ]
  },
  {
   "cell_type": "code",
   "execution_count": null,
   "id": "96086aba",
   "metadata": {},
   "outputs": [],
   "source": []
  }
 ],
 "metadata": {
  "kernelspec": {
   "display_name": "Python 3 (ipykernel)",
   "language": "python",
   "name": "python3"
  },
  "language_info": {
   "codemirror_mode": {
    "name": "ipython",
    "version": 3
   },
   "file_extension": ".py",
   "mimetype": "text/x-python",
   "name": "python",
   "nbconvert_exporter": "python",
   "pygments_lexer": "ipython3",
   "version": "3.10.9"
  }
 },
 "nbformat": 4,
 "nbformat_minor": 5
}
