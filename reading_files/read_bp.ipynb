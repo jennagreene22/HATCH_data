{
 "cells": [
  {
   "cell_type": "code",
   "execution_count": 1,
   "id": "60659557",
   "metadata": {},
   "outputs": [],
   "source": [
    "import pandas as pd\n",
    "from pandas import Series, DataFrame\n",
    "import string\n",
    "import country_converter as coco\n",
    "import os"
   ]
  },
  {
   "cell_type": "code",
   "execution_count": 2,
   "id": "e1efb16d",
   "metadata": {},
   "outputs": [],
   "source": [
    "# https://www.bp.com/en/global/corporate/energy-economics/statistical-review-of-world-energy.html\n",
    "# Statistical Review of World Energy - all data, 1965-2021\n",
    "# https://www.bp.com/content/dam/bp/business-sites/en/global/corporate/xlsx/energy-economics/statistical-review/bp-stats-review-2022-all-data.xlsx \n"
   ]
  },
  {
   "cell_type": "code",
   "execution_count": 3,
   "id": "c78cab77",
   "metadata": {},
   "outputs": [],
   "source": [
    "path = '/Users/ariana/desktop/historical_tech'\n",
    "os.chdir(path)"
   ]
  },
  {
   "cell_type": "code",
   "execution_count": 4,
   "id": "47b92c04",
   "metadata": {},
   "outputs": [],
   "source": [
    "def read_bp(sheet):\n",
    "    df = pd.read_excel('raw data/bp-stats-review-2022-all-data.xlsx', sheet_name=sheet, header=2, \n",
    "                       index_col=0, na_values=['-', '^','♦'])\n",
    "    omit = []\n",
    "    for col in df.columns:\n",
    "        if type(col) != int:\n",
    "            omit.append(col)\n",
    "    df.drop(columns=omit, inplace=True)\n",
    "    df.dropna(how='all', inplace=True)\n",
    "    idx = []\n",
    "    for country in df.index:\n",
    "        x = country.strip(string.digits)\n",
    "        idx.append(x)\n",
    "    df['Country Name'] = idx\n",
    "    unit = df.index.name.rstrip('*')\n",
    "    unit = unit.strip(string.digits)\n",
    "    df['Unit'] = unit\n",
    "    df['Data Source'] = 'BP'\n",
    "    spatial_scale = []\n",
    "    for country in df.index:\n",
    "        strings = ['Total', 'Rest of World', 'Other', 'European Union', 'OECD', 'Central America', \\\n",
    "                   'Eastern Africa', 'Middle Africa', 'Western Africa', 'OPEC']\n",
    "        for s in strings:\n",
    "            if s in country and country != 'Total World':\n",
    "                df.drop(country, inplace=True)\n",
    "    iso2 = []\n",
    "    for country in df.index:\n",
    "        if country=='USSR':\n",
    "            iso2.append('SU')\n",
    "            spatial_scale.append('National')\n",
    "        elif country=='Netherlands Antilles':\n",
    "            iso2.append('AN')\n",
    "            spatial_scale.append('National')\n",
    "        elif country=='Total World':\n",
    "            iso2.append('World')\n",
    "            spatial_scale.append('Global')\n",
    "        else:\n",
    "            iso2.append(coco.convert(names=country, to='iso2'))\n",
    "            spatial_scale.append('National')\n",
    "    df.replace('Total World', 'World', inplace=True)\n",
    "    df['Spatial Scale'] = spatial_scale\n",
    "    df['Country Code'] = iso2\n",
    "    df.reset_index(drop=True, inplace=True)\n",
    "    df.replace({'Petajoules':'petajoules','Million tonnes':'million metric tons',\n",
    "                'Million tonnes ':'million metric tons','million tonnes ':'million metric tons',\n",
    "                'Thousand tonnes':'thousand metric tons','Tonnes':'metric tons',\n",
    "                'Terawatt-hours':'TWh','Billion cubic metres':'billion cubic metres',\n",
    "               'Thousand barrels daily':'thousand barrels/day'}, inplace=True)\n",
    "    return df"
   ]
  },
  {
   "cell_type": "code",
   "execution_count": 5,
   "id": "f8878827",
   "metadata": {},
   "outputs": [],
   "source": [
    "def tech_name(df, tech):\n",
    "    df['Technology Name'] = tech\n",
    "    df['ID'] = df['Technology Name'] + '_' + df['Metric'] + '_' + df['Country Code']\n",
    "    df.set_index('ID', inplace=True)\n",
    "    return df"
   ]
  },
  {
   "cell_type": "code",
   "execution_count": 6,
   "id": "4525ad43",
   "metadata": {},
   "outputs": [],
   "source": [
    "bp = []"
   ]
  },
  {
   "cell_type": "code",
   "execution_count": 7,
   "id": "742b2dee",
   "metadata": {},
   "outputs": [],
   "source": [
    "bp_oil_production = read_bp('Oil Production - Tonnes')\n",
    "bp_oil_production['Metric'] = 'Annual Production'\n",
    "bp_oil_production = tech_name(bp_oil_production, 'Oil Production')\n",
    "bp.append(bp_oil_production)"
   ]
  },
  {
   "cell_type": "code",
   "execution_count": 8,
   "id": "469c6035",
   "metadata": {},
   "outputs": [],
   "source": [
    "bp_oil_refining = read_bp('Oil - Refining capacity')\n",
    "bp_oil_refining['Metric'] = 'Total Capacity'\n",
    "bp_oil_refining = tech_name(bp_oil_refining, 'Oil Refining Capacity')\n",
    "bp.append(bp_oil_refining)"
   ]
  },
  {
   "cell_type": "code",
   "execution_count": 9,
   "id": "daf4d1e9",
   "metadata": {},
   "outputs": [],
   "source": [
    "bp_gas = read_bp('Gas Production - Bcm')\n",
    "bp_gas['Metric'] = 'Annual Production'\n",
    "bp_gas = tech_name(bp_gas, 'Natural Gas Production')\n",
    "bp.append(bp_gas)"
   ]
  },
  {
   "cell_type": "code",
   "execution_count": 10,
   "id": "9960fec8",
   "metadata": {},
   "outputs": [],
   "source": [
    "bp_coal = read_bp('Coal Production - Tonnes')\n",
    "bp_coal['Metric'] = 'Annual Production'\n",
    "bp_coal = tech_name(bp_coal, 'Coal Production')\n",
    "bp.append(bp_coal)"
   ]
  },
  {
   "cell_type": "code",
   "execution_count": 11,
   "id": "6b00aeb2",
   "metadata": {},
   "outputs": [],
   "source": [
    "bp_nuclear = read_bp('Nuclear Generation - TWh')\n",
    "bp_nuclear['Metric'] = 'Annual Production'\n",
    "bp_nuclear = tech_name(bp_nuclear, 'Nuclear Energy')\n",
    "bp.append(bp_nuclear)"
   ]
  },
  {
   "cell_type": "code",
   "execution_count": 12,
   "id": "f30e12ae",
   "metadata": {},
   "outputs": [],
   "source": [
    "bp_hydro = read_bp('Hydro Generation - TWh')\n",
    "bp_hydro['Metric'] = 'Annual Production'\n",
    "bp_hydro = tech_name(bp_hydro, 'Hydroelectricity')\n",
    "bp.append(bp_hydro)"
   ]
  },
  {
   "cell_type": "code",
   "execution_count": 13,
   "id": "44dbb558",
   "metadata": {},
   "outputs": [],
   "source": [
    "bp_renewable = read_bp('Renewable power - TWh')\n",
    "bp_renewable['Metric'] = 'Annual Production'\n",
    "bp_renewable = tech_name(bp_renewable, 'Renewable Power')\n",
    "bp.append(bp_renewable)"
   ]
  },
  {
   "cell_type": "code",
   "execution_count": 14,
   "id": "32ca4aa1",
   "metadata": {},
   "outputs": [],
   "source": [
    "bp_electricity_gen = read_bp('Electricity Generation')\n",
    "bp_electricity_gen['Metric'] = 'Annual Production'\n",
    "bp_electricity_gen = tech_name(bp_electricity_gen, 'Electricity')\n",
    "bp.append(bp_electricity_gen)"
   ]
  },
  {
   "cell_type": "code",
   "execution_count": 15,
   "id": "8e99169d",
   "metadata": {},
   "outputs": [],
   "source": [
    "# bp_lithium = read_bp('Lithium Production-Reserves')\n",
    "# bp_lithium['Metric'] = 'Annual Production'\n",
    "# bp_lithium = tech_name(bp_lithium, 'Lithium Mine Production')\n",
    "# bp.append(bp_lithium)"
   ]
  },
  {
   "cell_type": "code",
   "execution_count": 16,
   "id": "a8fcb3e6",
   "metadata": {},
   "outputs": [],
   "source": [
    "# bp_cobalt = read_bp('Cobalt Production-Reserves')\n",
    "# bp_cobalt['Metric'] = 'Annual Production'\n",
    "# bp_cobalt = tech_name(bp_cobalt, 'Cobalt Mine Production')\n",
    "# bp.append(bp_cobalt)"
   ]
  },
  {
   "cell_type": "code",
   "execution_count": 17,
   "id": "9263ef99",
   "metadata": {},
   "outputs": [],
   "source": [
    "# bp_rare_earth = read_bp('Rare Earth Production-Reserves')\n",
    "# bp_rare_earth['Metric'] = 'Annual Production'\n",
    "# bp_rare_earth = tech_name(bp_rare_earth, 'Rare Earth Mine Production')\n",
    "# bp.append(bp_rare_earth)"
   ]
  },
  {
   "cell_type": "code",
   "execution_count": 18,
   "id": "bc9374fa",
   "metadata": {},
   "outputs": [],
   "source": [
    "# bp_graphite = read_bp('Graphite Production-Reserves')\n",
    "# bp_graphite['Metric'] = 'Annual Production'\n",
    "# bp_graphite = tech_name(bp_graphite, 'Graphite Mine Production')\n",
    "# bp.append(bp_graphite)"
   ]
  },
  {
   "cell_type": "code",
   "execution_count": 19,
   "id": "43c08bdf",
   "metadata": {},
   "outputs": [],
   "source": [
    "def read_bp2(sheet):\n",
    "    missing_values = ['-', '^','♦']\n",
    "    df = pd.read_excel('raw data/bp-stats-review-2022-all-data.xlsx', sheet_name=sheet, header=2, index_col=0, \n",
    "                       na_values=missing_values, skipfooter=40)\n",
    "    omit = []\n",
    "    for col in df.columns:\n",
    "        if type(col) != int:\n",
    "            omit.append(col)\n",
    "    df.drop(columns=omit, inplace=True)\n",
    "    df.dropna(how='all', inplace=True)\n",
    "    idx = []\n",
    "    for country in df.index:\n",
    "        x = country.strip(string.digits)\n",
    "        idx.append(x)\n",
    "    df['Country Name'] = idx\n",
    "    unit = df.index.name.rstrip('*')\n",
    "    unit = unit.strip(string.digits)\n",
    "    df['Unit'] = unit\n",
    "    df['Data Source'] = 'BP'\n",
    "    df['Spatial Scale'] = 'National'\n",
    "    for country in df.index:\n",
    "        strings = ['Total', 'Rest of World', 'Other', 'European Union', 'OECD', 'Central America', \\\n",
    "                   'Eastern Africa', 'Middle Africa', 'Western Africa', 'OPEC']\n",
    "        for s in strings:\n",
    "            if s in country:\n",
    "                df.drop(country, inplace=True)\n",
    "    iso2 = []\n",
    "    for country in df.index:\n",
    "        if country=='USSR':\n",
    "            iso2.append('SU')\n",
    "        elif country=='Netherlands Antilles':\n",
    "            iso2.append('AN')\n",
    "        else:\n",
    "            iso2.append(coco.convert(names=country, to='iso2'))\n",
    "    df['Country Code'] = iso2\n",
    "    df.reset_index(drop=True, inplace=True)\n",
    "    df.replace({'Petajoules':'petajoules','Million tonnes':'million metric tons',\n",
    "                'Million tonnes ':'million metric tons','million tonnes ':'million metric tons',\n",
    "                'Thousand tonnes':'thousand metric tons','Tonnes':'metric tons',\n",
    "                'Terawatt-hours':'TWh','Billion cubic metres':'billion cubic metres',\n",
    "               'Thousand barrels daily':'thousand barrels/day'}, inplace=True)\n",
    "    return df"
   ]
  },
  {
   "cell_type": "code",
   "execution_count": 20,
   "id": "b2b0a221",
   "metadata": {},
   "outputs": [],
   "source": [
    "bp_biofuels = read_bp2('Biofuels production - PJ')\n",
    "bp_biofuels['Metric'] = 'Annual Production'\n",
    "bp_biofuels = tech_name(bp_biofuels, 'Biofuels Production')\n",
    "bp.append(bp_biofuels)"
   ]
  },
  {
   "cell_type": "code",
   "execution_count": 21,
   "id": "5f632b92",
   "metadata": {},
   "outputs": [],
   "source": [
    "bp = pd.concat(bp)"
   ]
  },
  {
   "cell_type": "code",
   "execution_count": 22,
   "id": "a0438e01",
   "metadata": {},
   "outputs": [],
   "source": [
    "omit = []\n",
    "for col in bp.columns:\n",
    "    if type(col) != int:\n",
    "        omit.append(col)\n",
    "empty_rows = bp.drop(columns=omit)\n",
    "empty_rows.dropna(how='all', inplace=True)\n",
    "na_idx = []\n",
    "for country in bp.index:\n",
    "    if country not in empty_rows.index:\n",
    "        na_idx.append(country)\n",
    "bp.drop(na_idx, inplace=True)"
   ]
  },
  {
   "cell_type": "code",
   "execution_count": 23,
   "id": "10a7c527",
   "metadata": {},
   "outputs": [],
   "source": [
    "bp.to_csv('cleaned data/bp.csv')"
   ]
  },
  {
   "cell_type": "code",
   "execution_count": null,
   "id": "4d318cc0",
   "metadata": {},
   "outputs": [],
   "source": []
  }
 ],
 "metadata": {
  "kernelspec": {
   "display_name": "Python 3 (ipykernel)",
   "language": "python",
   "name": "python3"
  },
  "language_info": {
   "codemirror_mode": {
    "name": "ipython",
    "version": 3
   },
   "file_extension": ".py",
   "mimetype": "text/x-python",
   "name": "python",
   "nbconvert_exporter": "python",
   "pygments_lexer": "ipython3",
   "version": "3.9.13"
  }
 },
 "nbformat": 4,
 "nbformat_minor": 5
}
