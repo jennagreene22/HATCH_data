{
 "cells": [
  {
   "cell_type": "code",
   "execution_count": 45,
   "metadata": {},
   "outputs": [],
   "source": [
    "import os\n",
    "import pandas as pd\n",
    "from pandas import Series, DataFrame\n",
    "import country_converter as coco\n",
    "import warnings\n",
    "warnings.filterwarnings(\"ignore\")"
   ]
  },
  {
   "cell_type": "code",
   "execution_count": 46,
   "metadata": {},
   "outputs": [
    {
     "name": "stdout",
     "output_type": "stream",
     "text": [
      "Current working directory: /Users/jennagreene/Documents/GitHub/HATCH_data/reading_files\n"
     ]
    }
   ],
   "source": [
    "## Get current working directory\n",
    "print(\"Current working directory:\", os.getcwd())\n",
    "\n",
    "## Find path to raw data (for the raw files)\n",
    "raw_data_path = os.path.abspath(os.path.join(os.getcwd(), '..', 'raw_data', 'ebikes'))\n",
    "\n",
    "## Find path to folder for saving cleaned csv\n",
    "cleaned_data_path = os.path.abspath(os.path.join(os.getcwd(), '..', 'cleaned_data'))"
   ]
  },
  {
   "cell_type": "markdown",
   "metadata": {},
   "source": [
    "France"
   ]
  },
  {
   "cell_type": "code",
   "execution_count": 47,
   "metadata": {},
   "outputs": [],
   "source": [
    "file_path = os.path.join(raw_data_path, 'sold_in_france.xlsx')\n",
    "\n",
    "france = pd.read_excel(file_path,sheet_name = 'Data', header = 4, index_col=1)"
   ]
  },
  {
   "cell_type": "code",
   "execution_count": 48,
   "metadata": {},
   "outputs": [],
   "source": [
    "france = france.drop(columns = {'Unnamed: 0'})\n",
    "france = france.T\n",
    "france = france.apply(lambda x: x * 1000 if x.dtype == 'float64' else x)"
   ]
  },
  {
   "cell_type": "code",
   "execution_count": 49,
   "metadata": {},
   "outputs": [],
   "source": [
    "france['Data Source'] = 'Statista'\n",
    "france['Technology Name'] = 'Electric Bicycles'\n",
    "france['Spatial Scale'] = 'National'\n",
    "france['Metric'] = 'Annual Production'\n",
    "france['Country Name'] = 'France'\n",
    "france['Country Code'] = coco.convert(names=france['Country Name'], to='iso2')\n",
    "france = france.dropna(subset=['Country Code'])\n",
    "\n",
    "france['ID'] = france['Technology Name'] + '_' + france['Metric'] + '_' + france['Country Code']\n",
    "france = france.set_index('ID', drop = False)\n",
    "\n"
   ]
  },
  {
   "cell_type": "code",
   "execution_count": 50,
   "metadata": {},
   "outputs": [
    {
     "name": "stdout",
     "output_type": "stream",
     "text": [
      "Data saved to: /Users/jennagreene/Documents/GitHub/HATCH_data/cleaned_data/france_ebikes.csv\n"
     ]
    }
   ],
   "source": [
    "output_file = 'france_ebikes.csv'\n",
    "output_file_path = os.path.join(cleaned_data_path, output_file)\n",
    "\n",
    "france.to_csv(output_file_path, index = False)\n",
    "print(\"Data saved to:\", output_file_path)"
   ]
  },
  {
   "cell_type": "markdown",
   "metadata": {},
   "source": [
    "Germany"
   ]
  },
  {
   "cell_type": "code",
   "execution_count": 51,
   "metadata": {},
   "outputs": [],
   "source": [
    "file_path = os.path.join(raw_data_path, 'sold_in_germany.xlsx')\n",
    "\n",
    "germany = pd.read_excel(file_path,sheet_name = 'Data', header = 4, index_col=1)"
   ]
  },
  {
   "cell_type": "code",
   "execution_count": 52,
   "metadata": {},
   "outputs": [],
   "source": [
    "germany = germany.drop(columns = {'Unnamed: 0'})\n",
    "germany = germany.T\n"
   ]
  },
  {
   "cell_type": "code",
   "execution_count": 53,
   "metadata": {},
   "outputs": [
    {
     "data": {
      "text/html": [
       "<div>\n",
       "<style scoped>\n",
       "    .dataframe tbody tr th:only-of-type {\n",
       "        vertical-align: middle;\n",
       "    }\n",
       "\n",
       "    .dataframe tbody tr th {\n",
       "        vertical-align: top;\n",
       "    }\n",
       "\n",
       "    .dataframe thead th {\n",
       "        text-align: right;\n",
       "    }\n",
       "</style>\n",
       "<table border=\"1\" class=\"dataframe\">\n",
       "  <thead>\n",
       "    <tr style=\"text-align: right;\">\n",
       "      <th></th>\n",
       "      <th>2013</th>\n",
       "      <th>2014</th>\n",
       "      <th>2015</th>\n",
       "      <th>2016</th>\n",
       "      <th>2017</th>\n",
       "      <th>2018</th>\n",
       "      <th>2019</th>\n",
       "      <th>2020</th>\n",
       "      <th>2021</th>\n",
       "      <th>2022</th>\n",
       "      <th>2023</th>\n",
       "    </tr>\n",
       "  </thead>\n",
       "  <tbody>\n",
       "    <tr>\n",
       "      <th>Unnamed: 2</th>\n",
       "      <td>410000</td>\n",
       "      <td>480000</td>\n",
       "      <td>540000</td>\n",
       "      <td>610000</td>\n",
       "      <td>720000</td>\n",
       "      <td>980000</td>\n",
       "      <td>1360000</td>\n",
       "      <td>1950000</td>\n",
       "      <td>2000000</td>\n",
       "      <td>2200000</td>\n",
       "      <td>2100000</td>\n",
       "    </tr>\n",
       "  </tbody>\n",
       "</table>\n",
       "</div>"
      ],
      "text/plain": [
       "              2013    2014    2015    2016    2017    2018     2019     2020  \\\n",
       "Unnamed: 2  410000  480000  540000  610000  720000  980000  1360000  1950000   \n",
       "\n",
       "               2021     2022     2023  \n",
       "Unnamed: 2  2000000  2200000  2100000  "
      ]
     },
     "execution_count": 53,
     "metadata": {},
     "output_type": "execute_result"
    }
   ],
   "source": [
    "germany = germany.apply(lambda x: x * 1000 if x.dtype == 'int' else x)\n",
    "germany"
   ]
  },
  {
   "cell_type": "code",
   "execution_count": 54,
   "metadata": {},
   "outputs": [
    {
     "data": {
      "text/html": [
       "<div>\n",
       "<style scoped>\n",
       "    .dataframe tbody tr th:only-of-type {\n",
       "        vertical-align: middle;\n",
       "    }\n",
       "\n",
       "    .dataframe tbody tr th {\n",
       "        vertical-align: top;\n",
       "    }\n",
       "\n",
       "    .dataframe thead th {\n",
       "        text-align: right;\n",
       "    }\n",
       "</style>\n",
       "<table border=\"1\" class=\"dataframe\">\n",
       "  <thead>\n",
       "    <tr style=\"text-align: right;\">\n",
       "      <th></th>\n",
       "      <th>2013</th>\n",
       "      <th>2014</th>\n",
       "      <th>2015</th>\n",
       "      <th>2016</th>\n",
       "      <th>2017</th>\n",
       "      <th>2018</th>\n",
       "      <th>2019</th>\n",
       "      <th>2020</th>\n",
       "      <th>2021</th>\n",
       "      <th>2022</th>\n",
       "      <th>2023</th>\n",
       "      <th>Data Source</th>\n",
       "      <th>Technology Name</th>\n",
       "      <th>Spatial Scale</th>\n",
       "      <th>Metric</th>\n",
       "      <th>Country Name</th>\n",
       "      <th>Country Code</th>\n",
       "      <th>ID</th>\n",
       "    </tr>\n",
       "    <tr>\n",
       "      <th>ID</th>\n",
       "      <th></th>\n",
       "      <th></th>\n",
       "      <th></th>\n",
       "      <th></th>\n",
       "      <th></th>\n",
       "      <th></th>\n",
       "      <th></th>\n",
       "      <th></th>\n",
       "      <th></th>\n",
       "      <th></th>\n",
       "      <th></th>\n",
       "      <th></th>\n",
       "      <th></th>\n",
       "      <th></th>\n",
       "      <th></th>\n",
       "      <th></th>\n",
       "      <th></th>\n",
       "      <th></th>\n",
       "    </tr>\n",
       "  </thead>\n",
       "  <tbody>\n",
       "    <tr>\n",
       "      <th>Electric Bicycles_Annual Production_DE</th>\n",
       "      <td>410000</td>\n",
       "      <td>480000</td>\n",
       "      <td>540000</td>\n",
       "      <td>610000</td>\n",
       "      <td>720000</td>\n",
       "      <td>980000</td>\n",
       "      <td>1360000</td>\n",
       "      <td>1950000</td>\n",
       "      <td>2000000</td>\n",
       "      <td>2200000</td>\n",
       "      <td>2100000</td>\n",
       "      <td>Statista</td>\n",
       "      <td>Electric Bicycles</td>\n",
       "      <td>National</td>\n",
       "      <td>Annual Production</td>\n",
       "      <td>Germany</td>\n",
       "      <td>DE</td>\n",
       "      <td>Electric Bicycles_Annual Production_DE</td>\n",
       "    </tr>\n",
       "  </tbody>\n",
       "</table>\n",
       "</div>"
      ],
      "text/plain": [
       "                                          2013    2014    2015    2016  \\\n",
       "ID                                                                       \n",
       "Electric Bicycles_Annual Production_DE  410000  480000  540000  610000   \n",
       "\n",
       "                                          2017    2018     2019     2020  \\\n",
       "ID                                                                         \n",
       "Electric Bicycles_Annual Production_DE  720000  980000  1360000  1950000   \n",
       "\n",
       "                                           2021     2022     2023 Data Source  \\\n",
       "ID                                                                              \n",
       "Electric Bicycles_Annual Production_DE  2000000  2200000  2100000    Statista   \n",
       "\n",
       "                                          Technology Name Spatial Scale  \\\n",
       "ID                                                                        \n",
       "Electric Bicycles_Annual Production_DE  Electric Bicycles      National   \n",
       "\n",
       "                                                   Metric Country Name  \\\n",
       "ID                                                                       \n",
       "Electric Bicycles_Annual Production_DE  Annual Production      Germany   \n",
       "\n",
       "                                       Country Code  \\\n",
       "ID                                                    \n",
       "Electric Bicycles_Annual Production_DE           DE   \n",
       "\n",
       "                                                                            ID  \n",
       "ID                                                                              \n",
       "Electric Bicycles_Annual Production_DE  Electric Bicycles_Annual Production_DE  "
      ]
     },
     "execution_count": 54,
     "metadata": {},
     "output_type": "execute_result"
    }
   ],
   "source": [
    "germany['Data Source'] = 'Statista'\n",
    "germany['Technology Name'] = 'Electric Bicycles'\n",
    "germany['Spatial Scale'] = 'National'\n",
    "germany['Metric'] = 'Annual Production'\n",
    "germany['Country Name'] = 'Germany'\n",
    "germany['Country Code'] = coco.convert(names=germany['Country Name'], to='iso2')\n",
    "germany = germany.dropna(subset=['Country Code'])\n",
    "\n",
    "germany['ID'] = germany['Technology Name'] + '_' + germany['Metric'] + '_' + germany['Country Code']\n",
    "germany = germany.set_index('ID', drop = False)\n",
    "\n",
    "germany"
   ]
  },
  {
   "cell_type": "code",
   "execution_count": 55,
   "metadata": {},
   "outputs": [
    {
     "name": "stdout",
     "output_type": "stream",
     "text": [
      "Data saved to: /Users/jennagreene/Documents/GitHub/HATCH_data/cleaned_data/france_ebikes.csv\n"
     ]
    }
   ],
   "source": [
    "output_file = 'france_ebikes.csv'\n",
    "output_file_path = os.path.join(cleaned_data_path, output_file)\n",
    "\n",
    "france.to_csv(output_file_path, index = False)\n",
    "print(\"Data saved to:\", output_file_path)"
   ]
  },
  {
   "cell_type": "markdown",
   "metadata": {},
   "source": [
    "Italy"
   ]
  },
  {
   "cell_type": "code",
   "execution_count": 56,
   "metadata": {},
   "outputs": [],
   "source": [
    "file_path = os.path.join(raw_data_path, 'sold_in_italy.xlsx')\n",
    "\n",
    "italy = pd.read_excel(file_path,sheet_name = 'Data', header = 4, index_col=1)"
   ]
  },
  {
   "cell_type": "code",
   "execution_count": 57,
   "metadata": {},
   "outputs": [],
   "source": [
    "italy = italy.drop(columns = {'Unnamed: 0'})\n",
    "italy = italy.T\n"
   ]
  },
  {
   "cell_type": "code",
   "execution_count": 58,
   "metadata": {},
   "outputs": [
    {
     "data": {
      "text/html": [
       "<div>\n",
       "<style scoped>\n",
       "    .dataframe tbody tr th:only-of-type {\n",
       "        vertical-align: middle;\n",
       "    }\n",
       "\n",
       "    .dataframe tbody tr th {\n",
       "        vertical-align: top;\n",
       "    }\n",
       "\n",
       "    .dataframe thead th {\n",
       "        text-align: right;\n",
       "    }\n",
       "</style>\n",
       "<table border=\"1\" class=\"dataframe\">\n",
       "  <thead>\n",
       "    <tr style=\"text-align: right;\">\n",
       "      <th></th>\n",
       "      <th>2015</th>\n",
       "      <th>2016</th>\n",
       "      <th>2017</th>\n",
       "      <th>2018</th>\n",
       "      <th>2019</th>\n",
       "      <th>2020</th>\n",
       "      <th>2021</th>\n",
       "      <th>2022</th>\n",
       "      <th>2023</th>\n",
       "    </tr>\n",
       "  </thead>\n",
       "  <tbody>\n",
       "    <tr>\n",
       "      <th>Unnamed: 2</th>\n",
       "      <td>56240.0</td>\n",
       "      <td>124250.0</td>\n",
       "      <td>148040.0</td>\n",
       "      <td>173060.0</td>\n",
       "      <td>195800.0</td>\n",
       "      <td>279190.0</td>\n",
       "      <td>295070.0</td>\n",
       "      <td>337030.0</td>\n",
       "      <td>416500.0</td>\n",
       "    </tr>\n",
       "  </tbody>\n",
       "</table>\n",
       "</div>"
      ],
      "text/plain": [
       "               2015      2016      2017      2018      2019      2020  \\\n",
       "Unnamed: 2  56240.0  124250.0  148040.0  173060.0  195800.0  279190.0   \n",
       "\n",
       "                2021      2022      2023  \n",
       "Unnamed: 2  295070.0  337030.0  416500.0  "
      ]
     },
     "execution_count": 58,
     "metadata": {},
     "output_type": "execute_result"
    }
   ],
   "source": [
    "italy = italy.apply(lambda x: x * 1000 if x.dtype == 'float64' else x)\n",
    "italy"
   ]
  },
  {
   "cell_type": "code",
   "execution_count": 59,
   "metadata": {},
   "outputs": [
    {
     "data": {
      "text/html": [
       "<div>\n",
       "<style scoped>\n",
       "    .dataframe tbody tr th:only-of-type {\n",
       "        vertical-align: middle;\n",
       "    }\n",
       "\n",
       "    .dataframe tbody tr th {\n",
       "        vertical-align: top;\n",
       "    }\n",
       "\n",
       "    .dataframe thead th {\n",
       "        text-align: right;\n",
       "    }\n",
       "</style>\n",
       "<table border=\"1\" class=\"dataframe\">\n",
       "  <thead>\n",
       "    <tr style=\"text-align: right;\">\n",
       "      <th></th>\n",
       "      <th>2015</th>\n",
       "      <th>2016</th>\n",
       "      <th>2017</th>\n",
       "      <th>2018</th>\n",
       "      <th>2019</th>\n",
       "      <th>2020</th>\n",
       "      <th>2021</th>\n",
       "      <th>2022</th>\n",
       "      <th>2023</th>\n",
       "      <th>Data Source</th>\n",
       "      <th>Technology Name</th>\n",
       "      <th>Spatial Scale</th>\n",
       "      <th>Metric</th>\n",
       "      <th>Country Name</th>\n",
       "      <th>Country Code</th>\n",
       "      <th>ID</th>\n",
       "    </tr>\n",
       "    <tr>\n",
       "      <th>ID</th>\n",
       "      <th></th>\n",
       "      <th></th>\n",
       "      <th></th>\n",
       "      <th></th>\n",
       "      <th></th>\n",
       "      <th></th>\n",
       "      <th></th>\n",
       "      <th></th>\n",
       "      <th></th>\n",
       "      <th></th>\n",
       "      <th></th>\n",
       "      <th></th>\n",
       "      <th></th>\n",
       "      <th></th>\n",
       "      <th></th>\n",
       "      <th></th>\n",
       "    </tr>\n",
       "  </thead>\n",
       "  <tbody>\n",
       "    <tr>\n",
       "      <th>Electric Bicycles_Annual Production_IT</th>\n",
       "      <td>56240.0</td>\n",
       "      <td>124250.0</td>\n",
       "      <td>148040.0</td>\n",
       "      <td>173060.0</td>\n",
       "      <td>195800.0</td>\n",
       "      <td>279190.0</td>\n",
       "      <td>295070.0</td>\n",
       "      <td>337030.0</td>\n",
       "      <td>416500.0</td>\n",
       "      <td>Statista</td>\n",
       "      <td>Electric Bicycles</td>\n",
       "      <td>National</td>\n",
       "      <td>Annual Production</td>\n",
       "      <td>Italy</td>\n",
       "      <td>IT</td>\n",
       "      <td>Electric Bicycles_Annual Production_IT</td>\n",
       "    </tr>\n",
       "  </tbody>\n",
       "</table>\n",
       "</div>"
      ],
      "text/plain": [
       "                                           2015      2016      2017      2018  \\\n",
       "ID                                                                              \n",
       "Electric Bicycles_Annual Production_IT  56240.0  124250.0  148040.0  173060.0   \n",
       "\n",
       "                                            2019      2020      2021  \\\n",
       "ID                                                                     \n",
       "Electric Bicycles_Annual Production_IT  195800.0  279190.0  295070.0   \n",
       "\n",
       "                                            2022      2023 Data Source  \\\n",
       "ID                                                                       \n",
       "Electric Bicycles_Annual Production_IT  337030.0  416500.0    Statista   \n",
       "\n",
       "                                          Technology Name Spatial Scale  \\\n",
       "ID                                                                        \n",
       "Electric Bicycles_Annual Production_IT  Electric Bicycles      National   \n",
       "\n",
       "                                                   Metric Country Name  \\\n",
       "ID                                                                       \n",
       "Electric Bicycles_Annual Production_IT  Annual Production        Italy   \n",
       "\n",
       "                                       Country Code  \\\n",
       "ID                                                    \n",
       "Electric Bicycles_Annual Production_IT           IT   \n",
       "\n",
       "                                                                            ID  \n",
       "ID                                                                              \n",
       "Electric Bicycles_Annual Production_IT  Electric Bicycles_Annual Production_IT  "
      ]
     },
     "execution_count": 59,
     "metadata": {},
     "output_type": "execute_result"
    }
   ],
   "source": [
    "italy['Data Source'] = 'Statista'\n",
    "italy['Technology Name'] = 'Electric Bicycles'\n",
    "italy['Spatial Scale'] = 'National'\n",
    "italy['Metric'] = 'Annual Production'\n",
    "italy['Country Name'] = 'Italy'\n",
    "italy['Country Code'] = coco.convert(names=italy['Country Name'], to='iso2')\n",
    "italy = italy.dropna(subset=['Country Code'])\n",
    "\n",
    "italy['ID'] = italy['Technology Name'] + '_' + italy['Metric'] + '_' + italy['Country Code']\n",
    "italy = italy.set_index('ID', drop = False)\n",
    "\n",
    "italy"
   ]
  },
  {
   "cell_type": "code",
   "execution_count": 60,
   "metadata": {},
   "outputs": [
    {
     "name": "stdout",
     "output_type": "stream",
     "text": [
      "Data saved to: /Users/jennagreene/Documents/GitHub/HATCH_data/cleaned_data/italy_ebikes.csv\n"
     ]
    }
   ],
   "source": [
    "output_file = 'italy_ebikes.csv'\n",
    "output_file_path = os.path.join(cleaned_data_path, output_file)\n",
    "\n",
    "italy.to_csv(output_file_path, index = False)\n",
    "print(\"Data saved to:\", output_file_path)"
   ]
  },
  {
   "cell_type": "markdown",
   "metadata": {},
   "source": [
    "Netherlands"
   ]
  },
  {
   "cell_type": "code",
   "execution_count": 61,
   "metadata": {},
   "outputs": [],
   "source": [
    "file_path = os.path.join(raw_data_path, 'sold_in_netherlands.xlsx')\n",
    "\n",
    "netherlands = pd.read_excel(file_path,sheet_name = 'Data', header = 4, index_col=1)"
   ]
  },
  {
   "cell_type": "code",
   "execution_count": 62,
   "metadata": {},
   "outputs": [],
   "source": [
    "netherlands = netherlands.drop(columns = {'Unnamed: 0'})\n",
    "netherlands = netherlands.T\n"
   ]
  },
  {
   "cell_type": "code",
   "execution_count": 63,
   "metadata": {},
   "outputs": [
    {
     "data": {
      "text/html": [
       "<div>\n",
       "<style scoped>\n",
       "    .dataframe tbody tr th:only-of-type {\n",
       "        vertical-align: middle;\n",
       "    }\n",
       "\n",
       "    .dataframe tbody tr th {\n",
       "        vertical-align: top;\n",
       "    }\n",
       "\n",
       "    .dataframe thead th {\n",
       "        text-align: right;\n",
       "    }\n",
       "</style>\n",
       "<table border=\"1\" class=\"dataframe\">\n",
       "  <thead>\n",
       "    <tr style=\"text-align: right;\">\n",
       "      <th></th>\n",
       "      <th>2004</th>\n",
       "      <th>2005</th>\n",
       "      <th>2006</th>\n",
       "      <th>2007</th>\n",
       "      <th>2008</th>\n",
       "      <th>2009</th>\n",
       "      <th>2010</th>\n",
       "      <th>2011</th>\n",
       "      <th>2012</th>\n",
       "      <th>2013</th>\n",
       "      <th>2014</th>\n",
       "      <th>2015</th>\n",
       "      <th>2016</th>\n",
       "      <th>2017</th>\n",
       "      <th>2018</th>\n",
       "      <th>2019</th>\n",
       "      <th>2020</th>\n",
       "      <th>2021</th>\n",
       "      <th>2022</th>\n",
       "    </tr>\n",
       "  </thead>\n",
       "  <tbody>\n",
       "    <tr>\n",
       "      <th>Unnamed: 2</th>\n",
       "      <td>25000</td>\n",
       "      <td>37000</td>\n",
       "      <td>40000</td>\n",
       "      <td>84000</td>\n",
       "      <td>134000</td>\n",
       "      <td>154000</td>\n",
       "      <td>170000</td>\n",
       "      <td>180000</td>\n",
       "      <td>175000</td>\n",
       "      <td>192000</td>\n",
       "      <td>223000</td>\n",
       "      <td>276000</td>\n",
       "      <td>269000</td>\n",
       "      <td>294000</td>\n",
       "      <td>409000</td>\n",
       "      <td>420000</td>\n",
       "      <td>547000</td>\n",
       "      <td>478000</td>\n",
       "      <td>486000</td>\n",
       "    </tr>\n",
       "  </tbody>\n",
       "</table>\n",
       "</div>"
      ],
      "text/plain": [
       "             2004   2005   2006   2007    2008    2009    2010    2011  \\\n",
       "Unnamed: 2  25000  37000  40000  84000  134000  154000  170000  180000   \n",
       "\n",
       "              2012    2013    2014    2015    2016    2017    2018    2019  \\\n",
       "Unnamed: 2  175000  192000  223000  276000  269000  294000  409000  420000   \n",
       "\n",
       "              2020    2021    2022  \n",
       "Unnamed: 2  547000  478000  486000  "
      ]
     },
     "execution_count": 63,
     "metadata": {},
     "output_type": "execute_result"
    }
   ],
   "source": [
    "netherlands = netherlands.apply(lambda x: x * 1000 if x.dtype == 'int' else x)\n",
    "netherlands"
   ]
  },
  {
   "cell_type": "code",
   "execution_count": 64,
   "metadata": {},
   "outputs": [
    {
     "data": {
      "text/html": [
       "<div>\n",
       "<style scoped>\n",
       "    .dataframe tbody tr th:only-of-type {\n",
       "        vertical-align: middle;\n",
       "    }\n",
       "\n",
       "    .dataframe tbody tr th {\n",
       "        vertical-align: top;\n",
       "    }\n",
       "\n",
       "    .dataframe thead th {\n",
       "        text-align: right;\n",
       "    }\n",
       "</style>\n",
       "<table border=\"1\" class=\"dataframe\">\n",
       "  <thead>\n",
       "    <tr style=\"text-align: right;\">\n",
       "      <th></th>\n",
       "      <th>2004</th>\n",
       "      <th>2005</th>\n",
       "      <th>2006</th>\n",
       "      <th>2007</th>\n",
       "      <th>2008</th>\n",
       "      <th>2009</th>\n",
       "      <th>2010</th>\n",
       "      <th>2011</th>\n",
       "      <th>2012</th>\n",
       "      <th>2013</th>\n",
       "      <th>...</th>\n",
       "      <th>2020</th>\n",
       "      <th>2021</th>\n",
       "      <th>2022</th>\n",
       "      <th>Data Source</th>\n",
       "      <th>Technology Name</th>\n",
       "      <th>Spatial Scale</th>\n",
       "      <th>Metric</th>\n",
       "      <th>Country Name</th>\n",
       "      <th>Country Code</th>\n",
       "      <th>ID</th>\n",
       "    </tr>\n",
       "    <tr>\n",
       "      <th>ID</th>\n",
       "      <th></th>\n",
       "      <th></th>\n",
       "      <th></th>\n",
       "      <th></th>\n",
       "      <th></th>\n",
       "      <th></th>\n",
       "      <th></th>\n",
       "      <th></th>\n",
       "      <th></th>\n",
       "      <th></th>\n",
       "      <th></th>\n",
       "      <th></th>\n",
       "      <th></th>\n",
       "      <th></th>\n",
       "      <th></th>\n",
       "      <th></th>\n",
       "      <th></th>\n",
       "      <th></th>\n",
       "      <th></th>\n",
       "      <th></th>\n",
       "      <th></th>\n",
       "    </tr>\n",
       "  </thead>\n",
       "  <tbody>\n",
       "    <tr>\n",
       "      <th>Electric Bicycles_Annual Production_NL</th>\n",
       "      <td>25000</td>\n",
       "      <td>37000</td>\n",
       "      <td>40000</td>\n",
       "      <td>84000</td>\n",
       "      <td>134000</td>\n",
       "      <td>154000</td>\n",
       "      <td>170000</td>\n",
       "      <td>180000</td>\n",
       "      <td>175000</td>\n",
       "      <td>192000</td>\n",
       "      <td>...</td>\n",
       "      <td>547000</td>\n",
       "      <td>478000</td>\n",
       "      <td>486000</td>\n",
       "      <td>Statista</td>\n",
       "      <td>Electric Bicycles</td>\n",
       "      <td>National</td>\n",
       "      <td>Annual Production</td>\n",
       "      <td>Netherlands</td>\n",
       "      <td>NL</td>\n",
       "      <td>Electric Bicycles_Annual Production_NL</td>\n",
       "    </tr>\n",
       "  </tbody>\n",
       "</table>\n",
       "<p>1 rows × 26 columns</p>\n",
       "</div>"
      ],
      "text/plain": [
       "                                         2004   2005   2006   2007    2008  \\\n",
       "ID                                                                           \n",
       "Electric Bicycles_Annual Production_NL  25000  37000  40000  84000  134000   \n",
       "\n",
       "                                          2009    2010    2011    2012  \\\n",
       "ID                                                                       \n",
       "Electric Bicycles_Annual Production_NL  154000  170000  180000  175000   \n",
       "\n",
       "                                          2013  ...    2020    2021    2022  \\\n",
       "ID                                              ...                           \n",
       "Electric Bicycles_Annual Production_NL  192000  ...  547000  478000  486000   \n",
       "\n",
       "                                        Data Source    Technology Name  \\\n",
       "ID                                                                       \n",
       "Electric Bicycles_Annual Production_NL     Statista  Electric Bicycles   \n",
       "\n",
       "                                        Spatial Scale             Metric  \\\n",
       "ID                                                                         \n",
       "Electric Bicycles_Annual Production_NL       National  Annual Production   \n",
       "\n",
       "                                        Country Name  Country Code  \\\n",
       "ID                                                                   \n",
       "Electric Bicycles_Annual Production_NL   Netherlands            NL   \n",
       "\n",
       "                                                                            ID  \n",
       "ID                                                                              \n",
       "Electric Bicycles_Annual Production_NL  Electric Bicycles_Annual Production_NL  \n",
       "\n",
       "[1 rows x 26 columns]"
      ]
     },
     "execution_count": 64,
     "metadata": {},
     "output_type": "execute_result"
    }
   ],
   "source": [
    "netherlands['Data Source'] = 'Statista'\n",
    "netherlands['Technology Name'] = 'Electric Bicycles'\n",
    "netherlands['Spatial Scale'] = 'National'\n",
    "netherlands['Metric'] = 'Annual Production'\n",
    "netherlands['Country Name'] = 'Netherlands'\n",
    "netherlands['Country Code'] = coco.convert(names=netherlands['Country Name'], to='iso2')\n",
    "netherlands = netherlands.dropna(subset=['Country Code'])\n",
    "\n",
    "netherlands['ID'] = netherlands['Technology Name'] + '_' + netherlands['Metric'] + '_' + netherlands['Country Code']\n",
    "netherlands = netherlands.set_index('ID', drop = False)\n",
    "\n",
    "netherlands"
   ]
  },
  {
   "cell_type": "code",
   "execution_count": 65,
   "metadata": {},
   "outputs": [
    {
     "name": "stdout",
     "output_type": "stream",
     "text": [
      "Data saved to: /Users/jennagreene/Documents/GitHub/HATCH_data/cleaned_data/netherlands_ebikes.csv\n"
     ]
    }
   ],
   "source": [
    "output_file = 'netherlands_ebikes.csv'\n",
    "output_file_path = os.path.join(cleaned_data_path, output_file)\n",
    "\n",
    "netherlands.to_csv(output_file_path, index = False)\n",
    "print(\"Data saved to:\", output_file_path)"
   ]
  },
  {
   "cell_type": "code",
   "execution_count": null,
   "metadata": {},
   "outputs": [],
   "source": []
  }
 ],
 "metadata": {
  "kernelspec": {
   "display_name": "base",
   "language": "python",
   "name": "python3"
  },
  "language_info": {
   "codemirror_mode": {
    "name": "ipython",
    "version": 3
   },
   "file_extension": ".py",
   "mimetype": "text/x-python",
   "name": "python",
   "nbconvert_exporter": "python",
   "pygments_lexer": "ipython3",
   "version": "3.12.4"
  }
 },
 "nbformat": 4,
 "nbformat_minor": 2
}
