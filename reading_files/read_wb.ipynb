{
 "cells": [
  {
   "cell_type": "code",
   "execution_count": 1,
   "id": "67a92d40",
   "metadata": {},
   "outputs": [],
   "source": [
    "# https://datacatalog.worldbank.org/search/dataset/0037712/World-Development-Indicators"
   ]
  },
  {
   "cell_type": "code",
   "execution_count": 2,
   "id": "295e117b",
   "metadata": {},
   "outputs": [],
   "source": [
    "import os\n",
    "import pandas as pd\n",
    "from pandas import Series, DataFrame\n",
    "import country_converter as coco"
   ]
  },
  {
   "cell_type": "code",
   "execution_count": 3,
   "id": "4b7a1198",
   "metadata": {},
   "outputs": [],
   "source": [
    "path = '/Users/ariana/desktop/historical_tech'\n",
    "os.chdir(path)"
   ]
  },
  {
   "cell_type": "code",
   "execution_count": 4,
   "id": "eaaae4fa",
   "metadata": {},
   "outputs": [],
   "source": [
    "df = pd.read_excel('raw data/WDIEXCEL.xlsx')\n"
   ]
  },
  {
   "cell_type": "code",
   "execution_count": 5,
   "id": "dc00f2af",
   "metadata": {},
   "outputs": [],
   "source": [
    "def read_wb(df):\n",
    "    df.drop(columns='Indicator Code', inplace=True)\n",
    "    df['Data Source'] = 'World Bank'\n",
    "    df['Unit'] = 'metric tons'\n",
    "    df['Metric'] = 'Annual production'\n",
    "    for x in df['Indicator Name']:\n",
    "        if x=='Aquaculture production (metric tons)':\n",
    "            df.replace(x, 'Aquaculture Production', inplace=True)\n",
    "        elif x=='Capture fisheries production (metric tons)':\n",
    "            df.replace(x, 'Capture Fisheries', inplace=True)\n",
    "    df.rename(columns={'Indicator Name': 'Technology Name'}, inplace=True)\n",
    "    df.reset_index(drop=True, inplace=True)\n",
    "    df = df.iloc[48:]\n",
    "    df.reset_index(drop=True, inplace=True)\n",
    "    df.drop(40, inplace=True)\n",
    "    iso = []\n",
    "    for country in df['Country Name']:\n",
    "        if country == 'World':\n",
    "            iso2 = 'World'\n",
    "        else:\n",
    "            iso2 = coco.convert(names=country, to='iso2')\n",
    "        iso.append(iso2)\n",
    "    df.drop(columns='Country Code', inplace=True)\n",
    "    df['Country Code'] = iso\n",
    "    type_list = []\n",
    "    for x in range(217):\n",
    "        name = df['Country Name'].iloc[x]\n",
    "        if name != 'World':\n",
    "            type_list.append('National')\n",
    "        else:\n",
    "            type_list.append('Global')\n",
    "    df['Spatial Scale'] = type_list\n",
    "    df['ID'] = df['Technology Name'] + '_' + df['Metric'] + '_' + df['Country Code']\n",
    "    omit = []\n",
    "    for col in df.columns:\n",
    "        if len(col) != 4 or col == 'Unit':\n",
    "            omit.append(col)\n",
    "    empty_rows = df.drop(columns=omit)\n",
    "    empty_rows.dropna(how='all', inplace=True)\n",
    "    na_idx = []\n",
    "    for country in df.index:\n",
    "        if country not in empty_rows.index:\n",
    "            na_idx.append(country)\n",
    "    df.drop(na_idx, inplace=True)\n",
    "    return df"
   ]
  },
  {
   "cell_type": "code",
   "execution_count": 6,
   "id": "273e4880",
   "metadata": {},
   "outputs": [
    {
     "name": "stderr",
     "output_type": "stream",
     "text": [
      "/var/folders/4_/pdkx43_96v7dxssy4jtd5vyc0000gn/T/ipykernel_16868/172142170.py:2: SettingWithCopyWarning: \n",
      "A value is trying to be set on a copy of a slice from a DataFrame\n",
      "\n",
      "See the caveats in the documentation: https://pandas.pydata.org/pandas-docs/stable/user_guide/indexing.html#returning-a-view-versus-a-copy\n",
      "  df.drop(columns='Indicator Code', inplace=True)\n",
      "/var/folders/4_/pdkx43_96v7dxssy4jtd5vyc0000gn/T/ipykernel_16868/172142170.py:3: SettingWithCopyWarning: \n",
      "A value is trying to be set on a copy of a slice from a DataFrame.\n",
      "Try using .loc[row_indexer,col_indexer] = value instead\n",
      "\n",
      "See the caveats in the documentation: https://pandas.pydata.org/pandas-docs/stable/user_guide/indexing.html#returning-a-view-versus-a-copy\n",
      "  df['Data Source'] = 'World Bank'\n",
      "/var/folders/4_/pdkx43_96v7dxssy4jtd5vyc0000gn/T/ipykernel_16868/172142170.py:4: SettingWithCopyWarning: \n",
      "A value is trying to be set on a copy of a slice from a DataFrame.\n",
      "Try using .loc[row_indexer,col_indexer] = value instead\n",
      "\n",
      "See the caveats in the documentation: https://pandas.pydata.org/pandas-docs/stable/user_guide/indexing.html#returning-a-view-versus-a-copy\n",
      "  df['Unit'] = 'metric tons'\n",
      "/var/folders/4_/pdkx43_96v7dxssy4jtd5vyc0000gn/T/ipykernel_16868/172142170.py:5: SettingWithCopyWarning: \n",
      "A value is trying to be set on a copy of a slice from a DataFrame.\n",
      "Try using .loc[row_indexer,col_indexer] = value instead\n",
      "\n",
      "See the caveats in the documentation: https://pandas.pydata.org/pandas-docs/stable/user_guide/indexing.html#returning-a-view-versus-a-copy\n",
      "  df['Metric'] = 'Annual production'\n",
      "/var/folders/4_/pdkx43_96v7dxssy4jtd5vyc0000gn/T/ipykernel_16868/172142170.py:8: SettingWithCopyWarning: \n",
      "A value is trying to be set on a copy of a slice from a DataFrame\n",
      "\n",
      "See the caveats in the documentation: https://pandas.pydata.org/pandas-docs/stable/user_guide/indexing.html#returning-a-view-versus-a-copy\n",
      "  df.replace(x, 'Aquaculture Production', inplace=True)\n",
      "/var/folders/4_/pdkx43_96v7dxssy4jtd5vyc0000gn/T/ipykernel_16868/172142170.py:11: SettingWithCopyWarning: \n",
      "A value is trying to be set on a copy of a slice from a DataFrame\n",
      "\n",
      "See the caveats in the documentation: https://pandas.pydata.org/pandas-docs/stable/user_guide/indexing.html#returning-a-view-versus-a-copy\n",
      "  df.rename(columns={'Indicator Name': 'Technology Name'}, inplace=True)\n",
      "/var/folders/4_/pdkx43_96v7dxssy4jtd5vyc0000gn/T/ipykernel_16868/172142170.py:15: SettingWithCopyWarning: \n",
      "A value is trying to be set on a copy of a slice from a DataFrame\n",
      "\n",
      "See the caveats in the documentation: https://pandas.pydata.org/pandas-docs/stable/user_guide/indexing.html#returning-a-view-versus-a-copy\n",
      "  df.drop(40, inplace=True)\n",
      "/var/folders/4_/pdkx43_96v7dxssy4jtd5vyc0000gn/T/ipykernel_16868/172142170.py:23: SettingWithCopyWarning: \n",
      "A value is trying to be set on a copy of a slice from a DataFrame\n",
      "\n",
      "See the caveats in the documentation: https://pandas.pydata.org/pandas-docs/stable/user_guide/indexing.html#returning-a-view-versus-a-copy\n",
      "  df.drop(columns='Country Code', inplace=True)\n",
      "/var/folders/4_/pdkx43_96v7dxssy4jtd5vyc0000gn/T/ipykernel_16868/172142170.py:24: SettingWithCopyWarning: \n",
      "A value is trying to be set on a copy of a slice from a DataFrame.\n",
      "Try using .loc[row_indexer,col_indexer] = value instead\n",
      "\n",
      "See the caveats in the documentation: https://pandas.pydata.org/pandas-docs/stable/user_guide/indexing.html#returning-a-view-versus-a-copy\n",
      "  df['Country Code'] = iso\n",
      "/var/folders/4_/pdkx43_96v7dxssy4jtd5vyc0000gn/T/ipykernel_16868/172142170.py:32: SettingWithCopyWarning: \n",
      "A value is trying to be set on a copy of a slice from a DataFrame.\n",
      "Try using .loc[row_indexer,col_indexer] = value instead\n",
      "\n",
      "See the caveats in the documentation: https://pandas.pydata.org/pandas-docs/stable/user_guide/indexing.html#returning-a-view-versus-a-copy\n",
      "  df['Spatial Scale'] = type_list\n",
      "/var/folders/4_/pdkx43_96v7dxssy4jtd5vyc0000gn/T/ipykernel_16868/172142170.py:33: SettingWithCopyWarning: \n",
      "A value is trying to be set on a copy of a slice from a DataFrame.\n",
      "Try using .loc[row_indexer,col_indexer] = value instead\n",
      "\n",
      "See the caveats in the documentation: https://pandas.pydata.org/pandas-docs/stable/user_guide/indexing.html#returning-a-view-versus-a-copy\n",
      "  df['ID'] = df['Technology Name'] + '_' + df['Metric'] + '_' + df['Country Code']\n",
      "/var/folders/4_/pdkx43_96v7dxssy4jtd5vyc0000gn/T/ipykernel_16868/172142170.py:44: SettingWithCopyWarning: \n",
      "A value is trying to be set on a copy of a slice from a DataFrame\n",
      "\n",
      "See the caveats in the documentation: https://pandas.pydata.org/pandas-docs/stable/user_guide/indexing.html#returning-a-view-versus-a-copy\n",
      "  df.drop(na_idx, inplace=True)\n"
     ]
    }
   ],
   "source": [
    "aqua = df[df['Indicator Name']=='Aquaculture production (metric tons)']\n",
    "aqua = read_wb(aqua)"
   ]
  },
  {
   "cell_type": "code",
   "execution_count": 7,
   "id": "c62246c5",
   "metadata": {},
   "outputs": [
    {
     "name": "stderr",
     "output_type": "stream",
     "text": [
      "/var/folders/4_/pdkx43_96v7dxssy4jtd5vyc0000gn/T/ipykernel_16868/172142170.py:2: SettingWithCopyWarning: \n",
      "A value is trying to be set on a copy of a slice from a DataFrame\n",
      "\n",
      "See the caveats in the documentation: https://pandas.pydata.org/pandas-docs/stable/user_guide/indexing.html#returning-a-view-versus-a-copy\n",
      "  df.drop(columns='Indicator Code', inplace=True)\n",
      "/var/folders/4_/pdkx43_96v7dxssy4jtd5vyc0000gn/T/ipykernel_16868/172142170.py:3: SettingWithCopyWarning: \n",
      "A value is trying to be set on a copy of a slice from a DataFrame.\n",
      "Try using .loc[row_indexer,col_indexer] = value instead\n",
      "\n",
      "See the caveats in the documentation: https://pandas.pydata.org/pandas-docs/stable/user_guide/indexing.html#returning-a-view-versus-a-copy\n",
      "  df['Data Source'] = 'World Bank'\n",
      "/var/folders/4_/pdkx43_96v7dxssy4jtd5vyc0000gn/T/ipykernel_16868/172142170.py:4: SettingWithCopyWarning: \n",
      "A value is trying to be set on a copy of a slice from a DataFrame.\n",
      "Try using .loc[row_indexer,col_indexer] = value instead\n",
      "\n",
      "See the caveats in the documentation: https://pandas.pydata.org/pandas-docs/stable/user_guide/indexing.html#returning-a-view-versus-a-copy\n",
      "  df['Unit'] = 'metric tons'\n",
      "/var/folders/4_/pdkx43_96v7dxssy4jtd5vyc0000gn/T/ipykernel_16868/172142170.py:5: SettingWithCopyWarning: \n",
      "A value is trying to be set on a copy of a slice from a DataFrame.\n",
      "Try using .loc[row_indexer,col_indexer] = value instead\n",
      "\n",
      "See the caveats in the documentation: https://pandas.pydata.org/pandas-docs/stable/user_guide/indexing.html#returning-a-view-versus-a-copy\n",
      "  df['Metric'] = 'Annual production'\n",
      "/var/folders/4_/pdkx43_96v7dxssy4jtd5vyc0000gn/T/ipykernel_16868/172142170.py:10: SettingWithCopyWarning: \n",
      "A value is trying to be set on a copy of a slice from a DataFrame\n",
      "\n",
      "See the caveats in the documentation: https://pandas.pydata.org/pandas-docs/stable/user_guide/indexing.html#returning-a-view-versus-a-copy\n",
      "  df.replace(x, 'Capture Fisheries', inplace=True)\n",
      "/var/folders/4_/pdkx43_96v7dxssy4jtd5vyc0000gn/T/ipykernel_16868/172142170.py:11: SettingWithCopyWarning: \n",
      "A value is trying to be set on a copy of a slice from a DataFrame\n",
      "\n",
      "See the caveats in the documentation: https://pandas.pydata.org/pandas-docs/stable/user_guide/indexing.html#returning-a-view-versus-a-copy\n",
      "  df.rename(columns={'Indicator Name': 'Technology Name'}, inplace=True)\n",
      "/var/folders/4_/pdkx43_96v7dxssy4jtd5vyc0000gn/T/ipykernel_16868/172142170.py:15: SettingWithCopyWarning: \n",
      "A value is trying to be set on a copy of a slice from a DataFrame\n",
      "\n",
      "See the caveats in the documentation: https://pandas.pydata.org/pandas-docs/stable/user_guide/indexing.html#returning-a-view-versus-a-copy\n",
      "  df.drop(40, inplace=True)\n",
      "/var/folders/4_/pdkx43_96v7dxssy4jtd5vyc0000gn/T/ipykernel_16868/172142170.py:23: SettingWithCopyWarning: \n",
      "A value is trying to be set on a copy of a slice from a DataFrame\n",
      "\n",
      "See the caveats in the documentation: https://pandas.pydata.org/pandas-docs/stable/user_guide/indexing.html#returning-a-view-versus-a-copy\n",
      "  df.drop(columns='Country Code', inplace=True)\n",
      "/var/folders/4_/pdkx43_96v7dxssy4jtd5vyc0000gn/T/ipykernel_16868/172142170.py:24: SettingWithCopyWarning: \n",
      "A value is trying to be set on a copy of a slice from a DataFrame.\n",
      "Try using .loc[row_indexer,col_indexer] = value instead\n",
      "\n",
      "See the caveats in the documentation: https://pandas.pydata.org/pandas-docs/stable/user_guide/indexing.html#returning-a-view-versus-a-copy\n",
      "  df['Country Code'] = iso\n",
      "/var/folders/4_/pdkx43_96v7dxssy4jtd5vyc0000gn/T/ipykernel_16868/172142170.py:32: SettingWithCopyWarning: \n",
      "A value is trying to be set on a copy of a slice from a DataFrame.\n",
      "Try using .loc[row_indexer,col_indexer] = value instead\n",
      "\n",
      "See the caveats in the documentation: https://pandas.pydata.org/pandas-docs/stable/user_guide/indexing.html#returning-a-view-versus-a-copy\n",
      "  df['Spatial Scale'] = type_list\n",
      "/var/folders/4_/pdkx43_96v7dxssy4jtd5vyc0000gn/T/ipykernel_16868/172142170.py:33: SettingWithCopyWarning: \n",
      "A value is trying to be set on a copy of a slice from a DataFrame.\n",
      "Try using .loc[row_indexer,col_indexer] = value instead\n",
      "\n",
      "See the caveats in the documentation: https://pandas.pydata.org/pandas-docs/stable/user_guide/indexing.html#returning-a-view-versus-a-copy\n",
      "  df['ID'] = df['Technology Name'] + '_' + df['Metric'] + '_' + df['Country Code']\n",
      "/var/folders/4_/pdkx43_96v7dxssy4jtd5vyc0000gn/T/ipykernel_16868/172142170.py:44: SettingWithCopyWarning: \n",
      "A value is trying to be set on a copy of a slice from a DataFrame\n",
      "\n",
      "See the caveats in the documentation: https://pandas.pydata.org/pandas-docs/stable/user_guide/indexing.html#returning-a-view-versus-a-copy\n",
      "  df.drop(na_idx, inplace=True)\n"
     ]
    }
   ],
   "source": [
    "cap_fish = df[df['Indicator Name']=='Capture fisheries production (metric tons)']\n",
    "cap_fish = read_wb(cap_fish)"
   ]
  },
  {
   "cell_type": "code",
   "execution_count": 8,
   "id": "1ff45e22",
   "metadata": {},
   "outputs": [],
   "source": [
    "wb = pd.concat([aqua, cap_fish])"
   ]
  },
  {
   "cell_type": "code",
   "execution_count": 9,
   "id": "f06b3316",
   "metadata": {},
   "outputs": [],
   "source": [
    "wb.to_csv('cleaned data/wb.csv', index=False)"
   ]
  },
  {
   "cell_type": "code",
   "execution_count": null,
   "id": "fdd0c409",
   "metadata": {},
   "outputs": [],
   "source": []
  }
 ],
 "metadata": {
  "kernelspec": {
   "display_name": "Python 3 (ipykernel)",
   "language": "python",
   "name": "python3"
  },
  "language_info": {
   "codemirror_mode": {
    "name": "ipython",
    "version": 3
   },
   "file_extension": ".py",
   "mimetype": "text/x-python",
   "name": "python",
   "nbconvert_exporter": "python",
   "pygments_lexer": "ipython3",
   "version": "3.9.13"
  }
 },
 "nbformat": 4,
 "nbformat_minor": 5
}
