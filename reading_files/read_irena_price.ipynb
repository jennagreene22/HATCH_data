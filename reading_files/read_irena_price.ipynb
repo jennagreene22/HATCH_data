{
 "cells": [
  {
   "cell_type": "code",
   "execution_count": 1,
   "id": "d80010ec",
   "metadata": {},
   "outputs": [],
   "source": [
    "import pandas as pd\n",
    "from pandas import Series, DataFrame\n",
    "import os\n",
    "import country_converter as coco"
   ]
  },
  {
   "attachments": {},
   "cell_type": "markdown",
   "id": "470bf9db",
   "metadata": {},
   "source": [
    "Data source\n",
    "\n",
    "- https://www.irena.org/publications/2022/Jul/Renewable-Power-Generation-Costs-in-2021"
   ]
  },
  {
   "attachments": {},
   "cell_type": "markdown",
   "id": "554aad35",
   "metadata": {},
   "source": [
    "Get working directory and file paths"
   ]
  },
  {
   "cell_type": "code",
   "execution_count": 2,
   "id": "77660b56",
   "metadata": {},
   "outputs": [
    {
     "name": "stdout",
     "output_type": "stream",
     "text": [
      "Current working directory: /Users/jennagreene/Documents/GitHub/HATCH_data/reading_files\n"
     ]
    }
   ],
   "source": [
    "## Get current working directory\n",
    "print(\"Current working directory:\", os.getcwd())\n",
    "\n",
    "## Find path to raw data (for the raw files)\n",
    "raw_data_path = os.path.abspath(os.path.join(os.getcwd(), '..', 'raw_data'))\n",
    "\n",
    "## Find path to folder for saving cleaned csv\n",
    "cleaned_data_path = os.path.abspath(os.path.join(os.getcwd(), '..', 'cleaned_data'))\n",
    "\n",
    "\n",
    "## Find path to folder for inflation\n",
    "inflation_data_path = os.path.abspath(os.path.join(os.getcwd(), '..', 'inflation'))"
   ]
  },
  {
   "cell_type": "code",
   "execution_count": 3,
   "id": "eab96136",
   "metadata": {},
   "outputs": [],
   "source": [
    "\n",
    "target_inflation_file = \"/A001RG3A086NBEA.xls\"\n",
    "target_inflation_filepath = inflation_data_path + target_inflation_file\n",
    "\n",
    "target_file = \"/cost data/IRENA-Datafile-RenPwrGenCosts-in-2021-v1-0.xlsx\"\n",
    "target_filepath = raw_data_path + target_file"
   ]
  },
  {
   "cell_type": "code",
   "execution_count": 4,
   "id": "c894068c",
   "metadata": {},
   "outputs": [
    {
     "name": "stderr",
     "output_type": "stream",
     "text": [
      "/var/folders/cy/xd4mmw610b3cr6tjgv0h8hlr0000gn/T/ipykernel_30692/2370804784.py:13: FutureWarning: Calling float on a single element Series is deprecated and will raise a TypeError in the future. Use float(ser.iloc[0]) instead\n",
      "  infl_2021_2022 = float(nipa[2022]/nipa[2021])\n"
     ]
    }
   ],
   "source": [
    "## adjusting for inflation from 2021 USD to 2022\n",
    "nipa = pd.read_excel(target_inflation_filepath, header=10)\n",
    "\n",
    "year_list = []\n",
    "for x in nipa['observation_date']:\n",
    "    x = int(str(x)[:4])\n",
    "    year_list.append(x)\n",
    "nipa['Year'] = year_list\n",
    "nipa.set_index('Year', drop=True, inplace=True)\n",
    "nipa.drop(columns='observation_date', inplace=True)\n",
    "nipa = nipa.transpose()\n",
    "\n",
    "infl_2021_2022 = float(nipa[2022]/nipa[2021])"
   ]
  },
  {
   "attachments": {},
   "cell_type": "markdown",
   "id": "25826b71",
   "metadata": {},
   "source": [
    "CSP"
   ]
  },
  {
   "cell_type": "code",
   "execution_count": 5,
   "id": "2b889487",
   "metadata": {},
   "outputs": [],
   "source": [
    "# csp\n",
    "csp = pd.read_excel(target_filepath, sheet_name='Fig 5.1', \n",
    "                    header=8, index_col=0, usecols=[1,2,3,4,5,6,7,8,9,10,11,12,13],\n",
    "                    skiprows=[9,11,12,13,14,15,16,17,18,19,20,21,22,23,25])\n",
    "for col in csp.columns:\n",
    "    csp[col] = csp[col] * infl_2021_2022\n",
    "csp['Metric'] = ['Total Installed Cost', 'Levelized Cost of Energy']\n",
    "csp['Technology Name'] = 'Concentrating Solar Power'\n",
    "csp['Country Name'] = 'World'\n",
    "csp['Country Code'] = 'World'\n",
    "csp['Spatial Scale'] = 'Global'\n",
    "csp['Data Source'] = 'IRENA'\n",
    "csp['Unit'] = ['2022 USD/kW', '2022 USD/kWh']\n",
    "csp['ID'] = csp['Technology Name'] + '_' + csp['Metric'] + '_' + csp['Country Code']\n",
    "csp.set_index('ID', inplace=True)"
   ]
  },
  {
   "cell_type": "code",
   "execution_count": 6,
   "id": "5f1791b1",
   "metadata": {},
   "outputs": [
    {
     "name": "stdout",
     "output_type": "stream",
     "text": [
      "Data saved to: /Users/jennagreene/Documents/GitHub/HATCH_data/cleaned_data/csp_price.csv\n"
     ]
    }
   ],
   "source": [
    "output_file = 'csp_price.csv'\n",
    "output_file_path = os.path.join(cleaned_data_path, output_file)\n",
    "\n",
    "csp.to_csv(output_file_path)\n",
    "print(\"Data saved to:\", output_file_path)"
   ]
  },
  {
   "attachments": {},
   "cell_type": "markdown",
   "id": "8eeed5e4",
   "metadata": {},
   "source": [
    "Geothermal"
   ]
  },
  {
   "cell_type": "code",
   "execution_count": 7,
   "id": "b9517777",
   "metadata": {},
   "outputs": [],
   "source": [
    "# geothermal total installed cost\n",
    "geothermal_total_install = pd.read_excel(target_filepath, \n",
    "                           sheet_name='Fig 7.2', header=4, usecols=[1,3], index_col=0)\n",
    "geothermal_total_install = geothermal_total_install.transpose()\n",
    "for col in geothermal_total_install.columns:\n",
    "    geothermal_total_install[col] = geothermal_total_install[col] * infl_2021_2022\n",
    "geothermal_total_install['Technology Name'] = 'Geothermal Energy'\n",
    "geothermal_total_install['Country Name'] = 'World'\n",
    "geothermal_total_install['Country Code'] = 'World'\n",
    "geothermal_total_install['Spatial Scale'] = 'Global'\n",
    "geothermal_total_install['Data Source'] = 'IRENA'\n",
    "geothermal_total_install['Metric'] = 'Total Installed Cost'\n",
    "geothermal_total_install['Unit'] = '2022 USD/kW'\n",
    "geothermal_total_install['ID'] = geothermal_total_install['Technology Name'] + '_' + geothermal_total_install['Metric'] + '_' + geothermal_total_install['Country Code']\n",
    "geothermal_total_install.set_index('ID', inplace=True)\n",
    "geothermal_total_install.columns.name=None"
   ]
  },
  {
   "cell_type": "code",
   "execution_count": 8,
   "id": "5cb7d547",
   "metadata": {},
   "outputs": [
    {
     "name": "stdout",
     "output_type": "stream",
     "text": [
      "Data saved to: /Users/jennagreene/Documents/GitHub/HATCH_data/cleaned_data/geothermal_total_installed_cost.csv\n"
     ]
    }
   ],
   "source": [
    "output_file = 'geothermal_total_installed_cost.csv'\n",
    "output_file_path = os.path.join(cleaned_data_path, output_file)\n",
    "\n",
    "geothermal_total_install.to_csv(output_file_path)\n",
    "print(\"Data saved to:\", output_file_path)"
   ]
  },
  {
   "attachments": {},
   "cell_type": "markdown",
   "id": "c9b16a2e",
   "metadata": {},
   "source": [
    "Geothermal LCOE"
   ]
  },
  {
   "cell_type": "code",
   "execution_count": 9,
   "id": "73abefb0",
   "metadata": {},
   "outputs": [],
   "source": [
    "# geothermal LCOE\n",
    "geothermal_lcoe = pd.read_excel(target_filepath, \n",
    "                           sheet_name='Fig 7.4', header=5, usecols=[1,3], index_col=0)\n",
    "geothermal_lcoe = geothermal_lcoe.transpose()\n",
    "for col in geothermal_lcoe.columns:\n",
    "    geothermal_lcoe[col] = geothermal_lcoe[col] * infl_2021_2022\n",
    "geothermal_lcoe['Technology Name'] = 'Geothermal Energy'\n",
    "geothermal_lcoe['Country Name'] = 'World'\n",
    "geothermal_lcoe['Country Code'] = 'World'\n",
    "geothermal_lcoe['Spatial Scale'] = 'Global'\n",
    "geothermal_lcoe['Data Source'] = 'IRENA'\n",
    "geothermal_lcoe['Metric'] = 'Levelized Cost of Energy'\n",
    "geothermal_lcoe['Unit'] = '2022 USD/kWh'\n",
    "geothermal_lcoe['ID'] = geothermal_lcoe['Technology Name'] + '_' + geothermal_lcoe['Metric'] + '_' + geothermal_lcoe['Country Code']\n",
    "geothermal_lcoe.set_index('ID', inplace=True)\n",
    "geothermal_lcoe.columns.name=None"
   ]
  },
  {
   "cell_type": "code",
   "execution_count": 10,
   "id": "efa57d9e",
   "metadata": {},
   "outputs": [
    {
     "name": "stdout",
     "output_type": "stream",
     "text": [
      "Data saved to: /Users/jennagreene/Documents/GitHub/HATCH_data/cleaned_data/geothermal_lcoe.csv\n"
     ]
    }
   ],
   "source": [
    "output_file = 'geothermal_lcoe.csv'\n",
    "output_file_path = os.path.join(cleaned_data_path, output_file)\n",
    "\n",
    "geothermal_lcoe.to_csv(output_file_path)\n",
    "print(\"Data saved to:\", output_file_path)"
   ]
  },
  {
   "attachments": {},
   "cell_type": "markdown",
   "id": "28dfcfb2",
   "metadata": {},
   "source": [
    "Hydro"
   ]
  },
  {
   "cell_type": "code",
   "execution_count": 11,
   "id": "1ef05b06",
   "metadata": {},
   "outputs": [],
   "source": [
    "# hydro\n",
    "hydro = pd.read_excel(target_filepath,\n",
    "                      sheet_name='Fig 6.1', header=6, index_col=0, usecols=[1,2,3,4,5,6,7,8,9,10,11,12,13],\n",
    "                      skiprows=[7,9,10,11,12,13,14,15,16,17,18,19,20,21,23])\n",
    "for col in hydro.columns:\n",
    "    hydro[col] = hydro[col] * infl_2021_2022\n",
    "hydro['Metric'] = ['Total Installed Cost', 'Levelized Cost of Energy']\n",
    "hydro['Technology Name'] = 'Hydropower'\n",
    "hydro['Country Name'] = 'World'\n",
    "hydro['Country Code'] = 'World'\n",
    "hydro['Spatial Scale'] = 'Global'\n",
    "hydro['Data Source'] = 'IRENA'\n",
    "hydro['Unit'] = ['2022 USD/kW', '2022 USD/kWh']\n",
    "hydro['ID'] = hydro['Technology Name'] + '_' + hydro['Metric'] + '_' + hydro['Country Code']\n",
    "hydro.set_index('ID', inplace=True)\n"
   ]
  },
  {
   "cell_type": "code",
   "execution_count": 12,
   "id": "d59e2560",
   "metadata": {},
   "outputs": [
    {
     "name": "stdout",
     "output_type": "stream",
     "text": [
      "Data saved to: /Users/jennagreene/Documents/GitHub/HATCH_data/cleaned_data/hydro_price.csv\n"
     ]
    }
   ],
   "source": [
    "output_file = 'hydro_price.csv'\n",
    "output_file_path = os.path.join(cleaned_data_path, output_file)\n",
    "\n",
    "hydro.to_csv(output_file_path)\n",
    "print(\"Data saved to:\", output_file_path)"
   ]
  },
  {
   "attachments": {},
   "cell_type": "markdown",
   "id": "53159fe8",
   "metadata": {},
   "source": [
    "Offshore Wind Total Installed"
   ]
  },
  {
   "cell_type": "code",
   "execution_count": 13,
   "id": "43beff2c",
   "metadata": {},
   "outputs": [],
   "source": [
    "# offshore wind total installed cost\n",
    "offshore_wind_total_installed = pd.read_excel(target_filepath,\n",
    "                      sheet_name='Fig 4.6',header=4,usecols=[1,3],index_col=0)\n",
    "offshore_wind_total_installed = offshore_wind_total_installed.transpose()\n",
    "for col in offshore_wind_total_installed.columns:\n",
    "    offshore_wind_total_installed[col] = offshore_wind_total_installed[col] * infl_2021_2022\n",
    "offshore_wind_total_installed['Metric'] = 'Total Installed Cost'\n",
    "offshore_wind_total_installed['Technology Name'] = 'Offshore Wind Energy'\n",
    "offshore_wind_total_installed['Country Name'] = 'World'\n",
    "offshore_wind_total_installed['Country Code'] = 'World'\n",
    "offshore_wind_total_installed['Spatial Scale'] = 'Global'\n",
    "offshore_wind_total_installed['Data Source'] = 'IRENA'\n",
    "offshore_wind_total_installed['Unit'] = '2022 USD/kW'\n",
    "offshore_wind_total_installed['ID'] = offshore_wind_total_installed['Technology Name'] + '_' + offshore_wind_total_installed['Metric'] + '_' + offshore_wind_total_installed['Country Code']\n",
    "offshore_wind_total_installed.set_index('ID', inplace=True)\n",
    "offshore_wind_total_installed.columns.name=None\n"
   ]
  },
  {
   "cell_type": "code",
   "execution_count": 14,
   "id": "2e831374",
   "metadata": {},
   "outputs": [
    {
     "name": "stdout",
     "output_type": "stream",
     "text": [
      "Data saved to: /Users/jennagreene/Documents/GitHub/HATCH_data/cleaned_data/offshore_wind_total_installed_cost.csv\n"
     ]
    }
   ],
   "source": [
    "output_file = 'offshore_wind_total_installed_cost.csv'\n",
    "output_file_path = os.path.join(cleaned_data_path, output_file)\n",
    "\n",
    "offshore_wind_total_installed.to_csv(output_file_path)\n",
    "print(\"Data saved to:\", output_file_path)"
   ]
  },
  {
   "attachments": {},
   "cell_type": "markdown",
   "id": "be44daa8",
   "metadata": {},
   "source": [
    "Offshore Wind LCOE"
   ]
  },
  {
   "cell_type": "code",
   "execution_count": 15,
   "id": "95570446",
   "metadata": {},
   "outputs": [],
   "source": [
    "# offshore wind lcoe\n",
    "offshore_wind_lcoe = pd.read_excel(target_filepath,\n",
    "                      sheet_name='Fig 4.13',header=3,usecols=[1,3],index_col=0)\n",
    "offshore_wind_lcoe = offshore_wind_lcoe.transpose()\n",
    "for col in offshore_wind_lcoe.columns:\n",
    "    offshore_wind_lcoe[col] = offshore_wind_lcoe[col] * infl_2021_2022\n",
    "offshore_wind_lcoe['Metric'] = 'Levelized Cost of Energy'\n",
    "offshore_wind_lcoe['Technology Name'] = 'Offshore Wind Energy'\n",
    "offshore_wind_lcoe['Country Name'] = 'World'\n",
    "offshore_wind_lcoe['Country Code'] = 'World'\n",
    "offshore_wind_lcoe['Spatial Scale'] = 'Global'\n",
    "offshore_wind_lcoe['Data Source'] = 'IRENA'\n",
    "offshore_wind_lcoe['Unit'] = '2022 USD/kWh'\n",
    "offshore_wind_lcoe['ID'] = offshore_wind_lcoe['Technology Name'] + '_' + offshore_wind_lcoe['Metric'] + '_' + offshore_wind_lcoe['Country Code']\n",
    "offshore_wind_lcoe.set_index('ID', inplace=True)\n",
    "offshore_wind_lcoe.columns.name=None"
   ]
  },
  {
   "cell_type": "code",
   "execution_count": 16,
   "id": "f8d64494",
   "metadata": {},
   "outputs": [
    {
     "name": "stdout",
     "output_type": "stream",
     "text": [
      "Data saved to: /Users/jennagreene/Documents/GitHub/HATCH_data/cleaned_data/offshore_wind_lcoe_global.csv\n"
     ]
    }
   ],
   "source": [
    "output_file = 'offshore_wind_lcoe_global.csv'\n",
    "output_file_path = os.path.join(cleaned_data_path, output_file)\n",
    "\n",
    "offshore_wind_lcoe.to_csv(output_file_path)\n",
    "print(\"Data saved to:\", output_file_path)"
   ]
  },
  {
   "attachments": {},
   "cell_type": "markdown",
   "id": "139ab9bd",
   "metadata": {},
   "source": [
    "Onshore wind TIC"
   ]
  },
  {
   "cell_type": "code",
   "execution_count": 17,
   "id": "65bcca73",
   "metadata": {},
   "outputs": [],
   "source": [
    "# onshore wind, total installed cost, global weighted average\n",
    "onshore_tic_global = pd.read_excel(target_filepath,\n",
    "                      sheet_name='Fig 2.4',header=6,usecols=[1,3],index_col=0)\n",
    "onshore_tic_global = onshore_tic_global.transpose()\n",
    "for col in onshore_tic_global.columns:\n",
    "    onshore_tic_global[col] = onshore_tic_global[col] * infl_2021_2022\n",
    "onshore_tic_global['Metric'] = 'Total Installed Cost'\n",
    "onshore_tic_global['Technology Name'] = 'Onshore Wind Energy'\n",
    "onshore_tic_global['Country Name'] = 'World'\n",
    "onshore_tic_global['Country Code'] = 'World'\n",
    "onshore_tic_global['Spatial Scale'] = 'Global'\n",
    "onshore_tic_global['Data Source'] = 'IRENA'\n",
    "onshore_tic_global['Unit'] = '2022 USD/kW'\n",
    "onshore_tic_global['ID'] = onshore_tic_global['Technology Name'] + '_' + onshore_tic_global['Metric'] + '_' + onshore_tic_global['Country Code']\n",
    "onshore_tic_global.set_index('ID', inplace=True)\n",
    "onshore_tic_global.columns.name=None\n"
   ]
  },
  {
   "cell_type": "code",
   "execution_count": 18,
   "id": "22cd6817",
   "metadata": {},
   "outputs": [
    {
     "name": "stdout",
     "output_type": "stream",
     "text": [
      "Data saved to: /Users/jennagreene/Documents/GitHub/HATCH_data/cleaned_data/onshore_wind_tic_global.csv\n"
     ]
    }
   ],
   "source": [
    "output_file = 'onshore_wind_tic_global.csv'\n",
    "output_file_path = os.path.join(cleaned_data_path, output_file)\n",
    "\n",
    "onshore_tic_global.to_csv(output_file_path)\n",
    "print(\"Data saved to:\", output_file_path)"
   ]
  },
  {
   "attachments": {},
   "cell_type": "markdown",
   "id": "7d261448",
   "metadata": {},
   "source": [
    "Onshore wind LCOE Global"
   ]
  },
  {
   "cell_type": "code",
   "execution_count": 19,
   "id": "66a21f1c",
   "metadata": {},
   "outputs": [],
   "source": [
    "# onshore wind, lcoe, global weighted average\n",
    "onshore_lcoe_global = pd.read_excel(target_filepath,\n",
    "                      sheet_name='Fig 2.12',header=3,usecols=[1,2],index_col=0)\n",
    "onshore_lcoe_global = onshore_lcoe_global.transpose()\n",
    "for col in onshore_lcoe_global.columns:\n",
    "    onshore_lcoe_global[col] = onshore_lcoe_global[col] * infl_2021_2022\n",
    "onshore_lcoe_global['Metric'] = 'Levelized Cost of Energy'\n",
    "onshore_lcoe_global['Technology Name'] = 'Onshore Wind Energy'\n",
    "onshore_lcoe_global['Country Name'] = 'World'\n",
    "onshore_lcoe_global['Country Code'] = 'World'\n",
    "onshore_lcoe_global['Spatial Scale'] = 'Global'\n",
    "onshore_lcoe_global['Data Source'] = 'IRENA'\n",
    "onshore_lcoe_global['Unit'] = '2022 USD/kWh'\n",
    "onshore_lcoe_global['ID'] = onshore_lcoe_global['Technology Name'] + '_' + onshore_lcoe_global['Metric'] + '_' + onshore_lcoe_global['Country Code']\n",
    "onshore_lcoe_global.set_index('ID', inplace=True)\n",
    "onshore_lcoe_global.columns.name=None"
   ]
  },
  {
   "cell_type": "code",
   "execution_count": 20,
   "id": "11206bfb",
   "metadata": {},
   "outputs": [
    {
     "name": "stdout",
     "output_type": "stream",
     "text": [
      "Data saved to: /Users/jennagreene/Documents/GitHub/HATCH_data/cleaned_data/onshore wind_lcoe.csv\n"
     ]
    }
   ],
   "source": [
    "output_file = 'onshore wind_lcoe.csv'\n",
    "output_file_path = os.path.join(cleaned_data_path, output_file)\n",
    "\n",
    "onshore_lcoe_global.to_csv(output_file_path)\n",
    "print(\"Data saved to:\", output_file_path)"
   ]
  },
  {
   "attachments": {},
   "cell_type": "markdown",
   "id": "a2dc8014",
   "metadata": {},
   "source": [
    "Onshore TIC Country"
   ]
  },
  {
   "cell_type": "code",
   "execution_count": 21,
   "id": "ba2d926d",
   "metadata": {},
   "outputs": [],
   "source": [
    "# onshore wind, total installed cost, country-level\n",
    "onshore_tic_country = pd.read_excel(target_filepath,\n",
    "                    sheet_name='Fig 2.5',header=6,\n",
    "                    usecols=[1,2,3,4,5,6,7,8,9,10,11,12,13,14,15,16,17,18,19,20,21,22,23,24,25,26,27,28,29,30,31,32,33,34,35,36,37,38,39],\n",
    "                    index_col=0)\n",
    "for col in onshore_tic_country.columns:\n",
    "    onshore_tic_country[col] = onshore_tic_country[col] * infl_2021_2022\n",
    "onshore_tic_country['Metric'] = 'Total Installed Cost'\n",
    "onshore_tic_country['Technology Name'] = 'Onshore Wind Energy'\n",
    "onshore_tic_country['Spatial Scale'] = 'National'\n",
    "onshore_tic_country['Data Source'] = 'IRENA'\n",
    "onshore_tic_country['Unit'] = '2022 USD/kW'\n",
    "onshore_tic_country['Country Name'] = onshore_tic_country.index\n",
    "country_codes = []\n",
    "for country in onshore_tic_country.index:\n",
    "    code = coco.convert(names=country, to='iso2')\n",
    "    country_codes.append(code)\n",
    "onshore_tic_country['Country Code'] = country_codes\n",
    "onshore_tic_country['ID'] = onshore_tic_country['Technology Name'] + '_' + onshore_tic_country['Metric'] + '_' + onshore_tic_country['Country Code']\n",
    "onshore_tic_country.set_index('ID', inplace=True)\n"
   ]
  },
  {
   "cell_type": "code",
   "execution_count": 22,
   "id": "07b82b26",
   "metadata": {},
   "outputs": [
    {
     "name": "stdout",
     "output_type": "stream",
     "text": [
      "Data saved to: /Users/jennagreene/Documents/GitHub/HATCH_data/cleaned_data/onshore_tic_country.csv\n"
     ]
    }
   ],
   "source": [
    "output_file = 'onshore_tic_country.csv'\n",
    "output_file_path = os.path.join(cleaned_data_path, output_file)\n",
    "\n",
    "onshore_tic_country.to_csv(output_file_path)\n",
    "print(\"Data saved to:\", output_file_path)"
   ]
  },
  {
   "attachments": {},
   "cell_type": "markdown",
   "id": "071f6dd4",
   "metadata": {},
   "source": [
    "Onshore Wind LCOE Country"
   ]
  },
  {
   "cell_type": "code",
   "execution_count": 23,
   "id": "53bbf012",
   "metadata": {},
   "outputs": [],
   "source": [
    "# onshore wind, lcoe, country-level\n",
    "onshore_lcoe_country = pd.read_excel(target_filepath,\n",
    "                      sheet_name='Fig 2.13',header=6,\n",
    "                    usecols=[1,2,3,4,5,6,7,8,9,10,11,12,13,14,15,16,17,18,19,20,21,22,23,24,25,26,27,28,29,30,31,32,33,34,35,36,37,38,39],\n",
    "                    index_col=0)\n",
    "for col in onshore_lcoe_country.columns:\n",
    "    onshore_lcoe_country[col] = onshore_lcoe_country[col] * infl_2021_2022\n",
    "onshore_lcoe_country['Metric'] = 'Levelized Cost of Energy'\n",
    "onshore_lcoe_country['Technology Name'] = 'Onshore Wind Energy'\n",
    "onshore_lcoe_country['Spatial Scale'] = 'National'\n",
    "onshore_lcoe_country['Data Source'] = 'IRENA'\n",
    "onshore_lcoe_country['Unit'] = '2022 USD/kWh'\n",
    "onshore_lcoe_country['Country Name'] = onshore_lcoe_country.index\n",
    "country_codes = []\n",
    "for country in onshore_lcoe_country.index:\n",
    "    code = coco.convert(names=country, to='iso2')\n",
    "    country_codes.append(code)\n",
    "onshore_lcoe_country['Country Code'] = country_codes\n",
    "onshore_lcoe_country['ID'] = onshore_lcoe_country['Technology Name'] + '_' + onshore_lcoe_country['Metric'] + '_' + onshore_lcoe_country['Country Code']\n",
    "onshore_lcoe_country.set_index('ID', inplace=True)\n"
   ]
  },
  {
   "cell_type": "code",
   "execution_count": 24,
   "id": "a39eaf89",
   "metadata": {},
   "outputs": [
    {
     "name": "stdout",
     "output_type": "stream",
     "text": [
      "Data saved to: /Users/jennagreene/Documents/GitHub/HATCH_data/cleaned_data/onshore_lcoe_country.csv\n"
     ]
    }
   ],
   "source": [
    "output_file = 'onshore_lcoe_country.csv'\n",
    "output_file_path = os.path.join(cleaned_data_path, output_file)\n",
    "\n",
    "onshore_lcoe_country.to_csv(output_file_path)\n",
    "print(\"Data saved to:\", output_file_path)"
   ]
  },
  {
   "attachments": {},
   "cell_type": "markdown",
   "id": "77cbd974",
   "metadata": {},
   "source": [
    "Solar PV Global"
   ]
  },
  {
   "cell_type": "code",
   "execution_count": 25,
   "id": "6b929610",
   "metadata": {},
   "outputs": [],
   "source": [
    "# solar pv, 3.1, global weighted average tic and lcoe\n",
    "solar_pv_global = pd.read_excel(target_filepath,\n",
    "                      sheet_name='Fig 3.1',header=8,usecols=[1,2,3,4,5,6,7,8,9,10,11,12,13], index_col=0,\n",
    "                skiprows=[9,11,12,13,14,15,16,17,18,19,20,21,22,23,25])\n",
    "for col in solar_pv_global.columns:\n",
    "    solar_pv_global[col] = solar_pv_global[col] * infl_2021_2022\n",
    "solar_pv_global['Metric'] = ['Total Installed Cost', 'Levelized Cost of Energy']\n",
    "solar_pv_global['Technology Name'] = 'Solar Photovoltaic'\n",
    "solar_pv_global['Country Name'] = 'World'\n",
    "solar_pv_global['Country Code'] = 'World'\n",
    "solar_pv_global['Spatial Scale'] = 'Global'\n",
    "solar_pv_global['Data Source'] = 'IRENA'\n",
    "solar_pv_global['Unit'] = ['2022 USD/kW', '2022 USD/kWh']\n",
    "solar_pv_global['ID'] = solar_pv_global['Technology Name'] + '_' + solar_pv_global['Metric'] + '_' + solar_pv_global['Country Code']\n",
    "solar_pv_global.set_index('ID', inplace=True)\n"
   ]
  },
  {
   "cell_type": "code",
   "execution_count": 26,
   "id": "cc7f2a3c",
   "metadata": {},
   "outputs": [
    {
     "name": "stdout",
     "output_type": "stream",
     "text": [
      "Data saved to: /Users/jennagreene/Documents/GitHub/HATCH_data/cleaned_data/solar_pv_global_price.csv\n"
     ]
    }
   ],
   "source": [
    "output_file = 'solar_pv_global_price.csv'\n",
    "output_file_path = os.path.join(cleaned_data_path, output_file)\n",
    "\n",
    "solar_pv_global.to_csv(output_file_path)\n",
    "print(\"Data saved to:\", output_file_path)"
   ]
  },
  {
   "attachments": {},
   "cell_type": "markdown",
   "id": "d64a3f10",
   "metadata": {},
   "source": [
    "Solar TIC Country"
   ]
  },
  {
   "cell_type": "code",
   "execution_count": 27,
   "id": "02a60ea3",
   "metadata": {},
   "outputs": [],
   "source": [
    "# solar pv, 3.4, tic country\n",
    "solar_tic_country = pd.read_excel(target_filepath,\n",
    "                      sheet_name='Figure 3.4',header=3,usecols=[1,2,3,4,5,6,7,8,9,10,11,12,13], index_col=0)\n",
    "for col in solar_tic_country.columns:\n",
    "    solar_tic_country[col] = solar_tic_country[col] * infl_2021_2022\n",
    "solar_tic_country['Metric'] = 'Total Installed Cost'\n",
    "solar_tic_country['Technology Name'] = 'Solar Photovoltaic'\n",
    "solar_tic_country['Spatial Scale'] = 'National'\n",
    "solar_tic_country['Data Source'] = 'IRENA'\n",
    "solar_tic_country['Unit'] = '2022 USD/kW'\n",
    "solar_tic_country['Country Name'] = solar_tic_country.index\n",
    "country_codes = []\n",
    "for country in solar_tic_country.index:\n",
    "    code = coco.convert(names=country, to='iso2')\n",
    "    country_codes.append(code)\n",
    "solar_tic_country['Country Code'] = country_codes\n",
    "solar_tic_country['ID'] = solar_tic_country['Technology Name'] + '_' + solar_tic_country['Metric'] + '_' + solar_tic_country['Country Code']\n",
    "solar_tic_country.set_index('ID', inplace=True)\n"
   ]
  },
  {
   "cell_type": "code",
   "execution_count": 28,
   "id": "4a79b2dc",
   "metadata": {},
   "outputs": [
    {
     "name": "stdout",
     "output_type": "stream",
     "text": [
      "Data saved to: /Users/jennagreene/Documents/GitHub/HATCH_data/cleaned_data/solar_pv_tic_country.csv.csv\n"
     ]
    }
   ],
   "source": [
    "\n",
    "\n",
    "output_file = 'solar_pv_tic_country.csv.csv'\n",
    "output_file_path = os.path.join(cleaned_data_path, output_file)\n",
    "\n",
    "solar_tic_country.to_csv(output_file_path)\n",
    "print(\"Data saved to:\", output_file_path)"
   ]
  },
  {
   "attachments": {},
   "cell_type": "markdown",
   "id": "49cc1f86",
   "metadata": {},
   "source": [
    "Solar LCOE"
   ]
  },
  {
   "cell_type": "code",
   "execution_count": 29,
   "id": "fbe78998",
   "metadata": {},
   "outputs": [],
   "source": [
    "# solar pv, 3.8, lcoe country\n",
    "solar_lcoe_country = pd.read_excel(target_filepath,\n",
    "                      sheet_name='Fig 3.8',header=5,usecols=[2,3,4,5,6,7,8,9,10,11,12,13,14],index_col=0)\n",
    "for col in solar_lcoe_country.columns:\n",
    "    solar_lcoe_country[col] = solar_lcoe_country[col] * infl_2021_2022\n",
    "solar_lcoe_country['Metric'] = 'Levelized Cost of Energy'\n",
    "solar_lcoe_country['Technology Name'] = 'Solar Photovoltaic'\n",
    "solar_lcoe_country['Spatial Scale'] = 'National'\n",
    "solar_lcoe_country['Data Source'] = 'IRENA'\n",
    "solar_lcoe_country['Unit'] = '2022 USD/kWh'\n",
    "solar_lcoe_country['Country Name'] = solar_lcoe_country.index\n",
    "country_codes = []\n",
    "for country in solar_lcoe_country.index:\n",
    "    code = coco.convert(names=country, to='iso2')\n",
    "    country_codes.append(code)\n",
    "solar_lcoe_country['Country Code'] = country_codes\n",
    "solar_lcoe_country['ID'] = solar_lcoe_country['Technology Name'] + '_' + solar_lcoe_country['Metric'] + '_' + solar_lcoe_country['Country Code']\n",
    "solar_lcoe_country.set_index('ID', inplace=True)\n"
   ]
  },
  {
   "cell_type": "code",
   "execution_count": 30,
   "id": "94329cef",
   "metadata": {},
   "outputs": [
    {
     "name": "stdout",
     "output_type": "stream",
     "text": [
      "Data saved to: /Users/jennagreene/Documents/GitHub/HATCH_data/cleaned_data/solar_pv_lcoe_country.csv\n"
     ]
    }
   ],
   "source": [
    "output_file = 'solar_pv_lcoe_country.csv'\n",
    "output_file_path = os.path.join(cleaned_data_path, output_file)\n",
    "\n",
    "solar_lcoe_country.to_csv(output_file_path)\n",
    "print(\"Data saved to:\", output_file_path)"
   ]
  },
  {
   "attachments": {},
   "cell_type": "markdown",
   "id": "9ddc97e9",
   "metadata": {},
   "source": [
    "Bioenergy"
   ]
  },
  {
   "cell_type": "code",
   "execution_count": 31,
   "id": "9cef62c7",
   "metadata": {},
   "outputs": [],
   "source": [
    "# bioenergy\n",
    "bioenergy = pd.read_excel(target_filepath, \n",
    "                          sheet_name='Fig 8.1', header=6, usecols=[1,2,3,4,5,6,7,8,9,10,11,12,13],index_col=0,\n",
    "                         skiprows=[7,9,10,11,12,13,14,15,16,17,18,19,20,21,23])\n",
    "for col in bioenergy.columns:\n",
    "    bioenergy[col] = bioenergy[col] * infl_2021_2022\n",
    "bioenergy['Metric'] = ['Total Installed Cost', 'Levelized Cost of Energy']\n",
    "bioenergy['Technology Name'] = 'Bioenergy'\n",
    "bioenergy['Country Name'] = 'World'\n",
    "bioenergy['Country Code'] = 'World'\n",
    "bioenergy['Spatial Scale'] = 'Global'\n",
    "bioenergy['Data Source'] = 'IRENA'\n",
    "bioenergy['Unit'] = ['2022 USD/kW', '2022 USD/kWh']\n",
    "bioenergy['ID'] = bioenergy['Technology Name'] + '_' + bioenergy['Metric'] + '_' + bioenergy['Country Code']\n",
    "bioenergy.set_index('ID', inplace=True)\n"
   ]
  },
  {
   "cell_type": "code",
   "execution_count": 32,
   "id": "273d5afb",
   "metadata": {},
   "outputs": [
    {
     "name": "stdout",
     "output_type": "stream",
     "text": [
      "Data saved to: /Users/jennagreene/Documents/GitHub/HATCH_data/cleaned_data/bioenergy_price.csv\n"
     ]
    }
   ],
   "source": [
    "output_file = 'bioenergy_price.csv'\n",
    "output_file_path = os.path.join(cleaned_data_path, output_file)\n",
    "\n",
    "bioenergy.to_csv(output_file_path)\n",
    "print(\"Data saved to:\", output_file_path)"
   ]
  }
 ],
 "metadata": {
  "kernelspec": {
   "display_name": "Python 3 (ipykernel)",
   "language": "python",
   "name": "python3"
  },
  "language_info": {
   "codemirror_mode": {
    "name": "ipython",
    "version": 3
   },
   "file_extension": ".py",
   "mimetype": "text/x-python",
   "name": "python",
   "nbconvert_exporter": "python",
   "pygments_lexer": "ipython3",
   "version": "3.10.9"
  }
 },
 "nbformat": 4,
 "nbformat_minor": 5
}
