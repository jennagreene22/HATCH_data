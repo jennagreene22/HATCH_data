{
 "cells": [
  {
   "cell_type": "code",
   "execution_count": 1,
   "id": "4d8c4a0d",
   "metadata": {},
   "outputs": [],
   "source": [
    "import os\n",
    "import pandas as pd\n",
    "from pandas import Series, DataFrame\n",
    "import country_converter as coco\n",
    "\n",
    "import warnings\n",
    "warnings.filterwarnings(\"ignore\", category=DeprecationWarning)\n"
   ]
  },
  {
   "attachments": {},
   "cell_type": "markdown",
   "id": "e4cba399",
   "metadata": {},
   "source": [
    "Data sources:\n",
    "- https://ourworldindata.org/space-exploration-satellites#introduction\n",
    "- Annual no. of objects launched into space\n"
   ]
  },
  {
   "cell_type": "code",
   "execution_count": 2,
   "id": "9983563f",
   "metadata": {},
   "outputs": [
    {
     "name": "stdout",
     "output_type": "stream",
     "text": [
      "Current working directory: /Users/jennagreene/Documents/GitHub/HATCH_data/reading_files\n"
     ]
    }
   ],
   "source": [
    "## Get current working directory\n",
    "print(\"Current working directory:\", os.getcwd())\n",
    "\n",
    "## Find path to raw data (for the raw files)\n",
    "raw_data_path = os.path.abspath(os.path.join(os.getcwd(), '..', 'raw_data'))\n",
    "\n",
    "## Find path to folder for saving cleaned csv\n",
    "cleaned_data_path = os.path.abspath(os.path.join(os.getcwd(), '..', 'cleaned_data'))\n"
   ]
  },
  {
   "cell_type": "code",
   "execution_count": 3,
   "id": "f7fb3d35",
   "metadata": {},
   "outputs": [],
   "source": [
    "target_file = '/yearly-number-of-objects-launched-into-outer-space.csv'\n",
    "target_filepath = raw_data_path + target_file"
   ]
  },
  {
   "cell_type": "code",
   "execution_count": 4,
   "id": "fd46341f",
   "metadata": {},
   "outputs": [
    {
     "data": {
      "text/html": [
       "<div>\n",
       "<style scoped>\n",
       "    .dataframe tbody tr th:only-of-type {\n",
       "        vertical-align: middle;\n",
       "    }\n",
       "\n",
       "    .dataframe tbody tr th {\n",
       "        vertical-align: top;\n",
       "    }\n",
       "\n",
       "    .dataframe thead th {\n",
       "        text-align: right;\n",
       "    }\n",
       "</style>\n",
       "<table border=\"1\" class=\"dataframe\">\n",
       "  <thead>\n",
       "    <tr style=\"text-align: right;\">\n",
       "      <th></th>\n",
       "      <th>Entity</th>\n",
       "      <th>yearly_launches</th>\n",
       "    </tr>\n",
       "    <tr>\n",
       "      <th>Year</th>\n",
       "      <th></th>\n",
       "      <th></th>\n",
       "    </tr>\n",
       "  </thead>\n",
       "  <tbody>\n",
       "    <tr>\n",
       "      <th>2002</th>\n",
       "      <td>Algeria</td>\n",
       "      <td>1</td>\n",
       "    </tr>\n",
       "    <tr>\n",
       "      <th>2010</th>\n",
       "      <td>Algeria</td>\n",
       "      <td>1</td>\n",
       "    </tr>\n",
       "    <tr>\n",
       "      <th>2016</th>\n",
       "      <td>Algeria</td>\n",
       "      <td>3</td>\n",
       "    </tr>\n",
       "    <tr>\n",
       "      <th>2017</th>\n",
       "      <td>Algeria</td>\n",
       "      <td>1</td>\n",
       "    </tr>\n",
       "    <tr>\n",
       "      <th>2017</th>\n",
       "      <td>Angola</td>\n",
       "      <td>1</td>\n",
       "    </tr>\n",
       "    <tr>\n",
       "      <th>...</th>\n",
       "      <td>...</td>\n",
       "      <td>...</td>\n",
       "    </tr>\n",
       "    <tr>\n",
       "      <th>2018</th>\n",
       "      <td>World</td>\n",
       "      <td>453</td>\n",
       "    </tr>\n",
       "    <tr>\n",
       "      <th>2019</th>\n",
       "      <td>World</td>\n",
       "      <td>586</td>\n",
       "    </tr>\n",
       "    <tr>\n",
       "      <th>2020</th>\n",
       "      <td>World</td>\n",
       "      <td>1274</td>\n",
       "    </tr>\n",
       "    <tr>\n",
       "      <th>2021</th>\n",
       "      <td>World</td>\n",
       "      <td>1810</td>\n",
       "    </tr>\n",
       "    <tr>\n",
       "      <th>2022</th>\n",
       "      <td>World</td>\n",
       "      <td>2163</td>\n",
       "    </tr>\n",
       "  </tbody>\n",
       "</table>\n",
       "<p>1119 rows × 2 columns</p>\n",
       "</div>"
      ],
      "text/plain": [
       "       Entity  yearly_launches\n",
       "Year                          \n",
       "2002  Algeria                1\n",
       "2010  Algeria                1\n",
       "2016  Algeria                3\n",
       "2017  Algeria                1\n",
       "2017   Angola                1\n",
       "...       ...              ...\n",
       "2018    World              453\n",
       "2019    World              586\n",
       "2020    World             1274\n",
       "2021    World             1810\n",
       "2022    World             2163\n",
       "\n",
       "[1119 rows x 2 columns]"
      ]
     },
     "execution_count": 4,
     "metadata": {},
     "output_type": "execute_result"
    }
   ],
   "source": [
    "space = pd.read_csv(target_filepath, index_col=1,\n",
    "                    usecols=[0,2,3])\n",
    "space"
   ]
  },
  {
   "cell_type": "code",
   "execution_count": 5,
   "id": "8ec93aef",
   "metadata": {},
   "outputs": [
    {
     "data": {
      "text/plain": [
       "104"
      ]
     },
     "execution_count": 5,
     "metadata": {},
     "output_type": "execute_result"
    }
   ],
   "source": [
    "country_list = list(set(space['Entity']))\n",
    "country_list.sort()\n",
    "len(country_list)"
   ]
  },
  {
   "cell_type": "code",
   "execution_count": 6,
   "id": "b1baf541",
   "metadata": {},
   "outputs": [
    {
     "name": "stderr",
     "output_type": "stream",
     "text": [
      "Arabsat not found in regex\n",
      "EUMETSAT not found in regex\n",
      "European Space Agency not found in regex\n",
      "Eutelsat not found in regex\n",
      "Inmarsat not found in regex\n",
      "Intersputnik not found in regex\n",
      "NATO not found in regex\n",
      "RASCOM not found in regex\n",
      "Sea Launch not found in regex\n",
      "Starsem not found in regex\n",
      "World not found in regex\n"
     ]
    }
   ],
   "source": [
    "# EU and Intelsat somehow made it through despite being not found so I just hardcoded it in to drop\n",
    "for country in country_list:\n",
    "    iso2 = coco.convert(names=country, to='iso2')\n",
    "    if iso2 == 'not found' and country != 'World':\n",
    "        country_list.remove(country)\n",
    "country_list.remove('European Union')\n",
    "country_list.remove('Intelsat')"
   ]
  },
  {
   "cell_type": "code",
   "execution_count": 7,
   "id": "9ac7d22f",
   "metadata": {},
   "outputs": [
    {
     "data": {
      "text/plain": [
       "92"
      ]
     },
     "execution_count": 7,
     "metadata": {},
     "output_type": "execute_result"
    }
   ],
   "source": [
    "len(country_list)"
   ]
  },
  {
   "cell_type": "code",
   "execution_count": 8,
   "id": "904a9fb8",
   "metadata": {},
   "outputs": [
    {
     "name": "stderr",
     "output_type": "stream",
     "text": [
      "/var/folders/cy/xd4mmw610b3cr6tjgv0h8hlr0000gn/T/ipykernel_26696/394364455.py:3: SettingWithCopyWarning: \n",
      "A value is trying to be set on a copy of a slice from a DataFrame\n",
      "\n",
      "See the caveats in the documentation: https://pandas.pydata.org/pandas-docs/stable/user_guide/indexing.html#returning-a-view-versus-a-copy\n",
      "  df.drop(columns=df.columns[0], inplace=True)\n",
      "/var/folders/cy/xd4mmw610b3cr6tjgv0h8hlr0000gn/T/ipykernel_26696/394364455.py:3: SettingWithCopyWarning: \n",
      "A value is trying to be set on a copy of a slice from a DataFrame\n",
      "\n",
      "See the caveats in the documentation: https://pandas.pydata.org/pandas-docs/stable/user_guide/indexing.html#returning-a-view-versus-a-copy\n",
      "  df.drop(columns=df.columns[0], inplace=True)\n",
      "/var/folders/cy/xd4mmw610b3cr6tjgv0h8hlr0000gn/T/ipykernel_26696/394364455.py:3: SettingWithCopyWarning: \n",
      "A value is trying to be set on a copy of a slice from a DataFrame\n",
      "\n",
      "See the caveats in the documentation: https://pandas.pydata.org/pandas-docs/stable/user_guide/indexing.html#returning-a-view-versus-a-copy\n",
      "  df.drop(columns=df.columns[0], inplace=True)\n"
     ]
    },
    {
     "name": "stdout",
     "output_type": "stream",
     "text": [
      "Data saved to: /Users/jennagreene/Documents/GitHub/HATCH_data/cleaned_data/unoosa_Algeria.csv\n",
      "Data saved to: /Users/jennagreene/Documents/GitHub/HATCH_data/cleaned_data/unoosa_Angola.csv\n",
      "Data saved to: /Users/jennagreene/Documents/GitHub/HATCH_data/cleaned_data/unoosa_Argentina.csv\n"
     ]
    },
    {
     "name": "stderr",
     "output_type": "stream",
     "text": [
      "/var/folders/cy/xd4mmw610b3cr6tjgv0h8hlr0000gn/T/ipykernel_26696/394364455.py:3: SettingWithCopyWarning: \n",
      "A value is trying to be set on a copy of a slice from a DataFrame\n",
      "\n",
      "See the caveats in the documentation: https://pandas.pydata.org/pandas-docs/stable/user_guide/indexing.html#returning-a-view-versus-a-copy\n",
      "  df.drop(columns=df.columns[0], inplace=True)\n",
      "/var/folders/cy/xd4mmw610b3cr6tjgv0h8hlr0000gn/T/ipykernel_26696/394364455.py:3: SettingWithCopyWarning: \n",
      "A value is trying to be set on a copy of a slice from a DataFrame\n",
      "\n",
      "See the caveats in the documentation: https://pandas.pydata.org/pandas-docs/stable/user_guide/indexing.html#returning-a-view-versus-a-copy\n",
      "  df.drop(columns=df.columns[0], inplace=True)\n",
      "/var/folders/cy/xd4mmw610b3cr6tjgv0h8hlr0000gn/T/ipykernel_26696/394364455.py:3: SettingWithCopyWarning: \n",
      "A value is trying to be set on a copy of a slice from a DataFrame\n",
      "\n",
      "See the caveats in the documentation: https://pandas.pydata.org/pandas-docs/stable/user_guide/indexing.html#returning-a-view-versus-a-copy\n",
      "  df.drop(columns=df.columns[0], inplace=True)\n"
     ]
    },
    {
     "name": "stdout",
     "output_type": "stream",
     "text": [
      "Data saved to: /Users/jennagreene/Documents/GitHub/HATCH_data/cleaned_data/unoosa_Armenia.csv\n",
      "Data saved to: /Users/jennagreene/Documents/GitHub/HATCH_data/cleaned_data/unoosa_Australia.csv\n",
      "Data saved to: /Users/jennagreene/Documents/GitHub/HATCH_data/cleaned_data/unoosa_Austria.csv\n",
      "Data saved to: /Users/jennagreene/Documents/GitHub/HATCH_data/cleaned_data/unoosa_Azerbaijan.csv\n"
     ]
    },
    {
     "name": "stderr",
     "output_type": "stream",
     "text": [
      "/var/folders/cy/xd4mmw610b3cr6tjgv0h8hlr0000gn/T/ipykernel_26696/394364455.py:3: SettingWithCopyWarning: \n",
      "A value is trying to be set on a copy of a slice from a DataFrame\n",
      "\n",
      "See the caveats in the documentation: https://pandas.pydata.org/pandas-docs/stable/user_guide/indexing.html#returning-a-view-versus-a-copy\n",
      "  df.drop(columns=df.columns[0], inplace=True)\n",
      "/var/folders/cy/xd4mmw610b3cr6tjgv0h8hlr0000gn/T/ipykernel_26696/394364455.py:3: SettingWithCopyWarning: \n",
      "A value is trying to be set on a copy of a slice from a DataFrame\n",
      "\n",
      "See the caveats in the documentation: https://pandas.pydata.org/pandas-docs/stable/user_guide/indexing.html#returning-a-view-versus-a-copy\n",
      "  df.drop(columns=df.columns[0], inplace=True)\n",
      "/var/folders/cy/xd4mmw610b3cr6tjgv0h8hlr0000gn/T/ipykernel_26696/394364455.py:3: SettingWithCopyWarning: \n",
      "A value is trying to be set on a copy of a slice from a DataFrame\n",
      "\n",
      "See the caveats in the documentation: https://pandas.pydata.org/pandas-docs/stable/user_guide/indexing.html#returning-a-view-versus-a-copy\n",
      "  df.drop(columns=df.columns[0], inplace=True)\n",
      "/var/folders/cy/xd4mmw610b3cr6tjgv0h8hlr0000gn/T/ipykernel_26696/394364455.py:3: SettingWithCopyWarning: \n",
      "A value is trying to be set on a copy of a slice from a DataFrame\n",
      "\n",
      "See the caveats in the documentation: https://pandas.pydata.org/pandas-docs/stable/user_guide/indexing.html#returning-a-view-versus-a-copy\n",
      "  df.drop(columns=df.columns[0], inplace=True)\n"
     ]
    },
    {
     "name": "stdout",
     "output_type": "stream",
     "text": [
      "Data saved to: /Users/jennagreene/Documents/GitHub/HATCH_data/cleaned_data/unoosa_Bangladesh.csv\n",
      "Data saved to: /Users/jennagreene/Documents/GitHub/HATCH_data/cleaned_data/unoosa_Belarus.csv\n",
      "Data saved to: /Users/jennagreene/Documents/GitHub/HATCH_data/cleaned_data/unoosa_Belgium.csv\n"
     ]
    },
    {
     "name": "stderr",
     "output_type": "stream",
     "text": [
      "/var/folders/cy/xd4mmw610b3cr6tjgv0h8hlr0000gn/T/ipykernel_26696/394364455.py:3: SettingWithCopyWarning: \n",
      "A value is trying to be set on a copy of a slice from a DataFrame\n",
      "\n",
      "See the caveats in the documentation: https://pandas.pydata.org/pandas-docs/stable/user_guide/indexing.html#returning-a-view-versus-a-copy\n",
      "  df.drop(columns=df.columns[0], inplace=True)\n",
      "/var/folders/cy/xd4mmw610b3cr6tjgv0h8hlr0000gn/T/ipykernel_26696/394364455.py:3: SettingWithCopyWarning: \n",
      "A value is trying to be set on a copy of a slice from a DataFrame\n",
      "\n",
      "See the caveats in the documentation: https://pandas.pydata.org/pandas-docs/stable/user_guide/indexing.html#returning-a-view-versus-a-copy\n",
      "  df.drop(columns=df.columns[0], inplace=True)\n",
      "/var/folders/cy/xd4mmw610b3cr6tjgv0h8hlr0000gn/T/ipykernel_26696/394364455.py:3: SettingWithCopyWarning: \n",
      "A value is trying to be set on a copy of a slice from a DataFrame\n",
      "\n",
      "See the caveats in the documentation: https://pandas.pydata.org/pandas-docs/stable/user_guide/indexing.html#returning-a-view-versus-a-copy\n",
      "  df.drop(columns=df.columns[0], inplace=True)\n"
     ]
    },
    {
     "name": "stdout",
     "output_type": "stream",
     "text": [
      "Data saved to: /Users/jennagreene/Documents/GitHub/HATCH_data/cleaned_data/unoosa_Bhutan.csv\n",
      "Data saved to: /Users/jennagreene/Documents/GitHub/HATCH_data/cleaned_data/unoosa_Bolivia.csv\n",
      "Data saved to: /Users/jennagreene/Documents/GitHub/HATCH_data/cleaned_data/unoosa_Brazil.csv\n"
     ]
    },
    {
     "name": "stderr",
     "output_type": "stream",
     "text": [
      "/var/folders/cy/xd4mmw610b3cr6tjgv0h8hlr0000gn/T/ipykernel_26696/394364455.py:3: SettingWithCopyWarning: \n",
      "A value is trying to be set on a copy of a slice from a DataFrame\n",
      "\n",
      "See the caveats in the documentation: https://pandas.pydata.org/pandas-docs/stable/user_guide/indexing.html#returning-a-view-versus-a-copy\n",
      "  df.drop(columns=df.columns[0], inplace=True)\n",
      "/var/folders/cy/xd4mmw610b3cr6tjgv0h8hlr0000gn/T/ipykernel_26696/394364455.py:3: SettingWithCopyWarning: \n",
      "A value is trying to be set on a copy of a slice from a DataFrame\n",
      "\n",
      "See the caveats in the documentation: https://pandas.pydata.org/pandas-docs/stable/user_guide/indexing.html#returning-a-view-versus-a-copy\n",
      "  df.drop(columns=df.columns[0], inplace=True)\n"
     ]
    },
    {
     "name": "stdout",
     "output_type": "stream",
     "text": [
      "Data saved to: /Users/jennagreene/Documents/GitHub/HATCH_data/cleaned_data/unoosa_Bulgaria.csv\n",
      "Data saved to: /Users/jennagreene/Documents/GitHub/HATCH_data/cleaned_data/unoosa_Canada.csv\n"
     ]
    },
    {
     "name": "stderr",
     "output_type": "stream",
     "text": [
      "/var/folders/cy/xd4mmw610b3cr6tjgv0h8hlr0000gn/T/ipykernel_26696/394364455.py:3: SettingWithCopyWarning: \n",
      "A value is trying to be set on a copy of a slice from a DataFrame\n",
      "\n",
      "See the caveats in the documentation: https://pandas.pydata.org/pandas-docs/stable/user_guide/indexing.html#returning-a-view-versus-a-copy\n",
      "  df.drop(columns=df.columns[0], inplace=True)\n"
     ]
    },
    {
     "name": "stdout",
     "output_type": "stream",
     "text": [
      "Data saved to: /Users/jennagreene/Documents/GitHub/HATCH_data/cleaned_data/unoosa_Chile.csv\n"
     ]
    },
    {
     "name": "stderr",
     "output_type": "stream",
     "text": [
      "/var/folders/cy/xd4mmw610b3cr6tjgv0h8hlr0000gn/T/ipykernel_26696/394364455.py:3: SettingWithCopyWarning: \n",
      "A value is trying to be set on a copy of a slice from a DataFrame\n",
      "\n",
      "See the caveats in the documentation: https://pandas.pydata.org/pandas-docs/stable/user_guide/indexing.html#returning-a-view-versus-a-copy\n",
      "  df.drop(columns=df.columns[0], inplace=True)\n"
     ]
    },
    {
     "name": "stdout",
     "output_type": "stream",
     "text": [
      "Data saved to: /Users/jennagreene/Documents/GitHub/HATCH_data/cleaned_data/unoosa_China.csv\n"
     ]
    },
    {
     "name": "stderr",
     "output_type": "stream",
     "text": [
      "/var/folders/cy/xd4mmw610b3cr6tjgv0h8hlr0000gn/T/ipykernel_26696/394364455.py:3: SettingWithCopyWarning: \n",
      "A value is trying to be set on a copy of a slice from a DataFrame\n",
      "\n",
      "See the caveats in the documentation: https://pandas.pydata.org/pandas-docs/stable/user_guide/indexing.html#returning-a-view-versus-a-copy\n",
      "  df.drop(columns=df.columns[0], inplace=True)\n"
     ]
    },
    {
     "name": "stdout",
     "output_type": "stream",
     "text": [
      "Data saved to: /Users/jennagreene/Documents/GitHub/HATCH_data/cleaned_data/unoosa_Colombia.csv\n",
      "Data saved to: /Users/jennagreene/Documents/GitHub/HATCH_data/cleaned_data/unoosa_Costa Rica.csv\n"
     ]
    },
    {
     "name": "stderr",
     "output_type": "stream",
     "text": [
      "/var/folders/cy/xd4mmw610b3cr6tjgv0h8hlr0000gn/T/ipykernel_26696/394364455.py:3: SettingWithCopyWarning: \n",
      "A value is trying to be set on a copy of a slice from a DataFrame\n",
      "\n",
      "See the caveats in the documentation: https://pandas.pydata.org/pandas-docs/stable/user_guide/indexing.html#returning-a-view-versus-a-copy\n",
      "  df.drop(columns=df.columns[0], inplace=True)\n",
      "/var/folders/cy/xd4mmw610b3cr6tjgv0h8hlr0000gn/T/ipykernel_26696/394364455.py:3: SettingWithCopyWarning: \n",
      "A value is trying to be set on a copy of a slice from a DataFrame\n",
      "\n",
      "See the caveats in the documentation: https://pandas.pydata.org/pandas-docs/stable/user_guide/indexing.html#returning-a-view-versus-a-copy\n",
      "  df.drop(columns=df.columns[0], inplace=True)\n"
     ]
    },
    {
     "name": "stdout",
     "output_type": "stream",
     "text": [
      "Data saved to: /Users/jennagreene/Documents/GitHub/HATCH_data/cleaned_data/unoosa_Czechia.csv\n",
      "Data saved to: /Users/jennagreene/Documents/GitHub/HATCH_data/cleaned_data/unoosa_Denmark.csv\n"
     ]
    },
    {
     "name": "stderr",
     "output_type": "stream",
     "text": [
      "/var/folders/cy/xd4mmw610b3cr6tjgv0h8hlr0000gn/T/ipykernel_26696/394364455.py:3: SettingWithCopyWarning: \n",
      "A value is trying to be set on a copy of a slice from a DataFrame\n",
      "\n",
      "See the caveats in the documentation: https://pandas.pydata.org/pandas-docs/stable/user_guide/indexing.html#returning-a-view-versus-a-copy\n",
      "  df.drop(columns=df.columns[0], inplace=True)\n",
      "/var/folders/cy/xd4mmw610b3cr6tjgv0h8hlr0000gn/T/ipykernel_26696/394364455.py:3: SettingWithCopyWarning: \n",
      "A value is trying to be set on a copy of a slice from a DataFrame\n",
      "\n",
      "See the caveats in the documentation: https://pandas.pydata.org/pandas-docs/stable/user_guide/indexing.html#returning-a-view-versus-a-copy\n",
      "  df.drop(columns=df.columns[0], inplace=True)\n"
     ]
    },
    {
     "name": "stdout",
     "output_type": "stream",
     "text": [
      "Data saved to: /Users/jennagreene/Documents/GitHub/HATCH_data/cleaned_data/unoosa_Ecuador.csv\n",
      "Data saved to: /Users/jennagreene/Documents/GitHub/HATCH_data/cleaned_data/unoosa_Egypt.csv\n"
     ]
    },
    {
     "name": "stderr",
     "output_type": "stream",
     "text": [
      "/var/folders/cy/xd4mmw610b3cr6tjgv0h8hlr0000gn/T/ipykernel_26696/394364455.py:3: SettingWithCopyWarning: \n",
      "A value is trying to be set on a copy of a slice from a DataFrame\n",
      "\n",
      "See the caveats in the documentation: https://pandas.pydata.org/pandas-docs/stable/user_guide/indexing.html#returning-a-view-versus-a-copy\n",
      "  df.drop(columns=df.columns[0], inplace=True)\n",
      "/var/folders/cy/xd4mmw610b3cr6tjgv0h8hlr0000gn/T/ipykernel_26696/394364455.py:3: SettingWithCopyWarning: \n",
      "A value is trying to be set on a copy of a slice from a DataFrame\n",
      "\n",
      "See the caveats in the documentation: https://pandas.pydata.org/pandas-docs/stable/user_guide/indexing.html#returning-a-view-versus-a-copy\n",
      "  df.drop(columns=df.columns[0], inplace=True)\n"
     ]
    },
    {
     "name": "stdout",
     "output_type": "stream",
     "text": [
      "Data saved to: /Users/jennagreene/Documents/GitHub/HATCH_data/cleaned_data/unoosa_Estonia.csv\n",
      "Data saved to: /Users/jennagreene/Documents/GitHub/HATCH_data/cleaned_data/unoosa_Ethiopia.csv\n",
      "Data saved to: /Users/jennagreene/Documents/GitHub/HATCH_data/cleaned_data/unoosa_Finland.csv\n"
     ]
    },
    {
     "name": "stderr",
     "output_type": "stream",
     "text": [
      "/var/folders/cy/xd4mmw610b3cr6tjgv0h8hlr0000gn/T/ipykernel_26696/394364455.py:3: SettingWithCopyWarning: \n",
      "A value is trying to be set on a copy of a slice from a DataFrame\n",
      "\n",
      "See the caveats in the documentation: https://pandas.pydata.org/pandas-docs/stable/user_guide/indexing.html#returning-a-view-versus-a-copy\n",
      "  df.drop(columns=df.columns[0], inplace=True)\n",
      "/var/folders/cy/xd4mmw610b3cr6tjgv0h8hlr0000gn/T/ipykernel_26696/394364455.py:3: SettingWithCopyWarning: \n",
      "A value is trying to be set on a copy of a slice from a DataFrame\n",
      "\n",
      "See the caveats in the documentation: https://pandas.pydata.org/pandas-docs/stable/user_guide/indexing.html#returning-a-view-versus-a-copy\n",
      "  df.drop(columns=df.columns[0], inplace=True)\n",
      "/var/folders/cy/xd4mmw610b3cr6tjgv0h8hlr0000gn/T/ipykernel_26696/394364455.py:3: SettingWithCopyWarning: \n",
      "A value is trying to be set on a copy of a slice from a DataFrame\n",
      "\n",
      "See the caveats in the documentation: https://pandas.pydata.org/pandas-docs/stable/user_guide/indexing.html#returning-a-view-versus-a-copy\n",
      "  df.drop(columns=df.columns[0], inplace=True)\n"
     ]
    },
    {
     "name": "stdout",
     "output_type": "stream",
     "text": [
      "Data saved to: /Users/jennagreene/Documents/GitHub/HATCH_data/cleaned_data/unoosa_France.csv\n",
      "Data saved to: /Users/jennagreene/Documents/GitHub/HATCH_data/cleaned_data/unoosa_Germany.csv\n",
      "Data saved to: /Users/jennagreene/Documents/GitHub/HATCH_data/cleaned_data/unoosa_Ghana.csv\n"
     ]
    },
    {
     "name": "stderr",
     "output_type": "stream",
     "text": [
      "/var/folders/cy/xd4mmw610b3cr6tjgv0h8hlr0000gn/T/ipykernel_26696/394364455.py:3: SettingWithCopyWarning: \n",
      "A value is trying to be set on a copy of a slice from a DataFrame\n",
      "\n",
      "See the caveats in the documentation: https://pandas.pydata.org/pandas-docs/stable/user_guide/indexing.html#returning-a-view-versus-a-copy\n",
      "  df.drop(columns=df.columns[0], inplace=True)\n",
      "/var/folders/cy/xd4mmw610b3cr6tjgv0h8hlr0000gn/T/ipykernel_26696/394364455.py:3: SettingWithCopyWarning: \n",
      "A value is trying to be set on a copy of a slice from a DataFrame\n",
      "\n",
      "See the caveats in the documentation: https://pandas.pydata.org/pandas-docs/stable/user_guide/indexing.html#returning-a-view-versus-a-copy\n",
      "  df.drop(columns=df.columns[0], inplace=True)\n",
      "/var/folders/cy/xd4mmw610b3cr6tjgv0h8hlr0000gn/T/ipykernel_26696/394364455.py:3: SettingWithCopyWarning: \n",
      "A value is trying to be set on a copy of a slice from a DataFrame\n",
      "\n",
      "See the caveats in the documentation: https://pandas.pydata.org/pandas-docs/stable/user_guide/indexing.html#returning-a-view-versus-a-copy\n",
      "  df.drop(columns=df.columns[0], inplace=True)\n"
     ]
    },
    {
     "name": "stdout",
     "output_type": "stream",
     "text": [
      "Data saved to: /Users/jennagreene/Documents/GitHub/HATCH_data/cleaned_data/unoosa_Greece.csv\n",
      "Data saved to: /Users/jennagreene/Documents/GitHub/HATCH_data/cleaned_data/unoosa_Guatemala.csv\n"
     ]
    },
    {
     "name": "stderr",
     "output_type": "stream",
     "text": [
      "/var/folders/cy/xd4mmw610b3cr6tjgv0h8hlr0000gn/T/ipykernel_26696/394364455.py:3: SettingWithCopyWarning: \n",
      "A value is trying to be set on a copy of a slice from a DataFrame\n",
      "\n",
      "See the caveats in the documentation: https://pandas.pydata.org/pandas-docs/stable/user_guide/indexing.html#returning-a-view-versus-a-copy\n",
      "  df.drop(columns=df.columns[0], inplace=True)\n",
      "/var/folders/cy/xd4mmw610b3cr6tjgv0h8hlr0000gn/T/ipykernel_26696/394364455.py:3: SettingWithCopyWarning: \n",
      "A value is trying to be set on a copy of a slice from a DataFrame\n",
      "\n",
      "See the caveats in the documentation: https://pandas.pydata.org/pandas-docs/stable/user_guide/indexing.html#returning-a-view-versus-a-copy\n",
      "  df.drop(columns=df.columns[0], inplace=True)\n"
     ]
    },
    {
     "name": "stdout",
     "output_type": "stream",
     "text": [
      "Data saved to: /Users/jennagreene/Documents/GitHub/HATCH_data/cleaned_data/unoosa_Hungary.csv\n",
      "Data saved to: /Users/jennagreene/Documents/GitHub/HATCH_data/cleaned_data/unoosa_India.csv\n",
      "Data saved to: /Users/jennagreene/Documents/GitHub/HATCH_data/cleaned_data/unoosa_Indonesia.csv\n"
     ]
    },
    {
     "name": "stderr",
     "output_type": "stream",
     "text": [
      "/var/folders/cy/xd4mmw610b3cr6tjgv0h8hlr0000gn/T/ipykernel_26696/394364455.py:3: SettingWithCopyWarning: \n",
      "A value is trying to be set on a copy of a slice from a DataFrame\n",
      "\n",
      "See the caveats in the documentation: https://pandas.pydata.org/pandas-docs/stable/user_guide/indexing.html#returning-a-view-versus-a-copy\n",
      "  df.drop(columns=df.columns[0], inplace=True)\n",
      "/var/folders/cy/xd4mmw610b3cr6tjgv0h8hlr0000gn/T/ipykernel_26696/394364455.py:3: SettingWithCopyWarning: \n",
      "A value is trying to be set on a copy of a slice from a DataFrame\n",
      "\n",
      "See the caveats in the documentation: https://pandas.pydata.org/pandas-docs/stable/user_guide/indexing.html#returning-a-view-versus-a-copy\n",
      "  df.drop(columns=df.columns[0], inplace=True)\n",
      "/var/folders/cy/xd4mmw610b3cr6tjgv0h8hlr0000gn/T/ipykernel_26696/394364455.py:3: SettingWithCopyWarning: \n",
      "A value is trying to be set on a copy of a slice from a DataFrame\n",
      "\n",
      "See the caveats in the documentation: https://pandas.pydata.org/pandas-docs/stable/user_guide/indexing.html#returning-a-view-versus-a-copy\n",
      "  df.drop(columns=df.columns[0], inplace=True)\n"
     ]
    },
    {
     "name": "stdout",
     "output_type": "stream",
     "text": [
      "Data saved to: /Users/jennagreene/Documents/GitHub/HATCH_data/cleaned_data/unoosa_Iran.csv\n",
      "Data saved to: /Users/jennagreene/Documents/GitHub/HATCH_data/cleaned_data/unoosa_Israel.csv\n",
      "Data saved to: /Users/jennagreene/Documents/GitHub/HATCH_data/cleaned_data/unoosa_Italy.csv\n"
     ]
    },
    {
     "name": "stderr",
     "output_type": "stream",
     "text": [
      "/var/folders/cy/xd4mmw610b3cr6tjgv0h8hlr0000gn/T/ipykernel_26696/394364455.py:3: SettingWithCopyWarning: \n",
      "A value is trying to be set on a copy of a slice from a DataFrame\n",
      "\n",
      "See the caveats in the documentation: https://pandas.pydata.org/pandas-docs/stable/user_guide/indexing.html#returning-a-view-versus-a-copy\n",
      "  df.drop(columns=df.columns[0], inplace=True)\n",
      "/var/folders/cy/xd4mmw610b3cr6tjgv0h8hlr0000gn/T/ipykernel_26696/394364455.py:3: SettingWithCopyWarning: \n",
      "A value is trying to be set on a copy of a slice from a DataFrame\n",
      "\n",
      "See the caveats in the documentation: https://pandas.pydata.org/pandas-docs/stable/user_guide/indexing.html#returning-a-view-versus-a-copy\n",
      "  df.drop(columns=df.columns[0], inplace=True)\n",
      "/var/folders/cy/xd4mmw610b3cr6tjgv0h8hlr0000gn/T/ipykernel_26696/394364455.py:3: SettingWithCopyWarning: \n",
      "A value is trying to be set on a copy of a slice from a DataFrame\n",
      "\n",
      "See the caveats in the documentation: https://pandas.pydata.org/pandas-docs/stable/user_guide/indexing.html#returning-a-view-versus-a-copy\n",
      "  df.drop(columns=df.columns[0], inplace=True)\n"
     ]
    },
    {
     "name": "stdout",
     "output_type": "stream",
     "text": [
      "Data saved to: /Users/jennagreene/Documents/GitHub/HATCH_data/cleaned_data/unoosa_Japan.csv\n",
      "Data saved to: /Users/jennagreene/Documents/GitHub/HATCH_data/cleaned_data/unoosa_Jordan.csv\n",
      "Data saved to: /Users/jennagreene/Documents/GitHub/HATCH_data/cleaned_data/unoosa_Kazakhstan.csv\n"
     ]
    },
    {
     "name": "stderr",
     "output_type": "stream",
     "text": [
      "/var/folders/cy/xd4mmw610b3cr6tjgv0h8hlr0000gn/T/ipykernel_26696/394364455.py:3: SettingWithCopyWarning: \n",
      "A value is trying to be set on a copy of a slice from a DataFrame\n",
      "\n",
      "See the caveats in the documentation: https://pandas.pydata.org/pandas-docs/stable/user_guide/indexing.html#returning-a-view-versus-a-copy\n",
      "  df.drop(columns=df.columns[0], inplace=True)\n",
      "/var/folders/cy/xd4mmw610b3cr6tjgv0h8hlr0000gn/T/ipykernel_26696/394364455.py:3: SettingWithCopyWarning: \n",
      "A value is trying to be set on a copy of a slice from a DataFrame\n",
      "\n",
      "See the caveats in the documentation: https://pandas.pydata.org/pandas-docs/stable/user_guide/indexing.html#returning-a-view-versus-a-copy\n",
      "  df.drop(columns=df.columns[0], inplace=True)\n",
      "/var/folders/cy/xd4mmw610b3cr6tjgv0h8hlr0000gn/T/ipykernel_26696/394364455.py:3: SettingWithCopyWarning: \n",
      "A value is trying to be set on a copy of a slice from a DataFrame\n",
      "\n",
      "See the caveats in the documentation: https://pandas.pydata.org/pandas-docs/stable/user_guide/indexing.html#returning-a-view-versus-a-copy\n",
      "  df.drop(columns=df.columns[0], inplace=True)\n"
     ]
    },
    {
     "name": "stdout",
     "output_type": "stream",
     "text": [
      "Data saved to: /Users/jennagreene/Documents/GitHub/HATCH_data/cleaned_data/unoosa_Kenya.csv\n",
      "Data saved to: /Users/jennagreene/Documents/GitHub/HATCH_data/cleaned_data/unoosa_Laos.csv\n",
      "Data saved to: /Users/jennagreene/Documents/GitHub/HATCH_data/cleaned_data/unoosa_Latvia.csv\n"
     ]
    },
    {
     "name": "stderr",
     "output_type": "stream",
     "text": [
      "/var/folders/cy/xd4mmw610b3cr6tjgv0h8hlr0000gn/T/ipykernel_26696/394364455.py:3: SettingWithCopyWarning: \n",
      "A value is trying to be set on a copy of a slice from a DataFrame\n",
      "\n",
      "See the caveats in the documentation: https://pandas.pydata.org/pandas-docs/stable/user_guide/indexing.html#returning-a-view-versus-a-copy\n",
      "  df.drop(columns=df.columns[0], inplace=True)\n",
      "/var/folders/cy/xd4mmw610b3cr6tjgv0h8hlr0000gn/T/ipykernel_26696/394364455.py:3: SettingWithCopyWarning: \n",
      "A value is trying to be set on a copy of a slice from a DataFrame\n",
      "\n",
      "See the caveats in the documentation: https://pandas.pydata.org/pandas-docs/stable/user_guide/indexing.html#returning-a-view-versus-a-copy\n",
      "  df.drop(columns=df.columns[0], inplace=True)\n",
      "/var/folders/cy/xd4mmw610b3cr6tjgv0h8hlr0000gn/T/ipykernel_26696/394364455.py:3: SettingWithCopyWarning: \n",
      "A value is trying to be set on a copy of a slice from a DataFrame\n",
      "\n",
      "See the caveats in the documentation: https://pandas.pydata.org/pandas-docs/stable/user_guide/indexing.html#returning-a-view-versus-a-copy\n",
      "  df.drop(columns=df.columns[0], inplace=True)\n"
     ]
    },
    {
     "name": "stdout",
     "output_type": "stream",
     "text": [
      "Data saved to: /Users/jennagreene/Documents/GitHub/HATCH_data/cleaned_data/unoosa_Lithuania.csv\n",
      "Data saved to: /Users/jennagreene/Documents/GitHub/HATCH_data/cleaned_data/unoosa_Luxembourg.csv\n",
      "Data saved to: /Users/jennagreene/Documents/GitHub/HATCH_data/cleaned_data/unoosa_Malaysia.csv\n"
     ]
    },
    {
     "name": "stderr",
     "output_type": "stream",
     "text": [
      "/var/folders/cy/xd4mmw610b3cr6tjgv0h8hlr0000gn/T/ipykernel_26696/394364455.py:3: SettingWithCopyWarning: \n",
      "A value is trying to be set on a copy of a slice from a DataFrame\n",
      "\n",
      "See the caveats in the documentation: https://pandas.pydata.org/pandas-docs/stable/user_guide/indexing.html#returning-a-view-versus-a-copy\n",
      "  df.drop(columns=df.columns[0], inplace=True)\n",
      "/var/folders/cy/xd4mmw610b3cr6tjgv0h8hlr0000gn/T/ipykernel_26696/394364455.py:3: SettingWithCopyWarning: \n",
      "A value is trying to be set on a copy of a slice from a DataFrame\n",
      "\n",
      "See the caveats in the documentation: https://pandas.pydata.org/pandas-docs/stable/user_guide/indexing.html#returning-a-view-versus-a-copy\n",
      "  df.drop(columns=df.columns[0], inplace=True)\n",
      "/var/folders/cy/xd4mmw610b3cr6tjgv0h8hlr0000gn/T/ipykernel_26696/394364455.py:3: SettingWithCopyWarning: \n",
      "A value is trying to be set on a copy of a slice from a DataFrame\n",
      "\n",
      "See the caveats in the documentation: https://pandas.pydata.org/pandas-docs/stable/user_guide/indexing.html#returning-a-view-versus-a-copy\n",
      "  df.drop(columns=df.columns[0], inplace=True)\n"
     ]
    },
    {
     "name": "stdout",
     "output_type": "stream",
     "text": [
      "Data saved to: /Users/jennagreene/Documents/GitHub/HATCH_data/cleaned_data/unoosa_Mauritius.csv\n",
      "Data saved to: /Users/jennagreene/Documents/GitHub/HATCH_data/cleaned_data/unoosa_Mexico.csv\n",
      "Data saved to: /Users/jennagreene/Documents/GitHub/HATCH_data/cleaned_data/unoosa_Moldova.csv\n"
     ]
    },
    {
     "name": "stderr",
     "output_type": "stream",
     "text": [
      "/var/folders/cy/xd4mmw610b3cr6tjgv0h8hlr0000gn/T/ipykernel_26696/394364455.py:3: SettingWithCopyWarning: \n",
      "A value is trying to be set on a copy of a slice from a DataFrame\n",
      "\n",
      "See the caveats in the documentation: https://pandas.pydata.org/pandas-docs/stable/user_guide/indexing.html#returning-a-view-versus-a-copy\n",
      "  df.drop(columns=df.columns[0], inplace=True)\n",
      "/var/folders/cy/xd4mmw610b3cr6tjgv0h8hlr0000gn/T/ipykernel_26696/394364455.py:3: SettingWithCopyWarning: \n",
      "A value is trying to be set on a copy of a slice from a DataFrame\n",
      "\n",
      "See the caveats in the documentation: https://pandas.pydata.org/pandas-docs/stable/user_guide/indexing.html#returning-a-view-versus-a-copy\n",
      "  df.drop(columns=df.columns[0], inplace=True)\n",
      "/var/folders/cy/xd4mmw610b3cr6tjgv0h8hlr0000gn/T/ipykernel_26696/394364455.py:3: SettingWithCopyWarning: \n",
      "A value is trying to be set on a copy of a slice from a DataFrame\n",
      "\n",
      "See the caveats in the documentation: https://pandas.pydata.org/pandas-docs/stable/user_guide/indexing.html#returning-a-view-versus-a-copy\n",
      "  df.drop(columns=df.columns[0], inplace=True)\n"
     ]
    },
    {
     "name": "stdout",
     "output_type": "stream",
     "text": [
      "Data saved to: /Users/jennagreene/Documents/GitHub/HATCH_data/cleaned_data/unoosa_Monaco.csv\n",
      "Data saved to: /Users/jennagreene/Documents/GitHub/HATCH_data/cleaned_data/unoosa_Mongolia.csv\n",
      "Data saved to: /Users/jennagreene/Documents/GitHub/HATCH_data/cleaned_data/unoosa_Morocco.csv\n"
     ]
    },
    {
     "name": "stderr",
     "output_type": "stream",
     "text": [
      "/var/folders/cy/xd4mmw610b3cr6tjgv0h8hlr0000gn/T/ipykernel_26696/394364455.py:3: SettingWithCopyWarning: \n",
      "A value is trying to be set on a copy of a slice from a DataFrame\n",
      "\n",
      "See the caveats in the documentation: https://pandas.pydata.org/pandas-docs/stable/user_guide/indexing.html#returning-a-view-versus-a-copy\n",
      "  df.drop(columns=df.columns[0], inplace=True)\n",
      "/var/folders/cy/xd4mmw610b3cr6tjgv0h8hlr0000gn/T/ipykernel_26696/394364455.py:3: SettingWithCopyWarning: \n",
      "A value is trying to be set on a copy of a slice from a DataFrame\n",
      "\n",
      "See the caveats in the documentation: https://pandas.pydata.org/pandas-docs/stable/user_guide/indexing.html#returning-a-view-versus-a-copy\n",
      "  df.drop(columns=df.columns[0], inplace=True)\n",
      "/var/folders/cy/xd4mmw610b3cr6tjgv0h8hlr0000gn/T/ipykernel_26696/394364455.py:3: SettingWithCopyWarning: \n",
      "A value is trying to be set on a copy of a slice from a DataFrame\n",
      "\n",
      "See the caveats in the documentation: https://pandas.pydata.org/pandas-docs/stable/user_guide/indexing.html#returning-a-view-versus-a-copy\n",
      "  df.drop(columns=df.columns[0], inplace=True)\n"
     ]
    },
    {
     "name": "stdout",
     "output_type": "stream",
     "text": [
      "Data saved to: /Users/jennagreene/Documents/GitHub/HATCH_data/cleaned_data/unoosa_Nepal.csv\n",
      "Data saved to: /Users/jennagreene/Documents/GitHub/HATCH_data/cleaned_data/unoosa_Netherlands.csv\n",
      "Data saved to: /Users/jennagreene/Documents/GitHub/HATCH_data/cleaned_data/unoosa_New Zealand.csv\n"
     ]
    },
    {
     "name": "stderr",
     "output_type": "stream",
     "text": [
      "/var/folders/cy/xd4mmw610b3cr6tjgv0h8hlr0000gn/T/ipykernel_26696/394364455.py:3: SettingWithCopyWarning: \n",
      "A value is trying to be set on a copy of a slice from a DataFrame\n",
      "\n",
      "See the caveats in the documentation: https://pandas.pydata.org/pandas-docs/stable/user_guide/indexing.html#returning-a-view-versus-a-copy\n",
      "  df.drop(columns=df.columns[0], inplace=True)\n",
      "/var/folders/cy/xd4mmw610b3cr6tjgv0h8hlr0000gn/T/ipykernel_26696/394364455.py:3: SettingWithCopyWarning: \n",
      "A value is trying to be set on a copy of a slice from a DataFrame\n",
      "\n",
      "See the caveats in the documentation: https://pandas.pydata.org/pandas-docs/stable/user_guide/indexing.html#returning-a-view-versus-a-copy\n",
      "  df.drop(columns=df.columns[0], inplace=True)\n",
      "/var/folders/cy/xd4mmw610b3cr6tjgv0h8hlr0000gn/T/ipykernel_26696/394364455.py:3: SettingWithCopyWarning: \n",
      "A value is trying to be set on a copy of a slice from a DataFrame\n",
      "\n",
      "See the caveats in the documentation: https://pandas.pydata.org/pandas-docs/stable/user_guide/indexing.html#returning-a-view-versus-a-copy\n",
      "  df.drop(columns=df.columns[0], inplace=True)\n"
     ]
    },
    {
     "name": "stdout",
     "output_type": "stream",
     "text": [
      "Data saved to: /Users/jennagreene/Documents/GitHub/HATCH_data/cleaned_data/unoosa_Nigeria.csv\n",
      "Data saved to: /Users/jennagreene/Documents/GitHub/HATCH_data/cleaned_data/unoosa_North Korea.csv\n",
      "Data saved to: /Users/jennagreene/Documents/GitHub/HATCH_data/cleaned_data/unoosa_Norway.csv\n"
     ]
    },
    {
     "name": "stderr",
     "output_type": "stream",
     "text": [
      "/var/folders/cy/xd4mmw610b3cr6tjgv0h8hlr0000gn/T/ipykernel_26696/394364455.py:3: SettingWithCopyWarning: \n",
      "A value is trying to be set on a copy of a slice from a DataFrame\n",
      "\n",
      "See the caveats in the documentation: https://pandas.pydata.org/pandas-docs/stable/user_guide/indexing.html#returning-a-view-versus-a-copy\n",
      "  df.drop(columns=df.columns[0], inplace=True)\n",
      "/var/folders/cy/xd4mmw610b3cr6tjgv0h8hlr0000gn/T/ipykernel_26696/394364455.py:3: SettingWithCopyWarning: \n",
      "A value is trying to be set on a copy of a slice from a DataFrame\n",
      "\n",
      "See the caveats in the documentation: https://pandas.pydata.org/pandas-docs/stable/user_guide/indexing.html#returning-a-view-versus-a-copy\n",
      "  df.drop(columns=df.columns[0], inplace=True)\n",
      "/var/folders/cy/xd4mmw610b3cr6tjgv0h8hlr0000gn/T/ipykernel_26696/394364455.py:3: SettingWithCopyWarning: \n",
      "A value is trying to be set on a copy of a slice from a DataFrame\n",
      "\n",
      "See the caveats in the documentation: https://pandas.pydata.org/pandas-docs/stable/user_guide/indexing.html#returning-a-view-versus-a-copy\n",
      "  df.drop(columns=df.columns[0], inplace=True)\n"
     ]
    },
    {
     "name": "stdout",
     "output_type": "stream",
     "text": [
      "Data saved to: /Users/jennagreene/Documents/GitHub/HATCH_data/cleaned_data/unoosa_Pakistan.csv\n"
     ]
    },
    {
     "name": "stderr",
     "output_type": "stream",
     "text": [
      "/var/folders/cy/xd4mmw610b3cr6tjgv0h8hlr0000gn/T/ipykernel_26696/394364455.py:3: SettingWithCopyWarning: \n",
      "A value is trying to be set on a copy of a slice from a DataFrame\n",
      "\n",
      "See the caveats in the documentation: https://pandas.pydata.org/pandas-docs/stable/user_guide/indexing.html#returning-a-view-versus-a-copy\n",
      "  df.drop(columns=df.columns[0], inplace=True)\n"
     ]
    },
    {
     "name": "stdout",
     "output_type": "stream",
     "text": [
      "Data saved to: /Users/jennagreene/Documents/GitHub/HATCH_data/cleaned_data/unoosa_Papua New Guinea.csv\n"
     ]
    },
    {
     "name": "stderr",
     "output_type": "stream",
     "text": [
      "/var/folders/cy/xd4mmw610b3cr6tjgv0h8hlr0000gn/T/ipykernel_26696/394364455.py:3: SettingWithCopyWarning: \n",
      "A value is trying to be set on a copy of a slice from a DataFrame\n",
      "\n",
      "See the caveats in the documentation: https://pandas.pydata.org/pandas-docs/stable/user_guide/indexing.html#returning-a-view-versus-a-copy\n",
      "  df.drop(columns=df.columns[0], inplace=True)\n"
     ]
    },
    {
     "name": "stdout",
     "output_type": "stream",
     "text": [
      "Data saved to: /Users/jennagreene/Documents/GitHub/HATCH_data/cleaned_data/unoosa_Paraguay.csv\n"
     ]
    },
    {
     "name": "stderr",
     "output_type": "stream",
     "text": [
      "/var/folders/cy/xd4mmw610b3cr6tjgv0h8hlr0000gn/T/ipykernel_26696/394364455.py:3: SettingWithCopyWarning: \n",
      "A value is trying to be set on a copy of a slice from a DataFrame\n",
      "\n",
      "See the caveats in the documentation: https://pandas.pydata.org/pandas-docs/stable/user_guide/indexing.html#returning-a-view-versus-a-copy\n",
      "  df.drop(columns=df.columns[0], inplace=True)\n"
     ]
    },
    {
     "name": "stdout",
     "output_type": "stream",
     "text": [
      "Data saved to: /Users/jennagreene/Documents/GitHub/HATCH_data/cleaned_data/unoosa_Peru.csv\n",
      "Data saved to: /Users/jennagreene/Documents/GitHub/HATCH_data/cleaned_data/unoosa_Philippines.csv\n"
     ]
    },
    {
     "name": "stderr",
     "output_type": "stream",
     "text": [
      "/var/folders/cy/xd4mmw610b3cr6tjgv0h8hlr0000gn/T/ipykernel_26696/394364455.py:3: SettingWithCopyWarning: \n",
      "A value is trying to be set on a copy of a slice from a DataFrame\n",
      "\n",
      "See the caveats in the documentation: https://pandas.pydata.org/pandas-docs/stable/user_guide/indexing.html#returning-a-view-versus-a-copy\n",
      "  df.drop(columns=df.columns[0], inplace=True)\n",
      "/var/folders/cy/xd4mmw610b3cr6tjgv0h8hlr0000gn/T/ipykernel_26696/394364455.py:3: SettingWithCopyWarning: \n",
      "A value is trying to be set on a copy of a slice from a DataFrame\n",
      "\n",
      "See the caveats in the documentation: https://pandas.pydata.org/pandas-docs/stable/user_guide/indexing.html#returning-a-view-versus-a-copy\n",
      "  df.drop(columns=df.columns[0], inplace=True)\n"
     ]
    },
    {
     "name": "stdout",
     "output_type": "stream",
     "text": [
      "Data saved to: /Users/jennagreene/Documents/GitHub/HATCH_data/cleaned_data/unoosa_Poland.csv\n",
      "Data saved to: /Users/jennagreene/Documents/GitHub/HATCH_data/cleaned_data/unoosa_Portugal.csv\n"
     ]
    },
    {
     "name": "stderr",
     "output_type": "stream",
     "text": [
      "/var/folders/cy/xd4mmw610b3cr6tjgv0h8hlr0000gn/T/ipykernel_26696/394364455.py:3: SettingWithCopyWarning: \n",
      "A value is trying to be set on a copy of a slice from a DataFrame\n",
      "\n",
      "See the caveats in the documentation: https://pandas.pydata.org/pandas-docs/stable/user_guide/indexing.html#returning-a-view-versus-a-copy\n",
      "  df.drop(columns=df.columns[0], inplace=True)\n",
      "/var/folders/cy/xd4mmw610b3cr6tjgv0h8hlr0000gn/T/ipykernel_26696/394364455.py:3: SettingWithCopyWarning: \n",
      "A value is trying to be set on a copy of a slice from a DataFrame\n",
      "\n",
      "See the caveats in the documentation: https://pandas.pydata.org/pandas-docs/stable/user_guide/indexing.html#returning-a-view-versus-a-copy\n",
      "  df.drop(columns=df.columns[0], inplace=True)\n"
     ]
    },
    {
     "name": "stdout",
     "output_type": "stream",
     "text": [
      "Data saved to: /Users/jennagreene/Documents/GitHub/HATCH_data/cleaned_data/unoosa_Qatar.csv\n",
      "Data saved to: /Users/jennagreene/Documents/GitHub/HATCH_data/cleaned_data/unoosa_Romania.csv\n"
     ]
    },
    {
     "name": "stderr",
     "output_type": "stream",
     "text": [
      "/var/folders/cy/xd4mmw610b3cr6tjgv0h8hlr0000gn/T/ipykernel_26696/394364455.py:3: SettingWithCopyWarning: \n",
      "A value is trying to be set on a copy of a slice from a DataFrame\n",
      "\n",
      "See the caveats in the documentation: https://pandas.pydata.org/pandas-docs/stable/user_guide/indexing.html#returning-a-view-versus-a-copy\n",
      "  df.drop(columns=df.columns[0], inplace=True)\n",
      "/var/folders/cy/xd4mmw610b3cr6tjgv0h8hlr0000gn/T/ipykernel_26696/394364455.py:3: SettingWithCopyWarning: \n",
      "A value is trying to be set on a copy of a slice from a DataFrame\n",
      "\n",
      "See the caveats in the documentation: https://pandas.pydata.org/pandas-docs/stable/user_guide/indexing.html#returning-a-view-versus-a-copy\n",
      "  df.drop(columns=df.columns[0], inplace=True)\n"
     ]
    },
    {
     "name": "stdout",
     "output_type": "stream",
     "text": [
      "Data saved to: /Users/jennagreene/Documents/GitHub/HATCH_data/cleaned_data/unoosa_Russia.csv\n",
      "Data saved to: /Users/jennagreene/Documents/GitHub/HATCH_data/cleaned_data/unoosa_Rwanda.csv\n"
     ]
    },
    {
     "name": "stderr",
     "output_type": "stream",
     "text": [
      "/var/folders/cy/xd4mmw610b3cr6tjgv0h8hlr0000gn/T/ipykernel_26696/394364455.py:3: SettingWithCopyWarning: \n",
      "A value is trying to be set on a copy of a slice from a DataFrame\n",
      "\n",
      "See the caveats in the documentation: https://pandas.pydata.org/pandas-docs/stable/user_guide/indexing.html#returning-a-view-versus-a-copy\n",
      "  df.drop(columns=df.columns[0], inplace=True)\n",
      "/var/folders/cy/xd4mmw610b3cr6tjgv0h8hlr0000gn/T/ipykernel_26696/394364455.py:3: SettingWithCopyWarning: \n",
      "A value is trying to be set on a copy of a slice from a DataFrame\n",
      "\n",
      "See the caveats in the documentation: https://pandas.pydata.org/pandas-docs/stable/user_guide/indexing.html#returning-a-view-versus-a-copy\n",
      "  df.drop(columns=df.columns[0], inplace=True)\n"
     ]
    },
    {
     "name": "stdout",
     "output_type": "stream",
     "text": [
      "Data saved to: /Users/jennagreene/Documents/GitHub/HATCH_data/cleaned_data/unoosa_Saudi Arabia.csv\n",
      "Data saved to: /Users/jennagreene/Documents/GitHub/HATCH_data/cleaned_data/unoosa_Singapore.csv\n",
      "Data saved to: /Users/jennagreene/Documents/GitHub/HATCH_data/cleaned_data/unoosa_Slovakia.csv\n"
     ]
    },
    {
     "name": "stderr",
     "output_type": "stream",
     "text": [
      "/var/folders/cy/xd4mmw610b3cr6tjgv0h8hlr0000gn/T/ipykernel_26696/394364455.py:3: SettingWithCopyWarning: \n",
      "A value is trying to be set on a copy of a slice from a DataFrame\n",
      "\n",
      "See the caveats in the documentation: https://pandas.pydata.org/pandas-docs/stable/user_guide/indexing.html#returning-a-view-versus-a-copy\n",
      "  df.drop(columns=df.columns[0], inplace=True)\n",
      "/var/folders/cy/xd4mmw610b3cr6tjgv0h8hlr0000gn/T/ipykernel_26696/394364455.py:3: SettingWithCopyWarning: \n",
      "A value is trying to be set on a copy of a slice from a DataFrame\n",
      "\n",
      "See the caveats in the documentation: https://pandas.pydata.org/pandas-docs/stable/user_guide/indexing.html#returning-a-view-versus-a-copy\n",
      "  df.drop(columns=df.columns[0], inplace=True)\n",
      "/var/folders/cy/xd4mmw610b3cr6tjgv0h8hlr0000gn/T/ipykernel_26696/394364455.py:3: SettingWithCopyWarning: \n",
      "A value is trying to be set on a copy of a slice from a DataFrame\n",
      "\n",
      "See the caveats in the documentation: https://pandas.pydata.org/pandas-docs/stable/user_guide/indexing.html#returning-a-view-versus-a-copy\n",
      "  df.drop(columns=df.columns[0], inplace=True)\n"
     ]
    },
    {
     "name": "stdout",
     "output_type": "stream",
     "text": [
      "Data saved to: /Users/jennagreene/Documents/GitHub/HATCH_data/cleaned_data/unoosa_Slovenia.csv\n",
      "Data saved to: /Users/jennagreene/Documents/GitHub/HATCH_data/cleaned_data/unoosa_South Africa.csv\n"
     ]
    },
    {
     "name": "stderr",
     "output_type": "stream",
     "text": [
      "/var/folders/cy/xd4mmw610b3cr6tjgv0h8hlr0000gn/T/ipykernel_26696/394364455.py:3: SettingWithCopyWarning: \n",
      "A value is trying to be set on a copy of a slice from a DataFrame\n",
      "\n",
      "See the caveats in the documentation: https://pandas.pydata.org/pandas-docs/stable/user_guide/indexing.html#returning-a-view-versus-a-copy\n",
      "  df.drop(columns=df.columns[0], inplace=True)\n",
      "/var/folders/cy/xd4mmw610b3cr6tjgv0h8hlr0000gn/T/ipykernel_26696/394364455.py:3: SettingWithCopyWarning: \n",
      "A value is trying to be set on a copy of a slice from a DataFrame\n",
      "\n",
      "See the caveats in the documentation: https://pandas.pydata.org/pandas-docs/stable/user_guide/indexing.html#returning-a-view-versus-a-copy\n",
      "  df.drop(columns=df.columns[0], inplace=True)\n"
     ]
    },
    {
     "name": "stdout",
     "output_type": "stream",
     "text": [
      "Data saved to: /Users/jennagreene/Documents/GitHub/HATCH_data/cleaned_data/unoosa_South Korea.csv\n",
      "Data saved to: /Users/jennagreene/Documents/GitHub/HATCH_data/cleaned_data/unoosa_Spain.csv\n",
      "Data saved to: /Users/jennagreene/Documents/GitHub/HATCH_data/cleaned_data/unoosa_Sri Lanka.csv\n"
     ]
    },
    {
     "name": "stderr",
     "output_type": "stream",
     "text": [
      "/var/folders/cy/xd4mmw610b3cr6tjgv0h8hlr0000gn/T/ipykernel_26696/394364455.py:3: SettingWithCopyWarning: \n",
      "A value is trying to be set on a copy of a slice from a DataFrame\n",
      "\n",
      "See the caveats in the documentation: https://pandas.pydata.org/pandas-docs/stable/user_guide/indexing.html#returning-a-view-versus-a-copy\n",
      "  df.drop(columns=df.columns[0], inplace=True)\n",
      "/var/folders/cy/xd4mmw610b3cr6tjgv0h8hlr0000gn/T/ipykernel_26696/394364455.py:3: SettingWithCopyWarning: \n",
      "A value is trying to be set on a copy of a slice from a DataFrame\n",
      "\n",
      "See the caveats in the documentation: https://pandas.pydata.org/pandas-docs/stable/user_guide/indexing.html#returning-a-view-versus-a-copy\n",
      "  df.drop(columns=df.columns[0], inplace=True)\n",
      "/var/folders/cy/xd4mmw610b3cr6tjgv0h8hlr0000gn/T/ipykernel_26696/394364455.py:3: SettingWithCopyWarning: \n",
      "A value is trying to be set on a copy of a slice from a DataFrame\n",
      "\n",
      "See the caveats in the documentation: https://pandas.pydata.org/pandas-docs/stable/user_guide/indexing.html#returning-a-view-versus-a-copy\n",
      "  df.drop(columns=df.columns[0], inplace=True)\n"
     ]
    },
    {
     "name": "stdout",
     "output_type": "stream",
     "text": [
      "Data saved to: /Users/jennagreene/Documents/GitHub/HATCH_data/cleaned_data/unoosa_Sweden.csv\n",
      "Data saved to: /Users/jennagreene/Documents/GitHub/HATCH_data/cleaned_data/unoosa_Switzerland.csv\n",
      "Data saved to: /Users/jennagreene/Documents/GitHub/HATCH_data/cleaned_data/unoosa_Taiwan.csv\n"
     ]
    },
    {
     "name": "stderr",
     "output_type": "stream",
     "text": [
      "/var/folders/cy/xd4mmw610b3cr6tjgv0h8hlr0000gn/T/ipykernel_26696/394364455.py:3: SettingWithCopyWarning: \n",
      "A value is trying to be set on a copy of a slice from a DataFrame\n",
      "\n",
      "See the caveats in the documentation: https://pandas.pydata.org/pandas-docs/stable/user_guide/indexing.html#returning-a-view-versus-a-copy\n",
      "  df.drop(columns=df.columns[0], inplace=True)\n",
      "/var/folders/cy/xd4mmw610b3cr6tjgv0h8hlr0000gn/T/ipykernel_26696/394364455.py:3: SettingWithCopyWarning: \n",
      "A value is trying to be set on a copy of a slice from a DataFrame\n",
      "\n",
      "See the caveats in the documentation: https://pandas.pydata.org/pandas-docs/stable/user_guide/indexing.html#returning-a-view-versus-a-copy\n",
      "  df.drop(columns=df.columns[0], inplace=True)\n",
      "/var/folders/cy/xd4mmw610b3cr6tjgv0h8hlr0000gn/T/ipykernel_26696/394364455.py:3: SettingWithCopyWarning: \n",
      "A value is trying to be set on a copy of a slice from a DataFrame\n",
      "\n",
      "See the caveats in the documentation: https://pandas.pydata.org/pandas-docs/stable/user_guide/indexing.html#returning-a-view-versus-a-copy\n",
      "  df.drop(columns=df.columns[0], inplace=True)\n"
     ]
    },
    {
     "name": "stdout",
     "output_type": "stream",
     "text": [
      "Data saved to: /Users/jennagreene/Documents/GitHub/HATCH_data/cleaned_data/unoosa_Thailand.csv\n",
      "Data saved to: /Users/jennagreene/Documents/GitHub/HATCH_data/cleaned_data/unoosa_Tunisia.csv\n"
     ]
    },
    {
     "name": "stderr",
     "output_type": "stream",
     "text": [
      "/var/folders/cy/xd4mmw610b3cr6tjgv0h8hlr0000gn/T/ipykernel_26696/394364455.py:3: SettingWithCopyWarning: \n",
      "A value is trying to be set on a copy of a slice from a DataFrame\n",
      "\n",
      "See the caveats in the documentation: https://pandas.pydata.org/pandas-docs/stable/user_guide/indexing.html#returning-a-view-versus-a-copy\n",
      "  df.drop(columns=df.columns[0], inplace=True)\n",
      "/var/folders/cy/xd4mmw610b3cr6tjgv0h8hlr0000gn/T/ipykernel_26696/394364455.py:3: SettingWithCopyWarning: \n",
      "A value is trying to be set on a copy of a slice from a DataFrame\n",
      "\n",
      "See the caveats in the documentation: https://pandas.pydata.org/pandas-docs/stable/user_guide/indexing.html#returning-a-view-versus-a-copy\n",
      "  df.drop(columns=df.columns[0], inplace=True)\n"
     ]
    },
    {
     "name": "stdout",
     "output_type": "stream",
     "text": [
      "Data saved to: /Users/jennagreene/Documents/GitHub/HATCH_data/cleaned_data/unoosa_Turkey.csv\n",
      "Data saved to: /Users/jennagreene/Documents/GitHub/HATCH_data/cleaned_data/unoosa_Turkmenistan.csv\n",
      "Data saved to: /Users/jennagreene/Documents/GitHub/HATCH_data/cleaned_data/unoosa_Ukraine.csv\n"
     ]
    },
    {
     "name": "stderr",
     "output_type": "stream",
     "text": [
      "/var/folders/cy/xd4mmw610b3cr6tjgv0h8hlr0000gn/T/ipykernel_26696/394364455.py:3: SettingWithCopyWarning: \n",
      "A value is trying to be set on a copy of a slice from a DataFrame\n",
      "\n",
      "See the caveats in the documentation: https://pandas.pydata.org/pandas-docs/stable/user_guide/indexing.html#returning-a-view-versus-a-copy\n",
      "  df.drop(columns=df.columns[0], inplace=True)\n",
      "/var/folders/cy/xd4mmw610b3cr6tjgv0h8hlr0000gn/T/ipykernel_26696/394364455.py:3: SettingWithCopyWarning: \n",
      "A value is trying to be set on a copy of a slice from a DataFrame\n",
      "\n",
      "See the caveats in the documentation: https://pandas.pydata.org/pandas-docs/stable/user_guide/indexing.html#returning-a-view-versus-a-copy\n",
      "  df.drop(columns=df.columns[0], inplace=True)\n",
      "/var/folders/cy/xd4mmw610b3cr6tjgv0h8hlr0000gn/T/ipykernel_26696/394364455.py:3: SettingWithCopyWarning: \n",
      "A value is trying to be set on a copy of a slice from a DataFrame\n",
      "\n",
      "See the caveats in the documentation: https://pandas.pydata.org/pandas-docs/stable/user_guide/indexing.html#returning-a-view-versus-a-copy\n",
      "  df.drop(columns=df.columns[0], inplace=True)\n"
     ]
    },
    {
     "name": "stdout",
     "output_type": "stream",
     "text": [
      "Data saved to: /Users/jennagreene/Documents/GitHub/HATCH_data/cleaned_data/unoosa_United Arab Emirates.csv\n",
      "Data saved to: /Users/jennagreene/Documents/GitHub/HATCH_data/cleaned_data/unoosa_United Kingdom.csv\n"
     ]
    },
    {
     "name": "stderr",
     "output_type": "stream",
     "text": [
      "/var/folders/cy/xd4mmw610b3cr6tjgv0h8hlr0000gn/T/ipykernel_26696/394364455.py:3: SettingWithCopyWarning: \n",
      "A value is trying to be set on a copy of a slice from a DataFrame\n",
      "\n",
      "See the caveats in the documentation: https://pandas.pydata.org/pandas-docs/stable/user_guide/indexing.html#returning-a-view-versus-a-copy\n",
      "  df.drop(columns=df.columns[0], inplace=True)\n",
      "/var/folders/cy/xd4mmw610b3cr6tjgv0h8hlr0000gn/T/ipykernel_26696/394364455.py:3: SettingWithCopyWarning: \n",
      "A value is trying to be set on a copy of a slice from a DataFrame\n",
      "\n",
      "See the caveats in the documentation: https://pandas.pydata.org/pandas-docs/stable/user_guide/indexing.html#returning-a-view-versus-a-copy\n",
      "  df.drop(columns=df.columns[0], inplace=True)\n"
     ]
    },
    {
     "name": "stdout",
     "output_type": "stream",
     "text": [
      "Data saved to: /Users/jennagreene/Documents/GitHub/HATCH_data/cleaned_data/unoosa_United States.csv\n",
      "Data saved to: /Users/jennagreene/Documents/GitHub/HATCH_data/cleaned_data/unoosa_Uruguay.csv\n"
     ]
    },
    {
     "name": "stderr",
     "output_type": "stream",
     "text": [
      "/var/folders/cy/xd4mmw610b3cr6tjgv0h8hlr0000gn/T/ipykernel_26696/394364455.py:3: SettingWithCopyWarning: \n",
      "A value is trying to be set on a copy of a slice from a DataFrame\n",
      "\n",
      "See the caveats in the documentation: https://pandas.pydata.org/pandas-docs/stable/user_guide/indexing.html#returning-a-view-versus-a-copy\n",
      "  df.drop(columns=df.columns[0], inplace=True)\n",
      "/var/folders/cy/xd4mmw610b3cr6tjgv0h8hlr0000gn/T/ipykernel_26696/394364455.py:3: SettingWithCopyWarning: \n",
      "A value is trying to be set on a copy of a slice from a DataFrame\n",
      "\n",
      "See the caveats in the documentation: https://pandas.pydata.org/pandas-docs/stable/user_guide/indexing.html#returning-a-view-versus-a-copy\n",
      "  df.drop(columns=df.columns[0], inplace=True)\n"
     ]
    },
    {
     "name": "stdout",
     "output_type": "stream",
     "text": [
      "Data saved to: /Users/jennagreene/Documents/GitHub/HATCH_data/cleaned_data/unoosa_Venezuela.csv\n",
      "Data saved to: /Users/jennagreene/Documents/GitHub/HATCH_data/cleaned_data/unoosa_Vietnam.csv\n",
      "Data saved to: /Users/jennagreene/Documents/GitHub/HATCH_data/cleaned_data/unoosa_World.csv\n"
     ]
    },
    {
     "name": "stderr",
     "output_type": "stream",
     "text": [
      "/var/folders/cy/xd4mmw610b3cr6tjgv0h8hlr0000gn/T/ipykernel_26696/394364455.py:3: SettingWithCopyWarning: \n",
      "A value is trying to be set on a copy of a slice from a DataFrame\n",
      "\n",
      "See the caveats in the documentation: https://pandas.pydata.org/pandas-docs/stable/user_guide/indexing.html#returning-a-view-versus-a-copy\n",
      "  df.drop(columns=df.columns[0], inplace=True)\n",
      "/var/folders/cy/xd4mmw610b3cr6tjgv0h8hlr0000gn/T/ipykernel_26696/394364455.py:3: SettingWithCopyWarning: \n",
      "A value is trying to be set on a copy of a slice from a DataFrame\n",
      "\n",
      "See the caveats in the documentation: https://pandas.pydata.org/pandas-docs/stable/user_guide/indexing.html#returning-a-view-versus-a-copy\n",
      "  df.drop(columns=df.columns[0], inplace=True)\n"
     ]
    }
   ],
   "source": [
    "for country in country_list:\n",
    "    df = space[space['Entity']==country]\n",
    "    df.drop(columns=df.columns[0], inplace=True)\n",
    "    df = df.transpose()\n",
    "    df.columns.name = None\n",
    "    df['Country Name'] = country\n",
    "    if country == 'World':\n",
    "        spatial_scale = 'Global'\n",
    "        country_code = 'World'\n",
    "    else:\n",
    "        spatial_scale = 'National'\n",
    "        country_code = coco.convert(names=country, to='iso2')\n",
    "        if country_code == 'not found':\n",
    "            print(country)\n",
    "            break\n",
    "    df['Spatial Scale'] = spatial_scale\n",
    "    df['Country Code'] = country_code\n",
    "    df['Data Source'] = 'UNOOSA'\n",
    "    df['Metric'] = 'Total Number'\n",
    "    df['Unit'] = '-'\n",
    "    df['Technology Name'] = 'Objects Launched Into Space'\n",
    "    df['ID'] = df['Technology Name'] + '_' + df['Metric'] + '_' + df['Country Code']\n",
    "    df.set_index('ID', drop=True, inplace=True)\n",
    "    output_file_path = cleaned_data_path + \"/unoosa_\" + country + '.csv'\n",
    "    df.to_csv(output_file_path)\n",
    "    print(\"Data saved to:\", output_file_path)\n",
    "\n",
    "    "
   ]
  }
 ],
 "metadata": {
  "kernelspec": {
   "display_name": "Python 3 (ipykernel)",
   "language": "python",
   "name": "python3"
  },
  "language_info": {
   "codemirror_mode": {
    "name": "ipython",
    "version": 3
   },
   "file_extension": ".py",
   "mimetype": "text/x-python",
   "name": "python",
   "nbconvert_exporter": "python",
   "pygments_lexer": "ipython3",
   "version": "3.10.9"
  }
 },
 "nbformat": 4,
 "nbformat_minor": 5
}
