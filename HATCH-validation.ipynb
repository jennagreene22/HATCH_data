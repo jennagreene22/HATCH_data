{
 "cells": [
  {
   "cell_type": "code",
   "execution_count": null,
   "id": "3c29d086",
   "metadata": {},
   "outputs": [],
   "source": [
    "import nomenclature\n",
    "import pyam"
   ]
  },
  {
   "cell_type": "code",
   "execution_count": null,
   "id": "c9c1105c",
   "metadata": {},
   "outputs": [],
   "source": [
    "dsd = nomenclature.DataStructureDefinition(\"definitions/\")"
   ]
  },
  {
   "cell_type": "code",
   "execution_count": null,
   "id": "6721a669",
   "metadata": {},
   "outputs": [],
   "source": [
    "df = pyam.IamDataFrame(\"Tech_Growth_V1.5_IIAC_clean.csv\")"
   ]
  },
  {
   "cell_type": "code",
   "execution_count": null,
   "id": "05cd1455",
   "metadata": {},
   "outputs": [],
   "source": [
    "df.rename(\n",
    "    variable={\n",
    "        \"Annual Production|BisphenolA\": \"Annual Production|Bisphenol A\",\n",
    "        # done\n",
    "        \"Annual Production|Cane Sugar Production\": \"Annual Production|Cane Sugar\",\n",
    "        # done\n",
    "        \"Annual Production|Capture Fisheries Production\": \"Annual Production|Capture Fisheries\",\n",
    "        # done\n",
    "        \"Annual Production|Cement Production\": \"Annual Production|Cement\",\n",
    "        # done\n",
    "        \"Annual Production|Cobalt Mine Production\": \"Annual Production|Cobalt\",\n",
    "        # done\n",
    "        \"Annual Production|Construction|Sand and Gravel Construction\": \"Annual Production|Sand and Gravel|Construction\",\n",
    "        # done\n",
    "        \"Annual Production|Copper Mining\": \"Annual Production|Copper|Mining\",\n",
    "        # done\n",
    "        \"Annual Production|Copper Refining\": \"Annual Production|Copper|Refining\",\n",
    "        # done\n",
    "        \"Annual Production|Ethyl Alcohol\": \"Annual Production|Ethanol\",\n",
    "        # done\n",
    "        \"Annual Production|Gold Production\": \"Annual Production|Gold\",\n",
    "        # done\n",
    "        \"Annual Production|Graphite Mine Production\": \"Annual Production|Graphite\",\n",
    "        # done\n",
    "        \"Annual Production|Industrial|Sand and Gravel Industrial\": \"Annual Production|Sand and Gravel|Industrial\",\n",
    "        # done\n",
    "        \"Annual Production|Lead Mines\": \"Annual Production|Lead\",\n",
    "        # done\n",
    "        \"Annual Production|Primary Copper Production\": \"Annual Production|Primary Copper\",\n",
    "    },\n",
    "    inplace=True,\n",
    ")"
   ]
  },
  {
   "cell_type": "code",
   "execution_count": null,
   "id": "2f4fca5b",
   "metadata": {},
   "outputs": [],
   "source": [
    "df.rename(\n",
    "    unit={\n",
    "        \"Yearly Production (Mil. lbs)\": \"million pounds\",\n",
    "        # pcdb - done\n",
    "        \"Yearly  Production (Billion Pounds)\": \"million pounds\",\n",
    "        # pcdb - done\n",
    "        \"In Thousands Of Hectolitres\": \"million hectolitres\",\n",
    "        # mitchell - done\n",
    "        \"In Thousand Hectolitres\": \"million hectolitres\",\n",
    "        # mitchell - done\n",
    "        \"Petajoules\": \"Petajoule\",\n",
    "        # bp - done\n",
    "        \"U.S. Manufacturers Shipments\": \"-\",\n",
    "        # AHRI - done\n",
    "        \"Thousand tons nitrogen equivalent\": \"thousand tons of nitrogen equivalent\",\n",
    "        # league of nations - done\n",
    "        \"Metric tons\": \"metric tons\",\n",
    "        # Mitchell, USGS, WB - done\n",
    "        \"Thousands Metric Tons\": \"thousand metric tons\",\n",
    "        # Mitchell - done\n",
    "        \"Thousand Metric Tons\": \"thousand metric tons\",\n",
    "        # Mitchell - done\n",
    "        \"Yearly Production (Million Gallons)\": \"million gallons\",\n",
    "        # PCDB - done\n",
    "        \"Million tonnes\": \"million metric tons\",\n",
    "        # BP - done\n",
    "        \"Million tonnes \": \"million metric tons\",\n",
    "        # BP - done\n",
    "        \"million tonnes \": \"million metric tons\",\n",
    "        # BP - done\n",
    "        \"Thousand tonnes\": \"thousand metric tons\",\n",
    "        # BP - done\n",
    "        \"Tonnes\": \"metric tons\",\n",
    "        # BP, FAOSTAT - done\n",
    "        \"Metric Tons\": \"metric tons\",\n",
    "        \"Terawatt-hours\": \"TWh\",\n",
    "        # BP - done\n",
    "        \"Miles\": \"miles\",\n",
    "        # BTS, FHWA, Isard - done\n",
    "        \"Kilometers\": \"kilometer\",\n",
    "        # TeleGeography, UIC - done\n",
    "        \"Twh\": \"TWh\",\n",
    "        \"Percentage\": \"%\",\n",
    "        # OWID, UNICEF - done\n",
    "        \"Share of acres planted\": \"%\",\n",
    "        \"Number in Use\": \"-\",\n",
    "        # CHAT - done\n",
    "    },\n",
    "    inplace=True,\n",
    ")"
   ]
  },
  {
   "cell_type": "code",
   "execution_count": null,
   "id": "e5723bf8",
   "metadata": {},
   "outputs": [],
   "source": [
    "dsd.validate(df, dimensions=[\"variable\"])"
   ]
  },
  {
   "cell_type": "code",
   "execution_count": null,
   "id": "a99bcf79",
   "metadata": {},
   "outputs": [],
   "source": [
    "df.region"
   ]
  }
 ],
 "metadata": {
  "kernelspec": {
   "display_name": "Python 3 (ipykernel)",
   "language": "python",
   "name": "python3"
  },
  "language_info": {
   "codemirror_mode": {
    "name": "ipython",
    "version": 3
   },
   "file_extension": ".py",
   "mimetype": "text/x-python",
   "name": "python",
   "nbconvert_exporter": "python",
   "pygments_lexer": "ipython3",
   "version": "3.9.13"
  }
 },
 "nbformat": 4,
 "nbformat_minor": 5
}
